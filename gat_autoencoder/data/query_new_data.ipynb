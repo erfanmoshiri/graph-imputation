{
 "cells": [
  {
   "cell_type": "code",
   "outputs": [],
   "source": [
    "import numpy as np\n",
    "import pandas as pd\n",
    "from joblib import dump\n",
    "from sklearn.preprocessing import RobustScaler, MinMaxScaler\n",
    "import seaborn as sns\n",
    "from utils.query_snowflake import query_snowflake_pd\n",
    "\n"
   ],
   "metadata": {
    "collapsed": false,
    "ExecuteTime": {
     "end_time": "2024-09-29T06:42:37.523175Z",
     "start_time": "2024-09-29T06:42:36.157150Z"
    }
   },
   "id": "5d04f25f8f871e30",
   "execution_count": 3
  },
  {
   "cell_type": "code",
   "outputs": [],
   "source": [
    "df = query_snowflake_pd(\n",
    "    '''\n",
    "with nm as (\n",
    "SELECT * \n",
    "FROM (\n",
    "    SELECT nm.address_id, nm.swimming_pool_present, \n",
    "           ROW_NUMBER() OVER (PARTITION BY nm.address_id ORDER BY nm.capture_date) AS row_num\n",
    "    FROM PRODDOMAINDW.NEARMAP.NEARMAP_PROPERTY nm\n",
    ") t\n",
    "WHERE t.row_num = 1\n",
    "),\n",
    "\n",
    "bagg as (\n",
    "SELECT * \n",
    "FROM (\n",
    "    SELECT svp_address_id, nm_clipped, arx_building_size,\n",
    "           ROW_NUMBER() OVER (PARTITION BY bagg.svp_address_id ORDER BY nm_clipped desc) AS row_num\n",
    "    FROM zz_erfan_moshiri_dev.property_type.building_size_aggr bagg\n",
    ") t\n",
    "WHERE t.row_num = 1\n",
    "),\n",
    "\n",
    "groups as (\n",
    "select adds.postcode, adds.street_name, adds.street_type_code, adds.number_first,\n",
    "count(*) as count\n",
    "from  property_data.property_base.psma_gnaf_denorm_address_detail Adds\n",
    "join PRODDOMAINDW.DATAMART.DATASOURCE_PACMAN_PROPERTY_PROFILE a on Adds.ADDRESS_DETAIL_PID = a.psma_key\n",
    "where FILE_DATE = '202405Q2'\n",
    "group by adds.postcode, adds.street_name, adds.street_type_code, adds.number_first\n",
    "\n",
    "),\n",
    "sellection as (\n",
    "\n",
    "select \n",
    "CAST(adds.postcode AS INT) as postcode_int, adds.postcode, adds.street_name, adds.street_type_code, adds.number_first, adds.flat_number,\n",
    "a.svp_address_id, a.psma_key, groups.count,\n",
    "lagg.land_area, \n",
    "\n",
    "CASE\n",
    "    when bagg.nm_clipped is not null then bagg.nm_clipped\n",
    "    when bagg.arx_building_size is not null then bagg.arx_building_size\n",
    "    else null\n",
    "end as building_size,\n",
    "\n",
    "adagg.roof_height, adagg.roof_shape,\n",
    "nm.swimming_pool_present as has_pool,\n",
    "adagg.pp_property_type as property_type,\n",
    "adagg.planning_zone \n",
    "from property_data.property_base.psma_gnaf_denorm_address_detail Adds\n",
    " \n",
    "join PRODDOMAINDW.DATAMART.DATASOURCE_PACMAN_PROPERTY_PROFILE a on Adds.ADDRESS_DETAIL_PID = a.psma_key\n",
    "join zz_erfan_moshiri_dev.property_type.land_area_aggr lagg on lagg.SVP_address_id = a.svp_address_id\n",
    "join bagg on bagg.SVP_address_id = a.svp_address_id\n",
    "join zz_erfan_moshiri_dev.property_type.address_features_aggr adagg on adagg.SVP_address_id = a.svp_address_id\n",
    "join nm on nm.address_id = a.psma_key\n",
    "join groups using (postcode, street_name, street_type_code, number_first)\n",
    "\n",
    "where property_type = adagg.cl_property_type\n",
    "and nm.address_id is not null\n",
    "and a.svp_address_id is not null\n",
    "and FILE_DATE = '202405Q2'\n",
    "and lagg.land_area > 10 and (lagg.avg_diff / lagg.land_area) < 0.2\n",
    "and building_size > 5\n",
    "and lagg.land_area > building_size\n",
    "and property_type != 'UNKNOWN'\n",
    ")\n",
    "select *\n",
    "from sellection\n",
    "where postcode >= 2000 and postcode < 3000\n",
    ";\n",
    "\n",
    "    '''\n",
    "    , role=\"ROLE_PROPERTY_DATA_RESTRICTED\")"
   ],
   "metadata": {
    "collapsed": false,
    "ExecuteTime": {
     "end_time": "2024-09-14T08:03:16.480134Z",
     "start_time": "2024-09-14T08:02:11.020033Z"
    }
   },
   "id": "638d3953b866edd2",
   "execution_count": 60
  },
  {
   "cell_type": "code",
   "outputs": [
    {
     "data": {
      "text/plain": "COUNT\n1      1450497\n2        18818\n3        12532\n4         3067\n5         2696\n        ...   \n188          1\n565          1\n167          1\n249          1\n435          1\nName: count, Length: 225, dtype: int64"
     },
     "execution_count": 62,
     "metadata": {},
     "output_type": "execute_result"
    }
   ],
   "source": [
    "df['COUNT'].value_counts()"
   ],
   "metadata": {
    "collapsed": false,
    "ExecuteTime": {
     "end_time": "2024-09-14T08:03:33.164636Z",
     "start_time": "2024-09-14T08:03:33.145356Z"
    }
   },
   "id": "baee351d35fb4c10",
   "execution_count": 62
  },
  {
   "cell_type": "code",
   "outputs": [
    {
     "data": {
      "text/plain": "                 SVP_ADDRESS_ID  LAND_AREA POSTCODE        LON       LAT  \\\nPOSTCODE                                                                   \n0800     5816        UU-9880-HS     1235.0     0800  130.83514 -12.45824   \n         7761        DV-9861-LC     3876.8     0800  130.84266 -12.46082   \n         8981        RY-5215-MA      745.0     0800  130.84335 -12.46218   \n         25773       DI-8625-IG      944.0     0800  130.83937 -12.46022   \n         28879       AB-7343-TZ        NaN     0800  130.83969 -12.46113   \n...                         ...        ...      ...        ...       ...   \n7470     8565063     AK-5427-XQ      357.0     7470  145.52413 -41.77410   \n         8566425     IA-8753-UR      890.0     7470  145.52451 -41.77222   \n         8584479     ZU-5347-DL     5311.0     7470  145.52554 -41.78996   \n         8586452     JW-5070-UB      593.0     7470  145.53795 -41.78466   \n         8596871     JS-7852-YP      244.0     7470  145.53969 -41.78004   \n\n                   next1   next2     dist1     dist2  \nPOSTCODE                                              \n0800     5816     1239.3  1075.3  0.000361  0.000437  \n         7761      969.0  1020.0  0.000224  0.000320  \n         8981      128.0  1911.8  0.000503  0.000772  \n         25773     702.8   944.3  0.000304  0.000453  \n         28879       NaN     NaN  0.000000  0.000000  \n...                  ...     ...       ...       ...  \n7470     8565063   331.0   871.0  0.000170  0.000214  \n         8566425   410.0   879.0  0.000259  0.000341  \n         8584479  5311.0   959.0  0.000513  0.001303  \n         8586452   507.0  1356.0  0.000212  0.000220  \n         8596871   638.0  1028.0  0.000226  0.000255  \n\n[8609362 rows x 9 columns]",
      "text/html": "<div>\n<style scoped>\n    .dataframe tbody tr th:only-of-type {\n        vertical-align: middle;\n    }\n\n    .dataframe tbody tr th {\n        vertical-align: top;\n    }\n\n    .dataframe thead th {\n        text-align: right;\n    }\n</style>\n<table border=\"1\" class=\"dataframe\">\n  <thead>\n    <tr style=\"text-align: right;\">\n      <th></th>\n      <th></th>\n      <th>SVP_ADDRESS_ID</th>\n      <th>LAND_AREA</th>\n      <th>POSTCODE</th>\n      <th>LON</th>\n      <th>LAT</th>\n      <th>next1</th>\n      <th>next2</th>\n      <th>dist1</th>\n      <th>dist2</th>\n    </tr>\n    <tr>\n      <th>POSTCODE</th>\n      <th></th>\n      <th></th>\n      <th></th>\n      <th></th>\n      <th></th>\n      <th></th>\n      <th></th>\n      <th></th>\n      <th></th>\n      <th></th>\n    </tr>\n  </thead>\n  <tbody>\n    <tr>\n      <th rowspan=\"5\" valign=\"top\">0800</th>\n      <th>5816</th>\n      <td>UU-9880-HS</td>\n      <td>1235.0</td>\n      <td>0800</td>\n      <td>130.83514</td>\n      <td>-12.45824</td>\n      <td>1239.3</td>\n      <td>1075.3</td>\n      <td>0.000361</td>\n      <td>0.000437</td>\n    </tr>\n    <tr>\n      <th>7761</th>\n      <td>DV-9861-LC</td>\n      <td>3876.8</td>\n      <td>0800</td>\n      <td>130.84266</td>\n      <td>-12.46082</td>\n      <td>969.0</td>\n      <td>1020.0</td>\n      <td>0.000224</td>\n      <td>0.000320</td>\n    </tr>\n    <tr>\n      <th>8981</th>\n      <td>RY-5215-MA</td>\n      <td>745.0</td>\n      <td>0800</td>\n      <td>130.84335</td>\n      <td>-12.46218</td>\n      <td>128.0</td>\n      <td>1911.8</td>\n      <td>0.000503</td>\n      <td>0.000772</td>\n    </tr>\n    <tr>\n      <th>25773</th>\n      <td>DI-8625-IG</td>\n      <td>944.0</td>\n      <td>0800</td>\n      <td>130.83937</td>\n      <td>-12.46022</td>\n      <td>702.8</td>\n      <td>944.3</td>\n      <td>0.000304</td>\n      <td>0.000453</td>\n    </tr>\n    <tr>\n      <th>28879</th>\n      <td>AB-7343-TZ</td>\n      <td>NaN</td>\n      <td>0800</td>\n      <td>130.83969</td>\n      <td>-12.46113</td>\n      <td>NaN</td>\n      <td>NaN</td>\n      <td>0.000000</td>\n      <td>0.000000</td>\n    </tr>\n    <tr>\n      <th>...</th>\n      <th>...</th>\n      <td>...</td>\n      <td>...</td>\n      <td>...</td>\n      <td>...</td>\n      <td>...</td>\n      <td>...</td>\n      <td>...</td>\n      <td>...</td>\n      <td>...</td>\n    </tr>\n    <tr>\n      <th rowspan=\"5\" valign=\"top\">7470</th>\n      <th>8565063</th>\n      <td>AK-5427-XQ</td>\n      <td>357.0</td>\n      <td>7470</td>\n      <td>145.52413</td>\n      <td>-41.77410</td>\n      <td>331.0</td>\n      <td>871.0</td>\n      <td>0.000170</td>\n      <td>0.000214</td>\n    </tr>\n    <tr>\n      <th>8566425</th>\n      <td>IA-8753-UR</td>\n      <td>890.0</td>\n      <td>7470</td>\n      <td>145.52451</td>\n      <td>-41.77222</td>\n      <td>410.0</td>\n      <td>879.0</td>\n      <td>0.000259</td>\n      <td>0.000341</td>\n    </tr>\n    <tr>\n      <th>8584479</th>\n      <td>ZU-5347-DL</td>\n      <td>5311.0</td>\n      <td>7470</td>\n      <td>145.52554</td>\n      <td>-41.78996</td>\n      <td>5311.0</td>\n      <td>959.0</td>\n      <td>0.000513</td>\n      <td>0.001303</td>\n    </tr>\n    <tr>\n      <th>8586452</th>\n      <td>JW-5070-UB</td>\n      <td>593.0</td>\n      <td>7470</td>\n      <td>145.53795</td>\n      <td>-41.78466</td>\n      <td>507.0</td>\n      <td>1356.0</td>\n      <td>0.000212</td>\n      <td>0.000220</td>\n    </tr>\n    <tr>\n      <th>8596871</th>\n      <td>JS-7852-YP</td>\n      <td>244.0</td>\n      <td>7470</td>\n      <td>145.53969</td>\n      <td>-41.78004</td>\n      <td>638.0</td>\n      <td>1028.0</td>\n      <td>0.000226</td>\n      <td>0.000255</td>\n    </tr>\n  </tbody>\n</table>\n<p>8609362 rows × 9 columns</p>\n</div>"
     },
     "execution_count": 5,
     "metadata": {},
     "output_type": "execute_result"
    }
   ],
   "source": [
    "df_dist = pd.read_hdf('new/nearest_dist.x')\n",
    "df_dist"
   ],
   "metadata": {
    "collapsed": false,
    "ExecuteTime": {
     "end_time": "2024-09-14T06:17:37.237018Z",
     "start_time": "2024-09-14T06:17:32.873099Z"
    }
   },
   "id": "d95a39fdb7e58a01",
   "execution_count": 5
  },
  {
   "cell_type": "code",
   "outputs": [
    {
     "data": {
      "text/plain": "(1503413, 20)"
     },
     "execution_count": 63,
     "metadata": {},
     "output_type": "execute_result"
    }
   ],
   "source": [
    "df1 = pd.merge(df, df_dist[['SVP_ADDRESS_ID', 'next1', 'next2', 'dist1', 'dist2']], on=['SVP_ADDRESS_ID'], how='left')\n",
    "\n",
    "df1[['next1', 'next2', 'dist1', 'dist2']] = df1.groupby(\n",
    "    ['POSTCODE', 'STREET_NAME', 'STREET_TYPE_CODE','NUMBER_FIRST']\n",
    ")[['next1', 'next2', 'dist1', 'dist2']].transform(lambda x: x.ffill().bfill())\n",
    "\n",
    "df1.shape"
   ],
   "metadata": {
    "collapsed": false,
    "ExecuteTime": {
     "end_time": "2024-09-14T08:08:57.433492Z",
     "start_time": "2024-09-14T08:04:16.089550Z"
    }
   },
   "id": "9c67d0d6c6fada24",
   "execution_count": 63
  },
  {
   "cell_type": "code",
   "outputs": [
    {
     "data": {
      "text/plain": "        POSTCODE_INT POSTCODE    STREET_NAME STREET_TYPE_CODE NUMBER_FIRST  \\\n0               2076     2076     TWICKENHAM            CLOSE           14   \n1               2021     2021       GLENVIEW           STREET           17   \n2               2779     2779       OAKLANDS             ROAD          16A   \n3               2226     2226  GEORGES RIVER             ROAD          108   \n4               2769     2769     BLACKHEATH           STREET           15   \n...              ...      ...            ...              ...          ...   \n1503408         2114     2114         MARLOW           AVENUE           12   \n1503409         2640     2640         YAMBLA            PLACE          751   \n1503410         2502     2502     LACKAWANNA           STREET           25   \n1503411         2154     2154       CHILTERN         CRESCENT           11   \n1503412         2536     2536         YUGURA           STREET            2   \n\n        FLAT_NUMBER SVP_ADDRESS_ID        PSMA_KEY  COUNT  LAND_AREA  \\\n0              None     VH-7610-IU  GANSW705527481      1      852.1   \n1              None     GO-8994-UB  GANSW705606147      1      178.4   \n2              None     DM-6245-DJ  GANSW716739053      1      816.2   \n3              None     HJ-7590-OD  GANSW704998860      1      553.5   \n4              None     ZY-2645-TT  GANSW718765866      1      370.3   \n...             ...            ...             ...    ...        ...   \n1503408        None     AR-0776-FW  GANSW704577036      1      737.2   \n1503409        None     HW-2687-RT  GANSW703894754      1      836.7   \n1503410        None     BJ-8841-OV  GANSW704510815      1      445.9   \n1503411        None     EI-7557-LZ  GANSW704377931      1      926.4   \n1503412        None     YW-2875-XG  GANSW705290253      1      561.9   \n\n         BUILDING_SIZE  ROOF_HEIGHT  ROOF_SHAPE  HAS_POOL PROPERTY_TYPE  \\\n0                164.6     3.747500    0.750000     False         House   \n1                 72.1     4.885714    0.857143      True         House   \n2                196.8     6.670000    0.000000     False         House   \n3                181.8     3.497500    0.000000     False         House   \n4                181.6     7.810000    0.000000      True         House   \n...                ...          ...         ...       ...           ...   \n1503408          248.8     8.410000    0.000000     False         House   \n1503409          256.1     8.290000    0.000000     False         House   \n1503410          180.8     7.260000    0.000000     False         House   \n1503411          285.1     4.970000    0.000000     False         House   \n1503412          239.5     8.610000    0.000000     False         House   \n\n        PLANNING_ZONE   next1   next2     dist1     dist2  \n0         Residential   967.8   870.9  0.000157  0.000170  \n1         Residential   173.7   177.8  0.000054  0.000063  \n2                None   753.8   883.3  0.000146  0.000282  \n3         Residential   558.8   575.1  0.000125  0.000130  \n4         Residential   372.1   387.9  0.000141  0.000260  \n...               ...     ...     ...       ...       ...  \n1503408   Residential   789.7  2245.7  0.000170  0.000256  \n1503409   Residential   848.2   821.2  0.000215  0.000283  \n1503410   Residential   446.0   446.2  0.000130  0.000139  \n1503411   Residential  1003.6   919.9  0.000252  0.000347  \n1503412   Residential   561.5  2010.0  0.000143  0.000273  \n\n[1503413 rows x 20 columns]",
      "text/html": "<div>\n<style scoped>\n    .dataframe tbody tr th:only-of-type {\n        vertical-align: middle;\n    }\n\n    .dataframe tbody tr th {\n        vertical-align: top;\n    }\n\n    .dataframe thead th {\n        text-align: right;\n    }\n</style>\n<table border=\"1\" class=\"dataframe\">\n  <thead>\n    <tr style=\"text-align: right;\">\n      <th></th>\n      <th>POSTCODE_INT</th>\n      <th>POSTCODE</th>\n      <th>STREET_NAME</th>\n      <th>STREET_TYPE_CODE</th>\n      <th>NUMBER_FIRST</th>\n      <th>FLAT_NUMBER</th>\n      <th>SVP_ADDRESS_ID</th>\n      <th>PSMA_KEY</th>\n      <th>COUNT</th>\n      <th>LAND_AREA</th>\n      <th>BUILDING_SIZE</th>\n      <th>ROOF_HEIGHT</th>\n      <th>ROOF_SHAPE</th>\n      <th>HAS_POOL</th>\n      <th>PROPERTY_TYPE</th>\n      <th>PLANNING_ZONE</th>\n      <th>next1</th>\n      <th>next2</th>\n      <th>dist1</th>\n      <th>dist2</th>\n    </tr>\n  </thead>\n  <tbody>\n    <tr>\n      <th>0</th>\n      <td>2076</td>\n      <td>2076</td>\n      <td>TWICKENHAM</td>\n      <td>CLOSE</td>\n      <td>14</td>\n      <td>None</td>\n      <td>VH-7610-IU</td>\n      <td>GANSW705527481</td>\n      <td>1</td>\n      <td>852.1</td>\n      <td>164.6</td>\n      <td>3.747500</td>\n      <td>0.750000</td>\n      <td>False</td>\n      <td>House</td>\n      <td>Residential</td>\n      <td>967.8</td>\n      <td>870.9</td>\n      <td>0.000157</td>\n      <td>0.000170</td>\n    </tr>\n    <tr>\n      <th>1</th>\n      <td>2021</td>\n      <td>2021</td>\n      <td>GLENVIEW</td>\n      <td>STREET</td>\n      <td>17</td>\n      <td>None</td>\n      <td>GO-8994-UB</td>\n      <td>GANSW705606147</td>\n      <td>1</td>\n      <td>178.4</td>\n      <td>72.1</td>\n      <td>4.885714</td>\n      <td>0.857143</td>\n      <td>True</td>\n      <td>House</td>\n      <td>Residential</td>\n      <td>173.7</td>\n      <td>177.8</td>\n      <td>0.000054</td>\n      <td>0.000063</td>\n    </tr>\n    <tr>\n      <th>2</th>\n      <td>2779</td>\n      <td>2779</td>\n      <td>OAKLANDS</td>\n      <td>ROAD</td>\n      <td>16A</td>\n      <td>None</td>\n      <td>DM-6245-DJ</td>\n      <td>GANSW716739053</td>\n      <td>1</td>\n      <td>816.2</td>\n      <td>196.8</td>\n      <td>6.670000</td>\n      <td>0.000000</td>\n      <td>False</td>\n      <td>House</td>\n      <td>None</td>\n      <td>753.8</td>\n      <td>883.3</td>\n      <td>0.000146</td>\n      <td>0.000282</td>\n    </tr>\n    <tr>\n      <th>3</th>\n      <td>2226</td>\n      <td>2226</td>\n      <td>GEORGES RIVER</td>\n      <td>ROAD</td>\n      <td>108</td>\n      <td>None</td>\n      <td>HJ-7590-OD</td>\n      <td>GANSW704998860</td>\n      <td>1</td>\n      <td>553.5</td>\n      <td>181.8</td>\n      <td>3.497500</td>\n      <td>0.000000</td>\n      <td>False</td>\n      <td>House</td>\n      <td>Residential</td>\n      <td>558.8</td>\n      <td>575.1</td>\n      <td>0.000125</td>\n      <td>0.000130</td>\n    </tr>\n    <tr>\n      <th>4</th>\n      <td>2769</td>\n      <td>2769</td>\n      <td>BLACKHEATH</td>\n      <td>STREET</td>\n      <td>15</td>\n      <td>None</td>\n      <td>ZY-2645-TT</td>\n      <td>GANSW718765866</td>\n      <td>1</td>\n      <td>370.3</td>\n      <td>181.6</td>\n      <td>7.810000</td>\n      <td>0.000000</td>\n      <td>True</td>\n      <td>House</td>\n      <td>Residential</td>\n      <td>372.1</td>\n      <td>387.9</td>\n      <td>0.000141</td>\n      <td>0.000260</td>\n    </tr>\n    <tr>\n      <th>...</th>\n      <td>...</td>\n      <td>...</td>\n      <td>...</td>\n      <td>...</td>\n      <td>...</td>\n      <td>...</td>\n      <td>...</td>\n      <td>...</td>\n      <td>...</td>\n      <td>...</td>\n      <td>...</td>\n      <td>...</td>\n      <td>...</td>\n      <td>...</td>\n      <td>...</td>\n      <td>...</td>\n      <td>...</td>\n      <td>...</td>\n      <td>...</td>\n      <td>...</td>\n    </tr>\n    <tr>\n      <th>1503408</th>\n      <td>2114</td>\n      <td>2114</td>\n      <td>MARLOW</td>\n      <td>AVENUE</td>\n      <td>12</td>\n      <td>None</td>\n      <td>AR-0776-FW</td>\n      <td>GANSW704577036</td>\n      <td>1</td>\n      <td>737.2</td>\n      <td>248.8</td>\n      <td>8.410000</td>\n      <td>0.000000</td>\n      <td>False</td>\n      <td>House</td>\n      <td>Residential</td>\n      <td>789.7</td>\n      <td>2245.7</td>\n      <td>0.000170</td>\n      <td>0.000256</td>\n    </tr>\n    <tr>\n      <th>1503409</th>\n      <td>2640</td>\n      <td>2640</td>\n      <td>YAMBLA</td>\n      <td>PLACE</td>\n      <td>751</td>\n      <td>None</td>\n      <td>HW-2687-RT</td>\n      <td>GANSW703894754</td>\n      <td>1</td>\n      <td>836.7</td>\n      <td>256.1</td>\n      <td>8.290000</td>\n      <td>0.000000</td>\n      <td>False</td>\n      <td>House</td>\n      <td>Residential</td>\n      <td>848.2</td>\n      <td>821.2</td>\n      <td>0.000215</td>\n      <td>0.000283</td>\n    </tr>\n    <tr>\n      <th>1503410</th>\n      <td>2502</td>\n      <td>2502</td>\n      <td>LACKAWANNA</td>\n      <td>STREET</td>\n      <td>25</td>\n      <td>None</td>\n      <td>BJ-8841-OV</td>\n      <td>GANSW704510815</td>\n      <td>1</td>\n      <td>445.9</td>\n      <td>180.8</td>\n      <td>7.260000</td>\n      <td>0.000000</td>\n      <td>False</td>\n      <td>House</td>\n      <td>Residential</td>\n      <td>446.0</td>\n      <td>446.2</td>\n      <td>0.000130</td>\n      <td>0.000139</td>\n    </tr>\n    <tr>\n      <th>1503411</th>\n      <td>2154</td>\n      <td>2154</td>\n      <td>CHILTERN</td>\n      <td>CRESCENT</td>\n      <td>11</td>\n      <td>None</td>\n      <td>EI-7557-LZ</td>\n      <td>GANSW704377931</td>\n      <td>1</td>\n      <td>926.4</td>\n      <td>285.1</td>\n      <td>4.970000</td>\n      <td>0.000000</td>\n      <td>False</td>\n      <td>House</td>\n      <td>Residential</td>\n      <td>1003.6</td>\n      <td>919.9</td>\n      <td>0.000252</td>\n      <td>0.000347</td>\n    </tr>\n    <tr>\n      <th>1503412</th>\n      <td>2536</td>\n      <td>2536</td>\n      <td>YUGURA</td>\n      <td>STREET</td>\n      <td>2</td>\n      <td>None</td>\n      <td>YW-2875-XG</td>\n      <td>GANSW705290253</td>\n      <td>1</td>\n      <td>561.9</td>\n      <td>239.5</td>\n      <td>8.610000</td>\n      <td>0.000000</td>\n      <td>False</td>\n      <td>House</td>\n      <td>Residential</td>\n      <td>561.5</td>\n      <td>2010.0</td>\n      <td>0.000143</td>\n      <td>0.000273</td>\n    </tr>\n  </tbody>\n</table>\n<p>1503413 rows × 20 columns</p>\n</div>"
     },
     "execution_count": 67,
     "metadata": {},
     "output_type": "execute_result"
    }
   ],
   "source": [
    "df1"
   ],
   "metadata": {
    "collapsed": false,
    "ExecuteTime": {
     "end_time": "2024-09-14T08:09:25.863699Z",
     "start_time": "2024-09-14T08:09:25.853845Z"
    }
   },
   "id": "7bc3601456638d34",
   "execution_count": 67
  },
  {
   "cell_type": "code",
   "outputs": [
    {
     "data": {
      "text/plain": "PROPERTY_TYPE\nHouse                              1481030\nApartment/Unit                       13127\nRural/Farming                         4762\nTownhouse                             3981\nBusiness/Commercial                    378\nDevelopment/Land                        77\nFactory, Warehouse & Industrial         58\nName: count, dtype: int64"
     },
     "execution_count": 66,
     "metadata": {},
     "output_type": "execute_result"
    }
   ],
   "source": [
    "df1['PROPERTY_TYPE'].value_counts()"
   ],
   "metadata": {
    "collapsed": false,
    "ExecuteTime": {
     "end_time": "2024-09-14T08:09:14.296119Z",
     "start_time": "2024-09-14T08:09:14.267973Z"
    }
   },
   "id": "116f8df08cd26f2",
   "execution_count": 66
  },
  {
   "cell_type": "code",
   "outputs": [
    {
     "name": "stderr",
     "output_type": "stream",
     "text": [
      "/var/folders/bl/bhxc9rps0xsb8c84q3j7djcc0000gp/T/ipykernel_94793/809741990.py:1: PerformanceWarning: \n",
      "your performance may suffer as PyTables will pickle object types that it cannot\n",
      "map directly to c-types [inferred_type->mixed,key->block3_values] [items->Index(['POSTCODE_INT', 'POSTCODE', 'STREET_NAME', 'STREET_TYPE_CODE',\n",
      "       'NUMBER_FIRST', 'FLAT_NUMBER', 'SVP_ADDRESS_ID', 'PSMA_KEY',\n",
      "       'PROPERTY_TYPE', 'PLANNING_ZONE'],\n",
      "      dtype='object')]\n",
      "\n",
      "  df1.to_hdf('new/raw_featureset.x', key='s')\n"
     ]
    }
   ],
   "source": [
    "df1.to_hdf('new/raw_featureset.x', key='s')"
   ],
   "metadata": {
    "collapsed": false,
    "ExecuteTime": {
     "end_time": "2024-09-14T08:09:09.602864Z",
     "start_time": "2024-09-14T08:09:03.994100Z"
    }
   },
   "id": "f4b42660740ce705",
   "execution_count": 65
  },
  {
   "cell_type": "code",
   "outputs": [],
   "source": [
    "df1 = pd.read_hdf('new/raw_featureset.x')"
   ],
   "metadata": {
    "collapsed": false,
    "ExecuteTime": {
     "end_time": "2024-09-28T07:50:43.466756Z",
     "start_time": "2024-09-28T07:50:40.206274Z"
    }
   },
   "id": "c951c6c5cfe952c5",
   "execution_count": 7
  },
  {
   "cell_type": "code",
   "outputs": [
    {
     "name": "stdout",
     "output_type": "stream",
     "text": [
      "(1503413, 20)\n"
     ]
    },
    {
     "data": {
      "text/plain": "Index(['POSTCODE_INT', 'POSTCODE', 'STREET_NAME', 'STREET_TYPE_CODE',\n       'NUMBER_FIRST', 'FLAT_NUMBER', 'SVP_ADDRESS_ID', 'PSMA_KEY', 'COUNT',\n       'LAND_AREA', 'BUILDING_SIZE', 'ROOF_HEIGHT', 'ROOF_SHAPE', 'HAS_POOL',\n       'PROPERTY_TYPE', 'PLANNING_ZONE', 'next1', 'next2', 'dist1', 'dist2'],\n      dtype='object')"
     },
     "execution_count": 9,
     "metadata": {},
     "output_type": "execute_result"
    }
   ],
   "source": [
    "print(df1.shape)\n",
    "df1.columns"
   ],
   "metadata": {
    "collapsed": false,
    "ExecuteTime": {
     "end_time": "2024-09-28T07:51:03.141273Z",
     "start_time": "2024-09-28T07:51:03.085724Z"
    }
   },
   "id": "84af488731048d17",
   "execution_count": 9
  },
  {
   "cell_type": "code",
   "outputs": [
    {
     "data": {
      "text/plain": "<Axes: xlabel='dist1'>"
     },
     "execution_count": 10,
     "metadata": {},
     "output_type": "execute_result"
    },
    {
     "data": {
      "text/plain": "<Figure size 640x480 with 1 Axes>",
      "image/png": "[encoded data removed]"
     },
     "metadata": {},
     "output_type": "display_data"
    }
   ],
   "source": [
    "sns.boxplot(x=df1['dist1']) \n",
    "# df1['next1'].mean()\n",
    "# sns.boxplot(x=df1[df1['next1'] < 2000]['next1'])"
   ],
   "metadata": {
    "collapsed": false,
    "ExecuteTime": {
     "end_time": "2024-09-28T07:51:16.222678Z",
     "start_time": "2024-09-28T07:51:13.425964Z"
    }
   },
   "id": "f71936aa16768946",
   "execution_count": 10
  },
  {
   "cell_type": "code",
   "outputs": [],
   "source": [
    "df1.loc[df1['COUNT'] > 200, 'COUNT'] = 200\n",
    "df1.loc[df1['LAND_AREA'] > 10000, 'LAND_AREA'] = 10000\n",
    "df1.loc[df1['BUILDING_SIZE'] > 4000, 'BUILDING_SIZE'] = 4000\n",
    "df1.loc[df1['ROOF_HEIGHT'] > 60, 'ROOF_HEIGHT'] = 60\n",
    "\n",
    "df1.loc[df1['next1'] > 10000, 'next1'] = 10000\n",
    "df1.loc[df1['next2'] > 10000, 'next2'] = 10000\n",
    "df1.loc[df1['dist1'] > 0.005, 'dist1'] = 0.005\n",
    "df1.loc[df1['dist2'] > 0.005, 'dist2'] = 0.005"
   ],
   "metadata": {
    "collapsed": false,
    "ExecuteTime": {
     "end_time": "2024-09-28T07:51:23.862354Z",
     "start_time": "2024-09-28T07:51:23.835363Z"
    }
   },
   "id": "17f1ac836e64c2d",
   "execution_count": 11
  },
  {
   "cell_type": "code",
   "outputs": [
    {
     "data": {
      "text/plain": "POSTCODE_INT              0\nPOSTCODE                  0\nSTREET_NAME               0\nSTREET_TYPE_CODE          0\nNUMBER_FIRST              0\nFLAT_NUMBER         1500680\nSVP_ADDRESS_ID            0\nPSMA_KEY                  0\nCOUNT                     0\nLAND_AREA                 0\nBUILDING_SIZE             0\nROOF_HEIGHT           11140\nROOF_SHAPE             3631\nHAS_POOL                  0\nPROPERTY_TYPE             0\nPLANNING_ZONE          8484\nnext1                 39204\nnext2                 43355\ndist1                 30148\ndist2                 30148\ndtype: int64"
     },
     "execution_count": 12,
     "metadata": {},
     "output_type": "execute_result"
    }
   ],
   "source": [
    "df1.isnull().sum()"
   ],
   "metadata": {
    "collapsed": false,
    "ExecuteTime": {
     "end_time": "2024-09-28T07:51:26.228137Z",
     "start_time": "2024-09-28T07:51:26.191952Z"
    }
   },
   "id": "5a8eb1b1ec4ca3a7",
   "execution_count": 12
  },
  {
   "cell_type": "code",
   "outputs": [
    {
     "data": {
      "text/plain": "POSTCODE_INT            0\nPOSTCODE                0\nSTREET_NAME             0\nSTREET_TYPE_CODE        0\nNUMBER_FIRST            0\nFLAT_NUMBER         54802\nSVP_ADDRESS_ID          0\nPSMA_KEY                0\nCOUNT                   0\nLAND_AREA               0\nBUILDING_SIZE           0\nROOF_HEIGHT             0\nROOF_SHAPE              0\nHAS_POOL                0\nPROPERTY_TYPE           0\nPLANNING_ZONE           0\nnext1                   0\nnext2                   0\ndist1                   0\ndist2                   0\ndtype: int64"
     },
     "execution_count": 13,
     "metadata": {},
     "output_type": "execute_result"
    }
   ],
   "source": [
    "df3 = df1[(df1['POSTCODE_INT'] < 2200) & (df1['POSTCODE_INT'] > 2170)]\n",
    "# df3\n",
    "df2 = df3.dropna(subset=['dist1', 'dist2', 'next1', 'next2', 'ROOF_HEIGHT', 'ROOF_SHAPE', 'PLANNING_ZONE'])\n",
    "df2.isnull().sum()\n"
   ],
   "metadata": {
    "collapsed": false,
    "ExecuteTime": {
     "end_time": "2024-09-28T07:51:32.935359Z",
     "start_time": "2024-09-28T07:51:32.833215Z"
    }
   },
   "id": "86cd12be99914d8d",
   "execution_count": 13
  },
  {
   "cell_type": "code",
   "outputs": [
    {
     "data": {
      "text/plain": "        POSTCODE_INT POSTCODE    STREET_NAME STREET_TYPE_CODE NUMBER_FIRST  \\\n22              2171     2171     CARMICHAEL            DRIVE           64   \n26              2171     2171        RAINHAM          CIRCUIT            7   \n54              2178     2178        WESTERN             ROAD          130   \n55              2171     2171        SPENCER             ROAD          135   \n85              2171     2171  COFFS HARBOUR           AVENUE           54   \n...              ...      ...            ...              ...          ...   \n1503332         2176     2176        LACHLAN           STREET           19   \n1503345         2176     2176          MIAMI            CLOSE            4   \n1503352         2195     2195       CHALMERS           STREET           60   \n1503366         2176     2176      BRUNSWICK         CRESCENT           25   \n1503387         2176     2176     SWEETHAVEN             ROAD           76   \n\n        FLAT_NUMBER SVP_ADDRESS_ID        PSMA_KEY  COUNT  LAND_AREA  \\\n22             None     BX-9215-SE  GANSW706268417      1      544.6   \n26             None     XB-0318-SY  GANSW706288363      1      500.6   \n54             None     DK-9400-TP  GANSW705059193      1    10000.0   \n55             None     YX-4429-CA  GANSW718702483      1      314.0   \n85             None     LG-6450-BN  GANSW717063199      1      283.5   \n...             ...            ...             ...    ...        ...   \n1503332        None     IM-1204-BR  GANSW704204305      1      686.8   \n1503345        None     VW-0911-NO  GANSW706619346      1      550.4   \n1503352        None     YT-0925-RP  GANSW705156944      1      538.6   \n1503366        None     FB-1226-QO  GANSW705978080      1      790.0   \n1503387        None     UA-4557-QZ  GANSW706595633      1      563.9   \n\n         BUILDING_SIZE  ROOF_HEIGHT  ROOF_SHAPE  HAS_POOL PROPERTY_TYPE  \\\n22               262.3     4.415000    0.500000     False         House   \n26               173.3     8.310000    0.000000     False         House   \n54               591.5     3.581111    0.666667     False         House   \n55               168.7     5.058000    0.000000     False         House   \n85               128.0     7.522500    1.000000     False         House   \n...                ...          ...         ...       ...           ...   \n1503332          315.6     5.960000    0.000000     False         House   \n1503345          168.3     3.370000    0.666667     False         House   \n1503352          268.6     3.806000    0.600000     False         House   \n1503366          421.4     5.495000    0.500000      True         House   \n1503387          124.1     3.670000    0.500000     False         House   \n\n                    PLANNING_ZONE    next1    next2     dist1     dist2  \n22                    Residential    542.5    572.2  0.000141  0.000141  \n26                    Residential    300.8    495.7  0.000170  0.000172  \n54       Rural/Primary Production  10000.0  10000.0  0.000671  0.001611  \n55                    Residential    295.6    383.2  0.000081  0.000161  \n85                    Residential    223.2    267.1  0.000092  0.000134  \n...                           ...      ...      ...       ...       ...  \n1503332               Residential    768.8    690.0  0.000245  0.000269  \n1503345               Residential    572.4    549.9  0.000157  0.000247  \n1503352               Residential    274.8    592.8  0.000143  0.000150  \n1503366               Residential    618.9    540.6  0.000158  0.000194  \n1503387               Residential    563.9    641.9  0.000140  0.000150  \n\n[54802 rows x 20 columns]",
      "text/html": "<div>\n<style scoped>\n    .dataframe tbody tr th:only-of-type {\n        vertical-align: middle;\n    }\n\n    .dataframe tbody tr th {\n        vertical-align: top;\n    }\n\n    .dataframe thead th {\n        text-align: right;\n    }\n</style>\n<table border=\"1\" class=\"dataframe\">\n  <thead>\n    <tr style=\"text-align: right;\">\n      <th></th>\n      <th>POSTCODE_INT</th>\n      <th>POSTCODE</th>\n      <th>STREET_NAME</th>\n      <th>STREET_TYPE_CODE</th>\n      <th>NUMBER_FIRST</th>\n      <th>FLAT_NUMBER</th>\n      <th>SVP_ADDRESS_ID</th>\n      <th>PSMA_KEY</th>\n      <th>COUNT</th>\n      <th>LAND_AREA</th>\n      <th>BUILDING_SIZE</th>\n      <th>ROOF_HEIGHT</th>\n      <th>ROOF_SHAPE</th>\n      <th>HAS_POOL</th>\n      <th>PROPERTY_TYPE</th>\n      <th>PLANNING_ZONE</th>\n      <th>next1</th>\n      <th>next2</th>\n      <th>dist1</th>\n      <th>dist2</th>\n    </tr>\n  </thead>\n  <tbody>\n    <tr>\n      <th>22</th>\n      <td>2171</td>\n      <td>2171</td>\n      <td>CARMICHAEL</td>\n      <td>DRIVE</td>\n      <td>64</td>\n      <td>None</td>\n      <td>BX-9215-SE</td>\n      <td>GANSW706268417</td>\n      <td>1</td>\n      <td>544.6</td>\n      <td>262.3</td>\n      <td>4.415000</td>\n      <td>0.500000</td>\n      <td>False</td>\n      <td>House</td>\n      <td>Residential</td>\n      <td>542.5</td>\n      <td>572.2</td>\n      <td>0.000141</td>\n      <td>0.000141</td>\n    </tr>\n    <tr>\n      <th>26</th>\n      <td>2171</td>\n      <td>2171</td>\n      <td>RAINHAM</td>\n      <td>CIRCUIT</td>\n      <td>7</td>\n      <td>None</td>\n      <td>XB-0318-SY</td>\n      <td>GANSW706288363</td>\n      <td>1</td>\n      <td>500.6</td>\n      <td>173.3</td>\n      <td>8.310000</td>\n      <td>0.000000</td>\n      <td>False</td>\n      <td>House</td>\n      <td>Residential</td>\n      <td>300.8</td>\n      <td>495.7</td>\n      <td>0.000170</td>\n      <td>0.000172</td>\n    </tr>\n    <tr>\n      <th>54</th>\n      <td>2178</td>\n      <td>2178</td>\n      <td>WESTERN</td>\n      <td>ROAD</td>\n      <td>130</td>\n      <td>None</td>\n      <td>DK-9400-TP</td>\n      <td>GANSW705059193</td>\n      <td>1</td>\n      <td>10000.0</td>\n      <td>591.5</td>\n      <td>3.581111</td>\n      <td>0.666667</td>\n      <td>False</td>\n      <td>House</td>\n      <td>Rural/Primary Production</td>\n      <td>10000.0</td>\n      <td>10000.0</td>\n      <td>0.000671</td>\n      <td>0.001611</td>\n    </tr>\n    <tr>\n      <th>55</th>\n      <td>2171</td>\n      <td>2171</td>\n      <td>SPENCER</td>\n      <td>ROAD</td>\n      <td>135</td>\n      <td>None</td>\n      <td>YX-4429-CA</td>\n      <td>GANSW718702483</td>\n      <td>1</td>\n      <td>314.0</td>\n      <td>168.7</td>\n      <td>5.058000</td>\n      <td>0.000000</td>\n      <td>False</td>\n      <td>House</td>\n      <td>Residential</td>\n      <td>295.6</td>\n      <td>383.2</td>\n      <td>0.000081</td>\n      <td>0.000161</td>\n    </tr>\n    <tr>\n      <th>85</th>\n      <td>2171</td>\n      <td>2171</td>\n      <td>COFFS HARBOUR</td>\n      <td>AVENUE</td>\n      <td>54</td>\n      <td>None</td>\n      <td>LG-6450-BN</td>\n      <td>GANSW717063199</td>\n      <td>1</td>\n      <td>283.5</td>\n      <td>128.0</td>\n      <td>7.522500</td>\n      <td>1.000000</td>\n      <td>False</td>\n      <td>House</td>\n      <td>Residential</td>\n      <td>223.2</td>\n      <td>267.1</td>\n      <td>0.000092</td>\n      <td>0.000134</td>\n    </tr>\n    <tr>\n      <th>...</th>\n      <td>...</td>\n      <td>...</td>\n      <td>...</td>\n      <td>...</td>\n      <td>...</td>\n      <td>...</td>\n      <td>...</td>\n      <td>...</td>\n      <td>...</td>\n      <td>...</td>\n      <td>...</td>\n      <td>...</td>\n      <td>...</td>\n      <td>...</td>\n      <td>...</td>\n      <td>...</td>\n      <td>...</td>\n      <td>...</td>\n      <td>...</td>\n      <td>...</td>\n    </tr>\n    <tr>\n      <th>1503332</th>\n      <td>2176</td>\n      <td>2176</td>\n      <td>LACHLAN</td>\n      <td>STREET</td>\n      <td>19</td>\n      <td>None</td>\n      <td>IM-1204-BR</td>\n      <td>GANSW704204305</td>\n      <td>1</td>\n      <td>686.8</td>\n      <td>315.6</td>\n      <td>5.960000</td>\n      <td>0.000000</td>\n      <td>False</td>\n      <td>House</td>\n      <td>Residential</td>\n      <td>768.8</td>\n      <td>690.0</td>\n      <td>0.000245</td>\n      <td>0.000269</td>\n    </tr>\n    <tr>\n      <th>1503345</th>\n      <td>2176</td>\n      <td>2176</td>\n      <td>MIAMI</td>\n      <td>CLOSE</td>\n      <td>4</td>\n      <td>None</td>\n      <td>VW-0911-NO</td>\n      <td>GANSW706619346</td>\n      <td>1</td>\n      <td>550.4</td>\n      <td>168.3</td>\n      <td>3.370000</td>\n      <td>0.666667</td>\n      <td>False</td>\n      <td>House</td>\n      <td>Residential</td>\n      <td>572.4</td>\n      <td>549.9</td>\n      <td>0.000157</td>\n      <td>0.000247</td>\n    </tr>\n    <tr>\n      <th>1503352</th>\n      <td>2195</td>\n      <td>2195</td>\n      <td>CHALMERS</td>\n      <td>STREET</td>\n      <td>60</td>\n      <td>None</td>\n      <td>YT-0925-RP</td>\n      <td>GANSW705156944</td>\n      <td>1</td>\n      <td>538.6</td>\n      <td>268.6</td>\n      <td>3.806000</td>\n      <td>0.600000</td>\n      <td>False</td>\n      <td>House</td>\n      <td>Residential</td>\n      <td>274.8</td>\n      <td>592.8</td>\n      <td>0.000143</td>\n      <td>0.000150</td>\n    </tr>\n    <tr>\n      <th>1503366</th>\n      <td>2176</td>\n      <td>2176</td>\n      <td>BRUNSWICK</td>\n      <td>CRESCENT</td>\n      <td>25</td>\n      <td>None</td>\n      <td>FB-1226-QO</td>\n      <td>GANSW705978080</td>\n      <td>1</td>\n      <td>790.0</td>\n      <td>421.4</td>\n      <td>5.495000</td>\n      <td>0.500000</td>\n      <td>True</td>\n      <td>House</td>\n      <td>Residential</td>\n      <td>618.9</td>\n      <td>540.6</td>\n      <td>0.000158</td>\n      <td>0.000194</td>\n    </tr>\n    <tr>\n      <th>1503387</th>\n      <td>2176</td>\n      <td>2176</td>\n      <td>SWEETHAVEN</td>\n      <td>ROAD</td>\n      <td>76</td>\n      <td>None</td>\n      <td>UA-4557-QZ</td>\n      <td>GANSW706595633</td>\n      <td>1</td>\n      <td>563.9</td>\n      <td>124.1</td>\n      <td>3.670000</td>\n      <td>0.500000</td>\n      <td>False</td>\n      <td>House</td>\n      <td>Residential</td>\n      <td>563.9</td>\n      <td>641.9</td>\n      <td>0.000140</td>\n      <td>0.000150</td>\n    </tr>\n  </tbody>\n</table>\n<p>54802 rows × 20 columns</p>\n</div>"
     },
     "execution_count": 14,
     "metadata": {},
     "output_type": "execute_result"
    }
   ],
   "source": [
    "df2"
   ],
   "metadata": {
    "collapsed": false,
    "ExecuteTime": {
     "end_time": "2024-09-28T07:53:22.583517Z",
     "start_time": "2024-09-28T07:53:22.517486Z"
    }
   },
   "id": "548f403fc4493ecb",
   "execution_count": 14
  },
  {
   "cell_type": "code",
   "outputs": [
    {
     "data": {
      "text/plain": "PROPERTY_TYPE\nHouse                              53977\nApartment/Unit                       649\nTownhouse                            145\nRural/Farming                         19\nFactory, Warehouse & Industrial        6\nBusiness/Commercial                    4\nDevelopment/Land                       2\nName: count, dtype: int64"
     },
     "execution_count": 15,
     "metadata": {},
     "output_type": "execute_result"
    }
   ],
   "source": [
    "df2['PROPERTY_TYPE'].value_counts()"
   ],
   "metadata": {
    "collapsed": false,
    "ExecuteTime": {
     "end_time": "2024-09-28T07:53:33.669870Z",
     "start_time": "2024-09-28T07:53:33.664651Z"
    }
   },
   "id": "45cd3892f146f92a",
   "execution_count": 15
  },
  {
   "cell_type": "code",
   "outputs": [
    {
     "data": {
      "text/plain": "        POSTCODE_INT POSTCODE    STREET_NAME STREET_TYPE_CODE NUMBER_FIRST  \\\n22              2171     2171     CARMICHAEL            DRIVE           64   \n26              2171     2171        RAINHAM          CIRCUIT            7   \n54              2178     2178        WESTERN             ROAD          130   \n55              2171     2171        SPENCER             ROAD          135   \n85              2171     2171  COFFS HARBOUR           AVENUE           54   \n...              ...      ...            ...              ...          ...   \n1503332         2176     2176        LACHLAN           STREET           19   \n1503345         2176     2176          MIAMI            CLOSE            4   \n1503352         2195     2195       CHALMERS           STREET           60   \n1503366         2176     2176      BRUNSWICK         CRESCENT           25   \n1503387         2176     2176     SWEETHAVEN             ROAD           76   \n\n        FLAT_NUMBER SVP_ADDRESS_ID        PSMA_KEY  COUNT  LAND_AREA  \\\n22             None     BX-9215-SE  GANSW706268417      1      544.6   \n26             None     XB-0318-SY  GANSW706288363      1      500.6   \n54             None     DK-9400-TP  GANSW705059193      1    10000.0   \n55             None     YX-4429-CA  GANSW718702483      1      314.0   \n85             None     LG-6450-BN  GANSW717063199      1      283.5   \n...             ...            ...             ...    ...        ...   \n1503332        None     IM-1204-BR  GANSW704204305      1      686.8   \n1503345        None     VW-0911-NO  GANSW706619346      1      550.4   \n1503352        None     YT-0925-RP  GANSW705156944      1      538.6   \n1503366        None     FB-1226-QO  GANSW705978080      1      790.0   \n1503387        None     UA-4557-QZ  GANSW706595633      1      563.9   \n\n         BUILDING_SIZE  ROOF_HEIGHT  ROOF_SHAPE  HAS_POOL PROPERTY_TYPE  \\\n22               262.3     4.415000    0.500000     False         House   \n26               173.3     8.310000    0.000000     False         House   \n54               591.5     3.581111    0.666667     False         House   \n55               168.7     5.058000    0.000000     False         House   \n85               128.0     7.522500    1.000000     False         House   \n...                ...          ...         ...       ...           ...   \n1503332          315.6     5.960000    0.000000     False         House   \n1503345          168.3     3.370000    0.666667     False         House   \n1503352          268.6     3.806000    0.600000     False         House   \n1503366          421.4     5.495000    0.500000      True         House   \n1503387          124.1     3.670000    0.500000     False         House   \n\n                    PLANNING_ZONE    next1    next2     dist1     dist2  \n22                    Residential    542.5    572.2  0.000141  0.000141  \n26                    Residential    300.8    495.7  0.000170  0.000172  \n54       Rural/Primary Production  10000.0  10000.0  0.000671  0.001611  \n55                    Residential    295.6    383.2  0.000081  0.000161  \n85                    Residential    223.2    267.1  0.000092  0.000134  \n...                           ...      ...      ...       ...       ...  \n1503332               Residential    768.8    690.0  0.000245  0.000269  \n1503345               Residential    572.4    549.9  0.000157  0.000247  \n1503352               Residential    274.8    592.8  0.000143  0.000150  \n1503366               Residential    618.9    540.6  0.000158  0.000194  \n1503387               Residential    563.9    641.9  0.000140  0.000150  \n\n[54802 rows x 20 columns]",
      "text/html": "<div>\n<style scoped>\n    .dataframe tbody tr th:only-of-type {\n        vertical-align: middle;\n    }\n\n    .dataframe tbody tr th {\n        vertical-align: top;\n    }\n\n    .dataframe thead th {\n        text-align: right;\n    }\n</style>\n<table border=\"1\" class=\"dataframe\">\n  <thead>\n    <tr style=\"text-align: right;\">\n      <th></th>\n      <th>POSTCODE_INT</th>\n      <th>POSTCODE</th>\n      <th>STREET_NAME</th>\n      <th>STREET_TYPE_CODE</th>\n      <th>NUMBER_FIRST</th>\n      <th>FLAT_NUMBER</th>\n      <th>SVP_ADDRESS_ID</th>\n      <th>PSMA_KEY</th>\n      <th>COUNT</th>\n      <th>LAND_AREA</th>\n      <th>BUILDING_SIZE</th>\n      <th>ROOF_HEIGHT</th>\n      <th>ROOF_SHAPE</th>\n      <th>HAS_POOL</th>\n      <th>PROPERTY_TYPE</th>\n      <th>PLANNING_ZONE</th>\n      <th>next1</th>\n      <th>next2</th>\n      <th>dist1</th>\n      <th>dist2</th>\n    </tr>\n  </thead>\n  <tbody>\n    <tr>\n      <th>22</th>\n      <td>2171</td>\n      <td>2171</td>\n      <td>CARMICHAEL</td>\n      <td>DRIVE</td>\n      <td>64</td>\n      <td>None</td>\n      <td>BX-9215-SE</td>\n      <td>GANSW706268417</td>\n      <td>1</td>\n      <td>544.6</td>\n      <td>262.3</td>\n      <td>4.415000</td>\n      <td>0.500000</td>\n      <td>False</td>\n      <td>House</td>\n      <td>Residential</td>\n      <td>542.5</td>\n      <td>572.2</td>\n      <td>0.000141</td>\n      <td>0.000141</td>\n    </tr>\n    <tr>\n      <th>26</th>\n      <td>2171</td>\n      <td>2171</td>\n      <td>RAINHAM</td>\n      <td>CIRCUIT</td>\n      <td>7</td>\n      <td>None</td>\n      <td>XB-0318-SY</td>\n      <td>GANSW706288363</td>\n      <td>1</td>\n      <td>500.6</td>\n      <td>173.3</td>\n      <td>8.310000</td>\n      <td>0.000000</td>\n      <td>False</td>\n      <td>House</td>\n      <td>Residential</td>\n      <td>300.8</td>\n      <td>495.7</td>\n      <td>0.000170</td>\n      <td>0.000172</td>\n    </tr>\n    <tr>\n      <th>54</th>\n      <td>2178</td>\n      <td>2178</td>\n      <td>WESTERN</td>\n      <td>ROAD</td>\n      <td>130</td>\n      <td>None</td>\n      <td>DK-9400-TP</td>\n      <td>GANSW705059193</td>\n      <td>1</td>\n      <td>10000.0</td>\n      <td>591.5</td>\n      <td>3.581111</td>\n      <td>0.666667</td>\n      <td>False</td>\n      <td>House</td>\n      <td>Rural/Primary Production</td>\n      <td>10000.0</td>\n      <td>10000.0</td>\n      <td>0.000671</td>\n      <td>0.001611</td>\n    </tr>\n    <tr>\n      <th>55</th>\n      <td>2171</td>\n      <td>2171</td>\n      <td>SPENCER</td>\n      <td>ROAD</td>\n      <td>135</td>\n      <td>None</td>\n      <td>YX-4429-CA</td>\n      <td>GANSW718702483</td>\n      <td>1</td>\n      <td>314.0</td>\n      <td>168.7</td>\n      <td>5.058000</td>\n      <td>0.000000</td>\n      <td>False</td>\n      <td>House</td>\n      <td>Residential</td>\n      <td>295.6</td>\n      <td>383.2</td>\n      <td>0.000081</td>\n      <td>0.000161</td>\n    </tr>\n    <tr>\n      <th>85</th>\n      <td>2171</td>\n      <td>2171</td>\n      <td>COFFS HARBOUR</td>\n      <td>AVENUE</td>\n      <td>54</td>\n      <td>None</td>\n      <td>LG-6450-BN</td>\n      <td>GANSW717063199</td>\n      <td>1</td>\n      <td>283.5</td>\n      <td>128.0</td>\n      <td>7.522500</td>\n      <td>1.000000</td>\n      <td>False</td>\n      <td>House</td>\n      <td>Residential</td>\n      <td>223.2</td>\n      <td>267.1</td>\n      <td>0.000092</td>\n      <td>0.000134</td>\n    </tr>\n    <tr>\n      <th>...</th>\n      <td>...</td>\n      <td>...</td>\n      <td>...</td>\n      <td>...</td>\n      <td>...</td>\n      <td>...</td>\n      <td>...</td>\n      <td>...</td>\n      <td>...</td>\n      <td>...</td>\n      <td>...</td>\n      <td>...</td>\n      <td>...</td>\n      <td>...</td>\n      <td>...</td>\n      <td>...</td>\n      <td>...</td>\n      <td>...</td>\n      <td>...</td>\n      <td>...</td>\n    </tr>\n    <tr>\n      <th>1503332</th>\n      <td>2176</td>\n      <td>2176</td>\n      <td>LACHLAN</td>\n      <td>STREET</td>\n      <td>19</td>\n      <td>None</td>\n      <td>IM-1204-BR</td>\n      <td>GANSW704204305</td>\n      <td>1</td>\n      <td>686.8</td>\n      <td>315.6</td>\n      <td>5.960000</td>\n      <td>0.000000</td>\n      <td>False</td>\n      <td>House</td>\n      <td>Residential</td>\n      <td>768.8</td>\n      <td>690.0</td>\n      <td>0.000245</td>\n      <td>0.000269</td>\n    </tr>\n    <tr>\n      <th>1503345</th>\n      <td>2176</td>\n      <td>2176</td>\n      <td>MIAMI</td>\n      <td>CLOSE</td>\n      <td>4</td>\n      <td>None</td>\n      <td>VW-0911-NO</td>\n      <td>GANSW706619346</td>\n      <td>1</td>\n      <td>550.4</td>\n      <td>168.3</td>\n      <td>3.370000</td>\n      <td>0.666667</td>\n      <td>False</td>\n      <td>House</td>\n      <td>Residential</td>\n      <td>572.4</td>\n      <td>549.9</td>\n      <td>0.000157</td>\n      <td>0.000247</td>\n    </tr>\n    <tr>\n      <th>1503352</th>\n      <td>2195</td>\n      <td>2195</td>\n      <td>CHALMERS</td>\n      <td>STREET</td>\n      <td>60</td>\n      <td>None</td>\n      <td>YT-0925-RP</td>\n      <td>GANSW705156944</td>\n      <td>1</td>\n      <td>538.6</td>\n      <td>268.6</td>\n      <td>3.806000</td>\n      <td>0.600000</td>\n      <td>False</td>\n      <td>House</td>\n      <td>Residential</td>\n      <td>274.8</td>\n      <td>592.8</td>\n      <td>0.000143</td>\n      <td>0.000150</td>\n    </tr>\n    <tr>\n      <th>1503366</th>\n      <td>2176</td>\n      <td>2176</td>\n      <td>BRUNSWICK</td>\n      <td>CRESCENT</td>\n      <td>25</td>\n      <td>None</td>\n      <td>FB-1226-QO</td>\n      <td>GANSW705978080</td>\n      <td>1</td>\n      <td>790.0</td>\n      <td>421.4</td>\n      <td>5.495000</td>\n      <td>0.500000</td>\n      <td>True</td>\n      <td>House</td>\n      <td>Residential</td>\n      <td>618.9</td>\n      <td>540.6</td>\n      <td>0.000158</td>\n      <td>0.000194</td>\n    </tr>\n    <tr>\n      <th>1503387</th>\n      <td>2176</td>\n      <td>2176</td>\n      <td>SWEETHAVEN</td>\n      <td>ROAD</td>\n      <td>76</td>\n      <td>None</td>\n      <td>UA-4557-QZ</td>\n      <td>GANSW706595633</td>\n      <td>1</td>\n      <td>563.9</td>\n      <td>124.1</td>\n      <td>3.670000</td>\n      <td>0.500000</td>\n      <td>False</td>\n      <td>House</td>\n      <td>Residential</td>\n      <td>563.9</td>\n      <td>641.9</td>\n      <td>0.000140</td>\n      <td>0.000150</td>\n    </tr>\n  </tbody>\n</table>\n<p>54802 rows × 20 columns</p>\n</div>"
     },
     "execution_count": 16,
     "metadata": {},
     "output_type": "execute_result"
    }
   ],
   "source": [
    "df2 "
   ],
   "metadata": {
    "collapsed": false,
    "ExecuteTime": {
     "end_time": "2024-09-28T07:53:56.411364Z",
     "start_time": "2024-09-28T07:53:56.399676Z"
    }
   },
   "id": "e40f65dddcabe737",
   "execution_count": 16
  },
  {
   "cell_type": "code",
   "outputs": [
    {
     "name": "stderr",
     "output_type": "stream",
     "text": [
      "/var/folders/bl/bhxc9rps0xsb8c84q3j7djcc0000gp/T/ipykernel_34072/1754783521.py:1: SettingWithCopyWarning: \n",
      "A value is trying to be set on a copy of a slice from a DataFrame.\n",
      "Try using .loc[row_indexer,col_indexer] = value instead\n",
      "\n",
      "See the caveats in the documentation: https://pandas.pydata.org/pandas-docs/stable/user_guide/indexing.html#returning-a-view-versus-a-copy\n",
      "  df2['FLAT_NUMBER'] = df2['FLAT_NUMBER'].notna()\n"
     ]
    }
   ],
   "source": [
    "df2['FLAT_NUMBER'] = df2['FLAT_NUMBER'].notna()"
   ],
   "metadata": {
    "collapsed": false,
    "ExecuteTime": {
     "end_time": "2024-09-28T07:54:04.421386Z",
     "start_time": "2024-09-28T07:54:04.412935Z"
    }
   },
   "id": "82d75bd2fe58856",
   "execution_count": 17
  },
  {
   "cell_type": "code",
   "outputs": [
    {
     "data": {
      "text/plain": "Index(['POSTCODE_INT', 'POSTCODE', 'STREET_NAME', 'STREET_TYPE_CODE',\n       'NUMBER_FIRST', 'FLAT_NUMBER', 'SVP_ADDRESS_ID', 'PSMA_KEY', 'COUNT',\n       'LAND_AREA', 'BUILDING_SIZE', 'ROOF_HEIGHT', 'ROOF_SHAPE', 'HAS_POOL',\n       'PROPERTY_TYPE', 'PLANNING_ZONE', 'next1', 'next2', 'dist1', 'dist2'],\n      dtype='object')"
     },
     "execution_count": 18,
     "metadata": {},
     "output_type": "execute_result"
    }
   ],
   "source": [
    "df2.columns"
   ],
   "metadata": {
    "collapsed": false,
    "ExecuteTime": {
     "end_time": "2024-09-28T07:54:06.571761Z",
     "start_time": "2024-09-28T07:54:06.545398Z"
    }
   },
   "id": "24f87c1a73594949",
   "execution_count": 18
  },
  {
   "cell_type": "code",
   "outputs": [],
   "source": [
    "df2 = df2[['POSTCODE_INT', 'POSTCODE', 'STREET_NAME', 'STREET_TYPE_CODE',\n",
    "            'NUMBER_FIRST', 'SVP_ADDRESS_ID', 'PSMA_KEY',\n",
    "           \n",
    "            'COUNT', 'LAND_AREA', 'BUILDING_SIZE', 'ROOF_HEIGHT', 'ROOF_SHAPE', 'next1', 'next2', 'dist1', 'dist2',\n",
    "           \n",
    "            'FLAT_NUMBER', 'HAS_POOL', 'PROPERTY_TYPE', 'PLANNING_ZONE',]]"
   ],
   "metadata": {
    "collapsed": false,
    "ExecuteTime": {
     "end_time": "2024-09-28T07:54:38.513440Z",
     "start_time": "2024-09-28T07:54:38.486374Z"
    }
   },
   "id": "d8574580ae0afd66",
   "execution_count": 19
  },
  {
   "cell_type": "code",
   "outputs": [
    {
     "data": {
      "text/plain": "        POSTCODE_INT POSTCODE    STREET_NAME STREET_TYPE_CODE NUMBER_FIRST  \\\n22              2171     2171     CARMICHAEL            DRIVE           64   \n26              2171     2171        RAINHAM          CIRCUIT            7   \n54              2178     2178        WESTERN             ROAD          130   \n55              2171     2171        SPENCER             ROAD          135   \n85              2171     2171  COFFS HARBOUR           AVENUE           54   \n...              ...      ...            ...              ...          ...   \n1503332         2176     2176        LACHLAN           STREET           19   \n1503345         2176     2176          MIAMI            CLOSE            4   \n1503352         2195     2195       CHALMERS           STREET           60   \n1503366         2176     2176      BRUNSWICK         CRESCENT           25   \n1503387         2176     2176     SWEETHAVEN             ROAD           76   \n\n        SVP_ADDRESS_ID        PSMA_KEY  COUNT  LAND_AREA  BUILDING_SIZE  ...  \\\n22          BX-9215-SE  GANSW706268417    0.0   0.046412       0.060997  ...   \n26          XB-0318-SY  GANSW706288363    0.0   0.041974       0.038638  ...   \n54          DK-9400-TP  GANSW705059193    0.0   1.000000       0.143701  ...   \n55          YX-4429-CA  GANSW718702483    0.0   0.023155       0.037483  ...   \n85          LG-6450-BN  GANSW717063199    0.0   0.020079       0.027258  ...   \n...                ...             ...    ...        ...            ...  ...   \n1503332     IM-1204-BR  GANSW704204305    0.0   0.060753       0.074388  ...   \n1503345     VW-0911-NO  GANSW706619346    0.0   0.046997       0.037382  ...   \n1503352     YT-0925-RP  GANSW705156944    0.0   0.045807       0.062580  ...   \n1503366     FB-1226-QO  GANSW705978080    0.0   0.071161       0.100967  ...   \n1503387     UA-4557-QZ  GANSW706595633    0.0   0.048358       0.026278  ...   \n\n         PLANNING_ZONE_Commercial/Business  PLANNING_ZONE_Community Use  \\\n22                                   False                        False   \n26                                   False                        False   \n54                                   False                        False   \n55                                   False                        False   \n85                                   False                        False   \n...                                    ...                          ...   \n1503332                              False                        False   \n1503345                              False                        False   \n1503352                              False                        False   \n1503366                              False                        False   \n1503387                              False                        False   \n\n         PLANNING_ZONE_Conservation/National Park  \\\n22                                          False   \n26                                          False   \n54                                          False   \n55                                          False   \n85                                          False   \n...                                           ...   \n1503332                                     False   \n1503345                                     False   \n1503352                                     False   \n1503366                                     False   \n1503387                                     False   \n\n         PLANNING_ZONE_Industrial/Utilities  PLANNING_ZONE_Mixed Use  \\\n22                                    False                    False   \n26                                    False                    False   \n54                                    False                    False   \n55                                    False                    False   \n85                                    False                    False   \n...                                     ...                      ...   \n1503332                               False                    False   \n1503345                               False                    False   \n1503352                               False                    False   \n1503366                               False                    False   \n1503387                               False                    False   \n\n         PLANNING_ZONE_Recreational/Open Space  PLANNING_ZONE_Residential  \\\n22                                       False                       True   \n26                                       False                       True   \n54                                       False                      False   \n55                                       False                       True   \n85                                       False                       True   \n...                                        ...                        ...   \n1503332                                  False                       True   \n1503345                                  False                       True   \n1503352                                  False                       True   \n1503366                                  False                       True   \n1503387                                  False                       True   \n\n         PLANNING_ZONE_Rural/Primary Production  PLANNING_ZONE_Special Use  \\\n22                                        False                      False   \n26                                        False                      False   \n54                                         True                      False   \n55                                        False                      False   \n85                                        False                      False   \n...                                         ...                        ...   \n1503332                                   False                      False   \n1503345                                   False                      False   \n1503352                                   False                      False   \n1503366                                   False                      False   \n1503387                                   False                      False   \n\n         PLANNING_ZONE_Transport/Infrastructure  \n22                                        False  \n26                                        False  \n54                                        False  \n55                                        False  \n85                                        False  \n...                                         ...  \n1503332                                   False  \n1503345                                   False  \n1503352                                   False  \n1503366                                   False  \n1503387                                   False  \n\n[54802 rows x 36 columns]",
      "text/html": "<div>\n<style scoped>\n    .dataframe tbody tr th:only-of-type {\n        vertical-align: middle;\n    }\n\n    .dataframe tbody tr th {\n        vertical-align: top;\n    }\n\n    .dataframe thead th {\n        text-align: right;\n    }\n</style>\n<table border=\"1\" class=\"dataframe\">\n  <thead>\n    <tr style=\"text-align: right;\">\n      <th></th>\n      <th>POSTCODE_INT</th>\n      <th>POSTCODE</th>\n      <th>STREET_NAME</th>\n      <th>STREET_TYPE_CODE</th>\n      <th>NUMBER_FIRST</th>\n      <th>SVP_ADDRESS_ID</th>\n      <th>PSMA_KEY</th>\n      <th>COUNT</th>\n      <th>LAND_AREA</th>\n      <th>BUILDING_SIZE</th>\n      <th>...</th>\n      <th>PLANNING_ZONE_Commercial/Business</th>\n      <th>PLANNING_ZONE_Community Use</th>\n      <th>PLANNING_ZONE_Conservation/National Park</th>\n      <th>PLANNING_ZONE_Industrial/Utilities</th>\n      <th>PLANNING_ZONE_Mixed Use</th>\n      <th>PLANNING_ZONE_Recreational/Open Space</th>\n      <th>PLANNING_ZONE_Residential</th>\n      <th>PLANNING_ZONE_Rural/Primary Production</th>\n      <th>PLANNING_ZONE_Special Use</th>\n      <th>PLANNING_ZONE_Transport/Infrastructure</th>\n    </tr>\n  </thead>\n  <tbody>\n    <tr>\n      <th>22</th>\n      <td>2171</td>\n      <td>2171</td>\n      <td>CARMICHAEL</td>\n      <td>DRIVE</td>\n      <td>64</td>\n      <td>BX-9215-SE</td>\n      <td>GANSW706268417</td>\n      <td>0.0</td>\n      <td>0.046412</td>\n      <td>0.060997</td>\n      <td>...</td>\n      <td>False</td>\n      <td>False</td>\n      <td>False</td>\n      <td>False</td>\n      <td>False</td>\n      <td>False</td>\n      <td>True</td>\n      <td>False</td>\n      <td>False</td>\n      <td>False</td>\n    </tr>\n    <tr>\n      <th>26</th>\n      <td>2171</td>\n      <td>2171</td>\n      <td>RAINHAM</td>\n      <td>CIRCUIT</td>\n      <td>7</td>\n      <td>XB-0318-SY</td>\n      <td>GANSW706288363</td>\n      <td>0.0</td>\n      <td>0.041974</td>\n      <td>0.038638</td>\n      <td>...</td>\n      <td>False</td>\n      <td>False</td>\n      <td>False</td>\n      <td>False</td>\n      <td>False</td>\n      <td>False</td>\n      <td>True</td>\n      <td>False</td>\n      <td>False</td>\n      <td>False</td>\n    </tr>\n    <tr>\n      <th>54</th>\n      <td>2178</td>\n      <td>2178</td>\n      <td>WESTERN</td>\n      <td>ROAD</td>\n      <td>130</td>\n      <td>DK-9400-TP</td>\n      <td>GANSW705059193</td>\n      <td>0.0</td>\n      <td>1.000000</td>\n      <td>0.143701</td>\n      <td>...</td>\n      <td>False</td>\n      <td>False</td>\n      <td>False</td>\n      <td>False</td>\n      <td>False</td>\n      <td>False</td>\n      <td>False</td>\n      <td>True</td>\n      <td>False</td>\n      <td>False</td>\n    </tr>\n    <tr>\n      <th>55</th>\n      <td>2171</td>\n      <td>2171</td>\n      <td>SPENCER</td>\n      <td>ROAD</td>\n      <td>135</td>\n      <td>YX-4429-CA</td>\n      <td>GANSW718702483</td>\n      <td>0.0</td>\n      <td>0.023155</td>\n      <td>0.037483</td>\n      <td>...</td>\n      <td>False</td>\n      <td>False</td>\n      <td>False</td>\n      <td>False</td>\n      <td>False</td>\n      <td>False</td>\n      <td>True</td>\n      <td>False</td>\n      <td>False</td>\n      <td>False</td>\n    </tr>\n    <tr>\n      <th>85</th>\n      <td>2171</td>\n      <td>2171</td>\n      <td>COFFS HARBOUR</td>\n      <td>AVENUE</td>\n      <td>54</td>\n      <td>LG-6450-BN</td>\n      <td>GANSW717063199</td>\n      <td>0.0</td>\n      <td>0.020079</td>\n      <td>0.027258</td>\n      <td>...</td>\n      <td>False</td>\n      <td>False</td>\n      <td>False</td>\n      <td>False</td>\n      <td>False</td>\n      <td>False</td>\n      <td>True</td>\n      <td>False</td>\n      <td>False</td>\n      <td>False</td>\n    </tr>\n    <tr>\n      <th>...</th>\n      <td>...</td>\n      <td>...</td>\n      <td>...</td>\n      <td>...</td>\n      <td>...</td>\n      <td>...</td>\n      <td>...</td>\n      <td>...</td>\n      <td>...</td>\n      <td>...</td>\n      <td>...</td>\n      <td>...</td>\n      <td>...</td>\n      <td>...</td>\n      <td>...</td>\n      <td>...</td>\n      <td>...</td>\n      <td>...</td>\n      <td>...</td>\n      <td>...</td>\n      <td>...</td>\n    </tr>\n    <tr>\n      <th>1503332</th>\n      <td>2176</td>\n      <td>2176</td>\n      <td>LACHLAN</td>\n      <td>STREET</td>\n      <td>19</td>\n      <td>IM-1204-BR</td>\n      <td>GANSW704204305</td>\n      <td>0.0</td>\n      <td>0.060753</td>\n      <td>0.074388</td>\n      <td>...</td>\n      <td>False</td>\n      <td>False</td>\n      <td>False</td>\n      <td>False</td>\n      <td>False</td>\n      <td>False</td>\n      <td>True</td>\n      <td>False</td>\n      <td>False</td>\n      <td>False</td>\n    </tr>\n    <tr>\n      <th>1503345</th>\n      <td>2176</td>\n      <td>2176</td>\n      <td>MIAMI</td>\n      <td>CLOSE</td>\n      <td>4</td>\n      <td>VW-0911-NO</td>\n      <td>GANSW706619346</td>\n      <td>0.0</td>\n      <td>0.046997</td>\n      <td>0.037382</td>\n      <td>...</td>\n      <td>False</td>\n      <td>False</td>\n      <td>False</td>\n      <td>False</td>\n      <td>False</td>\n      <td>False</td>\n      <td>True</td>\n      <td>False</td>\n      <td>False</td>\n      <td>False</td>\n    </tr>\n    <tr>\n      <th>1503352</th>\n      <td>2195</td>\n      <td>2195</td>\n      <td>CHALMERS</td>\n      <td>STREET</td>\n      <td>60</td>\n      <td>YT-0925-RP</td>\n      <td>GANSW705156944</td>\n      <td>0.0</td>\n      <td>0.045807</td>\n      <td>0.062580</td>\n      <td>...</td>\n      <td>False</td>\n      <td>False</td>\n      <td>False</td>\n      <td>False</td>\n      <td>False</td>\n      <td>False</td>\n      <td>True</td>\n      <td>False</td>\n      <td>False</td>\n      <td>False</td>\n    </tr>\n    <tr>\n      <th>1503366</th>\n      <td>2176</td>\n      <td>2176</td>\n      <td>BRUNSWICK</td>\n      <td>CRESCENT</td>\n      <td>25</td>\n      <td>FB-1226-QO</td>\n      <td>GANSW705978080</td>\n      <td>0.0</td>\n      <td>0.071161</td>\n      <td>0.100967</td>\n      <td>...</td>\n      <td>False</td>\n      <td>False</td>\n      <td>False</td>\n      <td>False</td>\n      <td>False</td>\n      <td>False</td>\n      <td>True</td>\n      <td>False</td>\n      <td>False</td>\n      <td>False</td>\n    </tr>\n    <tr>\n      <th>1503387</th>\n      <td>2176</td>\n      <td>2176</td>\n      <td>SWEETHAVEN</td>\n      <td>ROAD</td>\n      <td>76</td>\n      <td>UA-4557-QZ</td>\n      <td>GANSW706595633</td>\n      <td>0.0</td>\n      <td>0.048358</td>\n      <td>0.026278</td>\n      <td>...</td>\n      <td>False</td>\n      <td>False</td>\n      <td>False</td>\n      <td>False</td>\n      <td>False</td>\n      <td>False</td>\n      <td>True</td>\n      <td>False</td>\n      <td>False</td>\n      <td>False</td>\n    </tr>\n  </tbody>\n</table>\n<p>54802 rows × 36 columns</p>\n</div>"
     },
     "execution_count": 20,
     "metadata": {},
     "output_type": "execute_result"
    }
   ],
   "source": [
    "columns_normalize = [\n",
    "    'COUNT', 'LAND_AREA', 'BUILDING_SIZE', 'ROOF_HEIGHT', 'ROOF_SHAPE', 'next1', 'next2', 'dist1', 'dist2'\n",
    "]\n",
    "\n",
    "columns_onehot = [\n",
    "    'FLAT_NUMBER', 'HAS_POOL', 'PROPERTY_TYPE', 'PLANNING_ZONE'\n",
    "]\n",
    "\n",
    "scaler = MinMaxScaler()\n",
    "df2[columns_normalize] = scaler.fit_transform(df2[columns_normalize])\n",
    "dump(scaler, 'new/scaler.pkl')\n",
    "\n",
    "df2 = pd.get_dummies(df2, columns=columns_onehot)\n",
    "\n",
    "df2"
   ],
   "metadata": {
    "collapsed": false,
    "ExecuteTime": {
     "end_time": "2024-09-28T07:55:09.310778Z",
     "start_time": "2024-09-28T07:55:09.138872Z"
    }
   },
   "id": "6b6cb65bbabb7063",
   "execution_count": 20
  },
  {
   "cell_type": "code",
   "outputs": [
    {
     "data": {
      "text/plain": "        POSTCODE_INT POSTCODE STREET_NAME STREET_TYPE_CODE NUMBER_FIRST  \\\n1613            2171     2171     ADDISON              WAY           10   \n114017          2171     2171     ADDISON              WAY           12   \n114016          2171     2171     ADDISON              WAY            6   \n114015          2171     2171     ADDISON              WAY            8   \n1284335         2171     2171    ADELAIDE            PLACE            1   \n...              ...      ...         ...              ...          ...   \n374048          2199     2199         YEO           STREET           50   \n103858          2199     2199         YEO           STREET            6   \n1101720         2199     2199         YEO           STREET            7   \n1233101         2199     2199         YEO           STREET            8   \n248211          2199     2199         YEO           STREET           9A   \n\n        SVP_ADDRESS_ID        PSMA_KEY  COUNT  LAND_AREA  BUILDING_SIZE  ...  \\\n1613        WC-7494-SH  GANSW706264860    0.0   0.050093       0.071122  ...   \n114017      SS-2664-TE  GANSW706264861    0.0   0.049911       0.062379  ...   \n114016      SR-7976-AN  GANSW706278307    0.0   0.049367       0.062706  ...   \n114015      SS-0962-ZY  GANSW706278308    0.0   0.050093       0.062605  ...   \n1284335     AI-0725-XP  GANSW704368812    0.0   0.078371       0.111594  ...   \n...                ...             ...    ...        ...            ...  ...   \n374048      MI-0950-DY  GANSW706353720    0.0   0.047037       0.025725  ...   \n103858      AT-3903-CZ  GANSW706353721    0.0   0.043437       0.040774  ...   \n1101720     AV-8878-VA  GANSW706353722    0.0   0.052967       0.036126  ...   \n1233101     YQ-2697-CY  GANSW706353723    0.0   0.043437       0.039266  ...   \n248211      PI-6949-VC  GANSW717113088    0.0   0.022379       0.020550  ...   \n\n         PLANNING_ZONE_Commercial/Business  PLANNING_ZONE_Community Use  \\\n1613                                 False                        False   \n114017                               False                        False   \n114016                               False                        False   \n114015                               False                        False   \n1284335                              False                        False   \n...                                    ...                          ...   \n374048                               False                        False   \n103858                               False                        False   \n1101720                              False                        False   \n1233101                              False                        False   \n248211                               False                        False   \n\n         PLANNING_ZONE_Conservation/National Park  \\\n1613                                        False   \n114017                                      False   \n114016                                      False   \n114015                                      False   \n1284335                                     False   \n...                                           ...   \n374048                                      False   \n103858                                      False   \n1101720                                     False   \n1233101                                     False   \n248211                                      False   \n\n         PLANNING_ZONE_Industrial/Utilities  PLANNING_ZONE_Mixed Use  \\\n1613                                  False                    False   \n114017                                False                    False   \n114016                                False                    False   \n114015                                False                    False   \n1284335                               False                    False   \n...                                     ...                      ...   \n374048                                False                    False   \n103858                                False                    False   \n1101720                               False                    False   \n1233101                               False                    False   \n248211                                False                    False   \n\n         PLANNING_ZONE_Recreational/Open Space  PLANNING_ZONE_Residential  \\\n1613                                     False                       True   \n114017                                   False                       True   \n114016                                   False                       True   \n114015                                   False                       True   \n1284335                                  False                       True   \n...                                        ...                        ...   \n374048                                   False                       True   \n103858                                   False                       True   \n1101720                                  False                       True   \n1233101                                  False                       True   \n248211                                   False                       True   \n\n         PLANNING_ZONE_Rural/Primary Production  PLANNING_ZONE_Special Use  \\\n1613                                      False                      False   \n114017                                    False                      False   \n114016                                    False                      False   \n114015                                    False                      False   \n1284335                                   False                      False   \n...                                         ...                        ...   \n374048                                    False                      False   \n103858                                    False                      False   \n1101720                                   False                      False   \n1233101                                   False                      False   \n248211                                    False                      False   \n\n         PLANNING_ZONE_Transport/Infrastructure  \n1613                                      False  \n114017                                    False  \n114016                                    False  \n114015                                    False  \n1284335                                   False  \n...                                         ...  \n374048                                    False  \n103858                                    False  \n1101720                                   False  \n1233101                                   False  \n248211                                    False  \n\n[54802 rows x 36 columns]",
      "text/html": "<div>\n<style scoped>\n    .dataframe tbody tr th:only-of-type {\n        vertical-align: middle;\n    }\n\n    .dataframe tbody tr th {\n        vertical-align: top;\n    }\n\n    .dataframe thead th {\n        text-align: right;\n    }\n</style>\n<table border=\"1\" class=\"dataframe\">\n  <thead>\n    <tr style=\"text-align: right;\">\n      <th></th>\n      <th>POSTCODE_INT</th>\n      <th>POSTCODE</th>\n      <th>STREET_NAME</th>\n      <th>STREET_TYPE_CODE</th>\n      <th>NUMBER_FIRST</th>\n      <th>SVP_ADDRESS_ID</th>\n      <th>PSMA_KEY</th>\n      <th>COUNT</th>\n      <th>LAND_AREA</th>\n      <th>BUILDING_SIZE</th>\n      <th>...</th>\n      <th>PLANNING_ZONE_Commercial/Business</th>\n      <th>PLANNING_ZONE_Community Use</th>\n      <th>PLANNING_ZONE_Conservation/National Park</th>\n      <th>PLANNING_ZONE_Industrial/Utilities</th>\n      <th>PLANNING_ZONE_Mixed Use</th>\n      <th>PLANNING_ZONE_Recreational/Open Space</th>\n      <th>PLANNING_ZONE_Residential</th>\n      <th>PLANNING_ZONE_Rural/Primary Production</th>\n      <th>PLANNING_ZONE_Special Use</th>\n      <th>PLANNING_ZONE_Transport/Infrastructure</th>\n    </tr>\n  </thead>\n  <tbody>\n    <tr>\n      <th>1613</th>\n      <td>2171</td>\n      <td>2171</td>\n      <td>ADDISON</td>\n      <td>WAY</td>\n      <td>10</td>\n      <td>WC-7494-SH</td>\n      <td>GANSW706264860</td>\n      <td>0.0</td>\n      <td>0.050093</td>\n      <td>0.071122</td>\n      <td>...</td>\n      <td>False</td>\n      <td>False</td>\n      <td>False</td>\n      <td>False</td>\n      <td>False</td>\n      <td>False</td>\n      <td>True</td>\n      <td>False</td>\n      <td>False</td>\n      <td>False</td>\n    </tr>\n    <tr>\n      <th>114017</th>\n      <td>2171</td>\n      <td>2171</td>\n      <td>ADDISON</td>\n      <td>WAY</td>\n      <td>12</td>\n      <td>SS-2664-TE</td>\n      <td>GANSW706264861</td>\n      <td>0.0</td>\n      <td>0.049911</td>\n      <td>0.062379</td>\n      <td>...</td>\n      <td>False</td>\n      <td>False</td>\n      <td>False</td>\n      <td>False</td>\n      <td>False</td>\n      <td>False</td>\n      <td>True</td>\n      <td>False</td>\n      <td>False</td>\n      <td>False</td>\n    </tr>\n    <tr>\n      <th>114016</th>\n      <td>2171</td>\n      <td>2171</td>\n      <td>ADDISON</td>\n      <td>WAY</td>\n      <td>6</td>\n      <td>SR-7976-AN</td>\n      <td>GANSW706278307</td>\n      <td>0.0</td>\n      <td>0.049367</td>\n      <td>0.062706</td>\n      <td>...</td>\n      <td>False</td>\n      <td>False</td>\n      <td>False</td>\n      <td>False</td>\n      <td>False</td>\n      <td>False</td>\n      <td>True</td>\n      <td>False</td>\n      <td>False</td>\n      <td>False</td>\n    </tr>\n    <tr>\n      <th>114015</th>\n      <td>2171</td>\n      <td>2171</td>\n      <td>ADDISON</td>\n      <td>WAY</td>\n      <td>8</td>\n      <td>SS-0962-ZY</td>\n      <td>GANSW706278308</td>\n      <td>0.0</td>\n      <td>0.050093</td>\n      <td>0.062605</td>\n      <td>...</td>\n      <td>False</td>\n      <td>False</td>\n      <td>False</td>\n      <td>False</td>\n      <td>False</td>\n      <td>False</td>\n      <td>True</td>\n      <td>False</td>\n      <td>False</td>\n      <td>False</td>\n    </tr>\n    <tr>\n      <th>1284335</th>\n      <td>2171</td>\n      <td>2171</td>\n      <td>ADELAIDE</td>\n      <td>PLACE</td>\n      <td>1</td>\n      <td>AI-0725-XP</td>\n      <td>GANSW704368812</td>\n      <td>0.0</td>\n      <td>0.078371</td>\n      <td>0.111594</td>\n      <td>...</td>\n      <td>False</td>\n      <td>False</td>\n      <td>False</td>\n      <td>False</td>\n      <td>False</td>\n      <td>False</td>\n      <td>True</td>\n      <td>False</td>\n      <td>False</td>\n      <td>False</td>\n    </tr>\n    <tr>\n      <th>...</th>\n      <td>...</td>\n      <td>...</td>\n      <td>...</td>\n      <td>...</td>\n      <td>...</td>\n      <td>...</td>\n      <td>...</td>\n      <td>...</td>\n      <td>...</td>\n      <td>...</td>\n      <td>...</td>\n      <td>...</td>\n      <td>...</td>\n      <td>...</td>\n      <td>...</td>\n      <td>...</td>\n      <td>...</td>\n      <td>...</td>\n      <td>...</td>\n      <td>...</td>\n      <td>...</td>\n    </tr>\n    <tr>\n      <th>374048</th>\n      <td>2199</td>\n      <td>2199</td>\n      <td>YEO</td>\n      <td>STREET</td>\n      <td>50</td>\n      <td>MI-0950-DY</td>\n      <td>GANSW706353720</td>\n      <td>0.0</td>\n      <td>0.047037</td>\n      <td>0.025725</td>\n      <td>...</td>\n      <td>False</td>\n      <td>False</td>\n      <td>False</td>\n      <td>False</td>\n      <td>False</td>\n      <td>False</td>\n      <td>True</td>\n      <td>False</td>\n      <td>False</td>\n      <td>False</td>\n    </tr>\n    <tr>\n      <th>103858</th>\n      <td>2199</td>\n      <td>2199</td>\n      <td>YEO</td>\n      <td>STREET</td>\n      <td>6</td>\n      <td>AT-3903-CZ</td>\n      <td>GANSW706353721</td>\n      <td>0.0</td>\n      <td>0.043437</td>\n      <td>0.040774</td>\n      <td>...</td>\n      <td>False</td>\n      <td>False</td>\n      <td>False</td>\n      <td>False</td>\n      <td>False</td>\n      <td>False</td>\n      <td>True</td>\n      <td>False</td>\n      <td>False</td>\n      <td>False</td>\n    </tr>\n    <tr>\n      <th>1101720</th>\n      <td>2199</td>\n      <td>2199</td>\n      <td>YEO</td>\n      <td>STREET</td>\n      <td>7</td>\n      <td>AV-8878-VA</td>\n      <td>GANSW706353722</td>\n      <td>0.0</td>\n      <td>0.052967</td>\n      <td>0.036126</td>\n      <td>...</td>\n      <td>False</td>\n      <td>False</td>\n      <td>False</td>\n      <td>False</td>\n      <td>False</td>\n      <td>False</td>\n      <td>True</td>\n      <td>False</td>\n      <td>False</td>\n      <td>False</td>\n    </tr>\n    <tr>\n      <th>1233101</th>\n      <td>2199</td>\n      <td>2199</td>\n      <td>YEO</td>\n      <td>STREET</td>\n      <td>8</td>\n      <td>YQ-2697-CY</td>\n      <td>GANSW706353723</td>\n      <td>0.0</td>\n      <td>0.043437</td>\n      <td>0.039266</td>\n      <td>...</td>\n      <td>False</td>\n      <td>False</td>\n      <td>False</td>\n      <td>False</td>\n      <td>False</td>\n      <td>False</td>\n      <td>True</td>\n      <td>False</td>\n      <td>False</td>\n      <td>False</td>\n    </tr>\n    <tr>\n      <th>248211</th>\n      <td>2199</td>\n      <td>2199</td>\n      <td>YEO</td>\n      <td>STREET</td>\n      <td>9A</td>\n      <td>PI-6949-VC</td>\n      <td>GANSW717113088</td>\n      <td>0.0</td>\n      <td>0.022379</td>\n      <td>0.020550</td>\n      <td>...</td>\n      <td>False</td>\n      <td>False</td>\n      <td>False</td>\n      <td>False</td>\n      <td>False</td>\n      <td>False</td>\n      <td>True</td>\n      <td>False</td>\n      <td>False</td>\n      <td>False</td>\n    </tr>\n  </tbody>\n</table>\n<p>54802 rows × 36 columns</p>\n</div>"
     },
     "execution_count": 21,
     "metadata": {},
     "output_type": "execute_result"
    }
   ],
   "source": [
    "df2 = df2.sort_values(by=['POSTCODE', 'STREET_NAME', 'STREET_TYPE_CODE', 'NUMBER_FIRST'])\n",
    "df2"
   ],
   "metadata": {
    "collapsed": false,
    "ExecuteTime": {
     "end_time": "2024-09-28T07:55:17.680526Z",
     "start_time": "2024-09-28T07:55:17.550118Z"
    }
   },
   "id": "f381dc4faf1fcdc6",
   "execution_count": 21
  },
  {
   "cell_type": "code",
   "outputs": [
    {
     "data": {
      "text/plain": "19.371509367267585"
     },
     "execution_count": 25,
     "metadata": {},
     "output_type": "execute_result"
    }
   ],
   "source": [
    "g = df2.groupby(['POSTCODE', 'STREET_NAME', 'STREET_TYPE_CODE']).size()\n",
    "# sns.boxplot(g)\n",
    "# g.mean()"
   ],
   "metadata": {
    "collapsed": false,
    "ExecuteTime": {
     "end_time": "2024-09-28T07:57:24.752093Z",
     "start_time": "2024-09-28T07:57:24.700299Z"
    }
   },
   "id": "69d2340f97dd8d55",
   "execution_count": 25
  },
  {
   "cell_type": "code",
   "outputs": [
    {
     "data": {
      "text/plain": "         COUNT  LAND_AREA  BUILDING_SIZE  ROOF_HEIGHT  ROOF_SHAPE     next1  \\\n1613       0.0   0.050093       0.071122     0.247940    0.000000  0.058016   \n114017     0.0   0.049911       0.062379     0.254610    0.000000  0.032223   \n114016     0.0   0.049367       0.062706     0.295018    1.000000  0.058016   \n114015     0.0   0.050093       0.062605     0.222048    1.000000  0.058016   \n1284335    0.0   0.078371       0.111594     0.275402    0.000000  0.084518   \n...        ...        ...            ...          ...         ...       ...   \n374048     0.0   0.047037       0.025725     0.145547    0.000000  0.061236   \n103858     0.0   0.043437       0.040774     0.075193    0.333333  0.051405   \n1101720    0.0   0.052967       0.036126     0.123186    0.500000  0.061206   \n1233101    0.0   0.043437       0.039266     0.098862    0.000000  0.051415   \n248211     0.0   0.022379       0.020550     0.172519    0.250000  0.061206   \n\n            next2     dist1     dist2  FLAT_NUMBER_False  ...  \\\n1613     0.057836  0.041511  0.033287               True  ...   \n114017   0.058016  0.039616  0.033287               True  ...   \n114016   0.059926  0.043545  0.046043               True  ...   \n114015   0.057296  0.041511  0.034409               True  ...   \n1284335  0.074517  0.043101  0.037202               True  ...   \n...           ...       ...       ...                ...  ...   \n374048   0.061236  0.033768  0.055317               True  ...   \n103858   0.051415  0.028297  0.024739               True  ...   \n1101720  0.030533  0.030791  0.024331               True  ...   \n1233101  0.051415  0.028297  0.024739               True  ...   \n248211   0.060866  0.000000  0.024331               True  ...   \n\n         PLANNING_ZONE_Commercial/Business  PLANNING_ZONE_Community Use  \\\n1613                                 False                        False   \n114017                               False                        False   \n114016                               False                        False   \n114015                               False                        False   \n1284335                              False                        False   \n...                                    ...                          ...   \n374048                               False                        False   \n103858                               False                        False   \n1101720                              False                        False   \n1233101                              False                        False   \n248211                               False                        False   \n\n         PLANNING_ZONE_Conservation/National Park  \\\n1613                                        False   \n114017                                      False   \n114016                                      False   \n114015                                      False   \n1284335                                     False   \n...                                           ...   \n374048                                      False   \n103858                                      False   \n1101720                                     False   \n1233101                                     False   \n248211                                      False   \n\n         PLANNING_ZONE_Industrial/Utilities  PLANNING_ZONE_Mixed Use  \\\n1613                                  False                    False   \n114017                                False                    False   \n114016                                False                    False   \n114015                                False                    False   \n1284335                               False                    False   \n...                                     ...                      ...   \n374048                                False                    False   \n103858                                False                    False   \n1101720                               False                    False   \n1233101                               False                    False   \n248211                                False                    False   \n\n         PLANNING_ZONE_Recreational/Open Space  PLANNING_ZONE_Residential  \\\n1613                                     False                       True   \n114017                                   False                       True   \n114016                                   False                       True   \n114015                                   False                       True   \n1284335                                  False                       True   \n...                                        ...                        ...   \n374048                                   False                       True   \n103858                                   False                       True   \n1101720                                  False                       True   \n1233101                                  False                       True   \n248211                                   False                       True   \n\n         PLANNING_ZONE_Rural/Primary Production  PLANNING_ZONE_Special Use  \\\n1613                                      False                      False   \n114017                                    False                      False   \n114016                                    False                      False   \n114015                                    False                      False   \n1284335                                   False                      False   \n...                                         ...                        ...   \n374048                                    False                      False   \n103858                                    False                      False   \n1101720                                   False                      False   \n1233101                                   False                      False   \n248211                                    False                      False   \n\n         PLANNING_ZONE_Transport/Infrastructure  \n1613                                      False  \n114017                                    False  \n114016                                    False  \n114015                                    False  \n1284335                                   False  \n...                                         ...  \n374048                                    False  \n103858                                    False  \n1101720                                   False  \n1233101                                   False  \n248211                                    False  \n\n[54802 rows x 29 columns]",
      "text/html": "<div>\n<style scoped>\n    .dataframe tbody tr th:only-of-type {\n        vertical-align: middle;\n    }\n\n    .dataframe tbody tr th {\n        vertical-align: top;\n    }\n\n    .dataframe thead th {\n        text-align: right;\n    }\n</style>\n<table border=\"1\" class=\"dataframe\">\n  <thead>\n    <tr style=\"text-align: right;\">\n      <th></th>\n      <th>COUNT</th>\n      <th>LAND_AREA</th>\n      <th>BUILDING_SIZE</th>\n      <th>ROOF_HEIGHT</th>\n      <th>ROOF_SHAPE</th>\n      <th>next1</th>\n      <th>next2</th>\n      <th>dist1</th>\n      <th>dist2</th>\n      <th>FLAT_NUMBER_False</th>\n      <th>...</th>\n      <th>PLANNING_ZONE_Commercial/Business</th>\n      <th>PLANNING_ZONE_Community Use</th>\n      <th>PLANNING_ZONE_Conservation/National Park</th>\n      <th>PLANNING_ZONE_Industrial/Utilities</th>\n      <th>PLANNING_ZONE_Mixed Use</th>\n      <th>PLANNING_ZONE_Recreational/Open Space</th>\n      <th>PLANNING_ZONE_Residential</th>\n      <th>PLANNING_ZONE_Rural/Primary Production</th>\n      <th>PLANNING_ZONE_Special Use</th>\n      <th>PLANNING_ZONE_Transport/Infrastructure</th>\n    </tr>\n  </thead>\n  <tbody>\n    <tr>\n      <th>1613</th>\n      <td>0.0</td>\n      <td>0.050093</td>\n      <td>0.071122</td>\n      <td>0.247940</td>\n      <td>0.000000</td>\n      <td>0.058016</td>\n      <td>0.057836</td>\n      <td>0.041511</td>\n      <td>0.033287</td>\n      <td>True</td>\n      <td>...</td>\n      <td>False</td>\n      <td>False</td>\n      <td>False</td>\n      <td>False</td>\n      <td>False</td>\n      <td>False</td>\n      <td>True</td>\n      <td>False</td>\n      <td>False</td>\n      <td>False</td>\n    </tr>\n    <tr>\n      <th>114017</th>\n      <td>0.0</td>\n      <td>0.049911</td>\n      <td>0.062379</td>\n      <td>0.254610</td>\n      <td>0.000000</td>\n      <td>0.032223</td>\n      <td>0.058016</td>\n      <td>0.039616</td>\n      <td>0.033287</td>\n      <td>True</td>\n      <td>...</td>\n      <td>False</td>\n      <td>False</td>\n      <td>False</td>\n      <td>False</td>\n      <td>False</td>\n      <td>False</td>\n      <td>True</td>\n      <td>False</td>\n      <td>False</td>\n      <td>False</td>\n    </tr>\n    <tr>\n      <th>114016</th>\n      <td>0.0</td>\n      <td>0.049367</td>\n      <td>0.062706</td>\n      <td>0.295018</td>\n      <td>1.000000</td>\n      <td>0.058016</td>\n      <td>0.059926</td>\n      <td>0.043545</td>\n      <td>0.046043</td>\n      <td>True</td>\n      <td>...</td>\n      <td>False</td>\n      <td>False</td>\n      <td>False</td>\n      <td>False</td>\n      <td>False</td>\n      <td>False</td>\n      <td>True</td>\n      <td>False</td>\n      <td>False</td>\n      <td>False</td>\n    </tr>\n    <tr>\n      <th>114015</th>\n      <td>0.0</td>\n      <td>0.050093</td>\n      <td>0.062605</td>\n      <td>0.222048</td>\n      <td>1.000000</td>\n      <td>0.058016</td>\n      <td>0.057296</td>\n      <td>0.041511</td>\n      <td>0.034409</td>\n      <td>True</td>\n      <td>...</td>\n      <td>False</td>\n      <td>False</td>\n      <td>False</td>\n      <td>False</td>\n      <td>False</td>\n      <td>False</td>\n      <td>True</td>\n      <td>False</td>\n      <td>False</td>\n      <td>False</td>\n    </tr>\n    <tr>\n      <th>1284335</th>\n      <td>0.0</td>\n      <td>0.078371</td>\n      <td>0.111594</td>\n      <td>0.275402</td>\n      <td>0.000000</td>\n      <td>0.084518</td>\n      <td>0.074517</td>\n      <td>0.043101</td>\n      <td>0.037202</td>\n      <td>True</td>\n      <td>...</td>\n      <td>False</td>\n      <td>False</td>\n      <td>False</td>\n      <td>False</td>\n      <td>False</td>\n      <td>False</td>\n      <td>True</td>\n      <td>False</td>\n      <td>False</td>\n      <td>False</td>\n    </tr>\n    <tr>\n      <th>...</th>\n      <td>...</td>\n      <td>...</td>\n      <td>...</td>\n      <td>...</td>\n      <td>...</td>\n      <td>...</td>\n      <td>...</td>\n      <td>...</td>\n      <td>...</td>\n      <td>...</td>\n      <td>...</td>\n      <td>...</td>\n      <td>...</td>\n      <td>...</td>\n      <td>...</td>\n      <td>...</td>\n      <td>...</td>\n      <td>...</td>\n      <td>...</td>\n      <td>...</td>\n      <td>...</td>\n    </tr>\n    <tr>\n      <th>374048</th>\n      <td>0.0</td>\n      <td>0.047037</td>\n      <td>0.025725</td>\n      <td>0.145547</td>\n      <td>0.000000</td>\n      <td>0.061236</td>\n      <td>0.061236</td>\n      <td>0.033768</td>\n      <td>0.055317</td>\n      <td>True</td>\n      <td>...</td>\n      <td>False</td>\n      <td>False</td>\n      <td>False</td>\n      <td>False</td>\n      <td>False</td>\n      <td>False</td>\n      <td>True</td>\n      <td>False</td>\n      <td>False</td>\n      <td>False</td>\n    </tr>\n    <tr>\n      <th>103858</th>\n      <td>0.0</td>\n      <td>0.043437</td>\n      <td>0.040774</td>\n      <td>0.075193</td>\n      <td>0.333333</td>\n      <td>0.051405</td>\n      <td>0.051415</td>\n      <td>0.028297</td>\n      <td>0.024739</td>\n      <td>True</td>\n      <td>...</td>\n      <td>False</td>\n      <td>False</td>\n      <td>False</td>\n      <td>False</td>\n      <td>False</td>\n      <td>False</td>\n      <td>True</td>\n      <td>False</td>\n      <td>False</td>\n      <td>False</td>\n    </tr>\n    <tr>\n      <th>1101720</th>\n      <td>0.0</td>\n      <td>0.052967</td>\n      <td>0.036126</td>\n      <td>0.123186</td>\n      <td>0.500000</td>\n      <td>0.061206</td>\n      <td>0.030533</td>\n      <td>0.030791</td>\n      <td>0.024331</td>\n      <td>True</td>\n      <td>...</td>\n      <td>False</td>\n      <td>False</td>\n      <td>False</td>\n      <td>False</td>\n      <td>False</td>\n      <td>False</td>\n      <td>True</td>\n      <td>False</td>\n      <td>False</td>\n      <td>False</td>\n    </tr>\n    <tr>\n      <th>1233101</th>\n      <td>0.0</td>\n      <td>0.043437</td>\n      <td>0.039266</td>\n      <td>0.098862</td>\n      <td>0.000000</td>\n      <td>0.051415</td>\n      <td>0.051415</td>\n      <td>0.028297</td>\n      <td>0.024739</td>\n      <td>True</td>\n      <td>...</td>\n      <td>False</td>\n      <td>False</td>\n      <td>False</td>\n      <td>False</td>\n      <td>False</td>\n      <td>False</td>\n      <td>True</td>\n      <td>False</td>\n      <td>False</td>\n      <td>False</td>\n    </tr>\n    <tr>\n      <th>248211</th>\n      <td>0.0</td>\n      <td>0.022379</td>\n      <td>0.020550</td>\n      <td>0.172519</td>\n      <td>0.250000</td>\n      <td>0.061206</td>\n      <td>0.060866</td>\n      <td>0.000000</td>\n      <td>0.024331</td>\n      <td>True</td>\n      <td>...</td>\n      <td>False</td>\n      <td>False</td>\n      <td>False</td>\n      <td>False</td>\n      <td>False</td>\n      <td>False</td>\n      <td>True</td>\n      <td>False</td>\n      <td>False</td>\n      <td>False</td>\n    </tr>\n  </tbody>\n</table>\n<p>54802 rows × 29 columns</p>\n</div>"
     },
     "execution_count": 26,
     "metadata": {},
     "output_type": "execute_result"
    }
   ],
   "source": [
    "df2 = df2.drop(columns=['POSTCODE_INT', 'POSTCODE', 'STREET_NAME', 'STREET_TYPE_CODE',\n",
    "            'NUMBER_FIRST', 'SVP_ADDRESS_ID', 'PSMA_KEY'])\n",
    "df2"
   ],
   "metadata": {
    "collapsed": false,
    "ExecuteTime": {
     "end_time": "2024-09-28T07:57:45.233937Z",
     "start_time": "2024-09-28T07:57:45.185235Z"
    }
   },
   "id": "c61273dceb3d4c10",
   "execution_count": 26
  },
  {
   "cell_type": "code",
   "outputs": [],
   "source": [
    "df2.to_hdf('new/processed_data_small.x', key='s')"
   ],
   "metadata": {
    "collapsed": false,
    "ExecuteTime": {
     "end_time": "2024-09-28T07:58:38.792723Z",
     "start_time": "2024-09-28T07:58:38.759266Z"
    }
   },
   "id": "60799858ab2c2503",
   "execution_count": 27
  },
  {
   "cell_type": "code",
   "outputs": [],
   "source": [
    "df2 = pd.read_hdf('new/processed_data_small.x')"
   ],
   "metadata": {
    "collapsed": false,
    "ExecuteTime": {
     "end_time": "2024-09-29T06:42:45.294579Z",
     "start_time": "2024-09-29T06:42:43.501276Z"
    }
   },
   "id": "55f7109ecee8ed7",
   "execution_count": 4
  },
  {
   "cell_type": "code",
   "outputs": [
    {
     "data": {
      "text/plain": "              COUNT     LAND_AREA  BUILDING_SIZE   ROOF_HEIGHT    ROOF_SHAPE  \\\ncount  54802.000000  54802.000000   54802.000000  54802.000000  54802.000000   \nmean       0.001763      0.057992       0.056485      0.135076      0.313332   \nstd        0.016128      0.097473       0.028867      0.070988      0.311748   \nmin        0.000000      0.000000       0.000000      0.000000      0.000000   \n25%        0.000000      0.038303       0.042030      0.081797      0.000000   \n50%        0.000000      0.047693       0.053837      0.116909      0.333333   \n75%        0.000000      0.054823       0.065821      0.171047      0.500000   \nmax        1.000000      1.000000       1.000000      1.000000      1.000000   \n\n              next1         next2         dist1         dist2  \ncount  54802.000000  54802.000000  54802.000000  54802.000000  \nmean       0.063619      0.067332      0.038032      0.039241  \nstd        0.095250      0.094798      0.024718      0.027452  \nmin        0.000000      0.000000      0.000000      0.000000  \n25%        0.044904      0.047945      0.029516      0.028071  \n50%        0.055006      0.055846      0.036238      0.034928  \n75%        0.061186      0.064406      0.043545      0.044944  \nmax        1.000000      1.000000      1.000000      1.000000  ",
      "text/html": "<div>\n<style scoped>\n    .dataframe tbody tr th:only-of-type {\n        vertical-align: middle;\n    }\n\n    .dataframe tbody tr th {\n        vertical-align: top;\n    }\n\n    .dataframe thead th {\n        text-align: right;\n    }\n</style>\n<table border=\"1\" class=\"dataframe\">\n  <thead>\n    <tr style=\"text-align: right;\">\n      <th></th>\n      <th>COUNT</th>\n      <th>LAND_AREA</th>\n      <th>BUILDING_SIZE</th>\n      <th>ROOF_HEIGHT</th>\n      <th>ROOF_SHAPE</th>\n      <th>next1</th>\n      <th>next2</th>\n      <th>dist1</th>\n      <th>dist2</th>\n    </tr>\n  </thead>\n  <tbody>\n    <tr>\n      <th>count</th>\n      <td>54802.000000</td>\n      <td>54802.000000</td>\n      <td>54802.000000</td>\n      <td>54802.000000</td>\n      <td>54802.000000</td>\n      <td>54802.000000</td>\n      <td>54802.000000</td>\n      <td>54802.000000</td>\n      <td>54802.000000</td>\n    </tr>\n    <tr>\n      <th>mean</th>\n      <td>0.001763</td>\n      <td>0.057992</td>\n      <td>0.056485</td>\n      <td>0.135076</td>\n      <td>0.313332</td>\n      <td>0.063619</td>\n      <td>0.067332</td>\n      <td>0.038032</td>\n      <td>0.039241</td>\n    </tr>\n    <tr>\n      <th>std</th>\n      <td>0.016128</td>\n      <td>0.097473</td>\n      <td>0.028867</td>\n      <td>0.070988</td>\n      <td>0.311748</td>\n      <td>0.095250</td>\n      <td>0.094798</td>\n      <td>0.024718</td>\n      <td>0.027452</td>\n    </tr>\n    <tr>\n      <th>min</th>\n      <td>0.000000</td>\n      <td>0.000000</td>\n      <td>0.000000</td>\n      <td>0.000000</td>\n      <td>0.000000</td>\n      <td>0.000000</td>\n      <td>0.000000</td>\n      <td>0.000000</td>\n      <td>0.000000</td>\n    </tr>\n    <tr>\n      <th>25%</th>\n      <td>0.000000</td>\n      <td>0.038303</td>\n      <td>0.042030</td>\n      <td>0.081797</td>\n      <td>0.000000</td>\n      <td>0.044904</td>\n      <td>0.047945</td>\n      <td>0.029516</td>\n      <td>0.028071</td>\n    </tr>\n    <tr>\n      <th>50%</th>\n      <td>0.000000</td>\n      <td>0.047693</td>\n      <td>0.053837</td>\n      <td>0.116909</td>\n      <td>0.333333</td>\n      <td>0.055006</td>\n      <td>0.055846</td>\n      <td>0.036238</td>\n      <td>0.034928</td>\n    </tr>\n    <tr>\n      <th>75%</th>\n      <td>0.000000</td>\n      <td>0.054823</td>\n      <td>0.065821</td>\n      <td>0.171047</td>\n      <td>0.500000</td>\n      <td>0.061186</td>\n      <td>0.064406</td>\n      <td>0.043545</td>\n      <td>0.044944</td>\n    </tr>\n    <tr>\n      <th>max</th>\n      <td>1.000000</td>\n      <td>1.000000</td>\n      <td>1.000000</td>\n      <td>1.000000</td>\n      <td>1.000000</td>\n      <td>1.000000</td>\n      <td>1.000000</td>\n      <td>1.000000</td>\n      <td>1.000000</td>\n    </tr>\n  </tbody>\n</table>\n</div>"
     },
     "execution_count": 5,
     "metadata": {},
     "output_type": "execute_result"
    }
   ],
   "source": [
    "df2.describe()"
   ],
   "metadata": {
    "collapsed": false,
    "ExecuteTime": {
     "end_time": "2024-09-29T06:42:46.047602Z",
     "start_time": "2024-09-29T06:42:45.994228Z"
    }
   },
   "id": "e1f5ee74d4e9411b",
   "execution_count": 5
  },
  {
   "cell_type": "code",
   "outputs": [
    {
     "data": {
      "text/plain": "       CL_FLOOR_AREA  NEARMAP_PARCEL_AREA_SQM  NEARMAP_BUILDING_COUNT  \\\ncount  303942.000000            303942.000000           303942.000000   \nmean        0.664394                 0.452144                0.262771   \nstd         0.061208                 0.077278                0.071726   \nmin         0.000000                 0.000000                0.000000   \n25%         0.628436                 0.413757                0.231378   \n50%         0.664953                 0.450769                0.231378   \n75%         0.701834                 0.475086                0.231378   \nmax         1.000000                 1.000000                1.000000   \n\n       NEARMAP_BUILDING_TOTAL_AREA_SQM  BUILDING_SIZE  TOTAL_BUILDING_SIZE  \\\ncount                    303942.000000  303942.000000        303942.000000   \nmean                          0.605711       0.598864             0.600256   \nstd                           0.072172       0.068580             0.071699   \nmin                           0.000000       0.000000             0.000000   \n25%                           0.570557       0.569664             0.566092   \n50%                           0.599373       0.611754             0.594875   \n75%                           0.639476       0.639703             0.630673   \nmax                           1.000000       1.000000             1.000000   \n\n         ROOF_HEIGHT    EAVE_HEIGHT  ESTIMATED_LEVELS        AVG_BED  ...  \\\ncount  303942.000000  303942.000000     303942.000000  303942.000000  ...   \nmean        0.319471       0.297275          0.032550       0.529336  ...   \nstd         0.050013       0.055773          0.054820       0.074829  ...   \nmin         0.000000       0.000000          0.000000       0.000000  ...   \n25%         0.287600       0.260259          0.000000       0.507795  ...   \n50%         0.311132       0.285410          0.000000       0.507795  ...   \n75%         0.353665       0.331250          0.108138       0.589531  ...   \nmax         1.000000       1.000000          1.000000       1.000000  ...   \n\n       PRIMARY_ROOF_MATERIAL_METAL  PRIMARY_ROOF_MATERIAL_TILE  ROOF_SHAPE_-1  \\\ncount                303942.000000               303942.000000  303942.000000   \nmean                      0.362418                    0.602668       0.310135   \nstd                       0.480699                    0.489347       0.462549   \nmin                       0.000000                    0.000000       0.000000   \n25%                       0.000000                    0.000000       0.000000   \n50%                       0.000000                    1.000000       0.000000   \n75%                       1.000000                    1.000000       1.000000   \nmax                       1.000000                    1.000000       1.000000   \n\n       ROOF_SHAPE_FLAT  ROOF_SHAPE_GABLED  ROOF_SHAPE_HIPPED  \\\ncount    303942.000000      303942.000000      303942.000000   \nmean          0.081206           0.031197           0.569622   \nstd           0.273152           0.173849           0.495130   \nmin           0.000000           0.000000           0.000000   \n25%           0.000000           0.000000           0.000000   \n50%           0.000000           0.000000           1.000000   \n75%           0.000000           0.000000           1.000000   \nmax           1.000000           1.000000           1.000000   \n\n       ROOF_SHAPE_MANSARD  ROOF_SHAPE_MIXED  ROOF_SHAPE_OTHER  ROOF_SHAPE_SHED  \ncount       303942.000000     303942.000000     303942.000000    303942.000000  \nmean             0.000115          0.007663          0.000007         0.000056  \nstd              0.010730          0.087201          0.002565         0.007479  \nmin              0.000000          0.000000          0.000000         0.000000  \n25%              0.000000          0.000000          0.000000         0.000000  \n50%              0.000000          0.000000          0.000000         0.000000  \n75%              0.000000          0.000000          0.000000         0.000000  \nmax              1.000000          1.000000          1.000000         1.000000  \n\n[8 rows x 35 columns]",
      "text/html": "<div>\n<style scoped>\n    .dataframe tbody tr th:only-of-type {\n        vertical-align: middle;\n    }\n\n    .dataframe tbody tr th {\n        vertical-align: top;\n    }\n\n    .dataframe thead th {\n        text-align: right;\n    }\n</style>\n<table border=\"1\" class=\"dataframe\">\n  <thead>\n    <tr style=\"text-align: right;\">\n      <th></th>\n      <th>CL_FLOOR_AREA</th>\n      <th>NEARMAP_PARCEL_AREA_SQM</th>\n      <th>NEARMAP_BUILDING_COUNT</th>\n      <th>NEARMAP_BUILDING_TOTAL_AREA_SQM</th>\n      <th>BUILDING_SIZE</th>\n      <th>TOTAL_BUILDING_SIZE</th>\n      <th>ROOF_HEIGHT</th>\n      <th>EAVE_HEIGHT</th>\n      <th>ESTIMATED_LEVELS</th>\n      <th>AVG_BED</th>\n      <th>...</th>\n      <th>PRIMARY_ROOF_MATERIAL_METAL</th>\n      <th>PRIMARY_ROOF_MATERIAL_TILE</th>\n      <th>ROOF_SHAPE_-1</th>\n      <th>ROOF_SHAPE_FLAT</th>\n      <th>ROOF_SHAPE_GABLED</th>\n      <th>ROOF_SHAPE_HIPPED</th>\n      <th>ROOF_SHAPE_MANSARD</th>\n      <th>ROOF_SHAPE_MIXED</th>\n      <th>ROOF_SHAPE_OTHER</th>\n      <th>ROOF_SHAPE_SHED</th>\n    </tr>\n  </thead>\n  <tbody>\n    <tr>\n      <th>count</th>\n      <td>303942.000000</td>\n      <td>303942.000000</td>\n      <td>303942.000000</td>\n      <td>303942.000000</td>\n      <td>303942.000000</td>\n      <td>303942.000000</td>\n      <td>303942.000000</td>\n      <td>303942.000000</td>\n      <td>303942.000000</td>\n      <td>303942.000000</td>\n      <td>...</td>\n      <td>303942.000000</td>\n      <td>303942.000000</td>\n      <td>303942.000000</td>\n      <td>303942.000000</td>\n      <td>303942.000000</td>\n      <td>303942.000000</td>\n      <td>303942.000000</td>\n      <td>303942.000000</td>\n      <td>303942.000000</td>\n      <td>303942.000000</td>\n    </tr>\n    <tr>\n      <th>mean</th>\n      <td>0.664394</td>\n      <td>0.452144</td>\n      <td>0.262771</td>\n      <td>0.605711</td>\n      <td>0.598864</td>\n      <td>0.600256</td>\n      <td>0.319471</td>\n      <td>0.297275</td>\n      <td>0.032550</td>\n      <td>0.529336</td>\n      <td>...</td>\n      <td>0.362418</td>\n      <td>0.602668</td>\n      <td>0.310135</td>\n      <td>0.081206</td>\n      <td>0.031197</td>\n      <td>0.569622</td>\n      <td>0.000115</td>\n      <td>0.007663</td>\n      <td>0.000007</td>\n      <td>0.000056</td>\n    </tr>\n    <tr>\n      <th>std</th>\n      <td>0.061208</td>\n      <td>0.077278</td>\n      <td>0.071726</td>\n      <td>0.072172</td>\n      <td>0.068580</td>\n      <td>0.071699</td>\n      <td>0.050013</td>\n      <td>0.055773</td>\n      <td>0.054820</td>\n      <td>0.074829</td>\n      <td>...</td>\n      <td>0.480699</td>\n      <td>0.489347</td>\n      <td>0.462549</td>\n      <td>0.273152</td>\n      <td>0.173849</td>\n      <td>0.495130</td>\n      <td>0.010730</td>\n      <td>0.087201</td>\n      <td>0.002565</td>\n      <td>0.007479</td>\n    </tr>\n    <tr>\n      <th>min</th>\n      <td>0.000000</td>\n      <td>0.000000</td>\n      <td>0.000000</td>\n      <td>0.000000</td>\n      <td>0.000000</td>\n      <td>0.000000</td>\n      <td>0.000000</td>\n      <td>0.000000</td>\n      <td>0.000000</td>\n      <td>0.000000</td>\n      <td>...</td>\n      <td>0.000000</td>\n      <td>0.000000</td>\n      <td>0.000000</td>\n      <td>0.000000</td>\n      <td>0.000000</td>\n      <td>0.000000</td>\n      <td>0.000000</td>\n      <td>0.000000</td>\n      <td>0.000000</td>\n      <td>0.000000</td>\n    </tr>\n    <tr>\n      <th>25%</th>\n      <td>0.628436</td>\n      <td>0.413757</td>\n      <td>0.231378</td>\n      <td>0.570557</td>\n      <td>0.569664</td>\n      <td>0.566092</td>\n      <td>0.287600</td>\n      <td>0.260259</td>\n      <td>0.000000</td>\n      <td>0.507795</td>\n      <td>...</td>\n      <td>0.000000</td>\n      <td>0.000000</td>\n      <td>0.000000</td>\n      <td>0.000000</td>\n      <td>0.000000</td>\n      <td>0.000000</td>\n      <td>0.000000</td>\n      <td>0.000000</td>\n      <td>0.000000</td>\n      <td>0.000000</td>\n    </tr>\n    <tr>\n      <th>50%</th>\n      <td>0.664953</td>\n      <td>0.450769</td>\n      <td>0.231378</td>\n      <td>0.599373</td>\n      <td>0.611754</td>\n      <td>0.594875</td>\n      <td>0.311132</td>\n      <td>0.285410</td>\n      <td>0.000000</td>\n      <td>0.507795</td>\n      <td>...</td>\n      <td>0.000000</td>\n      <td>1.000000</td>\n      <td>0.000000</td>\n      <td>0.000000</td>\n      <td>0.000000</td>\n      <td>1.000000</td>\n      <td>0.000000</td>\n      <td>0.000000</td>\n      <td>0.000000</td>\n      <td>0.000000</td>\n    </tr>\n    <tr>\n      <th>75%</th>\n      <td>0.701834</td>\n      <td>0.475086</td>\n      <td>0.231378</td>\n      <td>0.639476</td>\n      <td>0.639703</td>\n      <td>0.630673</td>\n      <td>0.353665</td>\n      <td>0.331250</td>\n      <td>0.108138</td>\n      <td>0.589531</td>\n      <td>...</td>\n      <td>1.000000</td>\n      <td>1.000000</td>\n      <td>1.000000</td>\n      <td>0.000000</td>\n      <td>0.000000</td>\n      <td>1.000000</td>\n      <td>0.000000</td>\n      <td>0.000000</td>\n      <td>0.000000</td>\n      <td>0.000000</td>\n    </tr>\n    <tr>\n      <th>max</th>\n      <td>1.000000</td>\n      <td>1.000000</td>\n      <td>1.000000</td>\n      <td>1.000000</td>\n      <td>1.000000</td>\n      <td>1.000000</td>\n      <td>1.000000</td>\n      <td>1.000000</td>\n      <td>1.000000</td>\n      <td>1.000000</td>\n      <td>...</td>\n      <td>1.000000</td>\n      <td>1.000000</td>\n      <td>1.000000</td>\n      <td>1.000000</td>\n      <td>1.000000</td>\n      <td>1.000000</td>\n      <td>1.000000</td>\n      <td>1.000000</td>\n      <td>1.000000</td>\n      <td>1.000000</td>\n    </tr>\n  </tbody>\n</table>\n<p>8 rows × 35 columns</p>\n</div>"
     },
     "execution_count": 6,
     "metadata": {},
     "output_type": "execute_result"
    }
   ],
   "source": [
    "df4 = pd.read_hdf('log_minmax_clean_df_sorted.hdf')\n",
    "df4.describe()"
   ],
   "metadata": {
    "collapsed": false,
    "ExecuteTime": {
     "end_time": "2024-09-29T06:48:24.617478Z",
     "start_time": "2024-09-29T06:48:23.767923Z"
    }
   },
   "id": "1d24e3aa9f683e42",
   "execution_count": 6
  },
  {
   "cell_type": "code",
   "outputs": [
    {
     "data": {
      "text/plain": "        CL_FLOOR_AREA  NEARMAP_PARCEL_AREA_SQM  NEARMAP_BUILDING_COUNT  \\\n300885       0.673876                 0.515618                0.366726   \n324593       0.594527                 0.548744                0.231378   \n144893       0.609410                 0.633682                0.366726   \n319248       0.645060                 0.501405                0.231378   \n321042       0.645060                 0.559219                0.231378   \n...               ...                      ...                     ...   \n178177       0.585641                 0.419596                0.231378   \n357915       0.613193                 0.432401                0.231378   \n351076       0.677741                 0.485178                0.366726   \n246123       0.721969                 0.725590                0.537244   \n322621       0.646032                 0.487737                0.366726   \n\n        NEARMAP_BUILDING_TOTAL_AREA_SQM  BUILDING_SIZE  TOTAL_BUILDING_SIZE  \\\n300885                         0.753616       0.690969             0.743608   \n324593                         0.737078       0.781978             0.738713   \n144893                         0.929586       0.924883             0.891271   \n319248                         0.886275       0.747209             0.888240   \n321042                         0.696695       0.751033             0.698240   \n...                                 ...            ...                  ...   \n178177                         0.543078       0.585314             0.544283   \n357915                         0.544473       0.586938             0.545680   \n351076                         0.592307       0.627993             0.583849   \n246123                         0.667383       0.648041             0.602488   \n322621                         0.583438       0.610792             0.567858   \n\n        ROOF_HEIGHT  EAVE_HEIGHT  ESTIMATED_LEVELS   AVG_BED  ...  \\\n300885     0.823344     0.829165          0.673617  0.507795  ...   \n324593     0.668862     0.679775          0.454660  0.335634  ...   \n144893     0.549541     0.564386          0.334114  0.402418  ...   \n319248     0.541206     0.556326          0.334114  0.402418  ...   \n321042     0.481456     0.498545          0.244377  0.253897  ...   \n...             ...          ...               ...       ...  ...   \n178177     0.337486     0.226444          0.000000  0.402418  ...   \n357915     0.378683     0.332690          0.108138  0.402418  ...   \n351076     0.380726     0.226444          0.108138  0.402418  ...   \n246123     0.300830     0.290915          0.000000  0.589531  ...   \n322621     0.303919     0.267809          0.000000  0.507795  ...   \n\n        PP_PROPERTY_TYPE_CATEGORY_Factory, Warehouse & Industrial  \\\n300885                                              False           \n324593                                              False           \n144893                                              False           \n319248                                              False           \n321042                                              False           \n...                                                   ...           \n178177                                              False           \n357915                                              False           \n351076                                              False           \n246123                                              False           \n322621                                              False           \n\n        PP_PROPERTY_TYPE_CATEGORY_House  \\\n300885                             True   \n324593                             True   \n144893                             True   \n319248                            False   \n321042                            False   \n...                                 ...   \n178177                            False   \n357915                             True   \n351076                            False   \n246123                            False   \n322621                            False   \n\n        PP_PROPERTY_TYPE_CATEGORY_Other Residential  \\\n300885                                        False   \n324593                                        False   \n144893                                        False   \n319248                                        False   \n321042                                         True   \n...                                             ...   \n178177                                        False   \n357915                                        False   \n351076                                        False   \n246123                                        False   \n322621                                        False   \n\n        PP_PROPERTY_TYPE_CATEGORY_Rural/Farming  \\\n300885                                    False   \n324593                                    False   \n144893                                    False   \n319248                                    False   \n321042                                    False   \n...                                         ...   \n178177                                    False   \n357915                                    False   \n351076                                    False   \n246123                                     True   \n322621                                    False   \n\n        PP_PROPERTY_TYPE_CATEGORY_Townhouse  \\\n300885                                False   \n324593                                False   \n144893                                False   \n319248                                False   \n321042                                False   \n...                                     ...   \n178177                                False   \n357915                                False   \n351076                                False   \n246123                                False   \n322621                                False   \n\n        PP_PROPERTY_TYPE_CATEGORY_UNKNOWN  \\\n300885                              False   \n324593                              False   \n144893                              False   \n319248                              False   \n321042                              False   \n...                                   ...   \n178177                              False   \n357915                              False   \n351076                              False   \n246123                              False   \n322621                              False   \n\n        CL_PROPERTY_TYPE_CATEGORY_Apartment/Unit  \\\n300885                                      True   \n324593                                      True   \n144893                                      True   \n319248                                      True   \n321042                                      True   \n...                                          ...   \n178177                                      True   \n357915                                      True   \n351076                                     False   \n246123                                     False   \n322621                                     False   \n\n        CL_PROPERTY_TYPE_CATEGORY_House  \\\n300885                            False   \n324593                            False   \n144893                            False   \n319248                            False   \n321042                            False   \n...                                 ...   \n178177                            False   \n357915                            False   \n351076                             True   \n246123                             True   \n322621                             True   \n\n        CL_PROPERTY_TYPE_CATEGORY_Rural/Farming  \\\n300885                                    False   \n324593                                    False   \n144893                                    False   \n319248                                    False   \n321042                                    False   \n...                                         ...   \n178177                                    False   \n357915                                    False   \n351076                                    False   \n246123                                    False   \n322621                                    False   \n\n        CL_PROPERTY_TYPE_CATEGORY_Townhouse  \n300885                                False  \n324593                                False  \n144893                                False  \n319248                                False  \n321042                                False  \n...                                     ...  \n178177                                False  \n357915                                False  \n351076                                False  \n246123                                False  \n322621                                False  \n\n[303942 rows x 48 columns]",
      "text/html": "<div>\n<style scoped>\n    .dataframe tbody tr th:only-of-type {\n        vertical-align: middle;\n    }\n\n    .dataframe tbody tr th {\n        vertical-align: top;\n    }\n\n    .dataframe thead th {\n        text-align: right;\n    }\n</style>\n<table border=\"1\" class=\"dataframe\">\n  <thead>\n    <tr style=\"text-align: right;\">\n      <th></th>\n      <th>CL_FLOOR_AREA</th>\n      <th>NEARMAP_PARCEL_AREA_SQM</th>\n      <th>NEARMAP_BUILDING_COUNT</th>\n      <th>NEARMAP_BUILDING_TOTAL_AREA_SQM</th>\n      <th>BUILDING_SIZE</th>\n      <th>TOTAL_BUILDING_SIZE</th>\n      <th>ROOF_HEIGHT</th>\n      <th>EAVE_HEIGHT</th>\n      <th>ESTIMATED_LEVELS</th>\n      <th>AVG_BED</th>\n      <th>...</th>\n      <th>PP_PROPERTY_TYPE_CATEGORY_Factory, Warehouse &amp; Industrial</th>\n      <th>PP_PROPERTY_TYPE_CATEGORY_House</th>\n      <th>PP_PROPERTY_TYPE_CATEGORY_Other Residential</th>\n      <th>PP_PROPERTY_TYPE_CATEGORY_Rural/Farming</th>\n      <th>PP_PROPERTY_TYPE_CATEGORY_Townhouse</th>\n      <th>PP_PROPERTY_TYPE_CATEGORY_UNKNOWN</th>\n      <th>CL_PROPERTY_TYPE_CATEGORY_Apartment/Unit</th>\n      <th>CL_PROPERTY_TYPE_CATEGORY_House</th>\n      <th>CL_PROPERTY_TYPE_CATEGORY_Rural/Farming</th>\n      <th>CL_PROPERTY_TYPE_CATEGORY_Townhouse</th>\n    </tr>\n  </thead>\n  <tbody>\n    <tr>\n      <th>300885</th>\n      <td>0.673876</td>\n      <td>0.515618</td>\n      <td>0.366726</td>\n      <td>0.753616</td>\n      <td>0.690969</td>\n      <td>0.743608</td>\n      <td>0.823344</td>\n      <td>0.829165</td>\n      <td>0.673617</td>\n      <td>0.507795</td>\n      <td>...</td>\n      <td>False</td>\n      <td>True</td>\n      <td>False</td>\n      <td>False</td>\n      <td>False</td>\n      <td>False</td>\n      <td>True</td>\n      <td>False</td>\n      <td>False</td>\n      <td>False</td>\n    </tr>\n    <tr>\n      <th>324593</th>\n      <td>0.594527</td>\n      <td>0.548744</td>\n      <td>0.231378</td>\n      <td>0.737078</td>\n      <td>0.781978</td>\n      <td>0.738713</td>\n      <td>0.668862</td>\n      <td>0.679775</td>\n      <td>0.454660</td>\n      <td>0.335634</td>\n      <td>...</td>\n      <td>False</td>\n      <td>True</td>\n      <td>False</td>\n      <td>False</td>\n      <td>False</td>\n      <td>False</td>\n      <td>True</td>\n      <td>False</td>\n      <td>False</td>\n      <td>False</td>\n    </tr>\n    <tr>\n      <th>144893</th>\n      <td>0.609410</td>\n      <td>0.633682</td>\n      <td>0.366726</td>\n      <td>0.929586</td>\n      <td>0.924883</td>\n      <td>0.891271</td>\n      <td>0.549541</td>\n      <td>0.564386</td>\n      <td>0.334114</td>\n      <td>0.402418</td>\n      <td>...</td>\n      <td>False</td>\n      <td>True</td>\n      <td>False</td>\n      <td>False</td>\n      <td>False</td>\n      <td>False</td>\n      <td>True</td>\n      <td>False</td>\n      <td>False</td>\n      <td>False</td>\n    </tr>\n    <tr>\n      <th>319248</th>\n      <td>0.645060</td>\n      <td>0.501405</td>\n      <td>0.231378</td>\n      <td>0.886275</td>\n      <td>0.747209</td>\n      <td>0.888240</td>\n      <td>0.541206</td>\n      <td>0.556326</td>\n      <td>0.334114</td>\n      <td>0.402418</td>\n      <td>...</td>\n      <td>False</td>\n      <td>False</td>\n      <td>False</td>\n      <td>False</td>\n      <td>False</td>\n      <td>False</td>\n      <td>True</td>\n      <td>False</td>\n      <td>False</td>\n      <td>False</td>\n    </tr>\n    <tr>\n      <th>321042</th>\n      <td>0.645060</td>\n      <td>0.559219</td>\n      <td>0.231378</td>\n      <td>0.696695</td>\n      <td>0.751033</td>\n      <td>0.698240</td>\n      <td>0.481456</td>\n      <td>0.498545</td>\n      <td>0.244377</td>\n      <td>0.253897</td>\n      <td>...</td>\n      <td>False</td>\n      <td>False</td>\n      <td>True</td>\n      <td>False</td>\n      <td>False</td>\n      <td>False</td>\n      <td>True</td>\n      <td>False</td>\n      <td>False</td>\n      <td>False</td>\n    </tr>\n    <tr>\n      <th>...</th>\n      <td>...</td>\n      <td>...</td>\n      <td>...</td>\n      <td>...</td>\n      <td>...</td>\n      <td>...</td>\n      <td>...</td>\n      <td>...</td>\n      <td>...</td>\n      <td>...</td>\n      <td>...</td>\n      <td>...</td>\n      <td>...</td>\n      <td>...</td>\n      <td>...</td>\n      <td>...</td>\n      <td>...</td>\n      <td>...</td>\n      <td>...</td>\n      <td>...</td>\n      <td>...</td>\n    </tr>\n    <tr>\n      <th>178177</th>\n      <td>0.585641</td>\n      <td>0.419596</td>\n      <td>0.231378</td>\n      <td>0.543078</td>\n      <td>0.585314</td>\n      <td>0.544283</td>\n      <td>0.337486</td>\n      <td>0.226444</td>\n      <td>0.000000</td>\n      <td>0.402418</td>\n      <td>...</td>\n      <td>False</td>\n      <td>False</td>\n      <td>False</td>\n      <td>False</td>\n      <td>False</td>\n      <td>False</td>\n      <td>True</td>\n      <td>False</td>\n      <td>False</td>\n      <td>False</td>\n    </tr>\n    <tr>\n      <th>357915</th>\n      <td>0.613193</td>\n      <td>0.432401</td>\n      <td>0.231378</td>\n      <td>0.544473</td>\n      <td>0.586938</td>\n      <td>0.545680</td>\n      <td>0.378683</td>\n      <td>0.332690</td>\n      <td>0.108138</td>\n      <td>0.402418</td>\n      <td>...</td>\n      <td>False</td>\n      <td>True</td>\n      <td>False</td>\n      <td>False</td>\n      <td>False</td>\n      <td>False</td>\n      <td>True</td>\n      <td>False</td>\n      <td>False</td>\n      <td>False</td>\n    </tr>\n    <tr>\n      <th>351076</th>\n      <td>0.677741</td>\n      <td>0.485178</td>\n      <td>0.366726</td>\n      <td>0.592307</td>\n      <td>0.627993</td>\n      <td>0.583849</td>\n      <td>0.380726</td>\n      <td>0.226444</td>\n      <td>0.108138</td>\n      <td>0.402418</td>\n      <td>...</td>\n      <td>False</td>\n      <td>False</td>\n      <td>False</td>\n      <td>False</td>\n      <td>False</td>\n      <td>False</td>\n      <td>False</td>\n      <td>True</td>\n      <td>False</td>\n      <td>False</td>\n    </tr>\n    <tr>\n      <th>246123</th>\n      <td>0.721969</td>\n      <td>0.725590</td>\n      <td>0.537244</td>\n      <td>0.667383</td>\n      <td>0.648041</td>\n      <td>0.602488</td>\n      <td>0.300830</td>\n      <td>0.290915</td>\n      <td>0.000000</td>\n      <td>0.589531</td>\n      <td>...</td>\n      <td>False</td>\n      <td>False</td>\n      <td>False</td>\n      <td>True</td>\n      <td>False</td>\n      <td>False</td>\n      <td>False</td>\n      <td>True</td>\n      <td>False</td>\n      <td>False</td>\n    </tr>\n    <tr>\n      <th>322621</th>\n      <td>0.646032</td>\n      <td>0.487737</td>\n      <td>0.366726</td>\n      <td>0.583438</td>\n      <td>0.610792</td>\n      <td>0.567858</td>\n      <td>0.303919</td>\n      <td>0.267809</td>\n      <td>0.000000</td>\n      <td>0.507795</td>\n      <td>...</td>\n      <td>False</td>\n      <td>False</td>\n      <td>False</td>\n      <td>False</td>\n      <td>False</td>\n      <td>False</td>\n      <td>False</td>\n      <td>True</td>\n      <td>False</td>\n      <td>False</td>\n    </tr>\n  </tbody>\n</table>\n<p>303942 rows × 48 columns</p>\n</div>"
     },
     "execution_count": 8,
     "metadata": {},
     "output_type": "execute_result"
    }
   ],
   "source": [
    "df4"
   ],
   "metadata": {
    "collapsed": false,
    "ExecuteTime": {
     "end_time": "2024-09-29T06:55:20.837279Z",
     "start_time": "2024-09-29T06:55:20.778025Z"
    }
   },
   "id": "6b9759ed48ecf98c",
   "execution_count": 8
  },
  {
   "cell_type": "code",
   "outputs": [],
   "source": [],
   "metadata": {
    "collapsed": false
   },
   "id": "63088098ccc9484"
  }
 ],
 "metadata": {
  "kernelspec": {
   "display_name": "Python 3",
   "language": "python",
   "name": "python3"
  },
  "language_info": {
   "codemirror_mode": {
    "name": "ipython",
    "version": 2
   },
   "file_extension": ".py",
   "mimetype": "text/x-python",
   "name": "python",
   "nbconvert_exporter": "python",
   "pygments_lexer": "ipython2",
   "version": "2.7.6"
  }
 },
 "nbformat": 4,
 "nbformat_minor": 5
}
