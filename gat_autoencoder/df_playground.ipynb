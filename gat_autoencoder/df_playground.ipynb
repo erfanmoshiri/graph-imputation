{
 "cells": [
  {
   "cell_type": "raw",
   "source": [
    "    df = pd.read_hdf(uci_path + '/uci/raw_data/{}/data/clean_feature_set.hdf'.format(args.data))"
   ],
   "metadata": {
    "collapsed": false
   },
   "id": "18822a48304af2aa"
  },
  {
   "cell_type": "code",
   "execution_count": 1,
   "id": "initial_id",
   "metadata": {
    "collapsed": true,
    "ExecuteTime": {
     "end_time": "2024-10-20T04:01:14.551561Z",
     "start_time": "2024-10-20T04:01:14.125100Z"
    }
   },
   "outputs": [],
   "source": [
    "import joblib\n",
    "import pandas as pd\n",
    "import matplotlib.pyplot as plt\n"
   ]
  },
  {
   "cell_type": "code",
   "outputs": [],
   "source": [
    "df = pd.read_hdf('data/log_minmax_clean_df_sorted.hdf')\n",
    "df2 = pd.read_hdf('data/unscaled_clean_df_sorted_2.hdf')"
   ],
   "metadata": {
    "collapsed": false,
    "ExecuteTime": {
     "end_time": "2024-05-27T09:24:59.590473Z",
     "start_time": "2024-05-27T09:24:59.292664Z"
    }
   },
   "id": "d29e633266c2455c",
   "execution_count": 80
  },
  {
   "cell_type": "code",
   "outputs": [
    {
     "data": {
      "text/plain": "         index  CL_FLOOR_AREA  NEARMAP_PARCEL_AREA_SQM  \\\n300885       0       0.673876                 0.515618   \n324593       1       0.594527                 0.548744   \n144893       2       0.609410                 0.633682   \n319248       3       0.645060                 0.501405   \n321042       4       0.645060                 0.559219   \n...        ...            ...                      ...   \n178177  303937       0.585641                 0.419596   \n357915  303938       0.613193                 0.432401   \n351076  303939       0.677741                 0.485178   \n246123  303940       0.721969                 0.725590   \n322621  303941       0.646032                 0.487737   \n\n        NEARMAP_BUILDING_COUNT  NEARMAP_BUILDING_TOTAL_AREA_SQM  \\\n300885                0.366726                         0.753616   \n324593                0.231378                         0.737078   \n144893                0.366726                         0.929586   \n319248                0.231378                         0.886275   \n321042                0.231378                         0.696695   \n...                        ...                              ...   \n178177                0.231378                         0.543078   \n357915                0.231378                         0.544473   \n351076                0.366726                         0.592307   \n246123                0.537244                         0.667383   \n322621                0.366726                         0.583438   \n\n        BUILDING_SIZE  TOTAL_BUILDING_SIZE  ROOF_HEIGHT  EAVE_HEIGHT  \\\n300885       0.690969             0.743608     0.823344     0.829165   \n324593       0.781978             0.738713     0.668862     0.679775   \n144893       0.924883             0.891271     0.549541     0.564386   \n319248       0.747209             0.888240     0.541206     0.556326   \n321042       0.751033             0.698240     0.481456     0.498545   \n...               ...                  ...          ...          ...   \n178177       0.585314             0.544283     0.337486     0.226444   \n357915       0.586938             0.545680     0.378683     0.332690   \n351076       0.627993             0.583849     0.380726     0.226444   \n246123       0.648041             0.602488     0.300830     0.290915   \n322621       0.610792             0.567858     0.303919     0.267809   \n\n        ESTIMATED_LEVELS   AVG_BED  AVG_BATH   AVG_CAR  \n300885          0.673617  0.507795  0.416290  0.548887  \n324593          0.454660  0.335634  0.347204  0.387090  \n144893          0.334114  0.402418  0.416290  0.292823  \n319248          0.334114  0.402418  0.416290  0.292823  \n321042          0.244377  0.253897  0.262650  0.292823  \n...                  ...       ...       ...       ...  \n178177          0.000000  0.402418  0.262650  0.464113  \n357915          0.108138  0.402418  0.262650  0.292823  \n351076          0.108138  0.402418  0.416290  0.292823  \n246123          0.000000  0.589531  0.416290  0.387090  \n322621          0.000000  0.507795  0.416290  0.464113  \n\n[303942 rows x 13 columns]",
      "text/html": "<div>\n<style scoped>\n    .dataframe tbody tr th:only-of-type {\n        vertical-align: middle;\n    }\n\n    .dataframe tbody tr th {\n        vertical-align: top;\n    }\n\n    .dataframe thead th {\n        text-align: right;\n    }\n</style>\n<table border=\"1\" class=\"dataframe\">\n  <thead>\n    <tr style=\"text-align: right;\">\n      <th></th>\n      <th>index</th>\n      <th>CL_FLOOR_AREA</th>\n      <th>NEARMAP_PARCEL_AREA_SQM</th>\n      <th>NEARMAP_BUILDING_COUNT</th>\n      <th>NEARMAP_BUILDING_TOTAL_AREA_SQM</th>\n      <th>BUILDING_SIZE</th>\n      <th>TOTAL_BUILDING_SIZE</th>\n      <th>ROOF_HEIGHT</th>\n      <th>EAVE_HEIGHT</th>\n      <th>ESTIMATED_LEVELS</th>\n      <th>AVG_BED</th>\n      <th>AVG_BATH</th>\n      <th>AVG_CAR</th>\n    </tr>\n  </thead>\n  <tbody>\n    <tr>\n      <th>300885</th>\n      <td>0</td>\n      <td>0.673876</td>\n      <td>0.515618</td>\n      <td>0.366726</td>\n      <td>0.753616</td>\n      <td>0.690969</td>\n      <td>0.743608</td>\n      <td>0.823344</td>\n      <td>0.829165</td>\n      <td>0.673617</td>\n      <td>0.507795</td>\n      <td>0.416290</td>\n      <td>0.548887</td>\n    </tr>\n    <tr>\n      <th>324593</th>\n      <td>1</td>\n      <td>0.594527</td>\n      <td>0.548744</td>\n      <td>0.231378</td>\n      <td>0.737078</td>\n      <td>0.781978</td>\n      <td>0.738713</td>\n      <td>0.668862</td>\n      <td>0.679775</td>\n      <td>0.454660</td>\n      <td>0.335634</td>\n      <td>0.347204</td>\n      <td>0.387090</td>\n    </tr>\n    <tr>\n      <th>144893</th>\n      <td>2</td>\n      <td>0.609410</td>\n      <td>0.633682</td>\n      <td>0.366726</td>\n      <td>0.929586</td>\n      <td>0.924883</td>\n      <td>0.891271</td>\n      <td>0.549541</td>\n      <td>0.564386</td>\n      <td>0.334114</td>\n      <td>0.402418</td>\n      <td>0.416290</td>\n      <td>0.292823</td>\n    </tr>\n    <tr>\n      <th>319248</th>\n      <td>3</td>\n      <td>0.645060</td>\n      <td>0.501405</td>\n      <td>0.231378</td>\n      <td>0.886275</td>\n      <td>0.747209</td>\n      <td>0.888240</td>\n      <td>0.541206</td>\n      <td>0.556326</td>\n      <td>0.334114</td>\n      <td>0.402418</td>\n      <td>0.416290</td>\n      <td>0.292823</td>\n    </tr>\n    <tr>\n      <th>321042</th>\n      <td>4</td>\n      <td>0.645060</td>\n      <td>0.559219</td>\n      <td>0.231378</td>\n      <td>0.696695</td>\n      <td>0.751033</td>\n      <td>0.698240</td>\n      <td>0.481456</td>\n      <td>0.498545</td>\n      <td>0.244377</td>\n      <td>0.253897</td>\n      <td>0.262650</td>\n      <td>0.292823</td>\n    </tr>\n    <tr>\n      <th>...</th>\n      <td>...</td>\n      <td>...</td>\n      <td>...</td>\n      <td>...</td>\n      <td>...</td>\n      <td>...</td>\n      <td>...</td>\n      <td>...</td>\n      <td>...</td>\n      <td>...</td>\n      <td>...</td>\n      <td>...</td>\n      <td>...</td>\n    </tr>\n    <tr>\n      <th>178177</th>\n      <td>303937</td>\n      <td>0.585641</td>\n      <td>0.419596</td>\n      <td>0.231378</td>\n      <td>0.543078</td>\n      <td>0.585314</td>\n      <td>0.544283</td>\n      <td>0.337486</td>\n      <td>0.226444</td>\n      <td>0.000000</td>\n      <td>0.402418</td>\n      <td>0.262650</td>\n      <td>0.464113</td>\n    </tr>\n    <tr>\n      <th>357915</th>\n      <td>303938</td>\n      <td>0.613193</td>\n      <td>0.432401</td>\n      <td>0.231378</td>\n      <td>0.544473</td>\n      <td>0.586938</td>\n      <td>0.545680</td>\n      <td>0.378683</td>\n      <td>0.332690</td>\n      <td>0.108138</td>\n      <td>0.402418</td>\n      <td>0.262650</td>\n      <td>0.292823</td>\n    </tr>\n    <tr>\n      <th>351076</th>\n      <td>303939</td>\n      <td>0.677741</td>\n      <td>0.485178</td>\n      <td>0.366726</td>\n      <td>0.592307</td>\n      <td>0.627993</td>\n      <td>0.583849</td>\n      <td>0.380726</td>\n      <td>0.226444</td>\n      <td>0.108138</td>\n      <td>0.402418</td>\n      <td>0.416290</td>\n      <td>0.292823</td>\n    </tr>\n    <tr>\n      <th>246123</th>\n      <td>303940</td>\n      <td>0.721969</td>\n      <td>0.725590</td>\n      <td>0.537244</td>\n      <td>0.667383</td>\n      <td>0.648041</td>\n      <td>0.602488</td>\n      <td>0.300830</td>\n      <td>0.290915</td>\n      <td>0.000000</td>\n      <td>0.589531</td>\n      <td>0.416290</td>\n      <td>0.387090</td>\n    </tr>\n    <tr>\n      <th>322621</th>\n      <td>303941</td>\n      <td>0.646032</td>\n      <td>0.487737</td>\n      <td>0.366726</td>\n      <td>0.583438</td>\n      <td>0.610792</td>\n      <td>0.567858</td>\n      <td>0.303919</td>\n      <td>0.267809</td>\n      <td>0.000000</td>\n      <td>0.507795</td>\n      <td>0.416290</td>\n      <td>0.464113</td>\n    </tr>\n  </tbody>\n</table>\n<p>303942 rows × 13 columns</p>\n</div>"
     },
     "execution_count": 79,
     "metadata": {},
     "output_type": "execute_result"
    }
   ],
   "source": [
    "df[['index',\n",
    "    'CL_FLOOR_AREA',\n",
    "    'NEARMAP_PARCEL_AREA_SQM',\n",
    "    'NEARMAP_BUILDING_COUNT',\n",
    "    'NEARMAP_BUILDING_TOTAL_AREA_SQM',\n",
    "    'BUILDING_SIZE',\n",
    "    'TOTAL_BUILDING_SIZE',\n",
    "    'ROOF_HEIGHT',\n",
    "    'EAVE_HEIGHT',\n",
    "    'ESTIMATED_LEVELS',\n",
    "    'AVG_BED',\n",
    "    'AVG_BATH',\n",
    "    'AVG_CAR', ]]"
   ],
   "metadata": {
    "collapsed": false,
    "ExecuteTime": {
     "end_time": "2024-05-27T08:08:05.430714Z",
     "start_time": "2024-05-27T08:08:05.349829Z"
    }
   },
   "id": "4d880f093be7f9e5",
   "execution_count": 79
  },
  {
   "cell_type": "code",
   "outputs": [],
   "source": [
    "df[column_name].plot(kind='hist', bins=10, figsize=(8, 6), alpha=0.7, color='blue', edgecolor='black')\n",
    "plt.title(f'Histogram of {column_name}')\n",
    "plt.xlabel(column_name)\n",
    "plt.ylabel('Frequency')\n",
    "plt.grid(axis='y', alpha=0.75)\n",
    "\n",
    "# Show the plot\n",
    "plt.show()"
   ],
   "metadata": {
    "collapsed": false
   },
   "id": "4fb4a933ec86fcfc"
  },
  {
   "cell_type": "code",
   "outputs": [
    {
     "data": {
      "text/plain": "<Figure size 800x600 with 1 Axes>",
      "image/png": "[encoded data removed]"
     },
     "metadata": {},
     "output_type": "display_data"
    }
   ],
   "source": [
    "\n",
    "column_name = 'CL_FLOOR_AREA'\n",
    "df1[column_name].plot(kind='hist', bins=10, figsize=(8, 6), alpha=0.7, color='blue', edgecolor='black')\n",
    "plt.title(f'Histogram of {column_name}')\n",
    "plt.xlabel(column_name)\n",
    "plt.ylabel('Frequency')\n",
    "plt.grid(axis='y', alpha=0.75)\n",
    "\n",
    "# Show the plot\n",
    "plt.show()"
   ],
   "metadata": {
    "collapsed": false,
    "ExecuteTime": {
     "end_time": "2024-05-27T05:28:40.919944Z",
     "start_time": "2024-05-27T05:28:40.547005Z"
    }
   },
   "id": "580249e616e5c956",
   "execution_count": 29
  },
  {
   "cell_type": "code",
   "outputs": [
    {
     "data": {
      "text/plain": "<Figure size 640x480 with 1 Axes>",
      "image/png": "[encoded data removed]"
     },
     "metadata": {},
     "output_type": "display_data"
    }
   ],
   "source": [
    "import matplotlib.pyplot as plt\n",
    "\n",
    "x_values = range(12)\n",
    "y_values = df.iloc[:, :12].mean().values\n",
    "\n",
    "plt.bar(x_values, y_values)\n",
    "plt.show()"
   ],
   "metadata": {
    "collapsed": false,
    "ExecuteTime": {
     "end_time": "2024-05-27T10:27:49.057848Z",
     "start_time": "2024-05-27T10:27:48.825203Z"
    }
   },
   "id": "8610687856614b9a",
   "execution_count": 88
  },
  {
   "cell_type": "code",
   "outputs": [
    {
     "data": {
      "text/plain": "Index(['CL_FLOOR_AREA', 'NEARMAP_PARCEL_AREA_SQM', 'NEARMAP_BUILDING_COUNT',\n       'NEARMAP_BUILDING_TOTAL_AREA_SQM', 'BUILDING_SIZE',\n       'TOTAL_BUILDING_SIZE', 'ROOF_HEIGHT', 'EAVE_HEIGHT', 'ESTIMATED_LEVELS',\n       'AVG_BED', 'AVG_BATH', 'AVG_CAR', 'HAS_SUFFIX', 'HAS_NUMBER_FIRST',\n       'HAS_NUMBER_LAST', 'SWIMMING_POOL_PRESENT', 'FROM_PROP_PROPERTY',\n       'FROM_CORELOGIC', 'FROM_REA', 'CL_EQ_HPG', 'BUILDING_NAME',\n       'LEVEL_NUMBER', 'PRIMARY_ROOF_MATERIAL_-1',\n       'PRIMARY_ROOF_MATERIAL_FIBERGLASS/PLASTIC',\n       'PRIMARY_ROOF_MATERIAL_FLAT CONCRETE', 'PRIMARY_ROOF_MATERIAL_METAL',\n       'PRIMARY_ROOF_MATERIAL_TILE', 'ROOF_SHAPE_-1', 'ROOF_SHAPE_FLAT',\n       'ROOF_SHAPE_GABLED', 'ROOF_SHAPE_HIPPED', 'ROOF_SHAPE_MANSARD',\n       'ROOF_SHAPE_MIXED', 'ROOF_SHAPE_OTHER', 'ROOF_SHAPE_SHED',\n       'PP_PROPERTY_TYPE_CATEGORY_Apartment/Unit',\n       'PP_PROPERTY_TYPE_CATEGORY_Business/Commercial',\n       'PP_PROPERTY_TYPE_CATEGORY_Development/Land',\n       'PP_PROPERTY_TYPE_CATEGORY_Factory, Warehouse & Industrial',\n       'PP_PROPERTY_TYPE_CATEGORY_House',\n       'PP_PROPERTY_TYPE_CATEGORY_Other Residential',\n       'PP_PROPERTY_TYPE_CATEGORY_Rural/Farming',\n       'PP_PROPERTY_TYPE_CATEGORY_Townhouse',\n       'PP_PROPERTY_TYPE_CATEGORY_UNKNOWN',\n       'CL_PROPERTY_TYPE_CATEGORY_Apartment/Unit',\n       'CL_PROPERTY_TYPE_CATEGORY_House',\n       'CL_PROPERTY_TYPE_CATEGORY_Rural/Farming',\n       'CL_PROPERTY_TYPE_CATEGORY_Townhouse'],\n      dtype='object')"
     },
     "execution_count": 68,
     "metadata": {},
     "output_type": "execute_result"
    }
   ],
   "source": [
    "df.columns"
   ],
   "metadata": {
    "collapsed": false,
    "ExecuteTime": {
     "end_time": "2024-05-27T06:26:59.814184Z",
     "start_time": "2024-05-27T06:26:59.760373Z"
    }
   },
   "id": "af385a795e36209f",
   "execution_count": 68
  },
  {
   "cell_type": "code",
   "outputs": [
    {
     "data": {
      "text/plain": "<Axes: xlabel='NEARMAP_BUILDING_TOTAL_AREA_SQM'>"
     },
     "execution_count": 84,
     "metadata": {},
     "output_type": "execute_result"
    },
    {
     "data": {
      "text/plain": "<Figure size 640x480 with 1 Axes>",
      "image/png": "[encoded data removed]"
     },
     "metadata": {},
     "output_type": "display_data"
    }
   ],
   "source": [
    "import seaborn as sns\n",
    "import matplotlib.pyplot as plt\n",
    "\n",
    "sns.boxplot(data=df, x=df['NEARMAP_BUILDING_TOTAL_AREA_SQM'])"
   ],
   "metadata": {
    "collapsed": false,
    "ExecuteTime": {
     "end_time": "2024-05-27T09:31:45.291065Z",
     "start_time": "2024-05-27T09:31:44.370358Z"
    }
   },
   "id": "e79659aeeec1417e",
   "execution_count": 84
  },
  {
   "cell_type": "code",
   "outputs": [
    {
     "data": {
      "text/plain": "<Axes: xlabel='NEARMAP_BUILDING_COUNT'>"
     },
     "execution_count": 64,
     "metadata": {},
     "output_type": "execute_result"
    },
    {
     "data": {
      "text/plain": "<Figure size 640x480 with 1 Axes>",
      "image/png": "[encoded data removed]"
     },
     "metadata": {},
     "output_type": "display_data"
    }
   ],
   "source": [
    "sns.boxplot(data=df, x=df['NEARMAP_BUILDING_COUNT'])"
   ],
   "metadata": {
    "collapsed": false,
    "ExecuteTime": {
     "end_time": "2024-05-27T06:15:58.116928Z",
     "start_time": "2024-05-27T06:15:56.683936Z"
    }
   },
   "id": "8620ea18dfb1d81",
   "execution_count": 64
  },
  {
   "cell_type": "code",
   "outputs": [
    {
     "data": {
      "text/plain": "        CL_FLOOR_AREA  LAND_AREA_AGGR  NEARMAP_PARCEL_AREA_SQM  \\\n188013         107.00         81979.2                  81979.2   \n346671         204.00         32823.5                  32823.5   \n30707           58.00         28456.9                  28456.9   \n7789           135.55         35292.8                  35292.8   \n257288         106.00         66484.6                  66484.6   \n203999         128.00         35595.8                  35595.8   \n\n        NEARMAP_BUILDING_COUNT  NEARMAP_BUILDING_TOTAL_AREA_SQM  \\\n188013                     8.0                          18780.9   \n346671                     3.0                          10890.1   \n30707                      1.0                          12511.7   \n7789                       4.0                          14408.0   \n257288                     3.0                          12447.4   \n203999                     7.0                          16237.8   \n\n        BUILDING_SIZE  TOTAL_BUILDING_SIZE  ROOF_HEIGHT  EAVE_HEIGHT  \\\n188013        17723.2              17721.6         8.69         7.09   \n346671        10339.0              10451.3         8.77         8.77   \n30707         12413.6              12511.7        12.83        12.83   \n7789          11070.1              11071.5        24.79        24.79   \n257288        12344.4              12344.4         3.19         3.19   \n203999        10734.4              10818.1         9.81         9.81   \n\n        ESTIMATED_LEVELS  ...  \\\n188013               2.0  ...   \n346671               2.0  ...   \n30707                4.0  ...   \n7789                 7.0  ...   \n257288               1.0  ...   \n203999               2.0  ...   \n\n        PP_PROPERTY_TYPE_CATEGORY_Factory, Warehouse & Industrial  \\\n188013                                               True           \n346671                                              False           \n30707                                               False           \n7789                                                False           \n257288                                              False           \n203999                                              False           \n\n        PP_PROPERTY_TYPE_CATEGORY_House  \\\n188013                            False   \n346671                            False   \n30707                             False   \n7789                               True   \n257288                             True   \n203999                            False   \n\n        PP_PROPERTY_TYPE_CATEGORY_Other Residential  \\\n188013                                        False   \n346671                                        False   \n30707                                         False   \n7789                                          False   \n257288                                        False   \n203999                                        False   \n\n        PP_PROPERTY_TYPE_CATEGORY_Rural/Farming  \\\n188013                                    False   \n346671                                    False   \n30707                                     False   \n7789                                      False   \n257288                                    False   \n203999                                    False   \n\n        PP_PROPERTY_TYPE_CATEGORY_Townhouse  \\\n188013                                False   \n346671                                False   \n30707                                 False   \n7789                                  False   \n257288                                False   \n203999                                False   \n\n        PP_PROPERTY_TYPE_CATEGORY_UNKNOWN  \\\n188013                              False   \n346671                              False   \n30707                               False   \n7789                                False   \n257288                              False   \n203999                              False   \n\n        CL_PROPERTY_TYPE_CATEGORY_Apartment/Unit  \\\n188013                                     False   \n346671                                     False   \n30707                                       True   \n7789                                        True   \n257288                                      True   \n203999                                     False   \n\n        CL_PROPERTY_TYPE_CATEGORY_House  \\\n188013                             True   \n346671                             True   \n30707                             False   \n7789                              False   \n257288                            False   \n203999                             True   \n\n        CL_PROPERTY_TYPE_CATEGORY_Rural/Farming  \\\n188013                                    False   \n346671                                    False   \n30707                                     False   \n7789                                      False   \n257288                                    False   \n203999                                    False   \n\n        CL_PROPERTY_TYPE_CATEGORY_Townhouse  \n188013                                False  \n346671                                False  \n30707                                 False  \n7789                                  False  \n257288                                False  \n203999                                False  \n\n[6 rows x 49 columns]",
      "text/html": "<div>\n<style scoped>\n    .dataframe tbody tr th:only-of-type {\n        vertical-align: middle;\n    }\n\n    .dataframe tbody tr th {\n        vertical-align: top;\n    }\n\n    .dataframe thead th {\n        text-align: right;\n    }\n</style>\n<table border=\"1\" class=\"dataframe\">\n  <thead>\n    <tr style=\"text-align: right;\">\n      <th></th>\n      <th>CL_FLOOR_AREA</th>\n      <th>LAND_AREA_AGGR</th>\n      <th>NEARMAP_PARCEL_AREA_SQM</th>\n      <th>NEARMAP_BUILDING_COUNT</th>\n      <th>NEARMAP_BUILDING_TOTAL_AREA_SQM</th>\n      <th>BUILDING_SIZE</th>\n      <th>TOTAL_BUILDING_SIZE</th>\n      <th>ROOF_HEIGHT</th>\n      <th>EAVE_HEIGHT</th>\n      <th>ESTIMATED_LEVELS</th>\n      <th>...</th>\n      <th>PP_PROPERTY_TYPE_CATEGORY_Factory, Warehouse &amp; Industrial</th>\n      <th>PP_PROPERTY_TYPE_CATEGORY_House</th>\n      <th>PP_PROPERTY_TYPE_CATEGORY_Other Residential</th>\n      <th>PP_PROPERTY_TYPE_CATEGORY_Rural/Farming</th>\n      <th>PP_PROPERTY_TYPE_CATEGORY_Townhouse</th>\n      <th>PP_PROPERTY_TYPE_CATEGORY_UNKNOWN</th>\n      <th>CL_PROPERTY_TYPE_CATEGORY_Apartment/Unit</th>\n      <th>CL_PROPERTY_TYPE_CATEGORY_House</th>\n      <th>CL_PROPERTY_TYPE_CATEGORY_Rural/Farming</th>\n      <th>CL_PROPERTY_TYPE_CATEGORY_Townhouse</th>\n    </tr>\n  </thead>\n  <tbody>\n    <tr>\n      <th>188013</th>\n      <td>107.00</td>\n      <td>81979.2</td>\n      <td>81979.2</td>\n      <td>8.0</td>\n      <td>18780.9</td>\n      <td>17723.2</td>\n      <td>17721.6</td>\n      <td>8.69</td>\n      <td>7.09</td>\n      <td>2.0</td>\n      <td>...</td>\n      <td>True</td>\n      <td>False</td>\n      <td>False</td>\n      <td>False</td>\n      <td>False</td>\n      <td>False</td>\n      <td>False</td>\n      <td>True</td>\n      <td>False</td>\n      <td>False</td>\n    </tr>\n    <tr>\n      <th>346671</th>\n      <td>204.00</td>\n      <td>32823.5</td>\n      <td>32823.5</td>\n      <td>3.0</td>\n      <td>10890.1</td>\n      <td>10339.0</td>\n      <td>10451.3</td>\n      <td>8.77</td>\n      <td>8.77</td>\n      <td>2.0</td>\n      <td>...</td>\n      <td>False</td>\n      <td>False</td>\n      <td>False</td>\n      <td>False</td>\n      <td>False</td>\n      <td>False</td>\n      <td>False</td>\n      <td>True</td>\n      <td>False</td>\n      <td>False</td>\n    </tr>\n    <tr>\n      <th>30707</th>\n      <td>58.00</td>\n      <td>28456.9</td>\n      <td>28456.9</td>\n      <td>1.0</td>\n      <td>12511.7</td>\n      <td>12413.6</td>\n      <td>12511.7</td>\n      <td>12.83</td>\n      <td>12.83</td>\n      <td>4.0</td>\n      <td>...</td>\n      <td>False</td>\n      <td>False</td>\n      <td>False</td>\n      <td>False</td>\n      <td>False</td>\n      <td>False</td>\n      <td>True</td>\n      <td>False</td>\n      <td>False</td>\n      <td>False</td>\n    </tr>\n    <tr>\n      <th>7789</th>\n      <td>135.55</td>\n      <td>35292.8</td>\n      <td>35292.8</td>\n      <td>4.0</td>\n      <td>14408.0</td>\n      <td>11070.1</td>\n      <td>11071.5</td>\n      <td>24.79</td>\n      <td>24.79</td>\n      <td>7.0</td>\n      <td>...</td>\n      <td>False</td>\n      <td>True</td>\n      <td>False</td>\n      <td>False</td>\n      <td>False</td>\n      <td>False</td>\n      <td>True</td>\n      <td>False</td>\n      <td>False</td>\n      <td>False</td>\n    </tr>\n    <tr>\n      <th>257288</th>\n      <td>106.00</td>\n      <td>66484.6</td>\n      <td>66484.6</td>\n      <td>3.0</td>\n      <td>12447.4</td>\n      <td>12344.4</td>\n      <td>12344.4</td>\n      <td>3.19</td>\n      <td>3.19</td>\n      <td>1.0</td>\n      <td>...</td>\n      <td>False</td>\n      <td>True</td>\n      <td>False</td>\n      <td>False</td>\n      <td>False</td>\n      <td>False</td>\n      <td>True</td>\n      <td>False</td>\n      <td>False</td>\n      <td>False</td>\n    </tr>\n    <tr>\n      <th>203999</th>\n      <td>128.00</td>\n      <td>35595.8</td>\n      <td>35595.8</td>\n      <td>7.0</td>\n      <td>16237.8</td>\n      <td>10734.4</td>\n      <td>10818.1</td>\n      <td>9.81</td>\n      <td>9.81</td>\n      <td>2.0</td>\n      <td>...</td>\n      <td>False</td>\n      <td>False</td>\n      <td>False</td>\n      <td>False</td>\n      <td>False</td>\n      <td>False</td>\n      <td>False</td>\n      <td>True</td>\n      <td>False</td>\n      <td>False</td>\n    </tr>\n  </tbody>\n</table>\n<p>6 rows × 49 columns</p>\n</div>"
     },
     "execution_count": 23,
     "metadata": {},
     "output_type": "execute_result"
    }
   ],
   "source": [
    "df[(df['BUILDING_SIZE'] > 10000) & (df['AVG_BATH'] < 20)]"
   ],
   "metadata": {
    "collapsed": false,
    "ExecuteTime": {
     "end_time": "2024-05-27T05:16:11.702845Z",
     "start_time": "2024-05-27T05:16:11.648331Z"
    }
   },
   "id": "4ab10ae344dd1042",
   "execution_count": 23
  },
  {
   "cell_type": "code",
   "outputs": [],
   "source": [
    "from sklearn.preprocessing import QuantileTransformer\n",
    "\n",
    "transformer = QuantileTransformer(output_distribution='uniform')\n",
    "df1['CL_FLOOR_AREA'] = transformer.fit_transform(df[['CL_FLOOR_AREA']])"
   ],
   "metadata": {
    "collapsed": false,
    "ExecuteTime": {
     "end_time": "2024-05-27T05:05:18.661162Z",
     "start_time": "2024-05-27T05:05:18.414873Z"
    }
   },
   "id": "b91391cfd019caff",
   "execution_count": 13
  },
  {
   "cell_type": "code",
   "outputs": [],
   "source": [
    "from sklearn.preprocessing import StandardScaler\n",
    "\n",
    "scaler = StandardScaler()\n",
    "df1['NEARMAP_PARCEL_AREA_SQM'] = scaler.fit_transform(df[['NEARMAP_PARCEL_AREA_SQM']])\n"
   ],
   "metadata": {
    "collapsed": false,
    "ExecuteTime": {
     "end_time": "2024-05-27T06:01:37.533441Z",
     "start_time": "2024-05-27T06:01:37.473499Z"
    }
   },
   "id": "1e851f6cfd7ab7fb",
   "execution_count": 44
  },
  {
   "cell_type": "code",
   "outputs": [],
   "source": [
    "import joblib\n",
    "\n",
    "scaler = joblib.load('data/scaler.pkl')"
   ],
   "metadata": {
    "collapsed": false,
    "ExecuteTime": {
     "end_time": "2024-05-26T03:11:29.274819Z",
     "start_time": "2024-05-26T03:11:25.063120Z"
    }
   },
   "id": "46c83b2149f0a1ea",
   "execution_count": 2
  },
  {
   "cell_type": "code",
   "outputs": [
    {
     "data": {
      "text/plain": "array([5.61482345e-06, 1.96463693e-07, 1.23552693e-08, 1.47775644e-06,\n       6.84931507e-03, 2.84930320e-05, 4.32967434e-07, 5.64232193e-05,\n       2.84930320e-05, 3.97566891e-03, 3.97251023e-03, 1.20481928e-02,\n       2.00000000e-01, 2.05479452e-02, 1.99980002e-04, 2.65486726e-02])"
     },
     "execution_count": 3,
     "metadata": {},
     "output_type": "execute_result"
    }
   ],
   "source": [
    "scaler.scale_"
   ],
   "metadata": {
    "collapsed": false,
    "ExecuteTime": {
     "end_time": "2024-05-26T03:11:36.212085Z",
     "start_time": "2024-05-26T03:11:36.138054Z"
    }
   },
   "id": "fac7ba852e9e27ce",
   "execution_count": 3
  },
  {
   "cell_type": "code",
   "outputs": [],
   "source": [
    "unique_counts = df['Y'].value_counts()"
   ],
   "metadata": {
    "collapsed": false,
    "ExecuteTime": {
     "end_time": "2024-04-16T06:13:09.717834Z",
     "start_time": "2024-04-16T06:13:09.709337Z"
    }
   },
   "id": "84439128f4259029",
   "execution_count": 7
  },
  {
   "cell_type": "code",
   "outputs": [
    {
     "data": {
      "text/plain": "5    13475\n8     9608\n0     8580\n6     3710\n1     2300\n9      853\n2      729\n3      588\n4      348\n7      179\nName: Y, dtype: int64"
     },
     "execution_count": 8,
     "metadata": {},
     "output_type": "execute_result"
    }
   ],
   "source": [
    "unique_counts"
   ],
   "metadata": {
    "collapsed": false,
    "ExecuteTime": {
     "end_time": "2024-04-16T06:13:15.109974Z",
     "start_time": "2024-04-16T06:13:15.023433Z"
    }
   },
   "id": "6309182dd3266dbe",
   "execution_count": 8
  },
  {
   "cell_type": "code",
   "outputs": [
    {
     "data": {
      "text/plain": "pandas.core.series.Series"
     },
     "execution_count": 9,
     "metadata": {},
     "output_type": "execute_result"
    }
   ],
   "source": [
    "type(unique_counts)"
   ],
   "metadata": {
    "collapsed": false,
    "ExecuteTime": {
     "end_time": "2024-04-16T06:13:32.808475Z",
     "start_time": "2024-04-16T06:13:32.794220Z"
    }
   },
   "id": "e339af919a8c0546",
   "execution_count": 9
  },
  {
   "cell_type": "code",
   "outputs": [
    {
     "data": {
      "text/plain": "(40370, 494)"
     },
     "execution_count": 10,
     "metadata": {},
     "output_type": "execute_result"
    }
   ],
   "source": [
    "df.shape"
   ],
   "metadata": {
    "collapsed": false,
    "ExecuteTime": {
     "end_time": "2024-04-16T06:14:20.325176Z",
     "start_time": "2024-04-16T06:14:20.315022Z"
    }
   },
   "id": "c74bf7cd9dc41e66",
   "execution_count": 10
  },
  {
   "cell_type": "code",
   "outputs": [
    {
     "data": {
      "text/plain": "400.0"
     },
     "execution_count": 11,
     "metadata": {},
     "output_type": "execute_result"
    }
   ],
   "source": [
    "4000 / 10"
   ],
   "metadata": {
    "collapsed": false,
    "ExecuteTime": {
     "end_time": "2024-04-16T06:16:53.304080Z",
     "start_time": "2024-04-16T06:16:53.211015Z"
    }
   },
   "id": "306e01275efb605",
   "execution_count": 11
  },
  {
   "cell_type": "code",
   "outputs": [
    {
     "data": {
      "text/plain": "8    400\n6    400\n0    400\n1    400\n5    400\n2    400\n3    400\n9    400\n4    348\n7    179\nName: Y, dtype: int64"
     },
     "execution_count": 23,
     "metadata": {},
     "output_type": "execute_result"
    }
   ],
   "source": [
    "undersampled_dfs = []\n",
    "for category in df['Y'].unique():\n",
    "    count = (df['Y'] == category).sum()\n",
    "    if count < 400:\n",
    "        x = count\n",
    "    else:\n",
    "        x = 400\n",
    "    majority_samples = df[df['Y'] == category].sample(n=x, replace=False, random_state=42)\n",
    "    undersampled_dfs.append(majority_samples)\n",
    "\n",
    "undersampled_df = pd.concat(undersampled_dfs)\n",
    "undersampled_df['Y'].value_counts()"
   ],
   "metadata": {
    "collapsed": false,
    "ExecuteTime": {
     "end_time": "2024-04-16T06:31:03.692780Z",
     "start_time": "2024-04-16T06:31:03.523114Z"
    }
   },
   "id": "ebb518d88b54cc",
   "execution_count": 23
  },
  {
   "cell_type": "code",
   "outputs": [],
   "source": [
    "u = undersampled_df.sample(frac=1)"
   ],
   "metadata": {
    "collapsed": false,
    "ExecuteTime": {
     "end_time": "2024-04-16T08:14:32.598458Z",
     "start_time": "2024-04-16T08:14:32.589956Z"
    }
   },
   "id": "c6ad53148be1663a",
   "execution_count": 39
  },
  {
   "cell_type": "code",
   "outputs": [
    {
     "data": {
      "text/plain": "19052    0\n31491    6\n25188    2\n8078     0\n386      8\n        ..\n28883    8\n662      3\n19913    8\n26586    9\n39676    2\nName: Y, Length: 3727, dtype: int64"
     },
     "execution_count": 40,
     "metadata": {},
     "output_type": "execute_result"
    }
   ],
   "source": [
    "u['Y']"
   ],
   "metadata": {
    "collapsed": false,
    "ExecuteTime": {
     "end_time": "2024-04-16T08:14:42.880983Z",
     "start_time": "2024-04-16T08:14:42.870094Z"
    }
   },
   "id": "7a8ec1b9883d46dd",
   "execution_count": 40
  },
  {
   "cell_type": "code",
   "outputs": [],
   "source": [
    "u1.to_hdf('./uci/raw_data/property_type/data/undersampled_10p.hdf', key='s')"
   ],
   "metadata": {
    "collapsed": false,
    "ExecuteTime": {
     "end_time": "2024-04-16T08:16:59.415841Z",
     "start_time": "2024-04-16T08:16:59.338934Z"
    }
   },
   "id": "1481597d6c7351e9",
   "execution_count": 47
  },
  {
   "cell_type": "code",
   "outputs": [],
   "source": [
    "u1 = u1.sample(frac=1)"
   ],
   "metadata": {
    "collapsed": false,
    "ExecuteTime": {
     "end_time": "2024-04-16T08:16:20.921996Z",
     "start_time": "2024-04-16T08:16:20.904418Z"
    }
   },
   "id": "8e3d2b0c14a6a83d",
   "execution_count": 44
  },
  {
   "cell_type": "code",
   "outputs": [
    {
     "data": {
      "text/plain": "35538    2\n22148    0\n16754    4\n3656     7\n26311    2\n        ..\n18234    2\n34552    1\n31243    1\n17680    1\n24111    9\nName: Y, Length: 3727, dtype: int64"
     },
     "execution_count": 46,
     "metadata": {},
     "output_type": "execute_result"
    }
   ],
   "source": [
    "u1['Y']"
   ],
   "metadata": {
    "collapsed": false,
    "ExecuteTime": {
     "end_time": "2024-04-16T08:16:37.366647Z",
     "start_time": "2024-04-16T08:16:37.338845Z"
    }
   },
   "id": "79088fc1382c29d4",
   "execution_count": 46
  },
  {
   "cell_type": "code",
   "outputs": [
    {
     "data": {
      "text/plain": "tensor([[-1.7418, -0.8630,  0.2606,  0.0485, -0.5494, -0.2916,  0.4901,  0.5460,\n         -0.5056, -0.3769],\n        [ 0.2891, -0.8138,  0.2977, -0.3576,  0.2715, -1.2151,  0.5725, -0.5606,\n          0.3346,  0.6566],\n        [ 0.6720, -0.2975, -0.3217,  1.6311,  1.3820, -1.3396, -0.2653, -0.1291,\n         -0.5558,  0.3066],\n        [-1.3592, -0.9398, -0.2375,  0.9644, -0.0737, -1.6236, -0.3005,  1.5661,\n          0.8104,  0.5332],\n        [ 2.1788, -0.7410, -1.5075,  0.6263,  0.7550,  1.7827,  0.5230, -1.0494,\n          0.9034,  0.6533],\n        [-0.0471,  0.7871, -0.0192,  0.6733, -0.1939,  0.0089, -0.1889,  0.3796,\n         -0.4394,  0.2166],\n        [ 0.0524, -0.1224,  0.7904, -0.7611,  1.2578, -0.2989, -0.3789, -0.1742,\n          0.8564, -0.2026],\n        [-0.7553, -0.8651, -0.9204, -0.5976, -0.4221, -0.9782, -1.2087, -0.9764,\n          1.2507, -0.1711],\n        [-0.3857,  1.1101,  0.0512, -0.8686,  0.4385,  1.5607, -0.9264, -0.3205,\n         -0.3722,  0.7955],\n        [-0.2132, -0.7741,  1.9170,  0.2183,  2.6453, -0.9404, -0.1110, -1.1648,\n         -0.5191, -0.3841],\n        [-0.0567,  0.5305, -0.0233, -1.1932, -0.1386, -0.4751,  0.7415, -0.6764,\n         -0.3580, -0.9209],\n        [-0.4001, -0.8926,  0.9912, -0.3929,  0.6218,  0.2110,  0.1025,  0.3833,\n          0.2197, -0.6164],\n        [ 0.8330, -0.3451,  2.1478, -0.5837,  0.2119,  0.6655, -2.2095, -0.3095,\n         -2.7281, -0.0564],\n        [ 0.9112,  1.3999,  0.8685,  1.5919,  0.3477, -0.8911,  1.1028, -0.9424,\n          0.8073,  0.8566],\n        [-1.5757,  0.5069,  1.2215,  0.7995,  0.3995,  0.0204,  0.9026, -1.1691,\n         -0.6288,  0.8320],\n        [ 0.1543, -0.0290,  1.0969, -0.0899,  0.5315,  1.0940, -0.8201, -0.5441,\n          1.6551, -0.1568],\n        [ 0.4757,  0.7613, -0.8817,  0.9308, -0.8494, -2.1356,  1.4906,  0.6681,\n          0.3273, -0.2069],\n        [-0.7015, -0.1421,  1.5236,  1.7988, -0.3753, -0.6276,  0.0967,  0.9242,\n          0.7911, -0.0826],\n        [-0.5617, -1.1677, -0.8665, -0.0419,  1.6442,  1.2795, -0.2185,  1.5240,\n          0.2472, -1.5606],\n        [-0.7096,  0.9126,  0.2381, -0.5153,  0.4539,  1.3055,  2.4210,  1.1341,\n          0.0355, -0.3080]])"
     },
     "execution_count": 32,
     "metadata": {},
     "output_type": "execute_result"
    }
   ],
   "source": [
    "import torch\n",
    "\n",
    "torch.randn(20, 10)\n"
   ],
   "metadata": {
    "collapsed": false,
    "ExecuteTime": {
     "end_time": "2024-04-16T07:41:09.753595Z",
     "start_time": "2024-04-16T07:41:09.732578Z"
    }
   },
   "id": "9fc00f7ef2af43c5",
   "execution_count": 32
  },
  {
   "cell_type": "code",
   "outputs": [
    {
     "data": {
      "text/plain": "tensor([0, 0, 0, 1, 0, 0, 0, 1, 1, 1, 1, 0, 0, 0, 1, 0, 1, 1, 1, 1])"
     },
     "execution_count": 33,
     "metadata": {},
     "output_type": "execute_result"
    }
   ],
   "source": [
    "torch.randint(0, 2, (20,)).long()"
   ],
   "metadata": {
    "collapsed": false,
    "ExecuteTime": {
     "end_time": "2024-04-16T07:42:16.369346Z",
     "start_time": "2024-04-16T07:42:16.347268Z"
    }
   },
   "id": "9a7b2a141a81ef56",
   "execution_count": 33
  },
  {
   "cell_type": "code",
   "outputs": [],
   "source": [],
   "metadata": {
    "collapsed": false
   },
   "id": "4a6d8753030af307"
  },
  {
   "cell_type": "code",
   "outputs": [],
   "source": [
    "u1.to_hdf('./uci/raw_data/property_type/data/undersampled_11p.hdf', key='s')"
   ],
   "metadata": {
    "collapsed": false,
    "ExecuteTime": {
     "end_time": "2024-04-16T08:17:22.795540Z",
     "start_time": "2024-04-16T08:17:22.759256Z"
    }
   },
   "id": "62e724dd888938f3",
   "execution_count": 48
  },
  {
   "cell_type": "code",
   "outputs": [],
   "source": [
    "log_path = './uci/test/property_type/y0-2/'"
   ],
   "metadata": {
    "collapsed": false,
    "ExecuteTime": {
     "end_time": "2024-04-16T09:50:48.231028Z",
     "start_time": "2024-04-16T09:50:48.195761Z"
    }
   },
   "id": "adb49084390ccfc9",
   "execution_count": 49
  },
  {
   "cell_type": "code",
   "outputs": [],
   "source": [
    "import pickle\n",
    "\n",
    "import torch"
   ],
   "metadata": {
    "collapsed": false,
    "ExecuteTime": {
     "end_time": "2024-04-16T09:52:15.694284Z",
     "start_time": "2024-04-16T09:52:15.685309Z"
    }
   },
   "id": "e91ce0acda0a01a0",
   "execution_count": 52
  },
  {
   "cell_type": "code",
   "outputs": [],
   "source": [
    "with open(log_path + 'result.pkl', 'rb') as f:\n",
    "    obj = pickle.load(f)\n"
   ],
   "metadata": {
    "collapsed": false,
    "ExecuteTime": {
     "end_time": "2024-04-16T09:53:02.577871Z",
     "start_time": "2024-04-16T09:53:02.553798Z"
    }
   },
   "id": "d4b17abd48897ab0",
   "execution_count": 53
  },
  {
   "cell_type": "code",
   "outputs": [
    {
     "data": {
      "text/plain": "{'args': Namespace(aggr='mean', concat_states=False, data='property_type', domain='uci', dropout=0.0, edge_dim=16, edge_mode=1, epochs=1000, gnn_activation='relu', impute_activation='relu', impute_hiddens='', known=0.7, log_dir='y0-2', lr=0.001, model_types='EGSAGE_EGSAGE', node_dim=16, node_mode=0, norm_embs=None, num_classes=10, opt='adam', opt_decay_rate=0.9, opt_decay_step=1000, opt_restart=0, opt_scheduler='none', post_hiddens=None, predict_hiddens='', seed=0, split_by='y', split_sample=0, train_edge=0.7, train_y=0.7, valid=0.0, weight_decay=0.0),\n 'curves': {'train_loss': [2.3027331829071045,\n   2.3026316165924072,\n   2.3024680614471436,\n   2.302307367324829,\n   2.3019933700561523,\n   2.301556348800659,\n   2.3009836673736572,\n   2.300332546234131,\n   2.2996110916137695,\n   2.298750162124634,\n   2.2978456020355225,\n   2.296931505203247,\n   2.296020030975342,\n   2.2949864864349365,\n   2.29386043548584,\n   2.2927536964416504,\n   2.291787624359131,\n   2.2909634113311768,\n   2.289961099624634,\n   2.2891123294830322,\n   2.2884693145751953,\n   2.2878551483154297,\n   2.287108898162842,\n   2.286980390548706,\n   2.286287546157837,\n   2.2859909534454346,\n   2.2858550548553467,\n   2.285583019256592,\n   2.285529136657715,\n   2.285482406616211,\n   2.285344362258911,\n   2.2853891849517822,\n   2.2852578163146973,\n   2.285442352294922,\n   2.2854435443878174,\n   2.2855193614959717,\n   2.2854385375976562,\n   2.2853946685791016,\n   2.285411834716797,\n   2.28542160987854,\n   2.285477876663208,\n   2.2854363918304443,\n   2.2855279445648193,\n   2.2854814529418945,\n   2.285392999649048,\n   2.2853410243988037,\n   2.2852299213409424,\n   2.2852256298065186,\n   2.2853314876556396,\n   2.285250663757324,\n   2.2853448390960693,\n   2.2851927280426025,\n   2.2851593494415283,\n   2.2851381301879883,\n   2.2852110862731934,\n   2.285076856613159,\n   2.2852330207824707,\n   2.2851762771606445,\n   2.285247564315796,\n   2.285085678100586,\n   2.285102367401123,\n   2.285003185272217,\n   2.2851576805114746,\n   2.2850544452667236,\n   2.2851979732513428,\n   2.2849841117858887,\n   2.284998893737793,\n   2.2850735187530518,\n   2.284886360168457,\n   2.285025119781494,\n   2.2849695682525635,\n   2.2849020957946777,\n   2.2850377559661865,\n   2.2847633361816406,\n   2.2850351333618164,\n   2.284904956817627,\n   2.2848236560821533,\n   2.2848243713378906,\n   2.285111904144287,\n   2.2849512100219727,\n   2.2851245403289795,\n   2.284705638885498,\n   2.28486704826355,\n   2.28511905670166,\n   2.2848780155181885,\n   2.2848472595214844,\n   2.284921646118164,\n   2.2843916416168213,\n   2.284600019454956,\n   2.284606456756592,\n   2.285092830657959,\n   2.284646511077881,\n   2.2842636108398438,\n   2.284463405609131,\n   2.2844865322113037,\n   2.284564256668091,\n   2.2842767238616943,\n   2.2845206260681152,\n   2.284280776977539,\n   2.2839765548706055,\n   2.28467059135437,\n   2.283888816833496,\n   2.283501386642456,\n   2.2838737964630127,\n   2.2834725379943848,\n   2.2841880321502686,\n   2.2836360931396484,\n   2.283637285232544,\n   2.2831900119781494,\n   2.2831718921661377,\n   2.283376932144165,\n   2.2823452949523926,\n   2.2829036712646484,\n   2.281831979751587,\n   2.2819302082061768,\n   2.2817530632019043,\n   2.2810535430908203,\n   2.280683755874634,\n   2.280869245529175,\n   2.279592990875244,\n   2.279158353805542,\n   2.2782530784606934,\n   2.278174877166748,\n   2.277252674102783,\n   2.2768521308898926,\n   2.276007890701294,\n   2.274714946746826,\n   2.2731997966766357,\n   2.271714448928833,\n   2.270576238632202,\n   2.2679097652435303,\n   2.266390323638916,\n   2.2663378715515137,\n   2.2635576725006104,\n   2.2605743408203125,\n   2.2567856311798096,\n   2.2540123462677,\n   2.2531044483184814,\n   2.2520060539245605,\n   2.2470946311950684,\n   2.241783380508423,\n   2.241353988647461,\n   2.2355852127075195,\n   2.233135223388672,\n   2.2282464504241943,\n   2.223775863647461,\n   2.221043109893799,\n   2.2159180641174316,\n   2.210404396057129,\n   2.2074897289276123,\n   2.2014355659484863,\n   2.198077917098999,\n   2.193457841873169,\n   2.188488721847534,\n   2.1826395988464355,\n   2.1795268058776855,\n   2.1742913722991943,\n   2.169743537902832,\n   2.1631574630737305,\n   2.161372661590576,\n   2.1552939414978027,\n   2.1531758308410645,\n   2.147709846496582,\n   2.144287347793579,\n   2.13769793510437,\n   2.134974956512451,\n   2.129666328430176,\n   2.1241793632507324,\n   2.1214358806610107,\n   2.118438243865967,\n   2.113652467727661,\n   2.1091907024383545,\n   2.1065876483917236,\n   2.1022677421569824,\n   2.0999066829681396,\n   2.093822956085205,\n   2.091047763824463,\n   2.0869622230529785,\n   2.08542537689209,\n   2.080568790435791,\n   2.0756022930145264,\n   2.074375867843628,\n   2.069916248321533,\n   2.066864490509033,\n   2.062676191329956,\n   2.0605404376983643,\n   2.0561347007751465,\n   2.0544991493225098,\n   2.0510780811309814,\n   2.0487923622131348,\n   2.0455880165100098,\n   2.0417897701263428,\n   2.039125680923462,\n   2.03629469871521,\n   2.0320067405700684,\n   2.0291008949279785,\n   2.025907516479492,\n   2.022327184677124,\n   2.0194621086120605,\n   2.0192768573760986,\n   2.0141942501068115,\n   2.013035297393799,\n   2.00929594039917,\n   2.0060503482818604,\n   2.003267765045166,\n   2.0020651817321777,\n   2.000295400619507,\n   1.996483325958252,\n   1.9923120737075806,\n   1.9928488731384277,\n   1.9881939888000488,\n   1.987179160118103,\n   1.983281135559082,\n   1.9823620319366455,\n   1.9798579216003418,\n   1.9790213108062744,\n   1.9746359586715698,\n   1.9731597900390625,\n   1.9733036756515503,\n   1.9690254926681519,\n   1.9662092924118042,\n   1.9651330709457397,\n   1.9628721475601196,\n   1.9596912860870361,\n   1.95982027053833,\n   1.9567886590957642,\n   1.954860806465149,\n   1.9547888040542603,\n   1.9503148794174194,\n   1.9500312805175781,\n   1.9472146034240723,\n   1.9460636377334595,\n   1.944222092628479,\n   1.9436432123184204,\n   1.9427688121795654,\n   1.9405900239944458,\n   1.9395662546157837,\n   1.9375368356704712,\n   1.936567783355713,\n   1.9344464540481567,\n   1.9328874349594116,\n   1.9334179162979126,\n   1.9312337636947632,\n   1.9299824237823486,\n   1.9265706539154053,\n   1.9257937669754028,\n   1.9264549016952515,\n   1.9231154918670654,\n   1.9212664365768433,\n   1.9227248430252075,\n   1.9204198122024536,\n   1.9203468561172485,\n   1.9182438850402832,\n   1.9173297882080078,\n   1.9167331457138062,\n   1.9148476123809814,\n   1.9123563766479492,\n   1.9142918586730957,\n   1.9132753610610962,\n   1.9117497205734253,\n   1.9110172986984253,\n   1.9083402156829834,\n   1.9087810516357422,\n   1.906187891960144,\n   1.9065210819244385,\n   1.908032774925232,\n   1.9059524536132812,\n   1.9048570394515991,\n   1.9061733484268188,\n   1.9047237634658813,\n   1.9002063274383545,\n   1.9012067317962646,\n   1.900631308555603,\n   1.8983104228973389,\n   1.8975404500961304,\n   1.8992342948913574,\n   1.8968453407287598,\n   1.8955967426300049,\n   1.896395206451416,\n   1.8939893245697021,\n   1.894655704498291,\n   1.8949037790298462,\n   1.8955880403518677,\n   1.892360806465149,\n   1.8900189399719238,\n   1.8929795026779175,\n   1.8923953771591187,\n   1.8903075456619263,\n   1.8885674476623535,\n   1.8892887830734253,\n   1.8864079713821411,\n   1.8863388299942017,\n   1.888202428817749,\n   1.886426329612732,\n   1.8855944871902466,\n   1.8860788345336914,\n   1.8847967386245728,\n   1.883766770362854,\n   1.8829683065414429,\n   1.8834627866744995,\n   1.8825558423995972,\n   1.880981206893921,\n   1.8810052871704102,\n   1.8815768957138062,\n   1.8811894655227661,\n   1.8824950456619263,\n   1.8791093826293945,\n   1.878922462463379,\n   1.8789424896240234,\n   1.8803105354309082,\n   1.8779889345169067,\n   1.877200722694397,\n   1.8806930780410767,\n   1.8771798610687256,\n   1.8748784065246582,\n   1.8775328397750854,\n   1.8766021728515625,\n   1.8752800226211548,\n   1.8750288486480713,\n   1.8754616975784302,\n   1.8726752996444702,\n   1.8729337453842163,\n   1.875187635421753,\n   1.8743064403533936,\n   1.8736047744750977,\n   1.8724583387374878,\n   1.872184157371521,\n   1.8714724779129028,\n   1.8717026710510254,\n   1.8732490539550781,\n   1.8727970123291016,\n   1.869775414466858,\n   1.8697046041488647,\n   1.870600700378418,\n   1.8686391115188599,\n   1.8694565296173096,\n   1.8680390119552612,\n   1.8688613176345825,\n   1.8700783252716064,\n   1.866563081741333,\n   1.8662309646606445,\n   1.8688876628875732,\n   1.8660732507705688,\n   1.866357684135437,\n   1.865694284439087,\n   1.8648061752319336,\n   1.865094780921936,\n   1.8661401271820068,\n   1.865352749824524,\n   1.8648133277893066,\n   1.8649786710739136,\n   1.8630210161209106,\n   1.8629957437515259,\n   1.863479495048523,\n   1.8637226819992065,\n   1.863436222076416,\n   1.8615052700042725,\n   1.8627910614013672,\n   1.8613271713256836,\n   1.8619091510772705,\n   1.8629041910171509,\n   1.8627227544784546,\n   1.8613414764404297,\n   1.8605430126190186,\n   1.8609083890914917,\n   1.8610073328018188,\n   1.8598028421401978,\n   1.861363410949707,\n   1.8604743480682373,\n   1.8614850044250488,\n   1.861454963684082,\n   1.860843300819397,\n   1.8569859266281128,\n   1.8585139513015747,\n   1.8595600128173828,\n   1.8580880165100098,\n   1.8575347661972046,\n   1.8590683937072754,\n   1.8594551086425781,\n   1.8568371534347534,\n   1.8611668348312378,\n   1.8591768741607666,\n   1.8572146892547607,\n   1.857377290725708,\n   1.8584117889404297,\n   1.8571131229400635,\n   1.8560984134674072,\n   1.8584589958190918,\n   1.8589228391647339,\n   1.8562674522399902,\n   1.8581174612045288,\n   1.8562183380126953,\n   1.8549884557724,\n   1.8553918600082397,\n   1.8549407720565796,\n   1.8549189567565918,\n   1.8551806211471558,\n   1.8539783954620361,\n   1.8538167476654053,\n   1.853969931602478,\n   1.8552627563476562,\n   1.8540071249008179,\n   1.8547580242156982,\n   1.85386061668396,\n   1.8534595966339111,\n   1.8533481359481812,\n   1.851941466331482,\n   1.8536179065704346,\n   1.853236198425293,\n   1.8521034717559814,\n   1.8533836603164673,\n   1.8511017560958862,\n   1.8507139682769775,\n   1.8512473106384277,\n   1.8521652221679688,\n   1.8518574237823486,\n   1.8485950231552124,\n   1.8504033088684082,\n   1.8509441614151,\n   1.8520326614379883,\n   1.851483941078186,\n   1.84881591796875,\n   1.850106120109558,\n   1.8540573120117188,\n   1.8486480712890625,\n   1.851088523864746,\n   1.852946400642395,\n   1.8523674011230469,\n   1.8537975549697876,\n   1.8581726551055908,\n   1.8612784147262573,\n   1.8779706954956055,\n   1.85950767993927,\n   1.8860886096954346,\n   1.870697021484375,\n   1.8935067653656006,\n   1.872002124786377,\n   1.8588026762008667,\n   1.8798068761825562,\n   1.8641917705535889,\n   1.8857741355895996,\n   1.8890058994293213,\n   1.8656388521194458,\n   1.8546496629714966,\n   1.876527190208435,\n   1.8577775955200195,\n   1.857648253440857,\n   1.8617935180664062,\n   1.8617100715637207,\n   1.8574929237365723,\n   1.85654616355896,\n   1.8530619144439697,\n   1.8526676893234253,\n   1.853846788406372,\n   1.8533724546432495,\n   1.851309061050415,\n   1.8525584936141968,\n   1.852716326713562,\n   1.8498066663742065,\n   1.851050615310669,\n   1.8528679609298706,\n   1.849881887435913,\n   1.848952293395996,\n   1.850968837738037,\n   1.8518576622009277,\n   1.8517745733261108,\n   1.8485642671585083,\n   1.8508524894714355,\n   1.8497296571731567,\n   1.8466897010803223,\n   1.8502273559570312,\n   1.850756049156189,\n   1.8496448993682861,\n   1.846887230873108,\n   1.8466354608535767,\n   1.849609613418579,\n   1.8488426208496094,\n   1.8467844724655151,\n   1.8479530811309814,\n   1.848831295967102,\n   1.847965121269226,\n   1.8449153900146484,\n   1.8472375869750977,\n   1.8472238779067993,\n   1.8475987911224365,\n   1.8456202745437622,\n   1.845779538154602,\n   1.8470299243927002,\n   1.8472580909729004,\n   1.84648597240448,\n   1.8465360403060913,\n   1.8465596437454224,\n   1.8471450805664062,\n   1.8457762002944946,\n   1.8450182676315308,\n   1.846941590309143,\n   1.8458770513534546,\n   1.8452320098876953,\n   1.8462063074111938,\n   1.8486411571502686,\n   1.8489937782287598,\n   1.846377968788147,\n   1.8462978601455688,\n   1.8453141450881958,\n   1.844948649406433,\n   1.8462327718734741,\n   1.8451708555221558,\n   1.8456655740737915,\n   1.8439770936965942,\n   1.8461050987243652,\n   1.8444349765777588,\n   1.8456710577011108,\n   1.846512794494629,\n   1.842745065689087,\n   1.846877932548523,\n   1.847031593322754,\n   1.8456162214279175,\n   1.8443487882614136,\n   1.8440979719161987,\n   1.844281554222107,\n   1.8438676595687866,\n   1.8453681468963623,\n   1.8446515798568726,\n   1.8469334840774536,\n   1.8449490070343018,\n   1.8454540967941284,\n   1.8454612493515015,\n   1.8450977802276611,\n   1.8427654504776,\n   1.843849539756775,\n   1.8458606004714966,\n   1.8422305583953857,\n   1.843846321105957,\n   1.8411962985992432,\n   1.8433921337127686,\n   1.8426324129104614,\n   1.845504641532898,\n   1.8443691730499268,\n   1.8452397584915161,\n   1.8426508903503418,\n   1.8431740999221802,\n   1.844429612159729,\n   1.8444578647613525,\n   1.8421387672424316,\n   1.8419109582901,\n   1.842869758605957,\n   1.8420261144638062,\n   1.8423104286193848,\n   1.846299648284912,\n   1.843332290649414,\n   1.8435138463974,\n   1.842037558555603,\n   1.8482369184494019,\n   1.844306468963623,\n   1.8442405462265015,\n   1.8418622016906738,\n   1.8441609144210815,\n   1.8444921970367432,\n   1.8440682888031006,\n   1.8455100059509277,\n   1.840961217880249,\n   1.843422532081604,\n   1.8422647714614868,\n   1.844482183456421,\n   1.847508192062378,\n   1.8443152904510498,\n   1.8412847518920898,\n   1.84263014793396,\n   1.8436607122421265,\n   1.8459631204605103,\n   1.8419976234436035,\n   1.8437494039535522,\n   1.8444191217422485,\n   1.8424779176712036,\n   1.8409712314605713,\n   1.8427895307540894,\n   1.8441568613052368,\n   1.8432378768920898,\n   1.8430880308151245,\n   1.8426352739334106,\n   1.843973159790039,\n   1.8428797721862793,\n   1.8439035415649414,\n   1.845125675201416,\n   1.8425217866897583,\n   1.8419345617294312,\n   1.8433703184127808,\n   1.841471552848816,\n   1.8399995565414429,\n   1.8432917594909668,\n   1.8418269157409668,\n   1.8426156044006348,\n   1.842529058456421,\n   1.840903639793396,\n   1.8416543006896973,\n   1.8434514999389648,\n   1.8419023752212524,\n   1.84288489818573,\n   1.8407407999038696,\n   1.8396379947662354,\n   1.8407665491104126,\n   1.8434444665908813,\n   1.8403006792068481,\n   1.8409112691879272,\n   1.842647671699524,\n   1.8388742208480835,\n   1.8410732746124268,\n   1.843908429145813,\n   1.8418782949447632,\n   1.841651439666748,\n   1.8391039371490479,\n   1.84101140499115,\n   1.841598629951477,\n   1.8419843912124634,\n   1.842143177986145,\n   1.841351866722107,\n   1.8426512479782104,\n   1.8412402868270874,\n   1.841796636581421,\n   1.8408843278884888,\n   1.841247797012329,\n   1.8387455940246582,\n   1.8390858173370361,\n   1.8414052724838257,\n   1.8408076763153076,\n   1.8391705751419067,\n   1.8395518064498901,\n   1.8412997722625732,\n   1.8374048471450806,\n   1.841906189918518,\n   1.8406599760055542,\n   1.8394806385040283,\n   1.8400461673736572,\n   1.840922236442566,\n   1.8387854099273682,\n   1.8390958309173584,\n   1.8405826091766357,\n   1.8389816284179688,\n   1.8408313989639282,\n   1.8386268615722656,\n   1.8418010473251343,\n   1.8413574695587158,\n   1.840580940246582,\n   1.838236927986145,\n   1.8416303396224976,\n   1.8402990102767944,\n   1.840155839920044,\n   1.8377251625061035,\n   1.8417752981185913,\n   1.8424969911575317,\n   1.8369321823120117,\n   1.8416283130645752,\n   1.8431097269058228,\n   1.8401761054992676,\n   1.840458869934082,\n   1.8389034271240234,\n   1.8379878997802734,\n   1.8375487327575684,\n   1.837517499923706,\n   1.8397613763809204,\n   1.8394415378570557,\n   1.8399420976638794,\n   1.839068055152893,\n   1.8367998600006104,\n   1.8362928628921509,\n   1.8382720947265625,\n   1.8384512662887573,\n   1.8402034044265747,\n   1.8402493000030518,\n   1.8407912254333496,\n   1.8398641347885132,\n   1.8374279737472534,\n   1.8402700424194336,\n   1.8388811349868774,\n   1.838138222694397,\n   1.8393324613571167,\n   1.8388290405273438,\n   1.837880253791809,\n   1.840616226196289,\n   1.838322401046753,\n   1.838962197303772,\n   1.8376657962799072,\n   1.837975025177002,\n   1.837933897972107,\n   1.838991641998291,\n   1.8378185033798218,\n   1.8367424011230469,\n   1.8381589651107788,\n   1.838131308555603,\n   1.8375663757324219,\n   1.8390148878097534,\n   1.837674617767334,\n   1.8375509977340698,\n   1.8381612300872803,\n   1.841095209121704,\n   1.8385021686553955,\n   1.8397877216339111,\n   1.8420451879501343,\n   1.8388410806655884,\n   1.8375962972640991,\n   1.8407469987869263,\n   1.8398226499557495,\n   1.8404135704040527,\n   1.8383954763412476,\n   1.8396960496902466,\n   1.8395435810089111,\n   1.8379625082015991,\n   1.840059757232666,\n   1.8372881412506104,\n   1.8384474515914917,\n   1.8361014127731323,\n   1.8370214700698853,\n   1.8385114669799805,\n   1.8374136686325073,\n   1.8374719619750977,\n   1.8365755081176758,\n   1.8373721837997437,\n   1.8376060724258423,\n   1.8345372676849365,\n   1.8381762504577637,\n   1.8365830183029175,\n   1.8388800621032715,\n   1.8375173807144165,\n   1.8373245000839233,\n   1.838964581489563,\n   1.8412824869155884,\n   1.8372881412506104,\n   1.8390010595321655,\n   1.8388174772262573,\n   1.8391547203063965,\n   1.8379831314086914,\n   1.8366984128952026,\n   1.8366608619689941,\n   1.8393620252609253,\n   1.8361115455627441,\n   1.8385193347930908,\n   1.8362082242965698,\n   1.8394447565078735,\n   1.8364527225494385,\n   1.8365674018859863,\n   1.8376274108886719,\n   1.8362421989440918,\n   1.8373912572860718,\n   1.8376439809799194,\n   1.8372688293457031,\n   1.8392102718353271,\n   1.835193157196045,\n   1.8365589380264282,\n   1.8371009826660156,\n   1.836554765701294,\n   1.83731210231781,\n   1.837020754814148,\n   1.8367382287979126,\n   1.8365298509597778,\n   1.8373069763183594,\n   1.8345136642456055,\n   1.8369877338409424,\n   1.8362139463424683,\n   1.8342000246047974,\n   1.834191918373108,\n   1.8359057903289795,\n   1.8367518186569214,\n   1.8367794752120972,\n   1.8354055881500244,\n   1.8367958068847656,\n   1.8353532552719116,\n   1.8352243900299072,\n   1.8340195417404175,\n   1.838678002357483,\n   1.8352041244506836,\n   1.8359973430633545,\n   1.832851529121399,\n   1.83668053150177,\n   1.835976243019104,\n   1.835666537284851,\n   1.8342689275741577,\n   1.8376740217208862,\n   1.8349952697753906,\n   1.8362118005752563,\n   1.8368008136749268,\n   1.8359042406082153,\n   1.8359414339065552,\n   1.8355727195739746,\n   1.83556067943573,\n   1.8361455202102661,\n   1.834298014640808,\n   1.8336433172225952,\n   1.8376798629760742,\n   1.8342410326004028,\n   1.836381435394287,\n   1.8346282243728638,\n   1.8363089561462402,\n   1.8345224857330322,\n   1.8349018096923828,\n   1.8388047218322754,\n   1.834141492843628,\n   1.8355348110198975,\n   1.8361881971359253,\n   1.8352707624435425,\n   1.8346643447875977,\n   1.8361952304840088,\n   1.8352018594741821,\n   1.834168791770935,\n   1.8343297243118286,\n   1.8367122411727905,\n   1.8348791599273682,\n   1.8339675664901733,\n   1.833943247795105,\n   1.8356389999389648,\n   1.8340167999267578,\n   1.8360639810562134,\n   1.8343303203582764,\n   1.834477186203003,\n   1.8335375785827637,\n   1.8352099657058716,\n   1.834108829498291,\n   1.8348228931427002,\n   1.8358957767486572,\n   1.8348991870880127,\n   1.8357977867126465,\n   1.835433006286621,\n   1.834072232246399,\n   1.8337101936340332,\n   1.834471344947815,\n   1.8338223695755005,\n   1.8351565599441528,\n   1.8335729837417603,\n   1.8341172933578491,\n   1.8325854539871216,\n   1.8333353996276855,\n   1.8349775075912476,\n   1.8333346843719482,\n   1.83388090133667,\n   1.8320364952087402,\n   1.833022952079773,\n   1.8354763984680176,\n   1.83552885055542,\n   1.8344393968582153,\n   1.8353619575500488,\n   1.8352597951889038,\n   1.8344743251800537,\n   1.83368980884552,\n   1.8343459367752075,\n   1.832960844039917,\n   1.8341262340545654,\n   1.835472822189331,\n   1.8343862295150757,\n   1.832519769668579,\n   1.8332858085632324,\n   1.83246648311615,\n   1.8332642316818237,\n   1.834079384803772,\n   1.8336681127548218,\n   1.8326808214187622,\n   1.8338255882263184,\n   1.8328444957733154,\n   1.8331464529037476,\n   1.8314017057418823,\n   1.8345777988433838,\n   1.8332422971725464,\n   1.8334230184555054,\n   1.8331235647201538,\n   1.8344554901123047,\n   1.8326250314712524,\n   1.8328065872192383,\n   1.8336623907089233,\n   1.8327821493148804,\n   1.8353219032287598,\n   1.8308874368667603,\n   1.83048677444458,\n   1.831575870513916,\n   1.831068992614746,\n   1.832707166671753,\n   1.8329204320907593,\n   1.8323369026184082,\n   1.8323720693588257,\n   1.831791639328003,\n   1.8304661512374878,\n   1.8338098526000977,\n   1.830647587776184,\n   1.8320516347885132,\n   1.8325310945510864,\n   1.8333256244659424,\n   1.8351458311080933,\n   1.8309094905853271,\n   1.8313179016113281,\n   1.8309553861618042,\n   1.8326187133789062,\n   1.8293360471725464,\n   1.833043098449707,\n   1.8316981792449951,\n   1.8313632011413574,\n   1.8315045833587646,\n   1.8325680494308472,\n   1.8329508304595947,\n   1.8298101425170898,\n   1.8303509950637817,\n   1.833045244216919,\n   1.8313344717025757,\n   1.831776738166809,\n   1.8310503959655762,\n   1.8300288915634155,\n   1.8312225341796875,\n   1.8303794860839844,\n   1.8298614025115967,\n   1.8308050632476807,\n   1.829743504524231,\n   1.831606388092041,\n   1.831135630607605,\n   1.8316787481307983,\n   1.8325306177139282,\n   1.8301918506622314,\n   1.8306175470352173,\n   1.8332263231277466,\n   1.831822395324707,\n   1.8307781219482422,\n   1.8307465314865112,\n   1.8300801515579224,\n   1.8306598663330078,\n   1.8308002948760986,\n   1.8314636945724487,\n   1.8308959007263184,\n   1.8320393562316895,\n   1.8338038921356201,\n   1.8294333219528198,\n   1.8296217918395996,\n   1.8303940296173096,\n   1.8297114372253418,\n   1.8295180797576904,\n   1.8311339616775513,\n   1.829959750175476,\n   1.8294601440429688,\n   1.8316657543182373,\n   1.8299145698547363,\n   1.8294553756713867,\n   1.8271572589874268,\n   1.8300532102584839,\n   1.8300673961639404,\n   1.8296717405319214,\n   1.8295360803604126,\n   1.8326045274734497,\n   1.831078052520752,\n   1.8300490379333496,\n   1.8296927213668823,\n   1.8316144943237305,\n   1.8318709135055542,\n   1.8296555280685425,\n   1.8281750679016113,\n   1.8290659189224243,\n   1.8275729417800903,\n   1.8290659189224243,\n   1.8308862447738647,\n   1.8293062448501587,\n   1.8282222747802734,\n   1.8309661149978638,\n   1.8293880224227905,\n   1.8290009498596191,\n   1.8300377130508423,\n   1.8288077116012573,\n   1.8320586681365967,\n   1.8294371366500854,\n   1.8295044898986816,\n   1.828363060951233,\n   1.8290917873382568,\n   1.8289169073104858,\n   1.827968716621399,\n   1.8295782804489136,\n   1.8289483785629272,\n   1.8282594680786133,\n   1.828431248664856,\n   1.830294132232666,\n   1.8285056352615356,\n   1.8291600942611694,\n   1.8305386304855347,\n   1.8292206525802612,\n   1.8290214538574219,\n   1.8277785778045654,\n   1.828863263130188,\n   1.830125331878662,\n   1.8288904428482056,\n   1.8256794214248657,\n   1.8269305229187012,\n   1.829230546951294,\n   1.826213002204895,\n   1.8273253440856934,\n   1.8276937007904053,\n   1.8283040523529053,\n   1.828181266784668,\n   1.8281223773956299,\n   1.8257017135620117,\n   1.8276987075805664,\n   1.828658938407898,\n   1.8306337594985962,\n   1.828233242034912,\n   1.827848196029663,\n   1.8255090713500977,\n   1.8286162614822388,\n   1.8279682397842407,\n   1.8258533477783203,\n   1.8283727169036865],\n  'test_loss': 2.375696897506714},\n 'lr': [0.001,\n  0.001,\n  0.001,\n  0.001,\n  0.001,\n  0.001,\n  0.001,\n  0.001,\n  0.001,\n  0.001,\n  0.001,\n  0.001,\n  0.001,\n  0.001,\n  0.001,\n  0.001,\n  0.001,\n  0.001,\n  0.001,\n  0.001,\n  0.001,\n  0.001,\n  0.001,\n  0.001,\n  0.001,\n  0.001,\n  0.001,\n  0.001,\n  0.001,\n  0.001,\n  0.001,\n  0.001,\n  0.001,\n  0.001,\n  0.001,\n  0.001,\n  0.001,\n  0.001,\n  0.001,\n  0.001,\n  0.001,\n  0.001,\n  0.001,\n  0.001,\n  0.001,\n  0.001,\n  0.001,\n  0.001,\n  0.001,\n  0.001,\n  0.001,\n  0.001,\n  0.001,\n  0.001,\n  0.001,\n  0.001,\n  0.001,\n  0.001,\n  0.001,\n  0.001,\n  0.001,\n  0.001,\n  0.001,\n  0.001,\n  0.001,\n  0.001,\n  0.001,\n  0.001,\n  0.001,\n  0.001,\n  0.001,\n  0.001,\n  0.001,\n  0.001,\n  0.001,\n  0.001,\n  0.001,\n  0.001,\n  0.001,\n  0.001,\n  0.001,\n  0.001,\n  0.001,\n  0.001,\n  0.001,\n  0.001,\n  0.001,\n  0.001,\n  0.001,\n  0.001,\n  0.001,\n  0.001,\n  0.001,\n  0.001,\n  0.001,\n  0.001,\n  0.001,\n  0.001,\n  0.001,\n  0.001,\n  0.001,\n  0.001,\n  0.001,\n  0.001,\n  0.001,\n  0.001,\n  0.001,\n  0.001,\n  0.001,\n  0.001,\n  0.001,\n  0.001,\n  0.001,\n  0.001,\n  0.001,\n  0.001,\n  0.001,\n  0.001,\n  0.001,\n  0.001,\n  0.001,\n  0.001,\n  0.001,\n  0.001,\n  0.001,\n  0.001,\n  0.001,\n  0.001,\n  0.001,\n  0.001,\n  0.001,\n  0.001,\n  0.001,\n  0.001,\n  0.001,\n  0.001,\n  0.001,\n  0.001,\n  0.001,\n  0.001,\n  0.001,\n  0.001,\n  0.001,\n  0.001,\n  0.001,\n  0.001,\n  0.001,\n  0.001,\n  0.001,\n  0.001,\n  0.001,\n  0.001,\n  0.001,\n  0.001,\n  0.001,\n  0.001,\n  0.001,\n  0.001,\n  0.001,\n  0.001,\n  0.001,\n  0.001,\n  0.001,\n  0.001,\n  0.001,\n  0.001,\n  0.001,\n  0.001,\n  0.001,\n  0.001,\n  0.001,\n  0.001,\n  0.001,\n  0.001,\n  0.001,\n  0.001,\n  0.001,\n  0.001,\n  0.001,\n  0.001,\n  0.001,\n  0.001,\n  0.001,\n  0.001,\n  0.001,\n  0.001,\n  0.001,\n  0.001,\n  0.001,\n  0.001,\n  0.001,\n  0.001,\n  0.001,\n  0.001,\n  0.001,\n  0.001,\n  0.001,\n  0.001,\n  0.001,\n  0.001,\n  0.001,\n  0.001,\n  0.001,\n  0.001,\n  0.001,\n  0.001,\n  0.001,\n  0.001,\n  0.001,\n  0.001,\n  0.001,\n  0.001,\n  0.001,\n  0.001,\n  0.001,\n  0.001,\n  0.001,\n  0.001,\n  0.001,\n  0.001,\n  0.001,\n  0.001,\n  0.001,\n  0.001,\n  0.001,\n  0.001,\n  0.001,\n  0.001,\n  0.001,\n  0.001,\n  0.001,\n  0.001,\n  0.001,\n  0.001,\n  0.001,\n  0.001,\n  0.001,\n  0.001,\n  0.001,\n  0.001,\n  0.001,\n  0.001,\n  0.001,\n  0.001,\n  0.001,\n  0.001,\n  0.001,\n  0.001,\n  0.001,\n  0.001,\n  0.001,\n  0.001,\n  0.001,\n  0.001,\n  0.001,\n  0.001,\n  0.001,\n  0.001,\n  0.001,\n  0.001,\n  0.001,\n  0.001,\n  0.001,\n  0.001,\n  0.001,\n  0.001,\n  0.001,\n  0.001,\n  0.001,\n  0.001,\n  0.001,\n  0.001,\n  0.001,\n  0.001,\n  0.001,\n  0.001,\n  0.001,\n  0.001,\n  0.001,\n  0.001,\n  0.001,\n  0.001,\n  0.001,\n  0.001,\n  0.001,\n  0.001,\n  0.001,\n  0.001,\n  0.001,\n  0.001,\n  0.001,\n  0.001,\n  0.001,\n  0.001,\n  0.001,\n  0.001,\n  0.001,\n  0.001,\n  0.001,\n  0.001,\n  0.001,\n  0.001,\n  0.001,\n  0.001,\n  0.001,\n  0.001,\n  0.001,\n  0.001,\n  0.001,\n  0.001,\n  0.001,\n  0.001,\n  0.001,\n  0.001,\n  0.001,\n  0.001,\n  0.001,\n  0.001,\n  0.001,\n  0.001,\n  0.001,\n  0.001,\n  0.001,\n  0.001,\n  0.001,\n  0.001,\n  0.001,\n  0.001,\n  0.001,\n  0.001,\n  0.001,\n  0.001,\n  0.001,\n  0.001,\n  0.001,\n  0.001,\n  0.001,\n  0.001,\n  0.001,\n  0.001,\n  0.001,\n  0.001,\n  0.001,\n  0.001,\n  0.001,\n  0.001,\n  0.001,\n  0.001,\n  0.001,\n  0.001,\n  0.001,\n  0.001,\n  0.001,\n  0.001,\n  0.001,\n  0.001,\n  0.001,\n  0.001,\n  0.001,\n  0.001,\n  0.001,\n  0.001,\n  0.001,\n  0.001,\n  0.001,\n  0.001,\n  0.001,\n  0.001,\n  0.001,\n  0.001,\n  0.001,\n  0.001,\n  0.001,\n  0.001,\n  0.001,\n  0.001,\n  0.001,\n  0.001,\n  0.001,\n  0.001,\n  0.001,\n  0.001,\n  0.001,\n  0.001,\n  0.001,\n  0.001,\n  0.001,\n  0.001,\n  0.001,\n  0.001,\n  0.001,\n  0.001,\n  0.001,\n  0.001,\n  0.001,\n  0.001,\n  0.001,\n  0.001,\n  0.001,\n  0.001,\n  0.001,\n  0.001,\n  0.001,\n  0.001,\n  0.001,\n  0.001,\n  0.001,\n  0.001,\n  0.001,\n  0.001,\n  0.001,\n  0.001,\n  0.001,\n  0.001,\n  0.001,\n  0.001,\n  0.001,\n  0.001,\n  0.001,\n  0.001,\n  0.001,\n  0.001,\n  0.001,\n  0.001,\n  0.001,\n  0.001,\n  0.001,\n  0.001,\n  0.001,\n  0.001,\n  0.001,\n  0.001,\n  0.001,\n  0.001,\n  0.001,\n  0.001,\n  0.001,\n  0.001,\n  0.001,\n  0.001,\n  0.001,\n  0.001,\n  0.001,\n  0.001,\n  0.001,\n  0.001,\n  0.001,\n  0.001,\n  0.001,\n  0.001,\n  0.001,\n  0.001,\n  0.001,\n  0.001,\n  0.001,\n  0.001,\n  0.001,\n  0.001,\n  0.001,\n  0.001,\n  0.001,\n  0.001,\n  0.001,\n  0.001,\n  0.001,\n  0.001,\n  0.001,\n  0.001,\n  0.001,\n  0.001,\n  0.001,\n  0.001,\n  0.001,\n  0.001,\n  0.001,\n  0.001,\n  0.001,\n  0.001,\n  0.001,\n  0.001,\n  0.001,\n  0.001,\n  0.001,\n  0.001,\n  0.001,\n  0.001,\n  0.001,\n  0.001,\n  0.001,\n  0.001,\n  0.001,\n  0.001,\n  0.001,\n  0.001,\n  0.001,\n  0.001,\n  0.001,\n  0.001,\n  0.001,\n  0.001,\n  0.001,\n  0.001,\n  0.001,\n  0.001,\n  0.001,\n  0.001,\n  0.001,\n  0.001,\n  0.001,\n  0.001,\n  0.001,\n  0.001,\n  0.001,\n  0.001,\n  0.001,\n  0.001,\n  0.001,\n  0.001,\n  0.001,\n  0.001,\n  0.001,\n  0.001,\n  0.001,\n  0.001,\n  0.001,\n  0.001,\n  0.001,\n  0.001,\n  0.001,\n  0.001,\n  0.001,\n  0.001,\n  0.001,\n  0.001,\n  0.001,\n  0.001,\n  0.001,\n  0.001,\n  0.001,\n  0.001,\n  0.001,\n  0.001,\n  0.001,\n  0.001,\n  0.001,\n  0.001,\n  0.001,\n  0.001,\n  0.001,\n  0.001,\n  0.001,\n  0.001,\n  0.001,\n  0.001,\n  0.001,\n  0.001,\n  0.001,\n  0.001,\n  0.001,\n  0.001,\n  0.001,\n  0.001,\n  0.001,\n  0.001,\n  0.001,\n  0.001,\n  0.001,\n  0.001,\n  0.001,\n  0.001,\n  0.001,\n  0.001,\n  0.001,\n  0.001,\n  0.001,\n  0.001,\n  0.001,\n  0.001,\n  0.001,\n  0.001,\n  0.001,\n  0.001,\n  0.001,\n  0.001,\n  0.001,\n  0.001,\n  0.001,\n  0.001,\n  0.001,\n  0.001,\n  0.001,\n  0.001,\n  0.001,\n  0.001,\n  0.001,\n  0.001,\n  0.001,\n  0.001,\n  0.001,\n  0.001,\n  0.001,\n  0.001,\n  0.001,\n  0.001,\n  0.001,\n  0.001,\n  0.001,\n  0.001,\n  0.001,\n  0.001,\n  0.001,\n  0.001,\n  0.001,\n  0.001,\n  0.001,\n  0.001,\n  0.001,\n  0.001,\n  0.001,\n  0.001,\n  0.001,\n  0.001,\n  0.001,\n  0.001,\n  0.001,\n  0.001,\n  0.001,\n  0.001,\n  0.001,\n  0.001,\n  0.001,\n  0.001,\n  0.001,\n  0.001,\n  0.001,\n  0.001,\n  0.001,\n  0.001,\n  0.001,\n  0.001,\n  0.001,\n  0.001,\n  0.001,\n  0.001,\n  0.001,\n  0.001,\n  0.001,\n  0.001,\n  0.001,\n  0.001,\n  0.001,\n  0.001,\n  0.001,\n  0.001,\n  0.001,\n  0.001,\n  0.001,\n  0.001,\n  0.001,\n  0.001,\n  0.001,\n  0.001,\n  0.001,\n  0.001,\n  0.001,\n  0.001,\n  0.001,\n  0.001,\n  0.001,\n  0.001,\n  0.001,\n  0.001,\n  0.001,\n  0.001,\n  0.001,\n  0.001,\n  0.001,\n  0.001,\n  0.001,\n  0.001,\n  0.001,\n  0.001,\n  0.001,\n  0.001,\n  0.001,\n  0.001,\n  0.001,\n  0.001,\n  0.001,\n  0.001,\n  0.001,\n  0.001,\n  0.001,\n  0.001,\n  0.001,\n  0.001,\n  0.001,\n  0.001,\n  0.001,\n  0.001,\n  0.001,\n  0.001,\n  0.001,\n  0.001,\n  0.001,\n  0.001,\n  0.001,\n  0.001,\n  0.001,\n  0.001,\n  0.001,\n  0.001,\n  0.001,\n  0.001,\n  0.001,\n  0.001,\n  0.001,\n  0.001,\n  0.001,\n  0.001,\n  0.001,\n  0.001,\n  0.001,\n  0.001,\n  0.001,\n  0.001,\n  0.001,\n  0.001,\n  0.001,\n  0.001,\n  0.001,\n  0.001,\n  0.001,\n  0.001,\n  0.001,\n  0.001,\n  0.001,\n  0.001,\n  0.001,\n  0.001,\n  0.001,\n  0.001,\n  0.001,\n  0.001,\n  0.001,\n  0.001,\n  0.001,\n  0.001,\n  0.001,\n  0.001,\n  0.001,\n  0.001,\n  0.001,\n  0.001,\n  0.001,\n  0.001,\n  0.001,\n  0.001,\n  0.001,\n  0.001,\n  0.001,\n  0.001,\n  0.001,\n  0.001,\n  0.001,\n  0.001,\n  0.001,\n  0.001,\n  0.001,\n  0.001,\n  0.001,\n  0.001,\n  0.001,\n  0.001,\n  0.001,\n  0.001,\n  0.001,\n  0.001,\n  0.001,\n  0.001,\n  0.001,\n  0.001,\n  0.001,\n  0.001,\n  0.001,\n  0.001,\n  0.001,\n  0.001,\n  0.001,\n  0.001,\n  0.001,\n  0.001,\n  0.001,\n  0.001,\n  0.001,\n  0.001,\n  0.001,\n  0.001,\n  0.001,\n  0.001,\n  0.001,\n  0.001,\n  0.001,\n  0.001,\n  0.001,\n  0.001,\n  0.001,\n  0.001,\n  0.001,\n  0.001,\n  0.001,\n  0.001,\n  0.001,\n  0.001,\n  0.001,\n  0.001,\n  0.001,\n  0.001,\n  0.001,\n  0.001,\n  0.001,\n  0.001,\n  0.001,\n  0.001,\n  0.001,\n  0.001,\n  0.001,\n  0.001,\n  0.001,\n  0.001,\n  0.001,\n  0.001,\n  0.001,\n  0.001,\n  0.001,\n  0.001,\n  0.001,\n  0.001,\n  0.001,\n  0.001,\n  0.001,\n  0.001,\n  0.001,\n  0.001,\n  0.001,\n  0.001,\n  0.001,\n  0.001,\n  0.001,\n  0.001,\n  0.001,\n  0.001,\n  0.001,\n  0.001,\n  0.001,\n  0.001,\n  0.001,\n  0.001,\n  0.001,\n  0.001,\n  0.001,\n  0.001,\n  0.001,\n  0.001,\n  0.001,\n  0.001,\n  0.001,\n  0.001,\n  0.001,\n  0.001,\n  0.001,\n  0.001,\n  0.001,\n  0.001,\n  0.001,\n  0.001,\n  0.001,\n  0.001,\n  0.001,\n  0.001,\n  0.001,\n  0.001,\n  0.001,\n  0.001,\n  0.001,\n  0.001,\n  0.001,\n  0.001,\n  0.001,\n  0.001,\n  0.001,\n  0.001,\n  0.001,\n  0.001,\n  0.001,\n  0.001,\n  0.001,\n  0.001,\n  0.001,\n  0.001,\n  0.001,\n  0.001,\n  0.001,\n  0.001,\n  0.001,\n  0.001,\n  0.001,\n  0.001,\n  0.001,\n  0.001,\n  0.001,\n  0.001,\n  0.001,\n  0.001,\n  0.001,\n  0.001,\n  0.001,\n  0.001,\n  0.001,\n  0.001,\n  0.001,\n  0.001,\n  0.001,\n  0.001,\n  0.001,\n  0.001,\n  0.001,\n  0.001,\n  0.001,\n  0.001,\n  0.001,\n  0.001,\n  0.001,\n  0.001,\n  0.001,\n  0.001,\n  0.001,\n  0.001,\n  0.001,\n  0.001,\n  0.001,\n  0.001,\n  0.001,\n  0.001,\n  0.001,\n  0.001,\n  0.001,\n  0.001,\n  0.001,\n  0.001,\n  0.001,\n  0.001,\n  0.001,\n  0.001,\n  0.001,\n  0.001,\n  0.001,\n  0.001,\n  0.001,\n  0.001,\n  0.001,\n  0.001,\n  0.001,\n  0.001,\n  0.001,\n  0.001,\n  0.001,\n  0.001,\n  0.001,\n  0.001,\n  0.001,\n  0.001,\n  0.001,\n  0.001,\n  0.001,\n  0.001,\n  0.001,\n  0.001,\n  0.001,\n  0.001,\n  0.001,\n  0.001,\n  0.001,\n  0.001,\n  0.001,\n  0.001,\n  0.001,\n  0.001,\n  0.001,\n  0.001,\n  0.001,\n  0.001,\n  0.001,\n  0.001,\n  0.001,\n  0.001,\n  0.001,\n  0.001,\n  0.001,\n  0.001],\n 'outputs': {'pred_train': array([[1.0000000e+00, 9.9998736e-01, 9.9886203e-01, ..., 2.9161120e-08,\n          5.8543704e-16, 7.8417014e-15],\n         [1.1437627e-03, 1.8790571e-33, 1.6102293e-28, ..., 0.0000000e+00,\n          9.9999750e-01, 0.0000000e+00],\n         [0.0000000e+00, 1.0000000e+00, 1.9524331e-35, ..., 0.0000000e+00,\n          1.8034423e-02, 8.2931122e-22],\n         ...,\n         [1.0000000e+00, 1.0000000e+00, 9.9999869e-01, ..., 1.0000000e+00,\n          9.9999785e-01, 1.0000000e+00],\n         [1.0000000e+00, 1.0000000e+00, 4.9982512e-01, ..., 1.0000000e+00,\n          1.0000000e+00, 1.0000000e+00],\n         [5.4866100e-06, 1.6746677e-04, 2.2567561e-02, ..., 7.7742079e-05,\n          1.1567594e-02, 3.3674490e-01]], dtype=float32),\n  'label_train': array([2, 4, 7, ..., 5, 7, 9]),\n  'pred_test': array([[1.3759462e-22, 1.6022422e-17, 0.0000000e+00, ..., 0.0000000e+00,\n          2.7853610e-27, 1.0000000e+00],\n         [9.9999881e-01, 1.0000000e+00, 1.0000000e+00, ..., 1.7007320e-16,\n          1.6115485e-23, 2.3053521e-03],\n         [0.0000000e+00, 1.0000000e+00, 1.6089563e-23, ..., 0.0000000e+00,\n          2.6975684e-24, 9.9023777e-01],\n         ...,\n         [1.0000000e+00, 1.0000000e+00, 1.0000000e+00, ..., 1.0000000e+00,\n          1.0000000e+00, 1.0000000e+00],\n         [1.0000000e+00, 1.0000000e+00, 3.8899967e-18, ..., 1.0000000e+00,\n          1.0000000e+00, 1.0000000e+00],\n         [9.7449231e-01, 1.8161369e-02, 1.4232903e-09, ..., 2.0166023e-02,\n          2.4084758e-02, 6.9355881e-01]], dtype=float32),\n  'label_test': array([0, 2, 6, ..., 1, 1, 1])}}"
     },
     "execution_count": 54,
     "metadata": {},
     "output_type": "execute_result"
    }
   ],
   "source": [
    "obj"
   ],
   "metadata": {
    "collapsed": false,
    "ExecuteTime": {
     "end_time": "2024-04-16T09:53:07.868434Z",
     "start_time": "2024-04-16T09:53:07.793510Z"
    }
   },
   "id": "d8ce29c2f841ada5",
   "execution_count": 54
  },
  {
   "cell_type": "code",
   "outputs": [
    {
     "data": {
      "text/plain": "2.375696897506714"
     },
     "execution_count": 56,
     "metadata": {},
     "output_type": "execute_result"
    }
   ],
   "source": [
    "obj['curves'].pop('test_loss')\n"
   ],
   "metadata": {
    "collapsed": false,
    "ExecuteTime": {
     "end_time": "2024-04-16T09:55:41.376678Z",
     "start_time": "2024-04-16T09:55:41.322244Z"
    }
   },
   "id": "78e5cb4e89cdc0eb",
   "execution_count": 56
  },
  {
   "cell_type": "code",
   "outputs": [],
   "source": [
    "from utils import plot_utils"
   ],
   "metadata": {
    "collapsed": false,
    "ExecuteTime": {
     "end_time": "2024-04-16T09:56:18.594288Z",
     "start_time": "2024-04-16T09:56:17.893101Z"
    }
   },
   "id": "be927fbdce38aa66",
   "execution_count": 57
  },
  {
   "cell_type": "code",
   "outputs": [],
   "source": [
    "from utils.plot_utils import plot_curve, plot_sample\n"
   ],
   "metadata": {
    "collapsed": false,
    "ExecuteTime": {
     "end_time": "2024-04-16T09:56:51.116283Z",
     "start_time": "2024-04-16T09:56:51.091722Z"
    }
   },
   "id": "89f5b7bdc43d8b74",
   "execution_count": 58
  },
  {
   "cell_type": "code",
   "outputs": [],
   "source": [
    "    plot_curve(obj['curves'], log_path + 'curves.png', keys=None,\n",
    "               clip=True, label_min=True, label_end=True)\n",
    "plot_curve(obj, log_path + 'lr.png', keys=['lr'],\n",
    "           clip=False, label_min=False, label_end=False)\n",
    "plot_sample(obj['outputs'], log_path + 'outputs.png',\n",
    "            groups=[['pred_train', 'label_train'],\n",
    "                    ['pred_test', 'label_test']\n",
    "                    ],\n",
    "            num_points=20)"
   ],
   "metadata": {
    "collapsed": false,
    "ExecuteTime": {
     "end_time": "2024-04-16T09:57:18.085430Z",
     "start_time": "2024-04-16T09:57:17.364553Z"
    }
   },
   "id": "c110bba0e61445fa",
   "execution_count": 59
  },
  {
   "cell_type": "code",
   "outputs": [],
   "source": [
    "l = range(1000)\n",
    "d = {'k1': l}\n",
    "from utils.plot_utils import plot_curve\n",
    "\n",
    "plot_curve(d, './test')"
   ],
   "metadata": {
    "collapsed": false,
    "ExecuteTime": {
     "end_time": "2024-04-17T03:42:58.728543Z",
     "start_time": "2024-04-17T03:42:58.620490Z"
    }
   },
   "id": "cc46924e72f70fdf",
   "execution_count": 62
  },
  {
   "cell_type": "code",
   "outputs": [
    {
     "name": "stdout",
     "output_type": "stream",
     "text": [
      "[[ 1. nan nan]\n",
      " [nan nan nan]\n",
      " [nan nan  9.]]\n"
     ]
    }
   ],
   "source": [
    "import numpy as np\n",
    "\n",
    "# Example NumPy array\n",
    "arr = np.array([\n",
    "    [1, 2, 3],\n",
    "    [4, 5, 6],\n",
    "    [7, 8, 9]\n",
    "])\n",
    "\n",
    "# Define probability\n",
    "probability = 0.4\n",
    "\n",
    "# Create a random mask\n",
    "mask = np.random.rand(*arr.shape) < probability\n",
    "\n",
    "# Apply the mask to the array\n",
    "masked_arr = np.where(mask, arr, np.nan)\n",
    "\n",
    "# Display the masked array\n",
    "print(masked_arr)\n"
   ],
   "metadata": {
    "collapsed": false,
    "ExecuteTime": {
     "end_time": "2024-04-18T02:53:04.582648Z",
     "start_time": "2024-04-18T02:53:04.572774Z"
    }
   },
   "id": "e2663ad1b1d2d23f",
   "execution_count": 66
  },
  {
   "cell_type": "code",
   "outputs": [],
   "source": [],
   "metadata": {
    "collapsed": false
   },
   "id": "11ca5f241b4f79f0"
  },
  {
   "cell_type": "code",
   "outputs": [],
   "source": [],
   "metadata": {
    "collapsed": false,
    "ExecuteTime": {
     "end_time": "2024-04-18T02:53:00.738655Z",
     "start_time": "2024-04-18T02:53:00.715978Z"
    }
   },
   "id": "c14ce5db6322e882",
   "execution_count": 65
  },
  {
   "cell_type": "code",
   "outputs": [],
   "source": [
    "import pandas as pd"
   ],
   "metadata": {
    "collapsed": false,
    "ExecuteTime": {
     "end_time": "2024-04-20T04:30:17.271163Z",
     "start_time": "2024-04-20T04:30:16.478459Z"
    }
   },
   "id": "1423329874d87caa",
   "execution_count": 1
  },
  {
   "cell_type": "code",
   "outputs": [],
   "source": [
    "df = pd.read_hdf('./uci/raw_data/property_type/data/clean_feature_set.hdf', key='s')"
   ],
   "metadata": {
    "collapsed": false,
    "ExecuteTime": {
     "end_time": "2024-04-20T04:31:41.524515Z",
     "start_time": "2024-04-20T04:31:40.626693Z"
    }
   },
   "id": "dbf0d697bdc9dab4",
   "execution_count": 3
  },
  {
   "cell_type": "code",
   "outputs": [
    {
     "data": {
      "text/plain": "(40370, 494)"
     },
     "execution_count": 4,
     "metadata": {},
     "output_type": "execute_result"
    }
   ],
   "source": [
    "df.shape"
   ],
   "metadata": {
    "collapsed": false,
    "ExecuteTime": {
     "end_time": "2024-04-20T04:31:47.153962Z",
     "start_time": "2024-04-20T04:31:47.119429Z"
    }
   },
   "id": "aca4aa801792db23",
   "execution_count": 4
  },
  {
   "cell_type": "code",
   "outputs": [
    {
     "data": {
      "text/plain": "Index(['ACT', 'NSW', 'NT', 'QLD', 'SA', 'TAS', 'VIC', 'WA', 'CL_BATH_NUMBER',\n       'CL_BED_ROOM_NUMBER',\n       ...\n       'PP_PROPERTY_TYPE_CATEGORY_Apartment/Unit',\n       'PP_PROPERTY_TYPE_CATEGORY_Business/Commercial',\n       'PP_PROPERTY_TYPE_CATEGORY_Development/Land',\n       'PP_PROPERTY_TYPE_CATEGORY_Factory, Warehouse & Industrial',\n       'PP_PROPERTY_TYPE_CATEGORY_House',\n       'PP_PROPERTY_TYPE_CATEGORY_Other Residential',\n       'PP_PROPERTY_TYPE_CATEGORY_Rural/Farming',\n       'PP_PROPERTY_TYPE_CATEGORY_Townhouse',\n       'PP_PROPERTY_TYPE_CATEGORY_UNKNOWN', 'Y'],\n      dtype='object', length=494)"
     },
     "execution_count": 5,
     "metadata": {},
     "output_type": "execute_result"
    }
   ],
   "source": [
    "df.columns"
   ],
   "metadata": {
    "collapsed": false,
    "ExecuteTime": {
     "end_time": "2024-04-20T04:31:52.723360Z",
     "start_time": "2024-04-20T04:31:52.695428Z"
    }
   },
   "id": "36797bbedd8ecbd8",
   "execution_count": 5
  },
  {
   "cell_type": "code",
   "outputs": [
    {
     "name": "stdout",
     "output_type": "stream",
     "text": [
      "Index(['ACT', 'NSW', 'NT', 'QLD', 'SA', 'TAS', 'VIC', 'WA', 'CL_BATH_NUMBER',\n",
      "       'CL_BED_ROOM_NUMBER',\n",
      "       ...\n",
      "       'PP_PROPERTY_TYPE_CATEGORY_Apartment/Unit',\n",
      "       'PP_PROPERTY_TYPE_CATEGORY_Business/Commercial',\n",
      "       'PP_PROPERTY_TYPE_CATEGORY_Development/Land',\n",
      "       'PP_PROPERTY_TYPE_CATEGORY_Factory, Warehouse & Industrial',\n",
      "       'PP_PROPERTY_TYPE_CATEGORY_House',\n",
      "       'PP_PROPERTY_TYPE_CATEGORY_Other Residential',\n",
      "       'PP_PROPERTY_TYPE_CATEGORY_Rural/Farming',\n",
      "       'PP_PROPERTY_TYPE_CATEGORY_Townhouse',\n",
      "       'PP_PROPERTY_TYPE_CATEGORY_UNKNOWN', 'Y'],\n",
      "      dtype='object', length=494)\n"
     ]
    }
   ],
   "source": [
    "print(df.columns)"
   ],
   "metadata": {
    "collapsed": false,
    "ExecuteTime": {
     "end_time": "2024-04-20T04:32:16.318022Z",
     "start_time": "2024-04-20T04:32:16.290277Z"
    }
   },
   "id": "906796583785b730",
   "execution_count": 6
  },
  {
   "cell_type": "code",
   "outputs": [
    {
     "name": "stdout",
     "output_type": "stream",
     "text": [
      "     A     B      C  Average\n",
      "0  1.0  10.0  100.0     37.0\n",
      "1  NaN  20.0  200.0    110.0\n",
      "2  NaN   NaN  300.0    300.0\n",
      "3  NaN   NaN    NaN      NaN\n",
      "4  5.0  50.0  500.0    185.0\n"
     ]
    }
   ],
   "source": [
    "import pandas as pd\n",
    "import numpy as np\n",
    "\n",
    "# Example DataFrame\n",
    "df = pd.DataFrame({'A': [1, np.nan, np.nan, np.nan, 5],\n",
    "                   'B': [10, 20, np.nan, np.nan, 50],\n",
    "                   'C': [100, 200, 300, np.nan, 500]})\n",
    "\n",
    "\n",
    "# Define a function to calculate average of non-null values across three columns\n",
    "def calculate_average(row):\n",
    "    values = [value for value in row if not pd.isnull(value)]\n",
    "    if values:\n",
    "        return sum(values) / len(values)\n",
    "    else:\n",
    "        return np.nan\n",
    "\n",
    "\n",
    "# Apply the function to create the 'Average' column\n",
    "df['Average'] = df.apply(lambda row: calculate_average(row[['A', 'B', 'C']]), axis=1)\n",
    "\n",
    "print(df)\n"
   ],
   "metadata": {
    "collapsed": false,
    "ExecuteTime": {
     "end_time": "2024-04-20T08:37:12.787919Z",
     "start_time": "2024-04-20T08:37:12.753129Z"
    }
   },
   "id": "f6caa5c30d01f6cd",
   "execution_count": 7
  },
  {
   "cell_type": "code",
   "outputs": [],
   "source": [
    "import pandas as pd\n",
    "\n",
    "df = pd.read_hdf('./gat/data/GAT_clean_df_sorted.hdf', key='s')\n"
   ],
   "metadata": {
    "collapsed": false,
    "ExecuteTime": {
     "end_time": "2024-05-11T06:11:07.007507Z",
     "start_time": "2024-05-11T06:11:01.614283Z"
    }
   },
   "id": "d054e7c5f7dcbdeb",
   "execution_count": 1
  },
  {
   "cell_type": "code",
   "outputs": [],
   "source": [
    "l = len(df)"
   ],
   "metadata": {
    "collapsed": false,
    "ExecuteTime": {
     "end_time": "2024-05-11T06:11:32.265622Z",
     "start_time": "2024-05-11T06:11:32.145719Z"
    }
   },
   "id": "2bb3c05e1c09d696",
   "execution_count": 2
  },
  {
   "cell_type": "code",
   "outputs": [
    {
     "data": {
      "text/plain": "1572590"
     },
     "execution_count": 3,
     "metadata": {},
     "output_type": "execute_result"
    }
   ],
   "source": [
    "l"
   ],
   "metadata": {
    "collapsed": false,
    "ExecuteTime": {
     "end_time": "2024-05-11T06:11:37.820883Z",
     "start_time": "2024-05-11T06:11:37.760277Z"
    }
   },
   "id": "4dac42f5842cf27d",
   "execution_count": 3
  },
  {
   "cell_type": "code",
   "outputs": [
    {
     "data": {
      "text/plain": "CL_FLOOR_AREA                                  379526\nCL_LAND_SIZE                                   178844\nCL_YEAR_BUILT                                  449631\nREA_LAND_SIZE                                  152068\nNEARMAP_PARCEL_AREA_SQM                        631847\n                                                ...  \nPP_PROPERTY_TYPE_CATEGORY_Other Residential         0\nPP_PROPERTY_TYPE_CATEGORY_Rural/Farming             0\nPP_PROPERTY_TYPE_CATEGORY_Townhouse                 0\nPP_PROPERTY_TYPE_CATEGORY_UNKNOWN                   0\nY                                                   0\nLength: 84, dtype: int64"
     },
     "execution_count": 4,
     "metadata": {},
     "output_type": "execute_result"
    }
   ],
   "source": [
    "df.isnull().sum()\n"
   ],
   "metadata": {
    "collapsed": false,
    "ExecuteTime": {
     "end_time": "2024-05-11T06:12:09.642919Z",
     "start_time": "2024-05-11T06:12:09.380466Z"
    }
   },
   "id": "ee30bed21eab21d8",
   "execution_count": 4
  },
  {
   "cell_type": "code",
   "outputs": [
    {
     "data": {
      "text/plain": "24779     1.766275\n37261     3.236926\n31269     2.121665\n26288     2.037353\n12567    -0.546425\n           ...    \n39368     4.956243\n3555     20.272145\n10563    -0.060832\n1258     -0.254002\n36405     0.259338\nName: REA_LAND_SIZE, Length: 40370, dtype: float64"
     },
     "execution_count": 11,
     "metadata": {},
     "output_type": "execute_result"
    }
   ],
   "source": [
    "df['REA_LAND_SIZE']\n"
   ],
   "metadata": {
    "collapsed": false,
    "ExecuteTime": {
     "end_time": "2024-04-23T12:14:04.286619Z",
     "start_time": "2024-04-23T12:14:04.194988Z"
    }
   },
   "id": "da086d3daa2af2a4",
   "execution_count": 11
  },
  {
   "cell_type": "code",
   "outputs": [],
   "source": [],
   "metadata": {
    "collapsed": false
   },
   "id": "337a8c7872dd2488"
  },
  {
   "cell_type": "code",
   "outputs": [],
   "source": [
    "import pandas as pd\n",
    "\n",
    "df = pd.read_hdf('./gat_autoencoder/data/clean_df_sorted.hdf', key='s')"
   ],
   "metadata": {
    "collapsed": false,
    "ExecuteTime": {
     "end_time": "2024-05-24T00:29:00.081953Z",
     "start_time": "2024-05-24T00:28:56.515961Z"
    }
   },
   "id": "d8520d72e374353b",
   "execution_count": 1
  },
  {
   "cell_type": "code",
   "outputs": [
    {
     "data": {
      "text/plain": "CL_FLOOR_AREA                      0.000938\nCL_LAND_SIZE                       0.000146\nREA_LAND_SIZE                      0.000009\nNEARMAP_PARCEL_AREA_SQM            0.001763\nNEARMAP_BUILDING_COUNT             0.013699\nNEARMAP_BUILDING_TOTAL_AREA_SQM    0.039919\nLAND_SIZE                          0.000517\nBUILDING_SIZE                      0.026728\nTOTAL_BUILDING_SIZE                0.035685\nROOF_HEIGHT                        0.385719\nEAVE_HEIGHT                        0.386207\nESTIMATED_LEVELS                   0.277108\nREA_COUNT_ROWS                          0.0\nAVG_BED                            0.061644\nAVG_BATH                             0.0004\nAVG_CAR                            0.070796\nName: 171003, dtype: object"
     },
     "execution_count": 4,
     "metadata": {},
     "output_type": "execute_result"
    }
   ],
   "source": [
    "df.iloc[0, :16]"
   ],
   "metadata": {
    "collapsed": false,
    "ExecuteTime": {
     "end_time": "2024-05-24T00:30:19.563541Z",
     "start_time": "2024-05-24T00:30:19.514954Z"
    }
   },
   "id": "234a0aa94dfc90c1",
   "execution_count": 4
  },
  {
   "cell_type": "code",
   "outputs": [
    {
     "data": {
      "text/plain": "CL_FLOOR_AREA                                                 275\nCL_LAND_SIZE                                                  298\nREA_LAND_SIZE                                                 192\nNEARMAP_PARCEL_AREA_SQM                                         0\nNEARMAP_BUILDING_COUNT                                       1265\nNEARMAP_BUILDING_TOTAL_AREA_SQM                                 2\nHAS_SUFFIX                                                      0\nHAS_NUMBER_FIRST                                                0\nHAS_NUMBER_LAST                                                 0\nLAND_SIZE                                                       0\nBUILDING_SIZE                                                  55\nTOTAL_BUILDING_SIZE                                             0\nROOF_HEIGHT                                                    71\nEAVE_HEIGHT                                                     0\nESTIMATED_LEVELS                                                0\nSWIMMING_POOL_PRESENT                                           0\nFROM_PROP_PROPERTY                                              0\nFROM_CORELOGIC                                                  0\nFROM_REA                                                        0\nREA_COUNT_ROWS                                                  0\nCL_EQ_HPG                                                       0\nBUILDING_NAME                                                   0\nLEVEL_NUMBER                                                    0\nPRIMARY_ROOF_MATERIAL_-1                                        0\nPRIMARY_ROOF_MATERIAL_FIBERGLASS/PLASTIC                        0\nPRIMARY_ROOF_MATERIAL_FLAT CONCRETE                             0\nPRIMARY_ROOF_MATERIAL_METAL                                     0\nPRIMARY_ROOF_MATERIAL_TILE                                      0\nROOF_SHAPE_-1                                                   0\nROOF_SHAPE_FLAT                                                 0\nROOF_SHAPE_GABLED                                               0\nROOF_SHAPE_HIPPED                                               0\nROOF_SHAPE_MANSARD                                              0\nROOF_SHAPE_MIXED                                                0\nROOF_SHAPE_OTHER                                                0\nROOF_SHAPE_SHED                                                 0\nAVG_BED                                                       410\nAVG_BATH                                                        0\nAVG_CAR                                                         0\nPP_PROPERTY_TYPE_CATEGORY_Apartment/Unit                        0\nPP_PROPERTY_TYPE_CATEGORY_Business/Commercial                   0\nPP_PROPERTY_TYPE_CATEGORY_Development/Land                      0\nPP_PROPERTY_TYPE_CATEGORY_Factory, Warehouse & Industrial       0\nPP_PROPERTY_TYPE_CATEGORY_House                                 0\nPP_PROPERTY_TYPE_CATEGORY_Other Residential                     0\nPP_PROPERTY_TYPE_CATEGORY_Rural/Farming                         0\nPP_PROPERTY_TYPE_CATEGORY_Townhouse                             0\nPP_PROPERTY_TYPE_CATEGORY_UNKNOWN                               0\nCL_PROPERTY_TYPE_CATEGORY_Apartment/Unit                        0\nCL_PROPERTY_TYPE_CATEGORY_House                                 0\nCL_PROPERTY_TYPE_CATEGORY_Rural/Farming                         0\nCL_PROPERTY_TYPE_CATEGORY_Townhouse                             0\ndtype: int64"
     },
     "execution_count": 8,
     "metadata": {},
     "output_type": "execute_result"
    }
   ],
   "source": [
    "(df == -1).sum()\n"
   ],
   "metadata": {
    "collapsed": false,
    "ExecuteTime": {
     "end_time": "2024-05-14T06:04:36.556349Z",
     "start_time": "2024-05-14T06:04:36.471206Z"
    }
   },
   "id": "c33770bd2d2d76",
   "execution_count": 8
  },
  {
   "cell_type": "code",
   "outputs": [],
   "source": [],
   "metadata": {
    "collapsed": false
   },
   "id": "640730c33baab298"
  },
  {
   "cell_type": "code",
   "outputs": [
    {
     "ename": "IndexError",
     "evalue": "boolean index did not match indexed array along dimension 0; dimension is 5 but corresponding boolean dimension is 9",
     "output_type": "error",
     "traceback": [
      "\u001B[0;31m---------------------------------------------------------------------------\u001B[0m",
      "\u001B[0;31mIndexError\u001B[0m                                Traceback (most recent call last)",
      "\u001B[0;32m/var/folders/bl/bhxc9rps0xsb8c84q3j7djcc0000gp/T/ipykernel_86167/3295861983.py\u001B[0m in \u001B[0;36m<module>\u001B[0;34m\u001B[0m\n\u001B[1;32m     18\u001B[0m \u001B[0;34m\u001B[0m\u001B[0m\n\u001B[1;32m     19\u001B[0m \u001B[0;31m# Filter values based on the mask\u001B[0m\u001B[0;34m\u001B[0m\u001B[0;34m\u001B[0m\u001B[0;34m\u001B[0m\u001B[0m\n\u001B[0;32m---> 20\u001B[0;31m \u001B[0mfiltered_values\u001B[0m \u001B[0;34m=\u001B[0m \u001B[0mvalues_to_use\u001B[0m\u001B[0;34m[\u001B[0m\u001B[0mflat_mask\u001B[0m\u001B[0;34m]\u001B[0m\u001B[0;34m\u001B[0m\u001B[0;34m\u001B[0m\u001B[0m\n\u001B[0m\u001B[1;32m     21\u001B[0m \u001B[0;34m\u001B[0m\u001B[0m\n\u001B[1;32m     22\u001B[0m \u001B[0;31m# Create a DataFrame with the desired shape and fill it with the filtered values\u001B[0m\u001B[0;34m\u001B[0m\u001B[0;34m\u001B[0m\u001B[0;34m\u001B[0m\u001B[0m\n",
      "\u001B[0;31mIndexError\u001B[0m: boolean index did not match indexed array along dimension 0; dimension is 5 but corresponding boolean dimension is 9"
     ]
    }
   ],
   "source": [
    "import numpy as np\n",
    "import pandas as pd\n",
    "\n",
    "# Example mask, df shape, and values list\n",
    "mask = np.array([[True, False, True],\n",
    "                 [False, True, False],\n",
    "                 [True, True, False]])\n",
    "df_shape = (3, 3)\n",
    "values = [1, 2, 3, 4, 5]\n",
    "\n",
    "# Flatten the mask and values list\n",
    "flat_mask = mask.flatten()\n",
    "flat_values = np.array(values)\n",
    "\n",
    "# Adjust the size of the values list to match the size of the mask\n",
    "num_elements_mask = flat_mask.size\n",
    "values_to_use = flat_values[:num_elements_mask]\n",
    "\n",
    "# Filter values based on the mask\n",
    "filtered_values = values_to_use[flat_mask]\n",
    "\n",
    "# Create a DataFrame with the desired shape and fill it with the filtered values\n",
    "reconstructed_df = pd.DataFrame(np.nan, index=range(df_shape[0]), columns=range(df_shape[1]))\n",
    "reconstructed_df.values.flat[:len(filtered_values)] = filtered_values\n",
    "\n",
    "print(\"Reconstructed DataFrame:\")\n",
    "print(reconstructed_df)\n"
   ],
   "metadata": {
    "collapsed": false,
    "ExecuteTime": {
     "end_time": "2024-05-15T05:17:46.183588Z",
     "start_time": "2024-05-15T05:17:46.157801Z"
    }
   },
   "id": "61980532e576a38a",
   "execution_count": 10
  },
  {
   "cell_type": "code",
   "outputs": [],
   "source": [
    "import numpy as np\n",
    "import matplotlib.pyplot as plt\n",
    "import joblib as jl\n",
    "\n",
    "arr = jl.load('gat_autoencoder/avg_diff.ndarray')\n"
   ],
   "metadata": {
    "collapsed": false,
    "ExecuteTime": {
     "end_time": "2024-05-15T06:49:27.173658Z",
     "start_time": "2024-05-15T06:49:25.887918Z"
    }
   },
   "id": "3cf0523444d0b0da",
   "execution_count": 11
  },
  {
   "cell_type": "code",
   "outputs": [
    {
     "data": {
      "text/plain": "<Figure size 2000x600 with 1 Axes>",
      "image/png": "[encoded data removed]"
     },
     "metadata": {},
     "output_type": "display_data"
    }
   ],
   "source": [
    "plt.figure(figsize=(20, 6))  # Adjust the width and height as needed\n",
    "\n",
    "# plt.bar(arr, 10)\n",
    "plt.bar(range(len(arr)), arr)\n",
    "\n",
    "plt.savefig('tt.pdf')"
   ],
   "metadata": {
    "collapsed": false,
    "ExecuteTime": {
     "end_time": "2024-05-15T06:54:42.615378Z",
     "start_time": "2024-05-15T06:54:42.076353Z"
    }
   },
   "id": "1900b658daeec6ad",
   "execution_count": 20
  },
  {
   "cell_type": "code",
   "outputs": [
    {
     "ename": "IndexError",
     "evalue": "too many indices for array: array is 1-dimensional, but 2 were indexed",
     "output_type": "error",
     "traceback": [
      "\u001B[0;31m---------------------------------------------------------------------------\u001B[0m",
      "\u001B[0;31mIndexError\u001B[0m                                Traceback (most recent call last)",
      "\u001B[0;32m/var/folders/bl/bhxc9rps0xsb8c84q3j7djcc0000gp/T/ipykernel_86167/2993463782.py\u001B[0m in \u001B[0;36m<module>\u001B[0;34m\u001B[0m\n\u001B[0;32m----> 1\u001B[0;31m \u001B[0marr\u001B[0m\u001B[0;34m[\u001B[0m\u001B[0;34m:\u001B[0m\u001B[0;36m50\u001B[0m\u001B[0;34m,\u001B[0m \u001B[0;36m9\u001B[0m\u001B[0;34m]\u001B[0m\u001B[0;34m\u001B[0m\u001B[0;34m\u001B[0m\u001B[0m\n\u001B[0m",
      "\u001B[0;31mIndexError\u001B[0m: too many indices for array: array is 1-dimensional, but 2 were indexed"
     ]
    }
   ],
   "source": [],
   "metadata": {
    "collapsed": false,
    "ExecuteTime": {
     "end_time": "2024-05-15T06:53:12.070864Z",
     "start_time": "2024-05-15T06:53:12.039167Z"
    }
   },
   "id": "376235a45941b879",
   "execution_count": 17
  },
  {
   "cell_type": "code",
   "outputs": [],
   "source": [
    "df = pd.read_hdf('data/log_minmax_clean_df_sorted.hdf')"
   ],
   "metadata": {
    "collapsed": false,
    "ExecuteTime": {
     "end_time": "2024-09-07T08:09:47.261685Z",
     "start_time": "2024-09-07T08:09:43.758104Z"
    }
   },
   "id": "362c57dac5377bb1",
   "execution_count": 2
  },
  {
   "cell_type": "code",
   "outputs": [
    {
     "data": {
      "text/plain": "        CL_FLOOR_AREA  NEARMAP_PARCEL_AREA_SQM  NEARMAP_BUILDING_COUNT  \\\n300885       0.673876                 0.515618                0.366726   \n324593       0.594527                 0.548744                0.231378   \n144893       0.609410                 0.633682                0.366726   \n319248       0.645060                 0.501405                0.231378   \n321042       0.645060                 0.559219                0.231378   \n...               ...                      ...                     ...   \n178177       0.585641                 0.419596                0.231378   \n357915       0.613193                 0.432401                0.231378   \n351076       0.677741                 0.485178                0.366726   \n246123       0.721969                 0.725590                0.537244   \n322621       0.646032                 0.487737                0.366726   \n\n        NEARMAP_BUILDING_TOTAL_AREA_SQM  BUILDING_SIZE  TOTAL_BUILDING_SIZE  \\\n300885                         0.753616       0.690969             0.743608   \n324593                         0.737078       0.781978             0.738713   \n144893                         0.929586       0.924883             0.891271   \n319248                         0.886275       0.747209             0.888240   \n321042                         0.696695       0.751033             0.698240   \n...                                 ...            ...                  ...   \n178177                         0.543078       0.585314             0.544283   \n357915                         0.544473       0.586938             0.545680   \n351076                         0.592307       0.627993             0.583849   \n246123                         0.667383       0.648041             0.602488   \n322621                         0.583438       0.610792             0.567858   \n\n        ROOF_HEIGHT  EAVE_HEIGHT  ESTIMATED_LEVELS   AVG_BED  ...  \\\n300885     0.823344     0.829165          0.673617  0.507795  ...   \n324593     0.668862     0.679775          0.454660  0.335634  ...   \n144893     0.549541     0.564386          0.334114  0.402418  ...   \n319248     0.541206     0.556326          0.334114  0.402418  ...   \n321042     0.481456     0.498545          0.244377  0.253897  ...   \n...             ...          ...               ...       ...  ...   \n178177     0.337486     0.226444          0.000000  0.402418  ...   \n357915     0.378683     0.332690          0.108138  0.402418  ...   \n351076     0.380726     0.226444          0.108138  0.402418  ...   \n246123     0.300830     0.290915          0.000000  0.589531  ...   \n322621     0.303919     0.267809          0.000000  0.507795  ...   \n\n        PP_PROPERTY_TYPE_CATEGORY_Factory, Warehouse & Industrial  \\\n300885                                              False           \n324593                                              False           \n144893                                              False           \n319248                                              False           \n321042                                              False           \n...                                                   ...           \n178177                                              False           \n357915                                              False           \n351076                                              False           \n246123                                              False           \n322621                                              False           \n\n        PP_PROPERTY_TYPE_CATEGORY_House  \\\n300885                             True   \n324593                             True   \n144893                             True   \n319248                            False   \n321042                            False   \n...                                 ...   \n178177                            False   \n357915                             True   \n351076                            False   \n246123                            False   \n322621                            False   \n\n        PP_PROPERTY_TYPE_CATEGORY_Other Residential  \\\n300885                                        False   \n324593                                        False   \n144893                                        False   \n319248                                        False   \n321042                                         True   \n...                                             ...   \n178177                                        False   \n357915                                        False   \n351076                                        False   \n246123                                        False   \n322621                                        False   \n\n        PP_PROPERTY_TYPE_CATEGORY_Rural/Farming  \\\n300885                                    False   \n324593                                    False   \n144893                                    False   \n319248                                    False   \n321042                                    False   \n...                                         ...   \n178177                                    False   \n357915                                    False   \n351076                                    False   \n246123                                     True   \n322621                                    False   \n\n        PP_PROPERTY_TYPE_CATEGORY_Townhouse  \\\n300885                                False   \n324593                                False   \n144893                                False   \n319248                                False   \n321042                                False   \n...                                     ...   \n178177                                False   \n357915                                False   \n351076                                False   \n246123                                False   \n322621                                False   \n\n        PP_PROPERTY_TYPE_CATEGORY_UNKNOWN  \\\n300885                              False   \n324593                              False   \n144893                              False   \n319248                              False   \n321042                              False   \n...                                   ...   \n178177                              False   \n357915                              False   \n351076                              False   \n246123                              False   \n322621                              False   \n\n        CL_PROPERTY_TYPE_CATEGORY_Apartment/Unit  \\\n300885                                      True   \n324593                                      True   \n144893                                      True   \n319248                                      True   \n321042                                      True   \n...                                          ...   \n178177                                      True   \n357915                                      True   \n351076                                     False   \n246123                                     False   \n322621                                     False   \n\n        CL_PROPERTY_TYPE_CATEGORY_House  \\\n300885                            False   \n324593                            False   \n144893                            False   \n319248                            False   \n321042                            False   \n...                                 ...   \n178177                            False   \n357915                            False   \n351076                             True   \n246123                             True   \n322621                             True   \n\n        CL_PROPERTY_TYPE_CATEGORY_Rural/Farming  \\\n300885                                    False   \n324593                                    False   \n144893                                    False   \n319248                                    False   \n321042                                    False   \n...                                         ...   \n178177                                    False   \n357915                                    False   \n351076                                    False   \n246123                                    False   \n322621                                    False   \n\n        CL_PROPERTY_TYPE_CATEGORY_Townhouse  \n300885                                False  \n324593                                False  \n144893                                False  \n319248                                False  \n321042                                False  \n...                                     ...  \n178177                                False  \n357915                                False  \n351076                                False  \n246123                                False  \n322621                                False  \n\n[303942 rows x 48 columns]",
      "text/html": "<div>\n<style scoped>\n    .dataframe tbody tr th:only-of-type {\n        vertical-align: middle;\n    }\n\n    .dataframe tbody tr th {\n        vertical-align: top;\n    }\n\n    .dataframe thead th {\n        text-align: right;\n    }\n</style>\n<table border=\"1\" class=\"dataframe\">\n  <thead>\n    <tr style=\"text-align: right;\">\n      <th></th>\n      <th>CL_FLOOR_AREA</th>\n      <th>NEARMAP_PARCEL_AREA_SQM</th>\n      <th>NEARMAP_BUILDING_COUNT</th>\n      <th>NEARMAP_BUILDING_TOTAL_AREA_SQM</th>\n      <th>BUILDING_SIZE</th>\n      <th>TOTAL_BUILDING_SIZE</th>\n      <th>ROOF_HEIGHT</th>\n      <th>EAVE_HEIGHT</th>\n      <th>ESTIMATED_LEVELS</th>\n      <th>AVG_BED</th>\n      <th>...</th>\n      <th>PP_PROPERTY_TYPE_CATEGORY_Factory, Warehouse &amp; Industrial</th>\n      <th>PP_PROPERTY_TYPE_CATEGORY_House</th>\n      <th>PP_PROPERTY_TYPE_CATEGORY_Other Residential</th>\n      <th>PP_PROPERTY_TYPE_CATEGORY_Rural/Farming</th>\n      <th>PP_PROPERTY_TYPE_CATEGORY_Townhouse</th>\n      <th>PP_PROPERTY_TYPE_CATEGORY_UNKNOWN</th>\n      <th>CL_PROPERTY_TYPE_CATEGORY_Apartment/Unit</th>\n      <th>CL_PROPERTY_TYPE_CATEGORY_House</th>\n      <th>CL_PROPERTY_TYPE_CATEGORY_Rural/Farming</th>\n      <th>CL_PROPERTY_TYPE_CATEGORY_Townhouse</th>\n    </tr>\n  </thead>\n  <tbody>\n    <tr>\n      <th>300885</th>\n      <td>0.673876</td>\n      <td>0.515618</td>\n      <td>0.366726</td>\n      <td>0.753616</td>\n      <td>0.690969</td>\n      <td>0.743608</td>\n      <td>0.823344</td>\n      <td>0.829165</td>\n      <td>0.673617</td>\n      <td>0.507795</td>\n      <td>...</td>\n      <td>False</td>\n      <td>True</td>\n      <td>False</td>\n      <td>False</td>\n      <td>False</td>\n      <td>False</td>\n      <td>True</td>\n      <td>False</td>\n      <td>False</td>\n      <td>False</td>\n    </tr>\n    <tr>\n      <th>324593</th>\n      <td>0.594527</td>\n      <td>0.548744</td>\n      <td>0.231378</td>\n      <td>0.737078</td>\n      <td>0.781978</td>\n      <td>0.738713</td>\n      <td>0.668862</td>\n      <td>0.679775</td>\n      <td>0.454660</td>\n      <td>0.335634</td>\n      <td>...</td>\n      <td>False</td>\n      <td>True</td>\n      <td>False</td>\n      <td>False</td>\n      <td>False</td>\n      <td>False</td>\n      <td>True</td>\n      <td>False</td>\n      <td>False</td>\n      <td>False</td>\n    </tr>\n    <tr>\n      <th>144893</th>\n      <td>0.609410</td>\n      <td>0.633682</td>\n      <td>0.366726</td>\n      <td>0.929586</td>\n      <td>0.924883</td>\n      <td>0.891271</td>\n      <td>0.549541</td>\n      <td>0.564386</td>\n      <td>0.334114</td>\n      <td>0.402418</td>\n      <td>...</td>\n      <td>False</td>\n      <td>True</td>\n      <td>False</td>\n      <td>False</td>\n      <td>False</td>\n      <td>False</td>\n      <td>True</td>\n      <td>False</td>\n      <td>False</td>\n      <td>False</td>\n    </tr>\n    <tr>\n      <th>319248</th>\n      <td>0.645060</td>\n      <td>0.501405</td>\n      <td>0.231378</td>\n      <td>0.886275</td>\n      <td>0.747209</td>\n      <td>0.888240</td>\n      <td>0.541206</td>\n      <td>0.556326</td>\n      <td>0.334114</td>\n      <td>0.402418</td>\n      <td>...</td>\n      <td>False</td>\n      <td>False</td>\n      <td>False</td>\n      <td>False</td>\n      <td>False</td>\n      <td>False</td>\n      <td>True</td>\n      <td>False</td>\n      <td>False</td>\n      <td>False</td>\n    </tr>\n    <tr>\n      <th>321042</th>\n      <td>0.645060</td>\n      <td>0.559219</td>\n      <td>0.231378</td>\n      <td>0.696695</td>\n      <td>0.751033</td>\n      <td>0.698240</td>\n      <td>0.481456</td>\n      <td>0.498545</td>\n      <td>0.244377</td>\n      <td>0.253897</td>\n      <td>...</td>\n      <td>False</td>\n      <td>False</td>\n      <td>True</td>\n      <td>False</td>\n      <td>False</td>\n      <td>False</td>\n      <td>True</td>\n      <td>False</td>\n      <td>False</td>\n      <td>False</td>\n    </tr>\n    <tr>\n      <th>...</th>\n      <td>...</td>\n      <td>...</td>\n      <td>...</td>\n      <td>...</td>\n      <td>...</td>\n      <td>...</td>\n      <td>...</td>\n      <td>...</td>\n      <td>...</td>\n      <td>...</td>\n      <td>...</td>\n      <td>...</td>\n      <td>...</td>\n      <td>...</td>\n      <td>...</td>\n      <td>...</td>\n      <td>...</td>\n      <td>...</td>\n      <td>...</td>\n      <td>...</td>\n      <td>...</td>\n    </tr>\n    <tr>\n      <th>178177</th>\n      <td>0.585641</td>\n      <td>0.419596</td>\n      <td>0.231378</td>\n      <td>0.543078</td>\n      <td>0.585314</td>\n      <td>0.544283</td>\n      <td>0.337486</td>\n      <td>0.226444</td>\n      <td>0.000000</td>\n      <td>0.402418</td>\n      <td>...</td>\n      <td>False</td>\n      <td>False</td>\n      <td>False</td>\n      <td>False</td>\n      <td>False</td>\n      <td>False</td>\n      <td>True</td>\n      <td>False</td>\n      <td>False</td>\n      <td>False</td>\n    </tr>\n    <tr>\n      <th>357915</th>\n      <td>0.613193</td>\n      <td>0.432401</td>\n      <td>0.231378</td>\n      <td>0.544473</td>\n      <td>0.586938</td>\n      <td>0.545680</td>\n      <td>0.378683</td>\n      <td>0.332690</td>\n      <td>0.108138</td>\n      <td>0.402418</td>\n      <td>...</td>\n      <td>False</td>\n      <td>True</td>\n      <td>False</td>\n      <td>False</td>\n      <td>False</td>\n      <td>False</td>\n      <td>True</td>\n      <td>False</td>\n      <td>False</td>\n      <td>False</td>\n    </tr>\n    <tr>\n      <th>351076</th>\n      <td>0.677741</td>\n      <td>0.485178</td>\n      <td>0.366726</td>\n      <td>0.592307</td>\n      <td>0.627993</td>\n      <td>0.583849</td>\n      <td>0.380726</td>\n      <td>0.226444</td>\n      <td>0.108138</td>\n      <td>0.402418</td>\n      <td>...</td>\n      <td>False</td>\n      <td>False</td>\n      <td>False</td>\n      <td>False</td>\n      <td>False</td>\n      <td>False</td>\n      <td>False</td>\n      <td>True</td>\n      <td>False</td>\n      <td>False</td>\n    </tr>\n    <tr>\n      <th>246123</th>\n      <td>0.721969</td>\n      <td>0.725590</td>\n      <td>0.537244</td>\n      <td>0.667383</td>\n      <td>0.648041</td>\n      <td>0.602488</td>\n      <td>0.300830</td>\n      <td>0.290915</td>\n      <td>0.000000</td>\n      <td>0.589531</td>\n      <td>...</td>\n      <td>False</td>\n      <td>False</td>\n      <td>False</td>\n      <td>True</td>\n      <td>False</td>\n      <td>False</td>\n      <td>False</td>\n      <td>True</td>\n      <td>False</td>\n      <td>False</td>\n    </tr>\n    <tr>\n      <th>322621</th>\n      <td>0.646032</td>\n      <td>0.487737</td>\n      <td>0.366726</td>\n      <td>0.583438</td>\n      <td>0.610792</td>\n      <td>0.567858</td>\n      <td>0.303919</td>\n      <td>0.267809</td>\n      <td>0.000000</td>\n      <td>0.507795</td>\n      <td>...</td>\n      <td>False</td>\n      <td>False</td>\n      <td>False</td>\n      <td>False</td>\n      <td>False</td>\n      <td>False</td>\n      <td>False</td>\n      <td>True</td>\n      <td>False</td>\n      <td>False</td>\n    </tr>\n  </tbody>\n</table>\n<p>303942 rows × 48 columns</p>\n</div>"
     },
     "execution_count": 3,
     "metadata": {},
     "output_type": "execute_result"
    }
   ],
   "source": [
    "df"
   ],
   "metadata": {
    "collapsed": false,
    "ExecuteTime": {
     "end_time": "2024-09-07T08:09:47.341340Z",
     "start_time": "2024-09-07T08:09:47.239163Z"
    }
   },
   "id": "550ff11b1e445667",
   "execution_count": 3
  },
  {
   "cell_type": "code",
   "outputs": [],
   "source": [
    "df1 = pd.read_hdf('../property_data_correction/land_area_house/next_door_land_full.x')\n",
    "df2 = pd.read_hdf('../property_data_correction/land_area_house/nearest_dist.x')"
   ],
   "metadata": {
    "collapsed": false,
    "ExecuteTime": {
     "end_time": "2024-09-07T11:24:50.626848Z",
     "start_time": "2024-09-07T11:24:38.867830Z"
    }
   },
   "id": "b0234fe5409bf4e6",
   "execution_count": 4
  },
  {
   "cell_type": "code",
   "outputs": [
    {
     "data": {
      "text/plain": "        SVP_ADDRESS_ID  LAND_AREA  LAND_LEFT_1  LAND_LEFT_2  LAND_RIGHT_1  \\\n0           LG-6284-FB     1770.5       1276.7       2806.4           NaN   \n1           LV-7162-NF     1276.7       2806.4          NaN        1770.5   \n2           JF-0202-RT     2806.4          NaN          NaN        1276.7   \n3           KR-0937-FR      164.3          NaN          NaN           NaN   \n4           LZ-9057-VB        NaN          NaN          NaN         164.3   \n...                ...        ...          ...          ...           ...   \n8609357     OU-5980-ID      419.0        484.0       1062.0         375.0   \n8609358     OQ-8835-AA      484.0       1062.0        782.0         419.0   \n8609359     HL-3199-JJ     1062.0        782.0        424.0         484.0   \n8609360     ML-8687-MI      782.0        424.0          NaN        1062.0   \n8609361     LU-2012-YG      424.0          NaN          NaN         782.0   \n\n         LAND_RIGHT_2  GP_COUNT  \n0                 NaN        19  \n1                 NaN        49  \n2              1770.5        75  \n3                 NaN         1  \n4                 NaN         1  \n...               ...       ...  \n8609357         527.0         1  \n8609358         375.0         1  \n8609359         419.0         1  \n8609360         484.0         1  \n8609361        1062.0         1  \n\n[8609362 rows x 7 columns]",
      "text/html": "<div>\n<style scoped>\n    .dataframe tbody tr th:only-of-type {\n        vertical-align: middle;\n    }\n\n    .dataframe tbody tr th {\n        vertical-align: top;\n    }\n\n    .dataframe thead th {\n        text-align: right;\n    }\n</style>\n<table border=\"1\" class=\"dataframe\">\n  <thead>\n    <tr style=\"text-align: right;\">\n      <th></th>\n      <th>SVP_ADDRESS_ID</th>\n      <th>LAND_AREA</th>\n      <th>LAND_LEFT_1</th>\n      <th>LAND_LEFT_2</th>\n      <th>LAND_RIGHT_1</th>\n      <th>LAND_RIGHT_2</th>\n      <th>GP_COUNT</th>\n    </tr>\n  </thead>\n  <tbody>\n    <tr>\n      <th>0</th>\n      <td>LG-6284-FB</td>\n      <td>1770.5</td>\n      <td>1276.7</td>\n      <td>2806.4</td>\n      <td>NaN</td>\n      <td>NaN</td>\n      <td>19</td>\n    </tr>\n    <tr>\n      <th>1</th>\n      <td>LV-7162-NF</td>\n      <td>1276.7</td>\n      <td>2806.4</td>\n      <td>NaN</td>\n      <td>1770.5</td>\n      <td>NaN</td>\n      <td>49</td>\n    </tr>\n    <tr>\n      <th>2</th>\n      <td>JF-0202-RT</td>\n      <td>2806.4</td>\n      <td>NaN</td>\n      <td>NaN</td>\n      <td>1276.7</td>\n      <td>1770.5</td>\n      <td>75</td>\n    </tr>\n    <tr>\n      <th>3</th>\n      <td>KR-0937-FR</td>\n      <td>164.3</td>\n      <td>NaN</td>\n      <td>NaN</td>\n      <td>NaN</td>\n      <td>NaN</td>\n      <td>1</td>\n    </tr>\n    <tr>\n      <th>4</th>\n      <td>LZ-9057-VB</td>\n      <td>NaN</td>\n      <td>NaN</td>\n      <td>NaN</td>\n      <td>164.3</td>\n      <td>NaN</td>\n      <td>1</td>\n    </tr>\n    <tr>\n      <th>...</th>\n      <td>...</td>\n      <td>...</td>\n      <td>...</td>\n      <td>...</td>\n      <td>...</td>\n      <td>...</td>\n      <td>...</td>\n    </tr>\n    <tr>\n      <th>8609357</th>\n      <td>OU-5980-ID</td>\n      <td>419.0</td>\n      <td>484.0</td>\n      <td>1062.0</td>\n      <td>375.0</td>\n      <td>527.0</td>\n      <td>1</td>\n    </tr>\n    <tr>\n      <th>8609358</th>\n      <td>OQ-8835-AA</td>\n      <td>484.0</td>\n      <td>1062.0</td>\n      <td>782.0</td>\n      <td>419.0</td>\n      <td>375.0</td>\n      <td>1</td>\n    </tr>\n    <tr>\n      <th>8609359</th>\n      <td>HL-3199-JJ</td>\n      <td>1062.0</td>\n      <td>782.0</td>\n      <td>424.0</td>\n      <td>484.0</td>\n      <td>419.0</td>\n      <td>1</td>\n    </tr>\n    <tr>\n      <th>8609360</th>\n      <td>ML-8687-MI</td>\n      <td>782.0</td>\n      <td>424.0</td>\n      <td>NaN</td>\n      <td>1062.0</td>\n      <td>484.0</td>\n      <td>1</td>\n    </tr>\n    <tr>\n      <th>8609361</th>\n      <td>LU-2012-YG</td>\n      <td>424.0</td>\n      <td>NaN</td>\n      <td>NaN</td>\n      <td>782.0</td>\n      <td>1062.0</td>\n      <td>1</td>\n    </tr>\n  </tbody>\n</table>\n<p>8609362 rows × 7 columns</p>\n</div>"
     },
     "execution_count": 5,
     "metadata": {},
     "output_type": "execute_result"
    }
   ],
   "source": [
    "df1"
   ],
   "metadata": {
    "collapsed": false,
    "ExecuteTime": {
     "end_time": "2024-09-07T11:24:50.688515Z",
     "start_time": "2024-09-07T11:24:50.646127Z"
    }
   },
   "id": "b49f97520abdae80",
   "execution_count": 5
  },
  {
   "cell_type": "code",
   "outputs": [
    {
     "data": {
      "text/plain": "                 SVP_ADDRESS_ID  LAND_AREA POSTCODE        LON       LAT  \\\nPOSTCODE                                                                   \n0800     5816        UU-9880-HS     1235.0     0800  130.83514 -12.45824   \n         7761        DV-9861-LC     3876.8     0800  130.84266 -12.46082   \n         8981        RY-5215-MA      745.0     0800  130.84335 -12.46218   \n         25773       DI-8625-IG      944.0     0800  130.83937 -12.46022   \n         28879       AB-7343-TZ        NaN     0800  130.83969 -12.46113   \n...                         ...        ...      ...        ...       ...   \n7470     8565063     AK-5427-XQ      357.0     7470  145.52413 -41.77410   \n         8566425     IA-8753-UR      890.0     7470  145.52451 -41.77222   \n         8584479     ZU-5347-DL     5311.0     7470  145.52554 -41.78996   \n         8586452     JW-5070-UB      593.0     7470  145.53795 -41.78466   \n         8596871     JS-7852-YP      244.0     7470  145.53969 -41.78004   \n\n                   next1   next2     dist1     dist2  \nPOSTCODE                                              \n0800     5816     1239.3  1075.3  0.000361  0.000437  \n         7761      969.0  1020.0  0.000224  0.000320  \n         8981      128.0  1911.8  0.000503  0.000772  \n         25773     702.8   944.3  0.000304  0.000453  \n         28879       NaN     NaN  0.000000  0.000000  \n...                  ...     ...       ...       ...  \n7470     8565063   331.0   871.0  0.000170  0.000214  \n         8566425   410.0   879.0  0.000259  0.000341  \n         8584479  5311.0   959.0  0.000513  0.001303  \n         8586452   507.0  1356.0  0.000212  0.000220  \n         8596871   638.0  1028.0  0.000226  0.000255  \n\n[8609362 rows x 9 columns]",
      "text/html": "<div>\n<style scoped>\n    .dataframe tbody tr th:only-of-type {\n        vertical-align: middle;\n    }\n\n    .dataframe tbody tr th {\n        vertical-align: top;\n    }\n\n    .dataframe thead th {\n        text-align: right;\n    }\n</style>\n<table border=\"1\" class=\"dataframe\">\n  <thead>\n    <tr style=\"text-align: right;\">\n      <th></th>\n      <th></th>\n      <th>SVP_ADDRESS_ID</th>\n      <th>LAND_AREA</th>\n      <th>POSTCODE</th>\n      <th>LON</th>\n      <th>LAT</th>\n      <th>next1</th>\n      <th>next2</th>\n      <th>dist1</th>\n      <th>dist2</th>\n    </tr>\n    <tr>\n      <th>POSTCODE</th>\n      <th></th>\n      <th></th>\n      <th></th>\n      <th></th>\n      <th></th>\n      <th></th>\n      <th></th>\n      <th></th>\n      <th></th>\n      <th></th>\n    </tr>\n  </thead>\n  <tbody>\n    <tr>\n      <th rowspan=\"5\" valign=\"top\">0800</th>\n      <th>5816</th>\n      <td>UU-9880-HS</td>\n      <td>1235.0</td>\n      <td>0800</td>\n      <td>130.83514</td>\n      <td>-12.45824</td>\n      <td>1239.3</td>\n      <td>1075.3</td>\n      <td>0.000361</td>\n      <td>0.000437</td>\n    </tr>\n    <tr>\n      <th>7761</th>\n      <td>DV-9861-LC</td>\n      <td>3876.8</td>\n      <td>0800</td>\n      <td>130.84266</td>\n      <td>-12.46082</td>\n      <td>969.0</td>\n      <td>1020.0</td>\n      <td>0.000224</td>\n      <td>0.000320</td>\n    </tr>\n    <tr>\n      <th>8981</th>\n      <td>RY-5215-MA</td>\n      <td>745.0</td>\n      <td>0800</td>\n      <td>130.84335</td>\n      <td>-12.46218</td>\n      <td>128.0</td>\n      <td>1911.8</td>\n      <td>0.000503</td>\n      <td>0.000772</td>\n    </tr>\n    <tr>\n      <th>25773</th>\n      <td>DI-8625-IG</td>\n      <td>944.0</td>\n      <td>0800</td>\n      <td>130.83937</td>\n      <td>-12.46022</td>\n      <td>702.8</td>\n      <td>944.3</td>\n      <td>0.000304</td>\n      <td>0.000453</td>\n    </tr>\n    <tr>\n      <th>28879</th>\n      <td>AB-7343-TZ</td>\n      <td>NaN</td>\n      <td>0800</td>\n      <td>130.83969</td>\n      <td>-12.46113</td>\n      <td>NaN</td>\n      <td>NaN</td>\n      <td>0.000000</td>\n      <td>0.000000</td>\n    </tr>\n    <tr>\n      <th>...</th>\n      <th>...</th>\n      <td>...</td>\n      <td>...</td>\n      <td>...</td>\n      <td>...</td>\n      <td>...</td>\n      <td>...</td>\n      <td>...</td>\n      <td>...</td>\n      <td>...</td>\n    </tr>\n    <tr>\n      <th rowspan=\"5\" valign=\"top\">7470</th>\n      <th>8565063</th>\n      <td>AK-5427-XQ</td>\n      <td>357.0</td>\n      <td>7470</td>\n      <td>145.52413</td>\n      <td>-41.77410</td>\n      <td>331.0</td>\n      <td>871.0</td>\n      <td>0.000170</td>\n      <td>0.000214</td>\n    </tr>\n    <tr>\n      <th>8566425</th>\n      <td>IA-8753-UR</td>\n      <td>890.0</td>\n      <td>7470</td>\n      <td>145.52451</td>\n      <td>-41.77222</td>\n      <td>410.0</td>\n      <td>879.0</td>\n      <td>0.000259</td>\n      <td>0.000341</td>\n    </tr>\n    <tr>\n      <th>8584479</th>\n      <td>ZU-5347-DL</td>\n      <td>5311.0</td>\n      <td>7470</td>\n      <td>145.52554</td>\n      <td>-41.78996</td>\n      <td>5311.0</td>\n      <td>959.0</td>\n      <td>0.000513</td>\n      <td>0.001303</td>\n    </tr>\n    <tr>\n      <th>8586452</th>\n      <td>JW-5070-UB</td>\n      <td>593.0</td>\n      <td>7470</td>\n      <td>145.53795</td>\n      <td>-41.78466</td>\n      <td>507.0</td>\n      <td>1356.0</td>\n      <td>0.000212</td>\n      <td>0.000220</td>\n    </tr>\n    <tr>\n      <th>8596871</th>\n      <td>JS-7852-YP</td>\n      <td>244.0</td>\n      <td>7470</td>\n      <td>145.53969</td>\n      <td>-41.78004</td>\n      <td>638.0</td>\n      <td>1028.0</td>\n      <td>0.000226</td>\n      <td>0.000255</td>\n    </tr>\n  </tbody>\n</table>\n<p>8609362 rows × 9 columns</p>\n</div>"
     },
     "execution_count": 7,
     "metadata": {},
     "output_type": "execute_result"
    }
   ],
   "source": [
    "df2"
   ],
   "metadata": {
    "collapsed": false,
    "ExecuteTime": {
     "end_time": "2024-09-07T11:25:26.465859Z",
     "start_time": "2024-09-07T11:25:26.434233Z"
    }
   },
   "id": "3a405a17b967e938",
   "execution_count": 7
  },
  {
   "cell_type": "code",
   "outputs": [],
   "source": [
    "import joblib\n",
    "\n",
    "g = joblib.load('r13/mask_40p.pkl')"
   ],
   "metadata": {
    "collapsed": false,
    "ExecuteTime": {
     "end_time": "2024-09-15T03:37:53.704555Z",
     "start_time": "2024-09-15T03:37:53.589720Z"
    }
   },
   "id": "705d8d775e6d2204",
   "execution_count": 2
  },
  {
   "cell_type": "code",
   "outputs": [
    {
     "data": {
      "text/plain": "array([[False, False, False, ...,  True, False,  True],\n       [ True,  True,  True, ..., False, False, False],\n       [False, False,  True, ..., False, False,  True],\n       ...,\n       [False, False, False, ...,  True,  True,  True],\n       [False, False, False, ...,  True,  True, False],\n       [False, False, False, ..., False, False, False]])"
     },
     "execution_count": 4,
     "metadata": {},
     "output_type": "execute_result"
    }
   ],
   "source": [
    "g['train_mask']"
   ],
   "metadata": {
    "collapsed": false,
    "ExecuteTime": {
     "end_time": "2024-09-15T03:38:06.454289Z",
     "start_time": "2024-09-15T03:38:06.373699Z"
    }
   },
   "id": "9af14fa6c9a9a105",
   "execution_count": 4
  },
  {
   "cell_type": "code",
   "outputs": [
    {
     "data": {
      "text/plain": "numpy.ndarray"
     },
     "execution_count": 7,
     "metadata": {},
     "output_type": "execute_result"
    }
   ],
   "source": [
    "type(g['train_mask'])"
   ],
   "metadata": {
    "collapsed": false,
    "ExecuteTime": {
     "end_time": "2024-09-15T03:40:31.387006Z",
     "start_time": "2024-09-15T03:40:31.344503Z"
    }
   },
   "id": "ebe290c189545021",
   "execution_count": 7
  },
  {
   "cell_type": "code",
   "outputs": [
    {
     "data": {
      "text/plain": "(303942, 12)"
     },
     "execution_count": 8,
     "metadata": {},
     "output_type": "execute_result"
    }
   ],
   "source": [
    "g['train_mask'].shape"
   ],
   "metadata": {
    "collapsed": false,
    "ExecuteTime": {
     "end_time": "2024-09-15T03:41:43.930242Z",
     "start_time": "2024-09-15T03:41:43.890207Z"
    }
   },
   "id": "983b2296395d9d44",
   "execution_count": 8
  },
  {
   "cell_type": "code",
   "outputs": [],
   "source": [
    "d = pd.read_hdf('data/new_log_minmax.x')\n",
    "d = d.iloc[:40000]"
   ],
   "metadata": {
    "collapsed": false,
    "ExecuteTime": {
     "end_time": "2024-10-03T03:48:38.866797Z",
     "start_time": "2024-10-03T03:48:38.701214Z"
    }
   },
   "id": "a8ac2d3ac1becbf4",
   "execution_count": 42
  },
  {
   "cell_type": "code",
   "outputs": [
    {
     "data": {
      "text/plain": "Index(['CL_FLOOR_AREA', 'NEARMAP_PARCEL_AREA_SQM', 'NEARMAP_BUILDING_COUNT',\n       'NEARMAP_BUILDING_TOTAL_AREA_SQM', 'BUILDING_SIZE', 'ROOF_HEIGHT',\n       'EAVE_HEIGHT', 'ESTIMATED_LEVELS', 'AVG_BED', 'AVG_BATH', 'AVG_CAR',\n       'PRIMARY_ROOF_MATERIAL_-1', 'PRIMARY_ROOF_MATERIAL_FIBERGLASS/PLASTIC',\n       'PRIMARY_ROOF_MATERIAL_FLAT CONCRETE', 'PRIMARY_ROOF_MATERIAL_METAL',\n       'PRIMARY_ROOF_MATERIAL_TILE', 'ROOF_SHAPE_-1', 'ROOF_SHAPE_FLAT',\n       'ROOF_SHAPE_GABLED', 'ROOF_SHAPE_HIPPED', 'ROOF_SHAPE_MANSARD',\n       'ROOF_SHAPE_MIXED', 'ROOF_SHAPE_OTHER', 'ROOF_SHAPE_SHED',\n       'CL_PROPERTY_TYPE_CATEGORY_Apartment/Unit',\n       'CL_PROPERTY_TYPE_CATEGORY_House',\n       'CL_PROPERTY_TYPE_CATEGORY_Rural/Farming',\n       'CL_PROPERTY_TYPE_CATEGORY_Townhouse'],\n      dtype='object')"
     },
     "execution_count": 43,
     "metadata": {},
     "output_type": "execute_result"
    }
   ],
   "source": [
    "d.columns"
   ],
   "metadata": {
    "collapsed": false,
    "ExecuteTime": {
     "end_time": "2024-10-03T03:48:41.217529Z",
     "start_time": "2024-10-03T03:48:41.120364Z"
    }
   },
   "id": "ab460a343842ca99",
   "execution_count": 43
  },
  {
   "cell_type": "code",
   "outputs": [
    {
     "data": {
      "text/plain": "PRIMARY_ROOF_MATERIAL_TILE                  29563\nPRIMARY_ROOF_MATERIAL_METAL                  9911\nPRIMARY_ROOF_MATERIAL_-1                      310\nPRIMARY_ROOF_MATERIAL_FLAT CONCRETE           154\nPRIMARY_ROOF_MATERIAL_FIBERGLASS/PLASTIC       62\nName: count, dtype: int64"
     },
     "execution_count": 44,
     "metadata": {},
     "output_type": "execute_result"
    }
   ],
   "source": [
    "d[['PRIMARY_ROOF_MATERIAL_-1',\n",
    "   'PRIMARY_ROOF_MATERIAL_FIBERGLASS/PLASTIC',\n",
    "   'PRIMARY_ROOF_MATERIAL_FLAT CONCRETE', 'PRIMARY_ROOF_MATERIAL_METAL',\n",
    "   'PRIMARY_ROOF_MATERIAL_TILE']].idxmax(axis=1).value_counts()"
   ],
   "metadata": {
    "collapsed": false,
    "ExecuteTime": {
     "end_time": "2024-10-03T03:48:42.517951Z",
     "start_time": "2024-10-03T03:48:42.416773Z"
    }
   },
   "id": "bb8214bf877b4b24",
   "execution_count": 44
  },
  {
   "cell_type": "code",
   "outputs": [
    {
     "data": {
      "text/plain": "ROOF_SHAPE_HIPPED     18932\nROOF_SHAPE_-1         16118\nROOF_SHAPE_FLAT        3949\nROOF_SHAPE_GABLED       871\nROOF_SHAPE_MIXED        125\nROOF_SHAPE_SHED           4\nROOF_SHAPE_MANSARD        1\nName: count, dtype: int64"
     },
     "execution_count": 45,
     "metadata": {},
     "output_type": "execute_result"
    }
   ],
   "source": [
    "d[['ROOF_SHAPE_-1', 'ROOF_SHAPE_FLAT',\n",
    "   'ROOF_SHAPE_GABLED', 'ROOF_SHAPE_HIPPED', 'ROOF_SHAPE_MANSARD',\n",
    "   'ROOF_SHAPE_MIXED', 'ROOF_SHAPE_OTHER', 'ROOF_SHAPE_SHED']].idxmax(axis=1).value_counts()"
   ],
   "metadata": {
    "collapsed": false,
    "ExecuteTime": {
     "end_time": "2024-10-03T03:48:46.640602Z",
     "start_time": "2024-10-03T03:48:46.583952Z"
    }
   },
   "id": "a959a95e12bbd285",
   "execution_count": 45
  },
  {
   "cell_type": "code",
   "outputs": [
    {
     "data": {
      "text/plain": "CL_PROPERTY_TYPE_CATEGORY_House             25868\nCL_PROPERTY_TYPE_CATEGORY_Apartment/Unit     7796\nCL_PROPERTY_TYPE_CATEGORY_Townhouse          6325\nCL_PROPERTY_TYPE_CATEGORY_Rural/Farming        11\nName: count, dtype: int64"
     },
     "execution_count": 46,
     "metadata": {},
     "output_type": "execute_result"
    }
   ],
   "source": [
    "d[['CL_PROPERTY_TYPE_CATEGORY_Apartment/Unit',\n",
    "       'CL_PROPERTY_TYPE_CATEGORY_House',\n",
    "       'CL_PROPERTY_TYPE_CATEGORY_Rural/Farming',\n",
    "       'CL_PROPERTY_TYPE_CATEGORY_Townhouse']].idxmax(axis=1).value_counts()"
   ],
   "metadata": {
    "collapsed": false,
    "ExecuteTime": {
     "end_time": "2024-10-03T03:48:52.285221Z",
     "start_time": "2024-10-03T03:48:52.175179Z"
    }
   },
   "id": "d3aa71a49341b548",
   "execution_count": 46
  },
  {
   "cell_type": "code",
   "outputs": [
    {
     "data": {
      "text/plain": "       POSTCODE  SUBURB_NAME STREET_NAME STREET_TYPE STREET_NUMBER  \\\n272968     0800  darwin city    gardiner      street             8   \n422681     0800  darwin city      harvey      street            16   \n304351     0800  darwin city   kitchener       drive             7   \n242341     0800  darwin city    mitchell      street            45   \n290539     0800  darwin city    mitchell      street            52   \n...         ...          ...         ...         ...           ...   \n196937     7325      wynyard        york      street            16   \n474371     7325      wynyard        york      street            16   \n454260     7325      wynyard        york      street            24   \n150745     7325      wynyard        york      street         32-36   \n420108     7325      wynyard     yulambi       court             4   \n\n        CL_FLOOR_AREA  NEARMAP_PARCEL_AREA_SQM  NEARMAP_BUILDING_COUNT  \\\n272968       0.673876                 0.507587                0.366726   \n422681       0.594527                 0.540197                0.231378   \n304351       0.609410                 0.603755                0.366726   \n242341       0.645060                 0.493595                0.231378   \n290539       0.645060                 0.550509                0.231378   \n...               ...                      ...                     ...   \n196937       0.585641                 0.413060                0.231378   \n474371       0.613193                 0.425666                0.231378   \n454260       0.677741                 0.477621                0.366726   \n150745       0.721969                 0.603755                0.366726   \n420108       0.646032                 0.480140                0.366726   \n\n        NEARMAP_BUILDING_TOTAL_AREA_SQM  BUILDING_SIZE  ...  ROOF_SHAPE_FLAT  \\\n272968                         0.716306       0.679174  ...              1.0   \n422681                         0.716306       0.679174  ...              1.0   \n304351                         0.716306       0.679174  ...              1.0   \n242341                         0.716306       0.679174  ...              1.0   \n290539                         0.696695       0.679174  ...              1.0   \n...                                 ...            ...  ...              ...   \n196937                         0.543078       0.585314  ...              0.0   \n474371                         0.544473       0.586938  ...              0.0   \n454260                         0.592307       0.627993  ...              0.0   \n150745                         0.667383       0.648041  ...              0.0   \n420108                         0.583438       0.610792  ...              0.0   \n\n        ROOF_SHAPE_GABLED  ROOF_SHAPE_HIPPED  ROOF_SHAPE_MANSARD  \\\n272968                0.0                0.0                 0.0   \n422681                0.0                0.0                 0.0   \n304351                0.0                0.0                 0.0   \n242341                0.0                0.0                 0.0   \n290539                0.0                0.0                 0.0   \n...                   ...                ...                 ...   \n196937                0.0                0.0                 0.0   \n474371                0.0                0.0                 0.0   \n454260                0.0                0.0                 0.0   \n150745                0.0                0.0                 0.0   \n420108                0.0                0.0                 0.0   \n\n        ROOF_SHAPE_MIXED  ROOF_SHAPE_SHED  \\\n272968               0.0              0.0   \n422681               0.0              0.0   \n304351               0.0              0.0   \n242341               0.0              0.0   \n290539               0.0              0.0   \n...                  ...              ...   \n196937               0.0              0.0   \n474371               0.0              0.0   \n454260               0.0              0.0   \n150745               0.0              0.0   \n420108               0.0              0.0   \n\n        CL_PROPERTY_TYPE_CATEGORY_Apartment/Unit  \\\n272968                                      True   \n422681                                      True   \n304351                                      True   \n242341                                      True   \n290539                                      True   \n...                                          ...   \n196937                                      True   \n474371                                      True   \n454260                                     False   \n150745                                     False   \n420108                                     False   \n\n        CL_PROPERTY_TYPE_CATEGORY_House  \\\n272968                            False   \n422681                            False   \n304351                            False   \n242341                            False   \n290539                            False   \n...                                 ...   \n196937                            False   \n474371                            False   \n454260                             True   \n150745                             True   \n420108                             True   \n\n        CL_PROPERTY_TYPE_CATEGORY_Rural/Farming  \\\n272968                                    False   \n422681                                    False   \n304351                                    False   \n242341                                    False   \n290539                                    False   \n...                                         ...   \n196937                                    False   \n474371                                    False   \n454260                                    False   \n150745                                    False   \n420108                                    False   \n\n        CL_PROPERTY_TYPE_CATEGORY_Townhouse  \n272968                                False  \n422681                                False  \n304351                                False  \n242341                                False  \n290539                                False  \n...                                     ...  \n196937                                False  \n474371                                False  \n454260                                False  \n150745                                False  \n420108                                False  \n\n[406647 rows x 32 columns]",
      "text/html": "<div>\n<style scoped>\n    .dataframe tbody tr th:only-of-type {\n        vertical-align: middle;\n    }\n\n    .dataframe tbody tr th {\n        vertical-align: top;\n    }\n\n    .dataframe thead th {\n        text-align: right;\n    }\n</style>\n<table border=\"1\" class=\"dataframe\">\n  <thead>\n    <tr style=\"text-align: right;\">\n      <th></th>\n      <th>POSTCODE</th>\n      <th>SUBURB_NAME</th>\n      <th>STREET_NAME</th>\n      <th>STREET_TYPE</th>\n      <th>STREET_NUMBER</th>\n      <th>CL_FLOOR_AREA</th>\n      <th>NEARMAP_PARCEL_AREA_SQM</th>\n      <th>NEARMAP_BUILDING_COUNT</th>\n      <th>NEARMAP_BUILDING_TOTAL_AREA_SQM</th>\n      <th>BUILDING_SIZE</th>\n      <th>...</th>\n      <th>ROOF_SHAPE_FLAT</th>\n      <th>ROOF_SHAPE_GABLED</th>\n      <th>ROOF_SHAPE_HIPPED</th>\n      <th>ROOF_SHAPE_MANSARD</th>\n      <th>ROOF_SHAPE_MIXED</th>\n      <th>ROOF_SHAPE_SHED</th>\n      <th>CL_PROPERTY_TYPE_CATEGORY_Apartment/Unit</th>\n      <th>CL_PROPERTY_TYPE_CATEGORY_House</th>\n      <th>CL_PROPERTY_TYPE_CATEGORY_Rural/Farming</th>\n      <th>CL_PROPERTY_TYPE_CATEGORY_Townhouse</th>\n    </tr>\n  </thead>\n  <tbody>\n    <tr>\n      <th>272968</th>\n      <td>0800</td>\n      <td>darwin city</td>\n      <td>gardiner</td>\n      <td>street</td>\n      <td>8</td>\n      <td>0.673876</td>\n      <td>0.507587</td>\n      <td>0.366726</td>\n      <td>0.716306</td>\n      <td>0.679174</td>\n      <td>...</td>\n      <td>1.0</td>\n      <td>0.0</td>\n      <td>0.0</td>\n      <td>0.0</td>\n      <td>0.0</td>\n      <td>0.0</td>\n      <td>True</td>\n      <td>False</td>\n      <td>False</td>\n      <td>False</td>\n    </tr>\n    <tr>\n      <th>422681</th>\n      <td>0800</td>\n      <td>darwin city</td>\n      <td>harvey</td>\n      <td>street</td>\n      <td>16</td>\n      <td>0.594527</td>\n      <td>0.540197</td>\n      <td>0.231378</td>\n      <td>0.716306</td>\n      <td>0.679174</td>\n      <td>...</td>\n      <td>1.0</td>\n      <td>0.0</td>\n      <td>0.0</td>\n      <td>0.0</td>\n      <td>0.0</td>\n      <td>0.0</td>\n      <td>True</td>\n      <td>False</td>\n      <td>False</td>\n      <td>False</td>\n    </tr>\n    <tr>\n      <th>304351</th>\n      <td>0800</td>\n      <td>darwin city</td>\n      <td>kitchener</td>\n      <td>drive</td>\n      <td>7</td>\n      <td>0.609410</td>\n      <td>0.603755</td>\n      <td>0.366726</td>\n      <td>0.716306</td>\n      <td>0.679174</td>\n      <td>...</td>\n      <td>1.0</td>\n      <td>0.0</td>\n      <td>0.0</td>\n      <td>0.0</td>\n      <td>0.0</td>\n      <td>0.0</td>\n      <td>True</td>\n      <td>False</td>\n      <td>False</td>\n      <td>False</td>\n    </tr>\n    <tr>\n      <th>242341</th>\n      <td>0800</td>\n      <td>darwin city</td>\n      <td>mitchell</td>\n      <td>street</td>\n      <td>45</td>\n      <td>0.645060</td>\n      <td>0.493595</td>\n      <td>0.231378</td>\n      <td>0.716306</td>\n      <td>0.679174</td>\n      <td>...</td>\n      <td>1.0</td>\n      <td>0.0</td>\n      <td>0.0</td>\n      <td>0.0</td>\n      <td>0.0</td>\n      <td>0.0</td>\n      <td>True</td>\n      <td>False</td>\n      <td>False</td>\n      <td>False</td>\n    </tr>\n    <tr>\n      <th>290539</th>\n      <td>0800</td>\n      <td>darwin city</td>\n      <td>mitchell</td>\n      <td>street</td>\n      <td>52</td>\n      <td>0.645060</td>\n      <td>0.550509</td>\n      <td>0.231378</td>\n      <td>0.696695</td>\n      <td>0.679174</td>\n      <td>...</td>\n      <td>1.0</td>\n      <td>0.0</td>\n      <td>0.0</td>\n      <td>0.0</td>\n      <td>0.0</td>\n      <td>0.0</td>\n      <td>True</td>\n      <td>False</td>\n      <td>False</td>\n      <td>False</td>\n    </tr>\n    <tr>\n      <th>...</th>\n      <td>...</td>\n      <td>...</td>\n      <td>...</td>\n      <td>...</td>\n      <td>...</td>\n      <td>...</td>\n      <td>...</td>\n      <td>...</td>\n      <td>...</td>\n      <td>...</td>\n      <td>...</td>\n      <td>...</td>\n      <td>...</td>\n      <td>...</td>\n      <td>...</td>\n      <td>...</td>\n      <td>...</td>\n      <td>...</td>\n      <td>...</td>\n      <td>...</td>\n      <td>...</td>\n    </tr>\n    <tr>\n      <th>196937</th>\n      <td>7325</td>\n      <td>wynyard</td>\n      <td>york</td>\n      <td>street</td>\n      <td>16</td>\n      <td>0.585641</td>\n      <td>0.413060</td>\n      <td>0.231378</td>\n      <td>0.543078</td>\n      <td>0.585314</td>\n      <td>...</td>\n      <td>0.0</td>\n      <td>0.0</td>\n      <td>0.0</td>\n      <td>0.0</td>\n      <td>0.0</td>\n      <td>0.0</td>\n      <td>True</td>\n      <td>False</td>\n      <td>False</td>\n      <td>False</td>\n    </tr>\n    <tr>\n      <th>474371</th>\n      <td>7325</td>\n      <td>wynyard</td>\n      <td>york</td>\n      <td>street</td>\n      <td>16</td>\n      <td>0.613193</td>\n      <td>0.425666</td>\n      <td>0.231378</td>\n      <td>0.544473</td>\n      <td>0.586938</td>\n      <td>...</td>\n      <td>0.0</td>\n      <td>0.0</td>\n      <td>0.0</td>\n      <td>0.0</td>\n      <td>0.0</td>\n      <td>0.0</td>\n      <td>True</td>\n      <td>False</td>\n      <td>False</td>\n      <td>False</td>\n    </tr>\n    <tr>\n      <th>454260</th>\n      <td>7325</td>\n      <td>wynyard</td>\n      <td>york</td>\n      <td>street</td>\n      <td>24</td>\n      <td>0.677741</td>\n      <td>0.477621</td>\n      <td>0.366726</td>\n      <td>0.592307</td>\n      <td>0.627993</td>\n      <td>...</td>\n      <td>0.0</td>\n      <td>0.0</td>\n      <td>0.0</td>\n      <td>0.0</td>\n      <td>0.0</td>\n      <td>0.0</td>\n      <td>False</td>\n      <td>True</td>\n      <td>False</td>\n      <td>False</td>\n    </tr>\n    <tr>\n      <th>150745</th>\n      <td>7325</td>\n      <td>wynyard</td>\n      <td>york</td>\n      <td>street</td>\n      <td>32-36</td>\n      <td>0.721969</td>\n      <td>0.603755</td>\n      <td>0.366726</td>\n      <td>0.667383</td>\n      <td>0.648041</td>\n      <td>...</td>\n      <td>0.0</td>\n      <td>0.0</td>\n      <td>0.0</td>\n      <td>0.0</td>\n      <td>0.0</td>\n      <td>0.0</td>\n      <td>False</td>\n      <td>True</td>\n      <td>False</td>\n      <td>False</td>\n    </tr>\n    <tr>\n      <th>420108</th>\n      <td>7325</td>\n      <td>wynyard</td>\n      <td>yulambi</td>\n      <td>court</td>\n      <td>4</td>\n      <td>0.646032</td>\n      <td>0.480140</td>\n      <td>0.366726</td>\n      <td>0.583438</td>\n      <td>0.610792</td>\n      <td>...</td>\n      <td>0.0</td>\n      <td>0.0</td>\n      <td>0.0</td>\n      <td>0.0</td>\n      <td>0.0</td>\n      <td>0.0</td>\n      <td>False</td>\n      <td>True</td>\n      <td>False</td>\n      <td>False</td>\n    </tr>\n  </tbody>\n</table>\n<p>406647 rows × 32 columns</p>\n</div>"
     },
     "execution_count": 18,
     "metadata": {},
     "output_type": "execute_result"
    }
   ],
   "source": [
    "ud = pd.read_hdf('data/log_minmax_clean_df_sorted_3.hdf')\n",
    "ud"
   ],
   "metadata": {
    "collapsed": false,
    "ExecuteTime": {
     "end_time": "2024-10-13T03:55:05.610860Z",
     "start_time": "2024-10-13T03:55:04.689591Z"
    }
   },
   "id": "e7c92425bc7b977b",
   "execution_count": 18
  },
  {
   "cell_type": "code",
   "outputs": [],
   "source": [
    "from scipy.stats import mstats\n",
    "\n",
    "columns_normalize = [\n",
    "    'CL_FLOOR_AREA',\n",
    "    'NEARMAP_PARCEL_AREA_SQM',\n",
    "    'NEARMAP_BUILDING_COUNT',\n",
    "    'NEARMAP_BUILDING_TOTAL_AREA_SQM',\n",
    "    'BUILDING_SIZE',\n",
    "    'ROOF_HEIGHT',\n",
    "    'EAVE_HEIGHT',\n",
    "    'ESTIMATED_LEVELS',\n",
    "    'AVG_BED',\n",
    "    'AVG_BATH',\n",
    "    'AVG_CAR'\n",
    "]\n",
    "\n",
    "ud[columns_normalize] = ud[columns_normalize].apply(lambda x: mstats.winsorize(x, limits=[0.05, 0.05]))"
   ],
   "metadata": {
    "collapsed": false,
    "ExecuteTime": {
     "end_time": "2024-10-10T07:19:08.699684Z",
     "start_time": "2024-10-10T07:19:07.896650Z"
    }
   },
   "id": "e85a996038f16a1e",
   "execution_count": 4
  },
  {
   "cell_type": "code",
   "outputs": [
    {
     "name": "stderr",
     "output_type": "stream",
     "text": [
      "/var/folders/bl/bhxc9rps0xsb8c84q3j7djcc0000gp/T/ipykernel_19250/2445732764.py:1: PerformanceWarning: \n",
      "your performance may suffer as PyTables will pickle object types that it cannot\n",
      "map directly to c-types [inferred_type->mixed,key->block2_values] [items->Index(['POSTCODE', 'SUBURB_NAME', 'STREET_NAME', 'STREET_TYPE',\n",
      "       'STREET_NUMBER'],\n",
      "      dtype='object')]\n",
      "\n",
      "  ud.to_hdf('data/log_minmax_clean_df_sorted_3.hdf', key='s')\n"
     ]
    }
   ],
   "source": [
    "ud.to_hdf('data/log_minmax_clean_df_sorted_3.hdf', key='s')"
   ],
   "metadata": {
    "collapsed": false,
    "ExecuteTime": {
     "end_time": "2024-10-10T07:20:03.941482Z",
     "start_time": "2024-10-10T07:20:03.268436Z"
    }
   },
   "id": "b9e24196094e64b1",
   "execution_count": 5
  },
  {
   "cell_type": "code",
   "outputs": [
    {
     "data": {
      "text/plain": "       POSTCODE  SUBURB_NAME STREET_NAME STREET_TYPE STREET_NUMBER  \\\n272968     0800  darwin city    gardiner      street             8   \n422681     0800  darwin city      harvey      street            16   \n304351     0800  darwin city   kitchener       drive             7   \n242341     0800  darwin city    mitchell      street            45   \n290539     0800  darwin city    mitchell      street            52   \n...         ...          ...         ...         ...           ...   \n196937     7325      wynyard        york      street            16   \n474371     7325      wynyard        york      street            16   \n454260     7325      wynyard        york      street            24   \n150745     7325      wynyard        york      street         32-36   \n420108     7325      wynyard     yulambi       court             4   \n\n        CL_FLOOR_AREA  NEARMAP_PARCEL_AREA_SQM  NEARMAP_BUILDING_COUNT  \\\n272968       0.673876                 0.507587                0.366726   \n422681       0.594527                 0.540197                0.231378   \n304351       0.609410                 0.603755                0.366726   \n242341       0.645060                 0.493595                0.231378   \n290539       0.645060                 0.550509                0.231378   \n...               ...                      ...                     ...   \n196937       0.585641                 0.413060                0.231378   \n474371       0.613193                 0.425666                0.231378   \n454260       0.677741                 0.477621                0.366726   \n150745       0.721969                 0.603755                0.366726   \n420108       0.646032                 0.480140                0.366726   \n\n        NEARMAP_BUILDING_TOTAL_AREA_SQM  BUILDING_SIZE  ...  ROOF_SHAPE_FLAT  \\\n272968                         0.716306       0.679174  ...              1.0   \n422681                         0.716306       0.679174  ...              1.0   \n304351                         0.716306       0.679174  ...              1.0   \n242341                         0.716306       0.679174  ...              1.0   \n290539                         0.696695       0.679174  ...              1.0   \n...                                 ...            ...  ...              ...   \n196937                         0.543078       0.585314  ...              0.0   \n474371                         0.544473       0.586938  ...              0.0   \n454260                         0.592307       0.627993  ...              0.0   \n150745                         0.667383       0.648041  ...              0.0   \n420108                         0.583438       0.610792  ...              0.0   \n\n        ROOF_SHAPE_GABLED  ROOF_SHAPE_HIPPED  ROOF_SHAPE_MANSARD  \\\n272968                0.0                0.0                 0.0   \n422681                0.0                0.0                 0.0   \n304351                0.0                0.0                 0.0   \n242341                0.0                0.0                 0.0   \n290539                0.0                0.0                 0.0   \n...                   ...                ...                 ...   \n196937                0.0                0.0                 0.0   \n474371                0.0                0.0                 0.0   \n454260                0.0                0.0                 0.0   \n150745                0.0                0.0                 0.0   \n420108                0.0                0.0                 0.0   \n\n        ROOF_SHAPE_MIXED  ROOF_SHAPE_SHED  \\\n272968               0.0              0.0   \n422681               0.0              0.0   \n304351               0.0              0.0   \n242341               0.0              0.0   \n290539               0.0              0.0   \n...                  ...              ...   \n196937               0.0              0.0   \n474371               0.0              0.0   \n454260               0.0              0.0   \n150745               0.0              0.0   \n420108               0.0              0.0   \n\n        CL_PROPERTY_TYPE_CATEGORY_Apartment/Unit  \\\n272968                                      True   \n422681                                      True   \n304351                                      True   \n242341                                      True   \n290539                                      True   \n...                                          ...   \n196937                                      True   \n474371                                      True   \n454260                                     False   \n150745                                     False   \n420108                                     False   \n\n        CL_PROPERTY_TYPE_CATEGORY_House  \\\n272968                            False   \n422681                            False   \n304351                            False   \n242341                            False   \n290539                            False   \n...                                 ...   \n196937                            False   \n474371                            False   \n454260                             True   \n150745                             True   \n420108                             True   \n\n        CL_PROPERTY_TYPE_CATEGORY_Rural/Farming  \\\n272968                                    False   \n422681                                    False   \n304351                                    False   \n242341                                    False   \n290539                                    False   \n...                                         ...   \n196937                                    False   \n474371                                    False   \n454260                                    False   \n150745                                    False   \n420108                                    False   \n\n        CL_PROPERTY_TYPE_CATEGORY_Townhouse  \n272968                                False  \n422681                                False  \n304351                                False  \n242341                                False  \n290539                                False  \n...                                     ...  \n196937                                False  \n474371                                False  \n454260                                False  \n150745                                False  \n420108                                False  \n\n[406647 rows x 32 columns]",
      "text/html": "<div>\n<style scoped>\n    .dataframe tbody tr th:only-of-type {\n        vertical-align: middle;\n    }\n\n    .dataframe tbody tr th {\n        vertical-align: top;\n    }\n\n    .dataframe thead th {\n        text-align: right;\n    }\n</style>\n<table border=\"1\" class=\"dataframe\">\n  <thead>\n    <tr style=\"text-align: right;\">\n      <th></th>\n      <th>POSTCODE</th>\n      <th>SUBURB_NAME</th>\n      <th>STREET_NAME</th>\n      <th>STREET_TYPE</th>\n      <th>STREET_NUMBER</th>\n      <th>CL_FLOOR_AREA</th>\n      <th>NEARMAP_PARCEL_AREA_SQM</th>\n      <th>NEARMAP_BUILDING_COUNT</th>\n      <th>NEARMAP_BUILDING_TOTAL_AREA_SQM</th>\n      <th>BUILDING_SIZE</th>\n      <th>...</th>\n      <th>ROOF_SHAPE_FLAT</th>\n      <th>ROOF_SHAPE_GABLED</th>\n      <th>ROOF_SHAPE_HIPPED</th>\n      <th>ROOF_SHAPE_MANSARD</th>\n      <th>ROOF_SHAPE_MIXED</th>\n      <th>ROOF_SHAPE_SHED</th>\n      <th>CL_PROPERTY_TYPE_CATEGORY_Apartment/Unit</th>\n      <th>CL_PROPERTY_TYPE_CATEGORY_House</th>\n      <th>CL_PROPERTY_TYPE_CATEGORY_Rural/Farming</th>\n      <th>CL_PROPERTY_TYPE_CATEGORY_Townhouse</th>\n    </tr>\n  </thead>\n  <tbody>\n    <tr>\n      <th>272968</th>\n      <td>0800</td>\n      <td>darwin city</td>\n      <td>gardiner</td>\n      <td>street</td>\n      <td>8</td>\n      <td>0.673876</td>\n      <td>0.507587</td>\n      <td>0.366726</td>\n      <td>0.716306</td>\n      <td>0.679174</td>\n      <td>...</td>\n      <td>1.0</td>\n      <td>0.0</td>\n      <td>0.0</td>\n      <td>0.0</td>\n      <td>0.0</td>\n      <td>0.0</td>\n      <td>True</td>\n      <td>False</td>\n      <td>False</td>\n      <td>False</td>\n    </tr>\n    <tr>\n      <th>422681</th>\n      <td>0800</td>\n      <td>darwin city</td>\n      <td>harvey</td>\n      <td>street</td>\n      <td>16</td>\n      <td>0.594527</td>\n      <td>0.540197</td>\n      <td>0.231378</td>\n      <td>0.716306</td>\n      <td>0.679174</td>\n      <td>...</td>\n      <td>1.0</td>\n      <td>0.0</td>\n      <td>0.0</td>\n      <td>0.0</td>\n      <td>0.0</td>\n      <td>0.0</td>\n      <td>True</td>\n      <td>False</td>\n      <td>False</td>\n      <td>False</td>\n    </tr>\n    <tr>\n      <th>304351</th>\n      <td>0800</td>\n      <td>darwin city</td>\n      <td>kitchener</td>\n      <td>drive</td>\n      <td>7</td>\n      <td>0.609410</td>\n      <td>0.603755</td>\n      <td>0.366726</td>\n      <td>0.716306</td>\n      <td>0.679174</td>\n      <td>...</td>\n      <td>1.0</td>\n      <td>0.0</td>\n      <td>0.0</td>\n      <td>0.0</td>\n      <td>0.0</td>\n      <td>0.0</td>\n      <td>True</td>\n      <td>False</td>\n      <td>False</td>\n      <td>False</td>\n    </tr>\n    <tr>\n      <th>242341</th>\n      <td>0800</td>\n      <td>darwin city</td>\n      <td>mitchell</td>\n      <td>street</td>\n      <td>45</td>\n      <td>0.645060</td>\n      <td>0.493595</td>\n      <td>0.231378</td>\n      <td>0.716306</td>\n      <td>0.679174</td>\n      <td>...</td>\n      <td>1.0</td>\n      <td>0.0</td>\n      <td>0.0</td>\n      <td>0.0</td>\n      <td>0.0</td>\n      <td>0.0</td>\n      <td>True</td>\n      <td>False</td>\n      <td>False</td>\n      <td>False</td>\n    </tr>\n    <tr>\n      <th>290539</th>\n      <td>0800</td>\n      <td>darwin city</td>\n      <td>mitchell</td>\n      <td>street</td>\n      <td>52</td>\n      <td>0.645060</td>\n      <td>0.550509</td>\n      <td>0.231378</td>\n      <td>0.696695</td>\n      <td>0.679174</td>\n      <td>...</td>\n      <td>1.0</td>\n      <td>0.0</td>\n      <td>0.0</td>\n      <td>0.0</td>\n      <td>0.0</td>\n      <td>0.0</td>\n      <td>True</td>\n      <td>False</td>\n      <td>False</td>\n      <td>False</td>\n    </tr>\n    <tr>\n      <th>...</th>\n      <td>...</td>\n      <td>...</td>\n      <td>...</td>\n      <td>...</td>\n      <td>...</td>\n      <td>...</td>\n      <td>...</td>\n      <td>...</td>\n      <td>...</td>\n      <td>...</td>\n      <td>...</td>\n      <td>...</td>\n      <td>...</td>\n      <td>...</td>\n      <td>...</td>\n      <td>...</td>\n      <td>...</td>\n      <td>...</td>\n      <td>...</td>\n      <td>...</td>\n      <td>...</td>\n    </tr>\n    <tr>\n      <th>196937</th>\n      <td>7325</td>\n      <td>wynyard</td>\n      <td>york</td>\n      <td>street</td>\n      <td>16</td>\n      <td>0.585641</td>\n      <td>0.413060</td>\n      <td>0.231378</td>\n      <td>0.543078</td>\n      <td>0.585314</td>\n      <td>...</td>\n      <td>0.0</td>\n      <td>0.0</td>\n      <td>0.0</td>\n      <td>0.0</td>\n      <td>0.0</td>\n      <td>0.0</td>\n      <td>True</td>\n      <td>False</td>\n      <td>False</td>\n      <td>False</td>\n    </tr>\n    <tr>\n      <th>474371</th>\n      <td>7325</td>\n      <td>wynyard</td>\n      <td>york</td>\n      <td>street</td>\n      <td>16</td>\n      <td>0.613193</td>\n      <td>0.425666</td>\n      <td>0.231378</td>\n      <td>0.544473</td>\n      <td>0.586938</td>\n      <td>...</td>\n      <td>0.0</td>\n      <td>0.0</td>\n      <td>0.0</td>\n      <td>0.0</td>\n      <td>0.0</td>\n      <td>0.0</td>\n      <td>True</td>\n      <td>False</td>\n      <td>False</td>\n      <td>False</td>\n    </tr>\n    <tr>\n      <th>454260</th>\n      <td>7325</td>\n      <td>wynyard</td>\n      <td>york</td>\n      <td>street</td>\n      <td>24</td>\n      <td>0.677741</td>\n      <td>0.477621</td>\n      <td>0.366726</td>\n      <td>0.592307</td>\n      <td>0.627993</td>\n      <td>...</td>\n      <td>0.0</td>\n      <td>0.0</td>\n      <td>0.0</td>\n      <td>0.0</td>\n      <td>0.0</td>\n      <td>0.0</td>\n      <td>False</td>\n      <td>True</td>\n      <td>False</td>\n      <td>False</td>\n    </tr>\n    <tr>\n      <th>150745</th>\n      <td>7325</td>\n      <td>wynyard</td>\n      <td>york</td>\n      <td>street</td>\n      <td>32-36</td>\n      <td>0.721969</td>\n      <td>0.603755</td>\n      <td>0.366726</td>\n      <td>0.667383</td>\n      <td>0.648041</td>\n      <td>...</td>\n      <td>0.0</td>\n      <td>0.0</td>\n      <td>0.0</td>\n      <td>0.0</td>\n      <td>0.0</td>\n      <td>0.0</td>\n      <td>False</td>\n      <td>True</td>\n      <td>False</td>\n      <td>False</td>\n    </tr>\n    <tr>\n      <th>420108</th>\n      <td>7325</td>\n      <td>wynyard</td>\n      <td>yulambi</td>\n      <td>court</td>\n      <td>4</td>\n      <td>0.646032</td>\n      <td>0.480140</td>\n      <td>0.366726</td>\n      <td>0.583438</td>\n      <td>0.610792</td>\n      <td>...</td>\n      <td>0.0</td>\n      <td>0.0</td>\n      <td>0.0</td>\n      <td>0.0</td>\n      <td>0.0</td>\n      <td>0.0</td>\n      <td>False</td>\n      <td>True</td>\n      <td>False</td>\n      <td>False</td>\n    </tr>\n  </tbody>\n</table>\n<p>406647 rows × 32 columns</p>\n</div>"
     },
     "execution_count": 6,
     "metadata": {},
     "output_type": "execute_result"
    }
   ],
   "source": [
    "ud"
   ],
   "metadata": {
    "collapsed": false,
    "ExecuteTime": {
     "end_time": "2024-10-10T21:56:40.409346Z",
     "start_time": "2024-10-10T21:56:40.183368Z"
    }
   },
   "id": "e1751b5ee694be36",
   "execution_count": 6
  },
  {
   "cell_type": "code",
   "outputs": [
    {
     "data": {
      "text/plain": "Index(['POSTCODE', 'SUBURB_NAME', 'STREET_NAME', 'STREET_TYPE',\n       'STREET_NUMBER', 'CL_FLOOR_AREA', 'NEARMAP_PARCEL_AREA_SQM',\n       'NEARMAP_BUILDING_COUNT', 'NEARMAP_BUILDING_TOTAL_AREA_SQM',\n       'BUILDING_SIZE', 'ROOF_HEIGHT', 'EAVE_HEIGHT', 'ESTIMATED_LEVELS',\n       'AVG_BED', 'AVG_BATH', 'AVG_CAR', 'PRIMARY_ROOF_MATERIAL_-1',\n       'PRIMARY_ROOF_MATERIAL_FIBERGLASS/PLASTIC',\n       'PRIMARY_ROOF_MATERIAL_FLAT CONCRETE', 'PRIMARY_ROOF_MATERIAL_METAL',\n       'PRIMARY_ROOF_MATERIAL_TILE', 'ROOF_SHAPE_-1', 'ROOF_SHAPE_FLAT',\n       'ROOF_SHAPE_GABLED', 'ROOF_SHAPE_HIPPED', 'ROOF_SHAPE_MANSARD',\n       'ROOF_SHAPE_MIXED', 'ROOF_SHAPE_SHED',\n       'CL_PROPERTY_TYPE_CATEGORY_Apartment/Unit',\n       'CL_PROPERTY_TYPE_CATEGORY_House',\n       'CL_PROPERTY_TYPE_CATEGORY_Rural/Farming',\n       'CL_PROPERTY_TYPE_CATEGORY_Townhouse'],\n      dtype='object')"
     },
     "execution_count": 7,
     "metadata": {},
     "output_type": "execute_result"
    }
   ],
   "source": [
    "ud.columns"
   ],
   "metadata": {
    "collapsed": false,
    "ExecuteTime": {
     "end_time": "2024-10-10T21:57:07.199516Z",
     "start_time": "2024-10-10T21:57:07.128760Z"
    }
   },
   "id": "bf33ac5f4511f50e",
   "execution_count": 7
  },
  {
   "cell_type": "code",
   "outputs": [
    {
     "data": {
      "text/plain": "PRIMARY_ROOF_MATERIAL_-1                      5608.0\nPRIMARY_ROOF_MATERIAL_FIBERGLASS/PLASTIC      3154.0\nPRIMARY_ROOF_MATERIAL_FLAT CONCRETE           5024.0\nPRIMARY_ROOF_MATERIAL_METAL                 150099.0\nPRIMARY_ROOF_MATERIAL_TILE                  242762.0\ndtype: float64"
     },
     "execution_count": 8,
     "metadata": {},
     "output_type": "execute_result"
    }
   ],
   "source": [
    "ud[['PRIMARY_ROOF_MATERIAL_-1',\n",
    "       'PRIMARY_ROOF_MATERIAL_FIBERGLASS/PLASTIC',\n",
    "       'PRIMARY_ROOF_MATERIAL_FLAT CONCRETE', 'PRIMARY_ROOF_MATERIAL_METAL',\n",
    "       'PRIMARY_ROOF_MATERIAL_TILE']].sum()"
   ],
   "metadata": {
    "collapsed": false,
    "ExecuteTime": {
     "end_time": "2024-10-10T21:57:58.017093Z",
     "start_time": "2024-10-10T21:57:57.949287Z"
    }
   },
   "id": "d2e4fde241353fad",
   "execution_count": 8
  },
  {
   "cell_type": "code",
   "outputs": [
    {
     "data": {
      "text/plain": "ROOF_SHAPE_-1         120756.0\nROOF_SHAPE_FLAT        36167.0\nROOF_SHAPE_GABLED      12326.0\nROOF_SHAPE_HIPPED     234238.0\nROOF_SHAPE_MANSARD        58.0\nROOF_SHAPE_MIXED        3080.0\nROOF_SHAPE_SHED           20.0\ndtype: float64"
     },
     "execution_count": 9,
     "metadata": {},
     "output_type": "execute_result"
    }
   ],
   "source": [
    "ud[['ROOF_SHAPE_-1', 'ROOF_SHAPE_FLAT',\n",
    "       'ROOF_SHAPE_GABLED', 'ROOF_SHAPE_HIPPED', 'ROOF_SHAPE_MANSARD',\n",
    "       'ROOF_SHAPE_MIXED', 'ROOF_SHAPE_SHED',]].sum()"
   ],
   "metadata": {
    "collapsed": false,
    "ExecuteTime": {
     "end_time": "2024-10-10T21:59:08.292066Z",
     "start_time": "2024-10-10T21:59:08.215253Z"
    }
   },
   "id": "1bc1c133d27fa1a7",
   "execution_count": 9
  },
  {
   "cell_type": "code",
   "outputs": [
    {
     "data": {
      "text/plain": "CL_PROPERTY_TYPE_CATEGORY_Apartment/Unit     59061\nCL_PROPERTY_TYPE_CATEGORY_House             303411\nCL_PROPERTY_TYPE_CATEGORY_Rural/Farming       1277\nCL_PROPERTY_TYPE_CATEGORY_Townhouse          42898\ndtype: int64"
     },
     "execution_count": 10,
     "metadata": {},
     "output_type": "execute_result"
    }
   ],
   "source": [
    "ud[['CL_PROPERTY_TYPE_CATEGORY_Apartment/Unit',\n",
    "       'CL_PROPERTY_TYPE_CATEGORY_House',\n",
    "       'CL_PROPERTY_TYPE_CATEGORY_Rural/Farming',\n",
    "       'CL_PROPERTY_TYPE_CATEGORY_Townhouse']].sum()"
   ],
   "metadata": {
    "collapsed": false,
    "ExecuteTime": {
     "end_time": "2024-10-10T22:06:04.584550Z",
     "start_time": "2024-10-10T22:06:04.517100Z"
    }
   },
   "id": "3541677de1816907",
   "execution_count": 10
  },
  {
   "cell_type": "code",
   "outputs": [
    {
     "data": {
      "text/plain": "       POSTCODE SUBURB_NAME STREET_NAME STREET_TYPE STREET_NUMBER  \\\n432293     3000   melbourne    abeckett      street       106-116   \n331015     3000   melbourne      bourke      street            12   \n436270     3000   melbourne       cohen       place         11-17   \n201384     3000   melbourne    davisons       place         14-18   \n125384     3000   melbourne   elizabeth      street         17-19   \n...         ...         ...         ...         ...           ...   \n234758     3284  port fairy      winnen       place             2   \n187525     3284  port fairy      winnen       place             5   \n12661      3284  port fairy      winnen       place             6   \n9740       3284  port fairy     wishart      street             6   \n209716     3285   rosebrook     lydiard      street             5   \n\n        CL_FLOOR_AREA  NEARMAP_PARCEL_AREA_SQM  NEARMAP_BUILDING_COUNT  \\\n432293       0.584099                 0.520820                0.231378   \n331015       0.628436                 0.341428                0.231378   \n436270       0.584099                 0.482251                0.231378   \n201384       0.584099                 0.341428                0.231378   \n125384       0.584099                 0.341428                0.231378   \n...               ...                      ...                     ...   \n234758       0.641096                 0.394869                0.231378   \n187525       0.652646                 0.394247                0.231378   \n12661        0.652646                 0.416246                0.231378   \n9740         0.641096                 0.456907                0.231378   \n209716       0.727827                 0.603755                0.366726   \n\n        NEARMAP_BUILDING_TOTAL_AREA_SQM  BUILDING_SIZE  ...  ROOF_SHAPE_FLAT  \\\n432293                         0.716306       0.679174  ...              1.0   \n331015                         0.699753       0.523294  ...              0.0   \n436270                         0.716306       0.679174  ...              0.0   \n201384                         0.716306       0.541357  ...              0.0   \n125384                         0.716306       0.534229  ...              1.0   \n...                                 ...            ...  ...              ...   \n234758                         0.599438       0.566269  ...              0.0   \n187525                         0.630739       0.580167  ...              0.0   \n12661                          0.560133       0.603408  ...              0.0   \n9740                           0.619382       0.578505  ...              0.0   \n209716                         0.632132       0.669678  ...              0.0   \n\n        ROOF_SHAPE_GABLED  ROOF_SHAPE_HIPPED  ROOF_SHAPE_MANSARD  \\\n432293                0.0                0.0                 0.0   \n331015                0.0                1.0                 0.0   \n436270                0.0                1.0                 0.0   \n201384                0.0                1.0                 0.0   \n125384                0.0                0.0                 0.0   \n...                   ...                ...                 ...   \n234758                0.0                0.0                 0.0   \n187525                0.0                0.0                 0.0   \n12661                 0.0                0.0                 0.0   \n9740                  0.0                0.0                 0.0   \n209716                0.0                0.0                 0.0   \n\n        ROOF_SHAPE_MIXED  ROOF_SHAPE_SHED  \\\n432293               0.0              0.0   \n331015               0.0              0.0   \n436270               0.0              0.0   \n201384               0.0              0.0   \n125384               0.0              0.0   \n...                  ...              ...   \n234758               0.0              0.0   \n187525               0.0              0.0   \n12661                0.0              0.0   \n9740                 0.0              0.0   \n209716               0.0              0.0   \n\n        CL_PROPERTY_TYPE_CATEGORY_Apartment/Unit  \\\n432293                                      True   \n331015                                     False   \n436270                                      True   \n201384                                      True   \n125384                                      True   \n...                                          ...   \n234758                                     False   \n187525                                      True   \n12661                                       True   \n9740                                       False   \n209716                                     False   \n\n        CL_PROPERTY_TYPE_CATEGORY_House  \\\n432293                            False   \n331015                             True   \n436270                            False   \n201384                            False   \n125384                            False   \n...                                 ...   \n234758                            False   \n187525                            False   \n12661                             False   \n9740                               True   \n209716                             True   \n\n        CL_PROPERTY_TYPE_CATEGORY_Rural/Farming  \\\n432293                                    False   \n331015                                    False   \n436270                                    False   \n201384                                    False   \n125384                                    False   \n...                                         ...   \n234758                                    False   \n187525                                    False   \n12661                                     False   \n9740                                      False   \n209716                                    False   \n\n        CL_PROPERTY_TYPE_CATEGORY_Townhouse  \n432293                                False  \n331015                                False  \n436270                                False  \n201384                                False  \n125384                                False  \n...                                     ...  \n234758                                 True  \n187525                                False  \n12661                                 False  \n9740                                  False  \n209716                                False  \n\n[108379 rows x 32 columns]",
      "text/html": "<div>\n<style scoped>\n    .dataframe tbody tr th:only-of-type {\n        vertical-align: middle;\n    }\n\n    .dataframe tbody tr th {\n        vertical-align: top;\n    }\n\n    .dataframe thead th {\n        text-align: right;\n    }\n</style>\n<table border=\"1\" class=\"dataframe\">\n  <thead>\n    <tr style=\"text-align: right;\">\n      <th></th>\n      <th>POSTCODE</th>\n      <th>SUBURB_NAME</th>\n      <th>STREET_NAME</th>\n      <th>STREET_TYPE</th>\n      <th>STREET_NUMBER</th>\n      <th>CL_FLOOR_AREA</th>\n      <th>NEARMAP_PARCEL_AREA_SQM</th>\n      <th>NEARMAP_BUILDING_COUNT</th>\n      <th>NEARMAP_BUILDING_TOTAL_AREA_SQM</th>\n      <th>BUILDING_SIZE</th>\n      <th>...</th>\n      <th>ROOF_SHAPE_FLAT</th>\n      <th>ROOF_SHAPE_GABLED</th>\n      <th>ROOF_SHAPE_HIPPED</th>\n      <th>ROOF_SHAPE_MANSARD</th>\n      <th>ROOF_SHAPE_MIXED</th>\n      <th>ROOF_SHAPE_SHED</th>\n      <th>CL_PROPERTY_TYPE_CATEGORY_Apartment/Unit</th>\n      <th>CL_PROPERTY_TYPE_CATEGORY_House</th>\n      <th>CL_PROPERTY_TYPE_CATEGORY_Rural/Farming</th>\n      <th>CL_PROPERTY_TYPE_CATEGORY_Townhouse</th>\n    </tr>\n  </thead>\n  <tbody>\n    <tr>\n      <th>432293</th>\n      <td>3000</td>\n      <td>melbourne</td>\n      <td>abeckett</td>\n      <td>street</td>\n      <td>106-116</td>\n      <td>0.584099</td>\n      <td>0.520820</td>\n      <td>0.231378</td>\n      <td>0.716306</td>\n      <td>0.679174</td>\n      <td>...</td>\n      <td>1.0</td>\n      <td>0.0</td>\n      <td>0.0</td>\n      <td>0.0</td>\n      <td>0.0</td>\n      <td>0.0</td>\n      <td>True</td>\n      <td>False</td>\n      <td>False</td>\n      <td>False</td>\n    </tr>\n    <tr>\n      <th>331015</th>\n      <td>3000</td>\n      <td>melbourne</td>\n      <td>bourke</td>\n      <td>street</td>\n      <td>12</td>\n      <td>0.628436</td>\n      <td>0.341428</td>\n      <td>0.231378</td>\n      <td>0.699753</td>\n      <td>0.523294</td>\n      <td>...</td>\n      <td>0.0</td>\n      <td>0.0</td>\n      <td>1.0</td>\n      <td>0.0</td>\n      <td>0.0</td>\n      <td>0.0</td>\n      <td>False</td>\n      <td>True</td>\n      <td>False</td>\n      <td>False</td>\n    </tr>\n    <tr>\n      <th>436270</th>\n      <td>3000</td>\n      <td>melbourne</td>\n      <td>cohen</td>\n      <td>place</td>\n      <td>11-17</td>\n      <td>0.584099</td>\n      <td>0.482251</td>\n      <td>0.231378</td>\n      <td>0.716306</td>\n      <td>0.679174</td>\n      <td>...</td>\n      <td>0.0</td>\n      <td>0.0</td>\n      <td>1.0</td>\n      <td>0.0</td>\n      <td>0.0</td>\n      <td>0.0</td>\n      <td>True</td>\n      <td>False</td>\n      <td>False</td>\n      <td>False</td>\n    </tr>\n    <tr>\n      <th>201384</th>\n      <td>3000</td>\n      <td>melbourne</td>\n      <td>davisons</td>\n      <td>place</td>\n      <td>14-18</td>\n      <td>0.584099</td>\n      <td>0.341428</td>\n      <td>0.231378</td>\n      <td>0.716306</td>\n      <td>0.541357</td>\n      <td>...</td>\n      <td>0.0</td>\n      <td>0.0</td>\n      <td>1.0</td>\n      <td>0.0</td>\n      <td>0.0</td>\n      <td>0.0</td>\n      <td>True</td>\n      <td>False</td>\n      <td>False</td>\n      <td>False</td>\n    </tr>\n    <tr>\n      <th>125384</th>\n      <td>3000</td>\n      <td>melbourne</td>\n      <td>elizabeth</td>\n      <td>street</td>\n      <td>17-19</td>\n      <td>0.584099</td>\n      <td>0.341428</td>\n      <td>0.231378</td>\n      <td>0.716306</td>\n      <td>0.534229</td>\n      <td>...</td>\n      <td>1.0</td>\n      <td>0.0</td>\n      <td>0.0</td>\n      <td>0.0</td>\n      <td>0.0</td>\n      <td>0.0</td>\n      <td>True</td>\n      <td>False</td>\n      <td>False</td>\n      <td>False</td>\n    </tr>\n    <tr>\n      <th>...</th>\n      <td>...</td>\n      <td>...</td>\n      <td>...</td>\n      <td>...</td>\n      <td>...</td>\n      <td>...</td>\n      <td>...</td>\n      <td>...</td>\n      <td>...</td>\n      <td>...</td>\n      <td>...</td>\n      <td>...</td>\n      <td>...</td>\n      <td>...</td>\n      <td>...</td>\n      <td>...</td>\n      <td>...</td>\n      <td>...</td>\n      <td>...</td>\n      <td>...</td>\n      <td>...</td>\n    </tr>\n    <tr>\n      <th>234758</th>\n      <td>3284</td>\n      <td>port fairy</td>\n      <td>winnen</td>\n      <td>place</td>\n      <td>2</td>\n      <td>0.641096</td>\n      <td>0.394869</td>\n      <td>0.231378</td>\n      <td>0.599438</td>\n      <td>0.566269</td>\n      <td>...</td>\n      <td>0.0</td>\n      <td>0.0</td>\n      <td>0.0</td>\n      <td>0.0</td>\n      <td>0.0</td>\n      <td>0.0</td>\n      <td>False</td>\n      <td>False</td>\n      <td>False</td>\n      <td>True</td>\n    </tr>\n    <tr>\n      <th>187525</th>\n      <td>3284</td>\n      <td>port fairy</td>\n      <td>winnen</td>\n      <td>place</td>\n      <td>5</td>\n      <td>0.652646</td>\n      <td>0.394247</td>\n      <td>0.231378</td>\n      <td>0.630739</td>\n      <td>0.580167</td>\n      <td>...</td>\n      <td>0.0</td>\n      <td>0.0</td>\n      <td>0.0</td>\n      <td>0.0</td>\n      <td>0.0</td>\n      <td>0.0</td>\n      <td>True</td>\n      <td>False</td>\n      <td>False</td>\n      <td>False</td>\n    </tr>\n    <tr>\n      <th>12661</th>\n      <td>3284</td>\n      <td>port fairy</td>\n      <td>winnen</td>\n      <td>place</td>\n      <td>6</td>\n      <td>0.652646</td>\n      <td>0.416246</td>\n      <td>0.231378</td>\n      <td>0.560133</td>\n      <td>0.603408</td>\n      <td>...</td>\n      <td>0.0</td>\n      <td>0.0</td>\n      <td>0.0</td>\n      <td>0.0</td>\n      <td>0.0</td>\n      <td>0.0</td>\n      <td>True</td>\n      <td>False</td>\n      <td>False</td>\n      <td>False</td>\n    </tr>\n    <tr>\n      <th>9740</th>\n      <td>3284</td>\n      <td>port fairy</td>\n      <td>wishart</td>\n      <td>street</td>\n      <td>6</td>\n      <td>0.641096</td>\n      <td>0.456907</td>\n      <td>0.231378</td>\n      <td>0.619382</td>\n      <td>0.578505</td>\n      <td>...</td>\n      <td>0.0</td>\n      <td>0.0</td>\n      <td>0.0</td>\n      <td>0.0</td>\n      <td>0.0</td>\n      <td>0.0</td>\n      <td>False</td>\n      <td>True</td>\n      <td>False</td>\n      <td>False</td>\n    </tr>\n    <tr>\n      <th>209716</th>\n      <td>3285</td>\n      <td>rosebrook</td>\n      <td>lydiard</td>\n      <td>street</td>\n      <td>5</td>\n      <td>0.727827</td>\n      <td>0.603755</td>\n      <td>0.366726</td>\n      <td>0.632132</td>\n      <td>0.669678</td>\n      <td>...</td>\n      <td>0.0</td>\n      <td>0.0</td>\n      <td>0.0</td>\n      <td>0.0</td>\n      <td>0.0</td>\n      <td>0.0</td>\n      <td>False</td>\n      <td>True</td>\n      <td>False</td>\n      <td>False</td>\n    </tr>\n  </tbody>\n</table>\n<p>108379 rows × 32 columns</p>\n</div>"
     },
     "execution_count": 12,
     "metadata": {},
     "output_type": "execute_result"
    }
   ],
   "source": [
    "ud[(ud['POSTCODE'] >= '3000') & (ud['POSTCODE'] < '3300')]  "
   ],
   "metadata": {
    "collapsed": false,
    "ExecuteTime": {
     "end_time": "2024-10-10T22:10:03.553026Z",
     "start_time": "2024-10-10T22:10:03.424065Z"
    }
   },
   "id": "e9a10ad99edff37",
   "execution_count": 12
  },
  {
   "cell_type": "code",
   "outputs": [],
   "source": [
    "df = pd.read_hdf('data/log_minmax_clean_df_sorted_3.hdf')"
   ],
   "metadata": {
    "collapsed": false,
    "ExecuteTime": {
     "end_time": "2024-10-13T03:56:46.234271Z",
     "start_time": "2024-10-13T03:56:45.691034Z"
    }
   },
   "id": "3f4fb2eb3fa249f4",
   "execution_count": 21
  },
  {
   "cell_type": "code",
   "outputs": [
    {
     "data": {
      "text/plain": "       POSTCODE  SUBURB_NAME STREET_NAME STREET_TYPE STREET_NUMBER  \\\n272968     0800  darwin city    gardiner      street             8   \n422681     0800  darwin city      harvey      street            16   \n304351     0800  darwin city   kitchener       drive             7   \n242341     0800  darwin city    mitchell      street            45   \n290539     0800  darwin city    mitchell      street            52   \n...         ...          ...         ...         ...           ...   \n196937     7325      wynyard        york      street            16   \n474371     7325      wynyard        york      street            16   \n454260     7325      wynyard        york      street            24   \n150745     7325      wynyard        york      street         32-36   \n420108     7325      wynyard     yulambi       court             4   \n\n        CL_FLOOR_AREA  NEARMAP_PARCEL_AREA_SQM  NEARMAP_BUILDING_COUNT  \\\n272968       0.673876                 0.507587                0.366726   \n422681       0.594527                 0.540197                0.231378   \n304351       0.609410                 0.603755                0.366726   \n242341       0.645060                 0.493595                0.231378   \n290539       0.645060                 0.550509                0.231378   \n...               ...                      ...                     ...   \n196937       0.585641                 0.413060                0.231378   \n474371       0.613193                 0.425666                0.231378   \n454260       0.677741                 0.477621                0.366726   \n150745       0.721969                 0.603755                0.366726   \n420108       0.646032                 0.480140                0.366726   \n\n        NEARMAP_BUILDING_TOTAL_AREA_SQM  BUILDING_SIZE  ...  ROOF_SHAPE_FLAT  \\\n272968                         0.716306       0.679174  ...              1.0   \n422681                         0.716306       0.679174  ...              1.0   \n304351                         0.716306       0.679174  ...              1.0   \n242341                         0.716306       0.679174  ...              1.0   \n290539                         0.696695       0.679174  ...              1.0   \n...                                 ...            ...  ...              ...   \n196937                         0.543078       0.585314  ...              0.0   \n474371                         0.544473       0.586938  ...              0.0   \n454260                         0.592307       0.627993  ...              0.0   \n150745                         0.667383       0.648041  ...              0.0   \n420108                         0.583438       0.610792  ...              0.0   \n\n        ROOF_SHAPE_GABLED  ROOF_SHAPE_HIPPED  ROOF_SHAPE_MANSARD  \\\n272968                0.0                0.0                 0.0   \n422681                0.0                0.0                 0.0   \n304351                0.0                0.0                 0.0   \n242341                0.0                0.0                 0.0   \n290539                0.0                0.0                 0.0   \n...                   ...                ...                 ...   \n196937                0.0                0.0                 0.0   \n474371                0.0                0.0                 0.0   \n454260                0.0                0.0                 0.0   \n150745                0.0                0.0                 0.0   \n420108                0.0                0.0                 0.0   \n\n        ROOF_SHAPE_MIXED  ROOF_SHAPE_SHED  \\\n272968               0.0              0.0   \n422681               0.0              0.0   \n304351               0.0              0.0   \n242341               0.0              0.0   \n290539               0.0              0.0   \n...                  ...              ...   \n196937               0.0              0.0   \n474371               0.0              0.0   \n454260               0.0              0.0   \n150745               0.0              0.0   \n420108               0.0              0.0   \n\n        CL_PROPERTY_TYPE_CATEGORY_Apartment/Unit  \\\n272968                                      True   \n422681                                      True   \n304351                                      True   \n242341                                      True   \n290539                                      True   \n...                                          ...   \n196937                                      True   \n474371                                      True   \n454260                                     False   \n150745                                     False   \n420108                                     False   \n\n        CL_PROPERTY_TYPE_CATEGORY_House  \\\n272968                            False   \n422681                            False   \n304351                            False   \n242341                            False   \n290539                            False   \n...                                 ...   \n196937                            False   \n474371                            False   \n454260                             True   \n150745                             True   \n420108                             True   \n\n        CL_PROPERTY_TYPE_CATEGORY_Rural/Farming  \\\n272968                                    False   \n422681                                    False   \n304351                                    False   \n242341                                    False   \n290539                                    False   \n...                                         ...   \n196937                                    False   \n474371                                    False   \n454260                                    False   \n150745                                    False   \n420108                                    False   \n\n        CL_PROPERTY_TYPE_CATEGORY_Townhouse  \n272968                                False  \n422681                                False  \n304351                                False  \n242341                                False  \n290539                                False  \n...                                     ...  \n196937                                False  \n474371                                False  \n454260                                False  \n150745                                False  \n420108                                False  \n\n[406647 rows x 32 columns]",
      "text/html": "<div>\n<style scoped>\n    .dataframe tbody tr th:only-of-type {\n        vertical-align: middle;\n    }\n\n    .dataframe tbody tr th {\n        vertical-align: top;\n    }\n\n    .dataframe thead th {\n        text-align: right;\n    }\n</style>\n<table border=\"1\" class=\"dataframe\">\n  <thead>\n    <tr style=\"text-align: right;\">\n      <th></th>\n      <th>POSTCODE</th>\n      <th>SUBURB_NAME</th>\n      <th>STREET_NAME</th>\n      <th>STREET_TYPE</th>\n      <th>STREET_NUMBER</th>\n      <th>CL_FLOOR_AREA</th>\n      <th>NEARMAP_PARCEL_AREA_SQM</th>\n      <th>NEARMAP_BUILDING_COUNT</th>\n      <th>NEARMAP_BUILDING_TOTAL_AREA_SQM</th>\n      <th>BUILDING_SIZE</th>\n      <th>...</th>\n      <th>ROOF_SHAPE_FLAT</th>\n      <th>ROOF_SHAPE_GABLED</th>\n      <th>ROOF_SHAPE_HIPPED</th>\n      <th>ROOF_SHAPE_MANSARD</th>\n      <th>ROOF_SHAPE_MIXED</th>\n      <th>ROOF_SHAPE_SHED</th>\n      <th>CL_PROPERTY_TYPE_CATEGORY_Apartment/Unit</th>\n      <th>CL_PROPERTY_TYPE_CATEGORY_House</th>\n      <th>CL_PROPERTY_TYPE_CATEGORY_Rural/Farming</th>\n      <th>CL_PROPERTY_TYPE_CATEGORY_Townhouse</th>\n    </tr>\n  </thead>\n  <tbody>\n    <tr>\n      <th>272968</th>\n      <td>0800</td>\n      <td>darwin city</td>\n      <td>gardiner</td>\n      <td>street</td>\n      <td>8</td>\n      <td>0.673876</td>\n      <td>0.507587</td>\n      <td>0.366726</td>\n      <td>0.716306</td>\n      <td>0.679174</td>\n      <td>...</td>\n      <td>1.0</td>\n      <td>0.0</td>\n      <td>0.0</td>\n      <td>0.0</td>\n      <td>0.0</td>\n      <td>0.0</td>\n      <td>True</td>\n      <td>False</td>\n      <td>False</td>\n      <td>False</td>\n    </tr>\n    <tr>\n      <th>422681</th>\n      <td>0800</td>\n      <td>darwin city</td>\n      <td>harvey</td>\n      <td>street</td>\n      <td>16</td>\n      <td>0.594527</td>\n      <td>0.540197</td>\n      <td>0.231378</td>\n      <td>0.716306</td>\n      <td>0.679174</td>\n      <td>...</td>\n      <td>1.0</td>\n      <td>0.0</td>\n      <td>0.0</td>\n      <td>0.0</td>\n      <td>0.0</td>\n      <td>0.0</td>\n      <td>True</td>\n      <td>False</td>\n      <td>False</td>\n      <td>False</td>\n    </tr>\n    <tr>\n      <th>304351</th>\n      <td>0800</td>\n      <td>darwin city</td>\n      <td>kitchener</td>\n      <td>drive</td>\n      <td>7</td>\n      <td>0.609410</td>\n      <td>0.603755</td>\n      <td>0.366726</td>\n      <td>0.716306</td>\n      <td>0.679174</td>\n      <td>...</td>\n      <td>1.0</td>\n      <td>0.0</td>\n      <td>0.0</td>\n      <td>0.0</td>\n      <td>0.0</td>\n      <td>0.0</td>\n      <td>True</td>\n      <td>False</td>\n      <td>False</td>\n      <td>False</td>\n    </tr>\n    <tr>\n      <th>242341</th>\n      <td>0800</td>\n      <td>darwin city</td>\n      <td>mitchell</td>\n      <td>street</td>\n      <td>45</td>\n      <td>0.645060</td>\n      <td>0.493595</td>\n      <td>0.231378</td>\n      <td>0.716306</td>\n      <td>0.679174</td>\n      <td>...</td>\n      <td>1.0</td>\n      <td>0.0</td>\n      <td>0.0</td>\n      <td>0.0</td>\n      <td>0.0</td>\n      <td>0.0</td>\n      <td>True</td>\n      <td>False</td>\n      <td>False</td>\n      <td>False</td>\n    </tr>\n    <tr>\n      <th>290539</th>\n      <td>0800</td>\n      <td>darwin city</td>\n      <td>mitchell</td>\n      <td>street</td>\n      <td>52</td>\n      <td>0.645060</td>\n      <td>0.550509</td>\n      <td>0.231378</td>\n      <td>0.696695</td>\n      <td>0.679174</td>\n      <td>...</td>\n      <td>1.0</td>\n      <td>0.0</td>\n      <td>0.0</td>\n      <td>0.0</td>\n      <td>0.0</td>\n      <td>0.0</td>\n      <td>True</td>\n      <td>False</td>\n      <td>False</td>\n      <td>False</td>\n    </tr>\n    <tr>\n      <th>...</th>\n      <td>...</td>\n      <td>...</td>\n      <td>...</td>\n      <td>...</td>\n      <td>...</td>\n      <td>...</td>\n      <td>...</td>\n      <td>...</td>\n      <td>...</td>\n      <td>...</td>\n      <td>...</td>\n      <td>...</td>\n      <td>...</td>\n      <td>...</td>\n      <td>...</td>\n      <td>...</td>\n      <td>...</td>\n      <td>...</td>\n      <td>...</td>\n      <td>...</td>\n      <td>...</td>\n    </tr>\n    <tr>\n      <th>196937</th>\n      <td>7325</td>\n      <td>wynyard</td>\n      <td>york</td>\n      <td>street</td>\n      <td>16</td>\n      <td>0.585641</td>\n      <td>0.413060</td>\n      <td>0.231378</td>\n      <td>0.543078</td>\n      <td>0.585314</td>\n      <td>...</td>\n      <td>0.0</td>\n      <td>0.0</td>\n      <td>0.0</td>\n      <td>0.0</td>\n      <td>0.0</td>\n      <td>0.0</td>\n      <td>True</td>\n      <td>False</td>\n      <td>False</td>\n      <td>False</td>\n    </tr>\n    <tr>\n      <th>474371</th>\n      <td>7325</td>\n      <td>wynyard</td>\n      <td>york</td>\n      <td>street</td>\n      <td>16</td>\n      <td>0.613193</td>\n      <td>0.425666</td>\n      <td>0.231378</td>\n      <td>0.544473</td>\n      <td>0.586938</td>\n      <td>...</td>\n      <td>0.0</td>\n      <td>0.0</td>\n      <td>0.0</td>\n      <td>0.0</td>\n      <td>0.0</td>\n      <td>0.0</td>\n      <td>True</td>\n      <td>False</td>\n      <td>False</td>\n      <td>False</td>\n    </tr>\n    <tr>\n      <th>454260</th>\n      <td>7325</td>\n      <td>wynyard</td>\n      <td>york</td>\n      <td>street</td>\n      <td>24</td>\n      <td>0.677741</td>\n      <td>0.477621</td>\n      <td>0.366726</td>\n      <td>0.592307</td>\n      <td>0.627993</td>\n      <td>...</td>\n      <td>0.0</td>\n      <td>0.0</td>\n      <td>0.0</td>\n      <td>0.0</td>\n      <td>0.0</td>\n      <td>0.0</td>\n      <td>False</td>\n      <td>True</td>\n      <td>False</td>\n      <td>False</td>\n    </tr>\n    <tr>\n      <th>150745</th>\n      <td>7325</td>\n      <td>wynyard</td>\n      <td>york</td>\n      <td>street</td>\n      <td>32-36</td>\n      <td>0.721969</td>\n      <td>0.603755</td>\n      <td>0.366726</td>\n      <td>0.667383</td>\n      <td>0.648041</td>\n      <td>...</td>\n      <td>0.0</td>\n      <td>0.0</td>\n      <td>0.0</td>\n      <td>0.0</td>\n      <td>0.0</td>\n      <td>0.0</td>\n      <td>False</td>\n      <td>True</td>\n      <td>False</td>\n      <td>False</td>\n    </tr>\n    <tr>\n      <th>420108</th>\n      <td>7325</td>\n      <td>wynyard</td>\n      <td>yulambi</td>\n      <td>court</td>\n      <td>4</td>\n      <td>0.646032</td>\n      <td>0.480140</td>\n      <td>0.366726</td>\n      <td>0.583438</td>\n      <td>0.610792</td>\n      <td>...</td>\n      <td>0.0</td>\n      <td>0.0</td>\n      <td>0.0</td>\n      <td>0.0</td>\n      <td>0.0</td>\n      <td>0.0</td>\n      <td>False</td>\n      <td>True</td>\n      <td>False</td>\n      <td>False</td>\n    </tr>\n  </tbody>\n</table>\n<p>406647 rows × 32 columns</p>\n</div>"
     },
     "execution_count": 23,
     "metadata": {},
     "output_type": "execute_result"
    }
   ],
   "source": [
    "# df[(df['POSTCODE'] >= '2000') & (df['POSTCODE'] < '3000')]\n",
    "df"
   ],
   "metadata": {
    "collapsed": false,
    "ExecuteTime": {
     "end_time": "2024-10-13T03:56:58.617420Z",
     "start_time": "2024-10-13T03:56:58.431458Z"
    }
   },
   "id": "e7d97df682142091",
   "execution_count": 23
  },
  {
   "cell_type": "code",
   "outputs": [
    {
     "data": {
      "text/plain": "       POSTCODE  SUBURB_NAME STREET_NAME STREET_TYPE STREET_NUMBER  \\\n272968     0800  darwin city    gardiner      street             8   \n422681     0800  darwin city      harvey      street            16   \n304351     0800  darwin city   kitchener       drive             7   \n242341     0800  darwin city    mitchell      street            45   \n290539     0800  darwin city    mitchell      street            52   \n...         ...          ...         ...         ...           ...   \n196937     7325      wynyard        york      street            16   \n474371     7325      wynyard        york      street            16   \n454260     7325      wynyard        york      street            24   \n150745     7325      wynyard        york      street         32-36   \n420108     7325      wynyard     yulambi       court             4   \n\n        CL_FLOOR_AREA  NEARMAP_PARCEL_AREA_SQM  NEARMAP_BUILDING_COUNT  \\\n272968       0.673876                 0.507587                0.366726   \n422681       0.594527                 0.540197                0.231378   \n304351       0.609410                 0.603755                0.366726   \n242341       0.645060                 0.493595                0.231378   \n290539       0.645060                 0.550509                0.231378   \n...               ...                      ...                     ...   \n196937       0.585641                 0.413060                0.231378   \n474371       0.613193                 0.425666                0.231378   \n454260       0.677741                 0.477621                0.366726   \n150745       0.721969                 0.603755                0.366726   \n420108       0.646032                 0.480140                0.366726   \n\n        NEARMAP_BUILDING_TOTAL_AREA_SQM  BUILDING_SIZE  ...  \\\n272968                         0.716306       0.679174  ...   \n422681                         0.716306       0.679174  ...   \n304351                         0.716306       0.679174  ...   \n242341                         0.716306       0.679174  ...   \n290539                         0.696695       0.679174  ...   \n...                                 ...            ...  ...   \n196937                         0.543078       0.585314  ...   \n474371                         0.544473       0.586938  ...   \n454260                         0.592307       0.627993  ...   \n150745                         0.667383       0.648041  ...   \n420108                         0.583438       0.610792  ...   \n\n        PRIMARY_ROOF_MATERIAL_FLAT CONCRETE  PRIMARY_ROOF_MATERIAL_METAL  \\\n272968                                  1.0                          0.0   \n422681                                  0.0                          1.0   \n304351                                  0.0                          1.0   \n242341                                  0.0                          1.0   \n290539                                  0.0                          1.0   \n...                                     ...                          ...   \n196937                                  0.0                          1.0   \n474371                                  0.0                          0.0   \n454260                                  0.0                          1.0   \n150745                                  0.0                          0.0   \n420108                                  0.0                          0.0   \n\n        PRIMARY_ROOF_MATERIAL_TILE  ROOF_SHAPE_FLAT  ROOF_SHAPE_GABLED  \\\n272968                         0.0              1.0                0.0   \n422681                         0.0              1.0                0.0   \n304351                         0.0              1.0                0.0   \n242341                         0.0              1.0                0.0   \n290539                         0.0              1.0                0.0   \n...                            ...              ...                ...   \n196937                         0.0              NaN                NaN   \n474371                         1.0              NaN                NaN   \n454260                         0.0              NaN                NaN   \n150745                         1.0              NaN                NaN   \n420108                         1.0              NaN                NaN   \n\n        ROOF_SHAPE_HIPPED  CL_PROPERTY_TYPE_CATEGORY_Apartment/Unit  \\\n272968                0.0                                      True   \n422681                0.0                                      True   \n304351                0.0                                      True   \n242341                0.0                                      True   \n290539                0.0                                      True   \n...                   ...                                       ...   \n196937                NaN                                      True   \n474371                NaN                                      True   \n454260                NaN                                     False   \n150745                NaN                                     False   \n420108                NaN                                     False   \n\n        CL_PROPERTY_TYPE_CATEGORY_House  \\\n272968                            False   \n422681                            False   \n304351                            False   \n242341                            False   \n290539                            False   \n...                                 ...   \n196937                            False   \n474371                            False   \n454260                             True   \n150745                             True   \n420108                             True   \n\n        CL_PROPERTY_TYPE_CATEGORY_Rural/Farming  \\\n272968                                    False   \n422681                                    False   \n304351                                    False   \n242341                                    False   \n290539                                    False   \n...                                         ...   \n196937                                    False   \n474371                                    False   \n454260                                    False   \n150745                                    False   \n420108                                    False   \n\n        CL_PROPERTY_TYPE_CATEGORY_Townhouse  \n272968                                False  \n422681                                False  \n304351                                False  \n242341                                False  \n290539                                False  \n...                                     ...  \n196937                                False  \n474371                                False  \n454260                                False  \n150745                                False  \n420108                                False  \n\n[406645 rows x 27 columns]",
      "text/html": "<div>\n<style scoped>\n    .dataframe tbody tr th:only-of-type {\n        vertical-align: middle;\n    }\n\n    .dataframe tbody tr th {\n        vertical-align: top;\n    }\n\n    .dataframe thead th {\n        text-align: right;\n    }\n</style>\n<table border=\"1\" class=\"dataframe\">\n  <thead>\n    <tr style=\"text-align: right;\">\n      <th></th>\n      <th>POSTCODE</th>\n      <th>SUBURB_NAME</th>\n      <th>STREET_NAME</th>\n      <th>STREET_TYPE</th>\n      <th>STREET_NUMBER</th>\n      <th>CL_FLOOR_AREA</th>\n      <th>NEARMAP_PARCEL_AREA_SQM</th>\n      <th>NEARMAP_BUILDING_COUNT</th>\n      <th>NEARMAP_BUILDING_TOTAL_AREA_SQM</th>\n      <th>BUILDING_SIZE</th>\n      <th>...</th>\n      <th>PRIMARY_ROOF_MATERIAL_FLAT CONCRETE</th>\n      <th>PRIMARY_ROOF_MATERIAL_METAL</th>\n      <th>PRIMARY_ROOF_MATERIAL_TILE</th>\n      <th>ROOF_SHAPE_FLAT</th>\n      <th>ROOF_SHAPE_GABLED</th>\n      <th>ROOF_SHAPE_HIPPED</th>\n      <th>CL_PROPERTY_TYPE_CATEGORY_Apartment/Unit</th>\n      <th>CL_PROPERTY_TYPE_CATEGORY_House</th>\n      <th>CL_PROPERTY_TYPE_CATEGORY_Rural/Farming</th>\n      <th>CL_PROPERTY_TYPE_CATEGORY_Townhouse</th>\n    </tr>\n  </thead>\n  <tbody>\n    <tr>\n      <th>272968</th>\n      <td>0800</td>\n      <td>darwin city</td>\n      <td>gardiner</td>\n      <td>street</td>\n      <td>8</td>\n      <td>0.673876</td>\n      <td>0.507587</td>\n      <td>0.366726</td>\n      <td>0.716306</td>\n      <td>0.679174</td>\n      <td>...</td>\n      <td>1.0</td>\n      <td>0.0</td>\n      <td>0.0</td>\n      <td>1.0</td>\n      <td>0.0</td>\n      <td>0.0</td>\n      <td>True</td>\n      <td>False</td>\n      <td>False</td>\n      <td>False</td>\n    </tr>\n    <tr>\n      <th>422681</th>\n      <td>0800</td>\n      <td>darwin city</td>\n      <td>harvey</td>\n      <td>street</td>\n      <td>16</td>\n      <td>0.594527</td>\n      <td>0.540197</td>\n      <td>0.231378</td>\n      <td>0.716306</td>\n      <td>0.679174</td>\n      <td>...</td>\n      <td>0.0</td>\n      <td>1.0</td>\n      <td>0.0</td>\n      <td>1.0</td>\n      <td>0.0</td>\n      <td>0.0</td>\n      <td>True</td>\n      <td>False</td>\n      <td>False</td>\n      <td>False</td>\n    </tr>\n    <tr>\n      <th>304351</th>\n      <td>0800</td>\n      <td>darwin city</td>\n      <td>kitchener</td>\n      <td>drive</td>\n      <td>7</td>\n      <td>0.609410</td>\n      <td>0.603755</td>\n      <td>0.366726</td>\n      <td>0.716306</td>\n      <td>0.679174</td>\n      <td>...</td>\n      <td>0.0</td>\n      <td>1.0</td>\n      <td>0.0</td>\n      <td>1.0</td>\n      <td>0.0</td>\n      <td>0.0</td>\n      <td>True</td>\n      <td>False</td>\n      <td>False</td>\n      <td>False</td>\n    </tr>\n    <tr>\n      <th>242341</th>\n      <td>0800</td>\n      <td>darwin city</td>\n      <td>mitchell</td>\n      <td>street</td>\n      <td>45</td>\n      <td>0.645060</td>\n      <td>0.493595</td>\n      <td>0.231378</td>\n      <td>0.716306</td>\n      <td>0.679174</td>\n      <td>...</td>\n      <td>0.0</td>\n      <td>1.0</td>\n      <td>0.0</td>\n      <td>1.0</td>\n      <td>0.0</td>\n      <td>0.0</td>\n      <td>True</td>\n      <td>False</td>\n      <td>False</td>\n      <td>False</td>\n    </tr>\n    <tr>\n      <th>290539</th>\n      <td>0800</td>\n      <td>darwin city</td>\n      <td>mitchell</td>\n      <td>street</td>\n      <td>52</td>\n      <td>0.645060</td>\n      <td>0.550509</td>\n      <td>0.231378</td>\n      <td>0.696695</td>\n      <td>0.679174</td>\n      <td>...</td>\n      <td>0.0</td>\n      <td>1.0</td>\n      <td>0.0</td>\n      <td>1.0</td>\n      <td>0.0</td>\n      <td>0.0</td>\n      <td>True</td>\n      <td>False</td>\n      <td>False</td>\n      <td>False</td>\n    </tr>\n    <tr>\n      <th>...</th>\n      <td>...</td>\n      <td>...</td>\n      <td>...</td>\n      <td>...</td>\n      <td>...</td>\n      <td>...</td>\n      <td>...</td>\n      <td>...</td>\n      <td>...</td>\n      <td>...</td>\n      <td>...</td>\n      <td>...</td>\n      <td>...</td>\n      <td>...</td>\n      <td>...</td>\n      <td>...</td>\n      <td>...</td>\n      <td>...</td>\n      <td>...</td>\n      <td>...</td>\n      <td>...</td>\n    </tr>\n    <tr>\n      <th>196937</th>\n      <td>7325</td>\n      <td>wynyard</td>\n      <td>york</td>\n      <td>street</td>\n      <td>16</td>\n      <td>0.585641</td>\n      <td>0.413060</td>\n      <td>0.231378</td>\n      <td>0.543078</td>\n      <td>0.585314</td>\n      <td>...</td>\n      <td>0.0</td>\n      <td>1.0</td>\n      <td>0.0</td>\n      <td>NaN</td>\n      <td>NaN</td>\n      <td>NaN</td>\n      <td>True</td>\n      <td>False</td>\n      <td>False</td>\n      <td>False</td>\n    </tr>\n    <tr>\n      <th>474371</th>\n      <td>7325</td>\n      <td>wynyard</td>\n      <td>york</td>\n      <td>street</td>\n      <td>16</td>\n      <td>0.613193</td>\n      <td>0.425666</td>\n      <td>0.231378</td>\n      <td>0.544473</td>\n      <td>0.586938</td>\n      <td>...</td>\n      <td>0.0</td>\n      <td>0.0</td>\n      <td>1.0</td>\n      <td>NaN</td>\n      <td>NaN</td>\n      <td>NaN</td>\n      <td>True</td>\n      <td>False</td>\n      <td>False</td>\n      <td>False</td>\n    </tr>\n    <tr>\n      <th>454260</th>\n      <td>7325</td>\n      <td>wynyard</td>\n      <td>york</td>\n      <td>street</td>\n      <td>24</td>\n      <td>0.677741</td>\n      <td>0.477621</td>\n      <td>0.366726</td>\n      <td>0.592307</td>\n      <td>0.627993</td>\n      <td>...</td>\n      <td>0.0</td>\n      <td>1.0</td>\n      <td>0.0</td>\n      <td>NaN</td>\n      <td>NaN</td>\n      <td>NaN</td>\n      <td>False</td>\n      <td>True</td>\n      <td>False</td>\n      <td>False</td>\n    </tr>\n    <tr>\n      <th>150745</th>\n      <td>7325</td>\n      <td>wynyard</td>\n      <td>york</td>\n      <td>street</td>\n      <td>32-36</td>\n      <td>0.721969</td>\n      <td>0.603755</td>\n      <td>0.366726</td>\n      <td>0.667383</td>\n      <td>0.648041</td>\n      <td>...</td>\n      <td>0.0</td>\n      <td>0.0</td>\n      <td>1.0</td>\n      <td>NaN</td>\n      <td>NaN</td>\n      <td>NaN</td>\n      <td>False</td>\n      <td>True</td>\n      <td>False</td>\n      <td>False</td>\n    </tr>\n    <tr>\n      <th>420108</th>\n      <td>7325</td>\n      <td>wynyard</td>\n      <td>yulambi</td>\n      <td>court</td>\n      <td>4</td>\n      <td>0.646032</td>\n      <td>0.480140</td>\n      <td>0.366726</td>\n      <td>0.583438</td>\n      <td>0.610792</td>\n      <td>...</td>\n      <td>0.0</td>\n      <td>0.0</td>\n      <td>1.0</td>\n      <td>NaN</td>\n      <td>NaN</td>\n      <td>NaN</td>\n      <td>False</td>\n      <td>True</td>\n      <td>False</td>\n      <td>False</td>\n    </tr>\n  </tbody>\n</table>\n<p>406645 rows × 27 columns</p>\n</div>"
     },
     "execution_count": 35,
     "metadata": {},
     "output_type": "execute_result"
    }
   ],
   "source": [
    "n = pd.read_hdf('data/log_minmax_clean_df_sorted_4.hdf')\n",
    "n"
   ],
   "metadata": {
    "collapsed": false,
    "ExecuteTime": {
     "end_time": "2024-10-14T05:46:03.422896Z",
     "start_time": "2024-10-14T05:46:02.422993Z"
    }
   },
   "id": "7ef8f09565a62f21",
   "execution_count": 35
  },
  {
   "cell_type": "code",
   "outputs": [
    {
     "data": {
      "text/plain": "POSTCODE                                      0\nSUBURB_NAME                                   0\nSTREET_NAME                                   0\nSTREET_TYPE                                   2\nSTREET_NUMBER                               133\nCL_FLOOR_AREA                                 0\nNEARMAP_PARCEL_AREA_SQM                       0\nNEARMAP_BUILDING_COUNT                        0\nNEARMAP_BUILDING_TOTAL_AREA_SQM               0\nBUILDING_SIZE                                 0\nROOF_HEIGHT                                   0\nEAVE_HEIGHT                                   0\nESTIMATED_LEVELS                              0\nAVG_BED                                       0\nAVG_BATH                                      0\nAVG_CAR                                       0\nPRIMARY_ROOF_MATERIAL_-1                      0\nPRIMARY_ROOF_MATERIAL_FIBERGLASS/PLASTIC      0\nPRIMARY_ROOF_MATERIAL_FLAT CONCRETE           0\nPRIMARY_ROOF_MATERIAL_METAL                   0\nPRIMARY_ROOF_MATERIAL_TILE                    0\nROOF_SHAPE_-1                                 0\nROOF_SHAPE_FLAT                               0\nROOF_SHAPE_GABLED                             0\nROOF_SHAPE_HIPPED                             0\nROOF_SHAPE_MANSARD                            0\nROOF_SHAPE_MIXED                              0\nROOF_SHAPE_SHED                               0\nCL_PROPERTY_TYPE_CATEGORY_Apartment/Unit      0\nCL_PROPERTY_TYPE_CATEGORY_House               0\nCL_PROPERTY_TYPE_CATEGORY_Rural/Farming       0\nCL_PROPERTY_TYPE_CATEGORY_Townhouse           0\ndtype: int64"
     },
     "execution_count": 34,
     "metadata": {},
     "output_type": "execute_result"
    }
   ],
   "source": [
    "n.isnull().sum()"
   ],
   "metadata": {
    "collapsed": false,
    "ExecuteTime": {
     "end_time": "2024-10-14T05:45:50.977147Z",
     "start_time": "2024-10-14T05:45:50.937156Z"
    }
   },
   "id": "7cd1f0554a600a0d",
   "execution_count": 34
  },
  {
   "cell_type": "code",
   "outputs": [],
   "source": [
    "n = n.drop(columns=['ESTIMATED_LEVELS'])"
   ],
   "metadata": {
    "collapsed": false,
    "ExecuteTime": {
     "end_time": "2024-10-13T03:43:58.166094Z",
     "start_time": "2024-10-13T03:43:58.078658Z"
    }
   },
   "id": "71ef2015e403b03f",
   "execution_count": 9
  },
  {
   "cell_type": "code",
   "outputs": [
    {
     "data": {
      "text/plain": "       POSTCODE  SUBURB_NAME STREET_NAME STREET_TYPE STREET_NUMBER  \\\n272968     0800  darwin city    gardiner      street             8   \n422681     0800  darwin city      harvey      street            16   \n304351     0800  darwin city   kitchener       drive             7   \n242341     0800  darwin city    mitchell      street            45   \n290539     0800  darwin city    mitchell      street            52   \n...         ...          ...         ...         ...           ...   \n196937     7325      wynyard        york      street            16   \n474371     7325      wynyard        york      street            16   \n454260     7325      wynyard        york      street            24   \n150745     7325      wynyard        york      street         32-36   \n420108     7325      wynyard     yulambi       court             4   \n\n        CL_FLOOR_AREA  NEARMAP_PARCEL_AREA_SQM  NEARMAP_BUILDING_COUNT  \\\n272968       0.673876                 0.507587                0.366726   \n422681       0.594527                 0.540197                0.231378   \n304351       0.609410                 0.603755                0.366726   \n242341       0.645060                 0.493595                0.231378   \n290539       0.645060                 0.550509                0.231378   \n...               ...                      ...                     ...   \n196937       0.585641                 0.413060                0.231378   \n474371       0.613193                 0.425666                0.231378   \n454260       0.677741                 0.477621                0.366726   \n150745       0.721969                 0.603755                0.366726   \n420108       0.646032                 0.480140                0.366726   \n\n        NEARMAP_BUILDING_TOTAL_AREA_SQM  BUILDING_SIZE  ...  \\\n272968                         0.716306       0.679174  ...   \n422681                         0.716306       0.679174  ...   \n304351                         0.716306       0.679174  ...   \n242341                         0.716306       0.679174  ...   \n290539                         0.696695       0.679174  ...   \n...                                 ...            ...  ...   \n196937                         0.543078       0.585314  ...   \n474371                         0.544473       0.586938  ...   \n454260                         0.592307       0.627993  ...   \n150745                         0.667383       0.648041  ...   \n420108                         0.583438       0.610792  ...   \n\n        PRIMARY_ROOF_MATERIAL_FLAT CONCRETE  PRIMARY_ROOF_MATERIAL_METAL  \\\n272968                                  1.0                          0.0   \n422681                                  0.0                          1.0   \n304351                                  0.0                          1.0   \n242341                                  0.0                          1.0   \n290539                                  0.0                          1.0   \n...                                     ...                          ...   \n196937                                  0.0                          1.0   \n474371                                  0.0                          0.0   \n454260                                  0.0                          1.0   \n150745                                  0.0                          0.0   \n420108                                  0.0                          0.0   \n\n        PRIMARY_ROOF_MATERIAL_TILE  ROOF_SHAPE_FLAT  ROOF_SHAPE_GABLED  \\\n272968                         0.0              1.0                0.0   \n422681                         0.0              1.0                0.0   \n304351                         0.0              1.0                0.0   \n242341                         0.0              1.0                0.0   \n290539                         0.0              1.0                0.0   \n...                            ...              ...                ...   \n196937                         0.0              NaN                NaN   \n474371                         1.0              NaN                NaN   \n454260                         0.0              NaN                NaN   \n150745                         1.0              NaN                NaN   \n420108                         1.0              NaN                NaN   \n\n        ROOF_SHAPE_HIPPED  CL_PROPERTY_TYPE_CATEGORY_Apartment/Unit  \\\n272968                0.0                                      True   \n422681                0.0                                      True   \n304351                0.0                                      True   \n242341                0.0                                      True   \n290539                0.0                                      True   \n...                   ...                                       ...   \n196937                NaN                                      True   \n474371                NaN                                      True   \n454260                NaN                                     False   \n150745                NaN                                     False   \n420108                NaN                                     False   \n\n        CL_PROPERTY_TYPE_CATEGORY_House  \\\n272968                            False   \n422681                            False   \n304351                            False   \n242341                            False   \n290539                            False   \n...                                 ...   \n196937                            False   \n474371                            False   \n454260                             True   \n150745                             True   \n420108                             True   \n\n        CL_PROPERTY_TYPE_CATEGORY_Rural/Farming  \\\n272968                                    False   \n422681                                    False   \n304351                                    False   \n242341                                    False   \n290539                                    False   \n...                                         ...   \n196937                                    False   \n474371                                    False   \n454260                                    False   \n150745                                    False   \n420108                                    False   \n\n        CL_PROPERTY_TYPE_CATEGORY_Townhouse  \n272968                                False  \n422681                                False  \n304351                                False  \n242341                                False  \n290539                                False  \n...                                     ...  \n196937                                False  \n474371                                False  \n454260                                False  \n150745                                False  \n420108                                False  \n\n[406645 rows x 27 columns]",
      "text/html": "<div>\n<style scoped>\n    .dataframe tbody tr th:only-of-type {\n        vertical-align: middle;\n    }\n\n    .dataframe tbody tr th {\n        vertical-align: top;\n    }\n\n    .dataframe thead th {\n        text-align: right;\n    }\n</style>\n<table border=\"1\" class=\"dataframe\">\n  <thead>\n    <tr style=\"text-align: right;\">\n      <th></th>\n      <th>POSTCODE</th>\n      <th>SUBURB_NAME</th>\n      <th>STREET_NAME</th>\n      <th>STREET_TYPE</th>\n      <th>STREET_NUMBER</th>\n      <th>CL_FLOOR_AREA</th>\n      <th>NEARMAP_PARCEL_AREA_SQM</th>\n      <th>NEARMAP_BUILDING_COUNT</th>\n      <th>NEARMAP_BUILDING_TOTAL_AREA_SQM</th>\n      <th>BUILDING_SIZE</th>\n      <th>...</th>\n      <th>PRIMARY_ROOF_MATERIAL_FLAT CONCRETE</th>\n      <th>PRIMARY_ROOF_MATERIAL_METAL</th>\n      <th>PRIMARY_ROOF_MATERIAL_TILE</th>\n      <th>ROOF_SHAPE_FLAT</th>\n      <th>ROOF_SHAPE_GABLED</th>\n      <th>ROOF_SHAPE_HIPPED</th>\n      <th>CL_PROPERTY_TYPE_CATEGORY_Apartment/Unit</th>\n      <th>CL_PROPERTY_TYPE_CATEGORY_House</th>\n      <th>CL_PROPERTY_TYPE_CATEGORY_Rural/Farming</th>\n      <th>CL_PROPERTY_TYPE_CATEGORY_Townhouse</th>\n    </tr>\n  </thead>\n  <tbody>\n    <tr>\n      <th>272968</th>\n      <td>0800</td>\n      <td>darwin city</td>\n      <td>gardiner</td>\n      <td>street</td>\n      <td>8</td>\n      <td>0.673876</td>\n      <td>0.507587</td>\n      <td>0.366726</td>\n      <td>0.716306</td>\n      <td>0.679174</td>\n      <td>...</td>\n      <td>1.0</td>\n      <td>0.0</td>\n      <td>0.0</td>\n      <td>1.0</td>\n      <td>0.0</td>\n      <td>0.0</td>\n      <td>True</td>\n      <td>False</td>\n      <td>False</td>\n      <td>False</td>\n    </tr>\n    <tr>\n      <th>422681</th>\n      <td>0800</td>\n      <td>darwin city</td>\n      <td>harvey</td>\n      <td>street</td>\n      <td>16</td>\n      <td>0.594527</td>\n      <td>0.540197</td>\n      <td>0.231378</td>\n      <td>0.716306</td>\n      <td>0.679174</td>\n      <td>...</td>\n      <td>0.0</td>\n      <td>1.0</td>\n      <td>0.0</td>\n      <td>1.0</td>\n      <td>0.0</td>\n      <td>0.0</td>\n      <td>True</td>\n      <td>False</td>\n      <td>False</td>\n      <td>False</td>\n    </tr>\n    <tr>\n      <th>304351</th>\n      <td>0800</td>\n      <td>darwin city</td>\n      <td>kitchener</td>\n      <td>drive</td>\n      <td>7</td>\n      <td>0.609410</td>\n      <td>0.603755</td>\n      <td>0.366726</td>\n      <td>0.716306</td>\n      <td>0.679174</td>\n      <td>...</td>\n      <td>0.0</td>\n      <td>1.0</td>\n      <td>0.0</td>\n      <td>1.0</td>\n      <td>0.0</td>\n      <td>0.0</td>\n      <td>True</td>\n      <td>False</td>\n      <td>False</td>\n      <td>False</td>\n    </tr>\n    <tr>\n      <th>242341</th>\n      <td>0800</td>\n      <td>darwin city</td>\n      <td>mitchell</td>\n      <td>street</td>\n      <td>45</td>\n      <td>0.645060</td>\n      <td>0.493595</td>\n      <td>0.231378</td>\n      <td>0.716306</td>\n      <td>0.679174</td>\n      <td>...</td>\n      <td>0.0</td>\n      <td>1.0</td>\n      <td>0.0</td>\n      <td>1.0</td>\n      <td>0.0</td>\n      <td>0.0</td>\n      <td>True</td>\n      <td>False</td>\n      <td>False</td>\n      <td>False</td>\n    </tr>\n    <tr>\n      <th>290539</th>\n      <td>0800</td>\n      <td>darwin city</td>\n      <td>mitchell</td>\n      <td>street</td>\n      <td>52</td>\n      <td>0.645060</td>\n      <td>0.550509</td>\n      <td>0.231378</td>\n      <td>0.696695</td>\n      <td>0.679174</td>\n      <td>...</td>\n      <td>0.0</td>\n      <td>1.0</td>\n      <td>0.0</td>\n      <td>1.0</td>\n      <td>0.0</td>\n      <td>0.0</td>\n      <td>True</td>\n      <td>False</td>\n      <td>False</td>\n      <td>False</td>\n    </tr>\n    <tr>\n      <th>...</th>\n      <td>...</td>\n      <td>...</td>\n      <td>...</td>\n      <td>...</td>\n      <td>...</td>\n      <td>...</td>\n      <td>...</td>\n      <td>...</td>\n      <td>...</td>\n      <td>...</td>\n      <td>...</td>\n      <td>...</td>\n      <td>...</td>\n      <td>...</td>\n      <td>...</td>\n      <td>...</td>\n      <td>...</td>\n      <td>...</td>\n      <td>...</td>\n      <td>...</td>\n      <td>...</td>\n    </tr>\n    <tr>\n      <th>196937</th>\n      <td>7325</td>\n      <td>wynyard</td>\n      <td>york</td>\n      <td>street</td>\n      <td>16</td>\n      <td>0.585641</td>\n      <td>0.413060</td>\n      <td>0.231378</td>\n      <td>0.543078</td>\n      <td>0.585314</td>\n      <td>...</td>\n      <td>0.0</td>\n      <td>1.0</td>\n      <td>0.0</td>\n      <td>NaN</td>\n      <td>NaN</td>\n      <td>NaN</td>\n      <td>True</td>\n      <td>False</td>\n      <td>False</td>\n      <td>False</td>\n    </tr>\n    <tr>\n      <th>474371</th>\n      <td>7325</td>\n      <td>wynyard</td>\n      <td>york</td>\n      <td>street</td>\n      <td>16</td>\n      <td>0.613193</td>\n      <td>0.425666</td>\n      <td>0.231378</td>\n      <td>0.544473</td>\n      <td>0.586938</td>\n      <td>...</td>\n      <td>0.0</td>\n      <td>0.0</td>\n      <td>1.0</td>\n      <td>NaN</td>\n      <td>NaN</td>\n      <td>NaN</td>\n      <td>True</td>\n      <td>False</td>\n      <td>False</td>\n      <td>False</td>\n    </tr>\n    <tr>\n      <th>454260</th>\n      <td>7325</td>\n      <td>wynyard</td>\n      <td>york</td>\n      <td>street</td>\n      <td>24</td>\n      <td>0.677741</td>\n      <td>0.477621</td>\n      <td>0.366726</td>\n      <td>0.592307</td>\n      <td>0.627993</td>\n      <td>...</td>\n      <td>0.0</td>\n      <td>1.0</td>\n      <td>0.0</td>\n      <td>NaN</td>\n      <td>NaN</td>\n      <td>NaN</td>\n      <td>False</td>\n      <td>True</td>\n      <td>False</td>\n      <td>False</td>\n    </tr>\n    <tr>\n      <th>150745</th>\n      <td>7325</td>\n      <td>wynyard</td>\n      <td>york</td>\n      <td>street</td>\n      <td>32-36</td>\n      <td>0.721969</td>\n      <td>0.603755</td>\n      <td>0.366726</td>\n      <td>0.667383</td>\n      <td>0.648041</td>\n      <td>...</td>\n      <td>0.0</td>\n      <td>0.0</td>\n      <td>1.0</td>\n      <td>NaN</td>\n      <td>NaN</td>\n      <td>NaN</td>\n      <td>False</td>\n      <td>True</td>\n      <td>False</td>\n      <td>False</td>\n    </tr>\n    <tr>\n      <th>420108</th>\n      <td>7325</td>\n      <td>wynyard</td>\n      <td>yulambi</td>\n      <td>court</td>\n      <td>4</td>\n      <td>0.646032</td>\n      <td>0.480140</td>\n      <td>0.366726</td>\n      <td>0.583438</td>\n      <td>0.610792</td>\n      <td>...</td>\n      <td>0.0</td>\n      <td>0.0</td>\n      <td>1.0</td>\n      <td>NaN</td>\n      <td>NaN</td>\n      <td>NaN</td>\n      <td>False</td>\n      <td>True</td>\n      <td>False</td>\n      <td>False</td>\n    </tr>\n  </tbody>\n</table>\n<p>406645 rows × 27 columns</p>\n</div>"
     },
     "execution_count": 10,
     "metadata": {},
     "output_type": "execute_result"
    }
   ],
   "source": [
    "n"
   ],
   "metadata": {
    "collapsed": false,
    "ExecuteTime": {
     "end_time": "2024-10-13T03:43:59.769167Z",
     "start_time": "2024-10-13T03:43:59.440653Z"
    }
   },
   "id": "ea7e3d6071bf177e",
   "execution_count": 10
  },
  {
   "cell_type": "code",
   "outputs": [
    {
     "name": "stderr",
     "output_type": "stream",
     "text": [
      "/var/folders/bl/bhxc9rps0xsb8c84q3j7djcc0000gp/T/ipykernel_4637/4100318787.py:1: PerformanceWarning: \n",
      "your performance may suffer as PyTables will pickle object types that it cannot\n",
      "map directly to c-types [inferred_type->mixed,key->block0_values] [items->Index(['POSTCODE', 'SUBURB_NAME', 'STREET_NAME', 'STREET_TYPE',\n",
      "       'STREET_NUMBER', 'ROOF_SHAPE_FLAT', 'ROOF_SHAPE_GABLED',\n",
      "       'ROOF_SHAPE_HIPPED'],\n",
      "      dtype='object')]\n",
      "\n",
      "  n.to_hdf('data/log_minmax_clean_df_sorted_4.hdf', key='s')\n"
     ]
    }
   ],
   "source": [
    "n.to_hdf('data/log_minmax_clean_df_sorted_4.hdf', key='s')"
   ],
   "metadata": {
    "collapsed": false,
    "ExecuteTime": {
     "end_time": "2024-10-13T03:44:42.519818Z",
     "start_time": "2024-10-13T03:44:42.028508Z"
    }
   },
   "id": "6d813b9f52507b9c",
   "execution_count": 11
  },
  {
   "cell_type": "code",
   "outputs": [
    {
     "data": {
      "text/plain": "       POSTCODE SUBURB_NAME                STREET_NAME STREET_TYPE  \\\n415976     2600      deakin                     barron      street   \n21530      2600      deakin                     barron      street   \n393328     2600      deakin                     barron      street   \n300437     2600      deakin                     buxton      street   \n96956      2600      deakin                     buxton      street   \n...         ...         ...                        ...         ...   \n153972     3099    nutfield              doctors gully        road   \n300611     3099    nutfield  hurstbridge-arthurs creek        road   \n279457     3099    nutfield                       mine        road   \n374984     3099    nutfield                       mine        road   \n244660     3099    nutfield                       mine        road   \n\n       STREET_NUMBER  CL_FLOOR_AREA  NEARMAP_PARCEL_AREA_SQM  \\\n415976            12       0.735416                 0.462409   \n21530            26B       0.645060                 0.488754   \n393328             3       0.602852                 0.443968   \n300437            67       0.640086                 0.453326   \n96956             71       0.700746                 0.451768   \n...              ...            ...                      ...   \n153972           405       0.724664                 0.603755   \n300611           300       0.732935                 0.603755   \n279457           115       0.728403                 0.603755   \n374984           140       0.686578                 0.603755   \n244660            50       0.721423                 0.603755   \n\n        NEARMAP_BUILDING_COUNT  NEARMAP_BUILDING_TOTAL_AREA_SQM  \\\n415976                0.231378                         0.622569   \n21530                 0.231378                         0.608714   \n393328                0.231378                         0.524227   \n300437                0.366726                         0.716306   \n96956                 0.231378                         0.714615   \n...                        ...                              ...   \n153972                0.366726                         0.716306   \n300611                0.366726                         0.709141   \n279457                0.366726                         0.685124   \n374984                0.366726                         0.666735   \n244660                0.366726                         0.662423   \n\n        BUILDING_SIZE  ...  PRIMARY_ROOF_MATERIAL_FLAT CONCRETE  \\\n415976       0.671125  ...                                  0.0   \n21530        0.656189  ...                                  0.0   \n393328       0.539822  ...                                  0.0   \n300437       0.568755  ...                                  0.0   \n96956        0.592701  ...                                  0.0   \n...               ...  ...                                  ...   \n153972       0.679174  ...                                  0.0   \n300611       0.679174  ...                                  0.0   \n279457       0.673164  ...                                  0.0   \n374984       0.652523  ...                                  0.0   \n244660       0.649828  ...                                  0.0   \n\n        PRIMARY_ROOF_MATERIAL_METAL  PRIMARY_ROOF_MATERIAL_TILE  \\\n415976                          0.0                         1.0   \n21530                           0.0                         1.0   \n393328                          0.0                         1.0   \n300437                          0.0                         1.0   \n96956                           1.0                         0.0   \n...                             ...                         ...   \n153972                          1.0                         0.0   \n300611                          1.0                         0.0   \n279457                          0.0                         1.0   \n374984                          1.0                         0.0   \n244660                          1.0                         0.0   \n\n        ROOF_SHAPE_FLAT  ROOF_SHAPE_GABLED  ROOF_SHAPE_HIPPED  \\\n415976              NaN                NaN                NaN   \n21530             False              False               True   \n393328              NaN                NaN                NaN   \n300437              NaN                NaN                NaN   \n96956             False              False               True   \n...                 ...                ...                ...   \n153972              1.0                0.0                0.0   \n300611              0.0                0.0                1.0   \n279457              0.0                0.0                1.0   \n374984              1.0                0.0                0.0   \n244660              1.0                0.0                0.0   \n\n        CL_PROPERTY_TYPE_CATEGORY_Apartment/Unit  \\\n415976                                     False   \n21530                                       True   \n393328                                     False   \n300437                                     False   \n96956                                      False   \n...                                          ...   \n153972                                     False   \n300611                                     False   \n279457                                     False   \n374984                                     False   \n244660                                     False   \n\n        CL_PROPERTY_TYPE_CATEGORY_House  \\\n415976                             True   \n21530                             False   \n393328                             True   \n300437                             True   \n96956                              True   \n...                                 ...   \n153972                             True   \n300611                             True   \n279457                             True   \n374984                             True   \n244660                             True   \n\n        CL_PROPERTY_TYPE_CATEGORY_Rural/Farming  \\\n415976                                    False   \n21530                                     False   \n393328                                    False   \n300437                                    False   \n96956                                     False   \n...                                         ...   \n153972                                    False   \n300611                                    False   \n279457                                    False   \n374984                                    False   \n244660                                    False   \n\n        CL_PROPERTY_TYPE_CATEGORY_Townhouse  \n415976                                False  \n21530                                 False  \n393328                                False  \n300437                                False  \n96956                                 False  \n...                                     ...  \n153972                                False  \n300611                                False  \n279457                                False  \n374984                                False  \n244660                                False  \n\n[57290 rows x 27 columns]",
      "text/html": "<div>\n<style scoped>\n    .dataframe tbody tr th:only-of-type {\n        vertical-align: middle;\n    }\n\n    .dataframe tbody tr th {\n        vertical-align: top;\n    }\n\n    .dataframe thead th {\n        text-align: right;\n    }\n</style>\n<table border=\"1\" class=\"dataframe\">\n  <thead>\n    <tr style=\"text-align: right;\">\n      <th></th>\n      <th>POSTCODE</th>\n      <th>SUBURB_NAME</th>\n      <th>STREET_NAME</th>\n      <th>STREET_TYPE</th>\n      <th>STREET_NUMBER</th>\n      <th>CL_FLOOR_AREA</th>\n      <th>NEARMAP_PARCEL_AREA_SQM</th>\n      <th>NEARMAP_BUILDING_COUNT</th>\n      <th>NEARMAP_BUILDING_TOTAL_AREA_SQM</th>\n      <th>BUILDING_SIZE</th>\n      <th>...</th>\n      <th>PRIMARY_ROOF_MATERIAL_FLAT CONCRETE</th>\n      <th>PRIMARY_ROOF_MATERIAL_METAL</th>\n      <th>PRIMARY_ROOF_MATERIAL_TILE</th>\n      <th>ROOF_SHAPE_FLAT</th>\n      <th>ROOF_SHAPE_GABLED</th>\n      <th>ROOF_SHAPE_HIPPED</th>\n      <th>CL_PROPERTY_TYPE_CATEGORY_Apartment/Unit</th>\n      <th>CL_PROPERTY_TYPE_CATEGORY_House</th>\n      <th>CL_PROPERTY_TYPE_CATEGORY_Rural/Farming</th>\n      <th>CL_PROPERTY_TYPE_CATEGORY_Townhouse</th>\n    </tr>\n  </thead>\n  <tbody>\n    <tr>\n      <th>415976</th>\n      <td>2600</td>\n      <td>deakin</td>\n      <td>barron</td>\n      <td>street</td>\n      <td>12</td>\n      <td>0.735416</td>\n      <td>0.462409</td>\n      <td>0.231378</td>\n      <td>0.622569</td>\n      <td>0.671125</td>\n      <td>...</td>\n      <td>0.0</td>\n      <td>0.0</td>\n      <td>1.0</td>\n      <td>NaN</td>\n      <td>NaN</td>\n      <td>NaN</td>\n      <td>False</td>\n      <td>True</td>\n      <td>False</td>\n      <td>False</td>\n    </tr>\n    <tr>\n      <th>21530</th>\n      <td>2600</td>\n      <td>deakin</td>\n      <td>barron</td>\n      <td>street</td>\n      <td>26B</td>\n      <td>0.645060</td>\n      <td>0.488754</td>\n      <td>0.231378</td>\n      <td>0.608714</td>\n      <td>0.656189</td>\n      <td>...</td>\n      <td>0.0</td>\n      <td>0.0</td>\n      <td>1.0</td>\n      <td>False</td>\n      <td>False</td>\n      <td>True</td>\n      <td>True</td>\n      <td>False</td>\n      <td>False</td>\n      <td>False</td>\n    </tr>\n    <tr>\n      <th>393328</th>\n      <td>2600</td>\n      <td>deakin</td>\n      <td>barron</td>\n      <td>street</td>\n      <td>3</td>\n      <td>0.602852</td>\n      <td>0.443968</td>\n      <td>0.231378</td>\n      <td>0.524227</td>\n      <td>0.539822</td>\n      <td>...</td>\n      <td>0.0</td>\n      <td>0.0</td>\n      <td>1.0</td>\n      <td>NaN</td>\n      <td>NaN</td>\n      <td>NaN</td>\n      <td>False</td>\n      <td>True</td>\n      <td>False</td>\n      <td>False</td>\n    </tr>\n    <tr>\n      <th>300437</th>\n      <td>2600</td>\n      <td>deakin</td>\n      <td>buxton</td>\n      <td>street</td>\n      <td>67</td>\n      <td>0.640086</td>\n      <td>0.453326</td>\n      <td>0.366726</td>\n      <td>0.716306</td>\n      <td>0.568755</td>\n      <td>...</td>\n      <td>0.0</td>\n      <td>0.0</td>\n      <td>1.0</td>\n      <td>NaN</td>\n      <td>NaN</td>\n      <td>NaN</td>\n      <td>False</td>\n      <td>True</td>\n      <td>False</td>\n      <td>False</td>\n    </tr>\n    <tr>\n      <th>96956</th>\n      <td>2600</td>\n      <td>deakin</td>\n      <td>buxton</td>\n      <td>street</td>\n      <td>71</td>\n      <td>0.700746</td>\n      <td>0.451768</td>\n      <td>0.231378</td>\n      <td>0.714615</td>\n      <td>0.592701</td>\n      <td>...</td>\n      <td>0.0</td>\n      <td>1.0</td>\n      <td>0.0</td>\n      <td>False</td>\n      <td>False</td>\n      <td>True</td>\n      <td>False</td>\n      <td>True</td>\n      <td>False</td>\n      <td>False</td>\n    </tr>\n    <tr>\n      <th>...</th>\n      <td>...</td>\n      <td>...</td>\n      <td>...</td>\n      <td>...</td>\n      <td>...</td>\n      <td>...</td>\n      <td>...</td>\n      <td>...</td>\n      <td>...</td>\n      <td>...</td>\n      <td>...</td>\n      <td>...</td>\n      <td>...</td>\n      <td>...</td>\n      <td>...</td>\n      <td>...</td>\n      <td>...</td>\n      <td>...</td>\n      <td>...</td>\n      <td>...</td>\n      <td>...</td>\n    </tr>\n    <tr>\n      <th>153972</th>\n      <td>3099</td>\n      <td>nutfield</td>\n      <td>doctors gully</td>\n      <td>road</td>\n      <td>405</td>\n      <td>0.724664</td>\n      <td>0.603755</td>\n      <td>0.366726</td>\n      <td>0.716306</td>\n      <td>0.679174</td>\n      <td>...</td>\n      <td>0.0</td>\n      <td>1.0</td>\n      <td>0.0</td>\n      <td>1.0</td>\n      <td>0.0</td>\n      <td>0.0</td>\n      <td>False</td>\n      <td>True</td>\n      <td>False</td>\n      <td>False</td>\n    </tr>\n    <tr>\n      <th>300611</th>\n      <td>3099</td>\n      <td>nutfield</td>\n      <td>hurstbridge-arthurs creek</td>\n      <td>road</td>\n      <td>300</td>\n      <td>0.732935</td>\n      <td>0.603755</td>\n      <td>0.366726</td>\n      <td>0.709141</td>\n      <td>0.679174</td>\n      <td>...</td>\n      <td>0.0</td>\n      <td>1.0</td>\n      <td>0.0</td>\n      <td>0.0</td>\n      <td>0.0</td>\n      <td>1.0</td>\n      <td>False</td>\n      <td>True</td>\n      <td>False</td>\n      <td>False</td>\n    </tr>\n    <tr>\n      <th>279457</th>\n      <td>3099</td>\n      <td>nutfield</td>\n      <td>mine</td>\n      <td>road</td>\n      <td>115</td>\n      <td>0.728403</td>\n      <td>0.603755</td>\n      <td>0.366726</td>\n      <td>0.685124</td>\n      <td>0.673164</td>\n      <td>...</td>\n      <td>0.0</td>\n      <td>0.0</td>\n      <td>1.0</td>\n      <td>0.0</td>\n      <td>0.0</td>\n      <td>1.0</td>\n      <td>False</td>\n      <td>True</td>\n      <td>False</td>\n      <td>False</td>\n    </tr>\n    <tr>\n      <th>374984</th>\n      <td>3099</td>\n      <td>nutfield</td>\n      <td>mine</td>\n      <td>road</td>\n      <td>140</td>\n      <td>0.686578</td>\n      <td>0.603755</td>\n      <td>0.366726</td>\n      <td>0.666735</td>\n      <td>0.652523</td>\n      <td>...</td>\n      <td>0.0</td>\n      <td>1.0</td>\n      <td>0.0</td>\n      <td>1.0</td>\n      <td>0.0</td>\n      <td>0.0</td>\n      <td>False</td>\n      <td>True</td>\n      <td>False</td>\n      <td>False</td>\n    </tr>\n    <tr>\n      <th>244660</th>\n      <td>3099</td>\n      <td>nutfield</td>\n      <td>mine</td>\n      <td>road</td>\n      <td>50</td>\n      <td>0.721423</td>\n      <td>0.603755</td>\n      <td>0.366726</td>\n      <td>0.662423</td>\n      <td>0.649828</td>\n      <td>...</td>\n      <td>0.0</td>\n      <td>1.0</td>\n      <td>0.0</td>\n      <td>1.0</td>\n      <td>0.0</td>\n      <td>0.0</td>\n      <td>False</td>\n      <td>True</td>\n      <td>False</td>\n      <td>False</td>\n    </tr>\n  </tbody>\n</table>\n<p>57290 rows × 27 columns</p>\n</div>"
     },
     "execution_count": 29,
     "metadata": {},
     "output_type": "execute_result"
    }
   ],
   "source": [
    "n[(n['POSTCODE'] >= '2000') & (n['POSTCODE'] < '3100')]"
   ],
   "metadata": {
    "collapsed": false,
    "ExecuteTime": {
     "end_time": "2024-10-13T04:01:26.715409Z",
     "start_time": "2024-10-13T04:01:26.630995Z"
    }
   },
   "id": "81076cde6a3d2828",
   "execution_count": 29
  },
  {
   "cell_type": "code",
   "outputs": [
    {
     "data": {
      "text/plain": "Empty DataFrame\nColumns: [POSTCODE, SUBURB_NAME, STREET_NAME, STREET_TYPE, STREET_NUMBER, CL_FLOOR_AREA, NEARMAP_PARCEL_AREA_SQM, NEARMAP_BUILDING_COUNT, NEARMAP_BUILDING_TOTAL_AREA_SQM, BUILDING_SIZE, ROOF_HEIGHT, EAVE_HEIGHT, AVG_BED, AVG_BATH, AVG_CAR, PRIMARY_ROOF_MATERIAL_-1, PRIMARY_ROOF_MATERIAL_FIBERGLASS/PLASTIC, PRIMARY_ROOF_MATERIAL_FLAT CONCRETE, PRIMARY_ROOF_MATERIAL_METAL, PRIMARY_ROOF_MATERIAL_TILE, ROOF_SHAPE_FLAT, ROOF_SHAPE_GABLED, ROOF_SHAPE_HIPPED, CL_PROPERTY_TYPE_CATEGORY_Apartment/Unit, CL_PROPERTY_TYPE_CATEGORY_House, CL_PROPERTY_TYPE_CATEGORY_Rural/Farming, CL_PROPERTY_TYPE_CATEGORY_Townhouse]\nIndex: []\n\n[0 rows x 27 columns]",
      "text/html": "<div>\n<style scoped>\n    .dataframe tbody tr th:only-of-type {\n        vertical-align: middle;\n    }\n\n    .dataframe tbody tr th {\n        vertical-align: top;\n    }\n\n    .dataframe thead th {\n        text-align: right;\n    }\n</style>\n<table border=\"1\" class=\"dataframe\">\n  <thead>\n    <tr style=\"text-align: right;\">\n      <th></th>\n      <th>POSTCODE</th>\n      <th>SUBURB_NAME</th>\n      <th>STREET_NAME</th>\n      <th>STREET_TYPE</th>\n      <th>STREET_NUMBER</th>\n      <th>CL_FLOOR_AREA</th>\n      <th>NEARMAP_PARCEL_AREA_SQM</th>\n      <th>NEARMAP_BUILDING_COUNT</th>\n      <th>NEARMAP_BUILDING_TOTAL_AREA_SQM</th>\n      <th>BUILDING_SIZE</th>\n      <th>...</th>\n      <th>PRIMARY_ROOF_MATERIAL_FLAT CONCRETE</th>\n      <th>PRIMARY_ROOF_MATERIAL_METAL</th>\n      <th>PRIMARY_ROOF_MATERIAL_TILE</th>\n      <th>ROOF_SHAPE_FLAT</th>\n      <th>ROOF_SHAPE_GABLED</th>\n      <th>ROOF_SHAPE_HIPPED</th>\n      <th>CL_PROPERTY_TYPE_CATEGORY_Apartment/Unit</th>\n      <th>CL_PROPERTY_TYPE_CATEGORY_House</th>\n      <th>CL_PROPERTY_TYPE_CATEGORY_Rural/Farming</th>\n      <th>CL_PROPERTY_TYPE_CATEGORY_Townhouse</th>\n    </tr>\n  </thead>\n  <tbody>\n  </tbody>\n</table>\n<p>0 rows × 27 columns</p>\n</div>"
     },
     "execution_count": 16,
     "metadata": {},
     "output_type": "execute_result"
    }
   ],
   "source": [
    "n[n['SUBURB_NAME'] == 'sydney']"
   ],
   "metadata": {
    "collapsed": false,
    "ExecuteTime": {
     "end_time": "2024-10-13T03:54:32.144387Z",
     "start_time": "2024-10-13T03:54:32.054611Z"
    }
   },
   "id": "e75dd718b347a621",
   "execution_count": 16
  },
  {
   "cell_type": "code",
   "outputs": [],
   "source": [
    "import pickle\n",
    "with open('s4-08/result.pkl', \"rb\") as file:\n",
    "    obj = pickle.load(file)"
   ],
   "metadata": {
    "collapsed": false,
    "ExecuteTime": {
     "end_time": "2024-10-20T04:21:02.999878Z",
     "start_time": "2024-10-20T04:21:02.921119Z"
    }
   },
   "id": "4d26a7f92d681592",
   "execution_count": 14
  },
  {
   "cell_type": "code",
   "outputs": [
    {
     "data": {
      "text/plain": "{'args': Namespace(epochs=30, opt='adam', opt_decay_step=1000, opt_decay_rate=0.9, dropout=0.0, weight_decay=0.0, lr=0.002, log_dir='s4-08', opt_scheduler='step', num_classes=10, num_heads=3, is_eval=False),\n 'loss': {'test_loss_num': [0.3250744044780731,\n   0.2906145751476288,\n   0.2599167823791504,\n   0.23595474660396576,\n   0.21441029012203217,\n   0.19544993340969086,\n   0.17910614609718323,\n   0.16439059376716614,\n   0.15123723447322845,\n   0.13933882117271423,\n   0.12966465950012207,\n   0.11938871443271637,\n   0.11135353147983551,\n   0.10370475053787231,\n   0.09658360481262207,\n   0.09044970571994781,\n   0.08403326570987701,\n   0.0784347727894783,\n   0.07284142822027206,\n   0.06781716644763947,\n   0.06307706236839294,\n   0.058713123202323914,\n   0.05465053394436836,\n   0.0509832501411438,\n   0.0475369468331337,\n   0.04462991654872894,\n   0.041768334805965424,\n   0.03960238769650459,\n   0.037243716418743134,\n   0.035401348024606705]}}"
     },
     "execution_count": 12,
     "metadata": {},
     "output_type": "execute_result"
    }
   ],
   "source": [
    "obj"
   ],
   "metadata": {
    "collapsed": false,
    "ExecuteTime": {
     "end_time": "2024-10-20T04:10:19.765530Z",
     "start_time": "2024-10-20T04:10:19.672996Z"
    }
   },
   "id": "140ca22ed19b794f",
   "execution_count": 12
  },
  {
   "cell_type": "code",
   "outputs": [],
   "source": [
    "from utils.plot_utils import plot_curve\n",
    "obj['loss']['train_loss'] = obj['loss'].pop('test_loss_num')\n",
    "plot_curve(obj['loss'], 's4-08/loss1.svg', keys=None,\n",
    "               clip=True, label_min=True, label_end=True)\n"
   ],
   "metadata": {
    "collapsed": false,
    "ExecuteTime": {
     "end_time": "2024-10-20T04:23:32.747297Z",
     "start_time": "2024-10-20T04:23:32.579739Z"
    }
   },
   "id": "cd2278aaee41676b",
   "execution_count": 15
  },
  {
   "cell_type": "code",
   "outputs": [],
   "source": [],
   "metadata": {
    "collapsed": false
   },
   "id": "8b3acd78178eee4e"
  }
 ],
 "metadata": {
  "kernelspec": {
   "display_name": "Python 3",
   "language": "python",
   "name": "python3"
  },
  "language_info": {
   "codemirror_mode": {
    "name": "ipython",
    "version": 2
   },
   "file_extension": ".py",
   "mimetype": "text/x-python",
   "name": "python",
   "nbconvert_exporter": "python",
   "pygments_lexer": "ipython2",
   "version": "2.7.6"
  }
 },
 "nbformat": 4,
 "nbformat_minor": 5
}
